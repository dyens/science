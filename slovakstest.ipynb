{
 "metadata": {
  "name": ""
 },
 "nbformat": 3,
 "nbformat_minor": 0,
 "worksheets": [
  {
   "cells": [
    {
     "cell_type": "heading",
     "level": 1,
     "metadata": {},
     "source": [
      "Gribov-Antonov model"
     ]
    },
    {
     "cell_type": "code",
     "collapsed": false,
     "input": [
      "from sympy import *\n",
      "# commands starting with % are IPython commands\n",
      "%load_ext sympy.interactive.ipythonprinting\n",
      "\n",
      "# in older versions of sympy/ipython, use\n",
      "#%load_ext sympyprinting\n",
      "\n",
      "\n",
      "#I take Lambda instead lambda, because lambda is lambda function in python\n",
      "omega, Lambda, D, p, q, k, tau, u1, u2, g1, g2, y, eta, alpha, a, epsilon, xi, d, I_y, I_e = symbols('omega, Lambda, D, p, q, k, tau, u1, u2, g1, g2, y, eta, alpha, a, epsilon, xi, d, I_y, I_e')\n",
      "DDi = {}"
     ],
     "language": "python",
     "metadata": {},
     "outputs": [
      {
       "output_type": "stream",
       "stream": "stdout",
       "text": [
        "The sympy.interactive.ipythonprinting extension is already loaded. To reload it, use:\n",
        "  %reload_ext sympy.interactive.ipythonprinting\n"
       ]
      }
     ],
     "prompt_number": 59
    },
    {
     "cell_type": "code",
     "collapsed": false,
     "input": [
      "#definition graphs\n",
      "#<psi^dag,psi>\n",
      "DDi[1] = -(p**2*g1*D*I_y)/(2*d(1+u1)*y)*(d-1+alpha-(2*alpha)/(1+u1)+(alpha*a*(1-a))/(1+u1)*(4/(1+u1)-d)) - I*omega*g1*alpha*a(1-a)*I_y/(2*(1+u1)**2*y) + tau*D*g1*alpha*a*(1-a)*I_y/(2*(1+u1)**2*y)\n",
      "DDi[1]"
     ],
     "language": "python",
     "metadata": {},
     "outputs": [
      {
       "latex": [
        "$$\\frac{D I_{y} a \\alpha g_{1} \\tau \\left(- a + 1\\right)}{2 y \\left(u_{1} + 1\\right)^{2}} - \\frac{D I_{y} g_{1} p^{2}}{2 y d{\\left (u_{1} + 1 \\right )}} \\left(\\frac{a \\alpha}{u_{1} + 1} \\left(- a + 1\\right) \\left(- d + \\frac{4}{u_{1} + 1}\\right) + \\alpha - \\frac{2 \\alpha}{u_{1} + 1} + d - 1\\right) - \\frac{i I_{y} \\alpha g_{1} \\omega}{2 y \\left(u_{1} + 1\\right)^{2}} a{\\left (- a + 1 \\right )}$$"
       ],
       "metadata": {},
       "output_type": "pyout",
       "png": "[encoded data removed]",
       "prompt_number": 60,
       "text": [
        "                                      \u239b             \u239b       4   \u239e             \n",
        "                                      \u239ca\u22c5\u03b1\u22c5(-a + 1)\u22c5\u239c-d + \u2500\u2500\u2500\u2500\u2500\u2500\u239f             \n",
        "                                    2 \u239c             \u239d     u\u2081 + 1\u23a0        2\u22c5\u03b1  \n",
        "                          D\u22c5I_y\u22c5g\u2081\u22c5p \u22c5\u239c\u2500\u2500\u2500\u2500\u2500\u2500\u2500\u2500\u2500\u2500\u2500\u2500\u2500\u2500\u2500\u2500\u2500\u2500\u2500\u2500\u2500\u2500\u2500\u2500\u2500\u2500 + \u03b1 - \u2500\u2500\u2500\u2500\u2500\u2500\n",
        "D\u22c5I_y\u22c5a\u22c5\u03b1\u22c5g\u2081\u22c5\u03c4\u22c5(-a + 1)               \u239d          u\u2081 + 1                 u\u2081 + 1\n",
        "\u2500\u2500\u2500\u2500\u2500\u2500\u2500\u2500\u2500\u2500\u2500\u2500\u2500\u2500\u2500\u2500\u2500\u2500\u2500\u2500\u2500\u2500\u2500 - \u2500\u2500\u2500\u2500\u2500\u2500\u2500\u2500\u2500\u2500\u2500\u2500\u2500\u2500\u2500\u2500\u2500\u2500\u2500\u2500\u2500\u2500\u2500\u2500\u2500\u2500\u2500\u2500\u2500\u2500\u2500\u2500\u2500\u2500\u2500\u2500\u2500\u2500\u2500\u2500\u2500\u2500\u2500\u2500\u2500\u2500\u2500\u2500\u2500\u2500\u2500\u2500\n",
        "                 2                                2\u22c5y\u22c5d(u\u2081 + 1)               \n",
        "     2\u22c5y\u22c5(u\u2081 + 1)                                                             \n",
        "\n",
        "        \u239e                         \n",
        "        \u239f                         \n",
        "        \u239f                         \n",
        " + d - 1\u239f                         \n",
        "        \u23a0   \u2148\u22c5I_y\u22c5\u03b1\u22c5g\u2081\u22c5\u03c9\u22c5a(-a + 1)\n",
        "\u2500\u2500\u2500\u2500\u2500\u2500\u2500\u2500\u2500 - \u2500\u2500\u2500\u2500\u2500\u2500\u2500\u2500\u2500\u2500\u2500\u2500\u2500\u2500\u2500\u2500\u2500\u2500\u2500\u2500\u2500\u2500\n",
        "                            2     \n",
        "                2\u22c5y\u22c5(u\u2081 + 1)      "
       ]
      }
     ],
     "prompt_number": 60
    },
    {
     "cell_type": "code",
     "collapsed": false,
     "input": [
      "DDi[2] = -D**2*Lambda**2*I_e*(I*omega/(2*D) - tau - p**2*(d-2)/(2*d))/(2*D*epsilon)\n",
      "DDi[2]"
     ],
     "language": "python",
     "metadata": {},
     "outputs": [
      {
       "latex": [
        "$$- \\frac{D I_{e} \\Lambda^{2}}{2 \\epsilon} \\left(- \\tau - \\frac{p^{2} \\left(d - 2\\right)}{2 d} + \\frac{i \\omega}{2 D}\\right)$$"
       ],
       "metadata": {},
       "output_type": "pyout",
       "png": "[encoded data removed]",
       "prompt_number": 61,
       "text": [
        "         \u239b      2              \u239e \n",
        "       2 \u239c     p \u22c5(d - 2)   \u2148\u22c5\u03c9\u239f \n",
        "-D\u22c5I\u2091\u22c5\u039b \u22c5\u239c-\u03c4 - \u2500\u2500\u2500\u2500\u2500\u2500\u2500\u2500\u2500\u2500 + \u2500\u2500\u2500\u239f \n",
        "         \u239d        2\u22c5d       2\u22c5D\u23a0 \n",
        "\u2500\u2500\u2500\u2500\u2500\u2500\u2500\u2500\u2500\u2500\u2500\u2500\u2500\u2500\u2500\u2500\u2500\u2500\u2500\u2500\u2500\u2500\u2500\u2500\u2500\u2500\u2500\u2500\u2500\u2500\u2500\u2500\u2500\n",
        "               2\u22c5\u03b5               "
       ]
      }
     ],
     "prompt_number": 61
    },
    {
     "cell_type": "code",
     "collapsed": false,
     "input": [
      "#<psi^dag, psi, v>\n",
      "DDi[3] = -1*(-1*D**2*Lambda**2)*I*I_e*(2*p+q(a*d+3-d))/(4*d*D**2*epsilon)\n",
      "DDi[3]"
     ],
     "language": "python",
     "metadata": {},
     "outputs": [
      {
       "latex": [
        "$$\\frac{i I_{e} \\Lambda^{2}}{4 d \\epsilon} \\left(2 p + q{\\left (a d - d + 3 \\right )}\\right)$$"
       ],
       "metadata": {},
       "output_type": "pyout",
       "png": "[encoded data removed]",
       "prompt_number": 62,
       "text": [
        "      2                       \n",
        "\u2148\u22c5I\u2091\u22c5\u039b \u22c5(2\u22c5p + q(a\u22c5d - d + 3))\n",
        "\u2500\u2500\u2500\u2500\u2500\u2500\u2500\u2500\u2500\u2500\u2500\u2500\u2500\u2500\u2500\u2500\u2500\u2500\u2500\u2500\u2500\u2500\u2500\u2500\u2500\u2500\u2500\u2500\u2500\u2500\n",
        "            4\u22c5d\u22c5\u03b5             "
       ]
      }
     ],
     "prompt_number": 62
    },
    {
     "cell_type": "code",
     "collapsed": false,
     "input": [
      "DDi[4] = I*g1*alpha*I_y*((p+alpha*q)*(1/d+a-a**2) - 2*a*(1-a)*(2*p+q)/((1+u1)*d))/(2*(1+u1)**2*y)\n",
      "DDi[4]"
     ],
     "language": "python",
     "metadata": {},
     "outputs": [
      {
       "latex": [
        "$$\\frac{i I_{y} \\alpha g_{1}}{2 y \\left(u_{1} + 1\\right)^{2}} \\left(- \\frac{2 a}{d \\left(u_{1} + 1\\right)} \\left(- a + 1\\right) \\left(2 p + q\\right) + \\left(\\alpha q + p\\right) \\left(- a^{2} + a + \\frac{1}{d}\\right)\\right)$$"
       ],
       "metadata": {},
       "output_type": "pyout",
       "png": "[encoded data removed]",
       "prompt_number": 63,
       "text": [
        "           \u239b  2\u22c5a\u22c5(-a + 1)\u22c5(2\u22c5p + q)             \u239b   2       1\u239e\u239e\n",
        "\u2148\u22c5I_y\u22c5\u03b1\u22c5g\u2081\u22c5\u239c- \u2500\u2500\u2500\u2500\u2500\u2500\u2500\u2500\u2500\u2500\u2500\u2500\u2500\u2500\u2500\u2500\u2500\u2500\u2500\u2500\u2500\u2500 + (\u03b1\u22c5q + p)\u22c5\u239c- a  + a + \u2500\u239f\u239f\n",
        "           \u239d        d\u22c5(u\u2081 + 1)                   \u239d           d\u23a0\u23a0\n",
        "\u2500\u2500\u2500\u2500\u2500\u2500\u2500\u2500\u2500\u2500\u2500\u2500\u2500\u2500\u2500\u2500\u2500\u2500\u2500\u2500\u2500\u2500\u2500\u2500\u2500\u2500\u2500\u2500\u2500\u2500\u2500\u2500\u2500\u2500\u2500\u2500\u2500\u2500\u2500\u2500\u2500\u2500\u2500\u2500\u2500\u2500\u2500\u2500\u2500\u2500\u2500\u2500\u2500\u2500\u2500\u2500\u2500\u2500\u2500\u2500\u2500\u2500\u2500\u2500\n",
        "                                     2                          \n",
        "                         2\u22c5y\u22c5(u\u2081 + 1)                           "
       ]
      }
     ],
     "prompt_number": 63
    },
    {
     "cell_type": "code",
     "collapsed": false,
     "input": [
      "DDi[5] = -u2/D*I*p*g1*D*I_y*(d-1+alpha(1-2*a/(u1+1)))/(2*d*(1+u1)*y)\n",
      "DDi[5]"
     ],
     "language": "python",
     "metadata": {},
     "outputs": [
      {
       "latex": [
        "$$- \\frac{i I_{y} g_{1} p u_{2}}{2 d y \\left(u_{1} + 1\\right)} \\left(d + \\alpha{\\left (- \\frac{2 a}{u_{1} + 1} + 1 \\right )} - 1\\right)$$"
       ],
       "metadata": {},
       "output_type": "pyout",
       "png": "[encoded data removed]",
       "prompt_number": 64,
       "text": [
        "               \u239b     \u239b   2\u22c5a      \u239e    \u239e \n",
        "-\u2148\u22c5I_y\u22c5g\u2081\u22c5p\u22c5u\u2082\u22c5\u239cd + \u03b1\u239c- \u2500\u2500\u2500\u2500\u2500\u2500 + 1\u239f - 1\u239f \n",
        "               \u239d     \u239d  u\u2081 + 1    \u23a0    \u23a0 \n",
        "\u2500\u2500\u2500\u2500\u2500\u2500\u2500\u2500\u2500\u2500\u2500\u2500\u2500\u2500\u2500\u2500\u2500\u2500\u2500\u2500\u2500\u2500\u2500\u2500\u2500\u2500\u2500\u2500\u2500\u2500\u2500\u2500\u2500\u2500\u2500\u2500\u2500\u2500\u2500\u2500\u2500\n",
        "              2\u22c5d\u22c5y\u22c5(u\u2081 + 1)             "
       ]
      }
     ],
     "prompt_number": 64
    },
    {
     "cell_type": "code",
     "collapsed": false,
     "input": [
      "DDi[6] = -u2/D*I*(p+q)*g1*D*I_y*(d-1+alpha-2*alpha*(1-a)/(1+u1))/(2*d*(1+u1)*y)\n",
      "DDi[6]"
     ],
     "language": "python",
     "metadata": {},
     "outputs": [
      {
       "latex": [
        "$$- \\frac{i I_{y} g_{1} u_{2}}{2 d y \\left(u_{1} + 1\\right)} \\left(p + q\\right) \\left(- \\frac{2 \\alpha \\left(- a + 1\\right)}{u_{1} + 1} + \\alpha + d - 1\\right)$$"
       ],
       "metadata": {},
       "output_type": "pyout",
       "png": "[encoded data removed]",
       "prompt_number": 65,
       "text": [
        "                     \u239b  2\u22c5\u03b1\u22c5(-a + 1)            \u239e \n",
        "-\u2148\u22c5I_y\u22c5g\u2081\u22c5u\u2082\u22c5(p + q)\u22c5\u239c- \u2500\u2500\u2500\u2500\u2500\u2500\u2500\u2500\u2500\u2500\u2500\u2500 + \u03b1 + d - 1\u239f \n",
        "                     \u239d     u\u2081 + 1               \u23a0 \n",
        "\u2500\u2500\u2500\u2500\u2500\u2500\u2500\u2500\u2500\u2500\u2500\u2500\u2500\u2500\u2500\u2500\u2500\u2500\u2500\u2500\u2500\u2500\u2500\u2500\u2500\u2500\u2500\u2500\u2500\u2500\u2500\u2500\u2500\u2500\u2500\u2500\u2500\u2500\u2500\u2500\u2500\u2500\u2500\u2500\u2500\u2500\u2500\u2500\u2500\u2500\n",
        "                  2\u22c5d\u22c5y\u22c5(u\u2081 + 1)                  "
       ]
      }
     ],
     "prompt_number": 65
    },
    {
     "cell_type": "code",
     "collapsed": false,
     "input": [
      "#<psi^dag, psi^dag, psi>\n",
      "DDi[7] = -D**3*Lambda**3*I_e/(4*D**2*epsilon)\n",
      "DDi[7]"
     ],
     "language": "python",
     "metadata": {},
     "outputs": [
      {
       "latex": [
        "$$- \\frac{D I_{e} \\Lambda^{3}}{4 \\epsilon}$$"
       ],
       "metadata": {},
       "output_type": "pyout",
       "png": "[encoded data removed]",
       "prompt_number": 66,
       "text": [
        "       3 \n",
        "-D\u22c5I\u2091\u22c5\u039b  \n",
        "\u2500\u2500\u2500\u2500\u2500\u2500\u2500\u2500\u2500\n",
        "   4\u22c5\u03b5   "
       ]
      }
     ],
     "prompt_number": 66
    },
    {
     "cell_type": "code",
     "collapsed": false,
     "input": [
      "DDi[8] = D*Lambda*alpha*g1*I_y*(1-a)**2/(2*y*(1+u1))\n",
      "DDi[8]"
     ],
     "language": "python",
     "metadata": {},
     "outputs": [
      {
       "latex": [
        "$$\\frac{D I_{y} \\Lambda \\alpha g_{1} \\left(- a + 1\\right)^{2}}{2 y \\left(u_{1} + 1\\right)}$$"
       ],
       "metadata": {},
       "output_type": "pyout",
       "png": "[encoded data removed]",
       "prompt_number": 67,
       "text": [
        "                     2\n",
        "D\u22c5I_y\u22c5\u039b\u22c5\u03b1\u22c5g\u2081\u22c5(-a + 1) \n",
        "\u2500\u2500\u2500\u2500\u2500\u2500\u2500\u2500\u2500\u2500\u2500\u2500\u2500\u2500\u2500\u2500\u2500\u2500\u2500\u2500\u2500\u2500\n",
        "     2\u22c5y\u22c5(u\u2081 + 1)     "
       ]
      }
     ],
     "prompt_number": 67
    },
    {
     "cell_type": "code",
     "collapsed": false,
     "input": [
      "DDi[9] = -D*Lambda*alpha*g1*a*(1-a)*I_y/(2*(1+u1)**2*y)\n",
      "DDi[9]"
     ],
     "language": "python",
     "metadata": {},
     "outputs": [
      {
       "latex": [
        "$$- \\frac{D I_{y} \\Lambda a \\alpha g_{1} \\left(- a + 1\\right)}{2 y \\left(u_{1} + 1\\right)^{2}}$$"
       ],
       "metadata": {},
       "output_type": "pyout",
       "png": "[encoded data removed]",
       "prompt_number": 68,
       "text": [
        "-D\u22c5I_y\u22c5\u039b\u22c5a\u22c5\u03b1\u22c5g\u2081\u22c5(-a + 1) \n",
        "\u2500\u2500\u2500\u2500\u2500\u2500\u2500\u2500\u2500\u2500\u2500\u2500\u2500\u2500\u2500\u2500\u2500\u2500\u2500\u2500\u2500\u2500\u2500\u2500\u2500\n",
        "                  2      \n",
        "      2\u22c5y\u22c5(u\u2081 + 1)       "
       ]
      }
     ],
     "prompt_number": 68
    },
    {
     "cell_type": "code",
     "collapsed": false,
     "input": [
      "#<psi, psi, psi^dag>\n",
      "DDi[10] = D**3*Lambda**3*I_e/(4*D**2*epsilon)\n",
      "DDi[10]"
     ],
     "language": "python",
     "metadata": {},
     "outputs": [
      {
       "latex": [
        "$$\\frac{D I_{e} \\Lambda^{3}}{4 \\epsilon}$$"
       ],
       "metadata": {},
       "output_type": "pyout",
       "png": "[encoded data removed]",
       "prompt_number": 69,
       "text": [
        "      3\n",
        "D\u22c5I\u2091\u22c5\u039b \n",
        "\u2500\u2500\u2500\u2500\u2500\u2500\u2500\n",
        "  4\u22c5\u03b5  "
       ]
      }
     ],
     "prompt_number": 69
    },
    {
     "cell_type": "code",
     "collapsed": false,
     "input": [
      "DDi[11] = -D*Lambda*alpha*g1*I_y*a**2/(2*y*(1+u1))\n",
      "DDi[11]"
     ],
     "language": "python",
     "metadata": {},
     "outputs": [
      {
       "latex": [
        "$$- \\frac{D I_{y} \\Lambda a^{2} \\alpha g_{1}}{2 y \\left(u_{1} + 1\\right)}$$"
       ],
       "metadata": {},
       "output_type": "pyout",
       "png": "[encoded data removed]",
       "prompt_number": 70,
       "text": [
        "          2      \n",
        "-D\u22c5I_y\u22c5\u039b\u22c5a \u22c5\u03b1\u22c5g\u2081 \n",
        "\u2500\u2500\u2500\u2500\u2500\u2500\u2500\u2500\u2500\u2500\u2500\u2500\u2500\u2500\u2500\u2500\u2500\n",
        "   2\u22c5y\u22c5(u\u2081 + 1)  "
       ]
      }
     ],
     "prompt_number": 70
    },
    {
     "cell_type": "code",
     "collapsed": false,
     "input": [
      "DDi[12] = -D*Lambda*(-1)*alpha*g1*a*(1-a)*I_y/(2*(1+u1)**2*y)\n",
      "DDi[12]"
     ],
     "language": "python",
     "metadata": {},
     "outputs": [
      {
       "latex": [
        "$$\\frac{D I_{y} \\Lambda a \\alpha g_{1} \\left(- a + 1\\right)}{2 y \\left(u_{1} + 1\\right)^{2}}$$"
       ],
       "metadata": {},
       "output_type": "pyout",
       "png": "[encoded data removed]",
       "prompt_number": 71,
       "text": [
        "D\u22c5I_y\u22c5\u039b\u22c5a\u22c5\u03b1\u22c5g\u2081\u22c5(-a + 1)\n",
        "\u2500\u2500\u2500\u2500\u2500\u2500\u2500\u2500\u2500\u2500\u2500\u2500\u2500\u2500\u2500\u2500\u2500\u2500\u2500\u2500\u2500\u2500\u2500\n",
        "                 2     \n",
        "     2\u22c5y\u22c5(u\u2081 + 1)      "
       ]
      }
     ],
     "prompt_number": 71
    },
    {
     "cell_type": "code",
     "collapsed": false,
     "input": [
      "#<psi, psi^dag, v, v>\n",
      "DDi[13] = -D**2*Lambda**2*(-1)*I_e/(8*d*D**3*epsilon)\n",
      "DDi[13]"
     ],
     "language": "python",
     "metadata": {},
     "outputs": [
      {
       "latex": [
        "$$\\frac{I_{e} \\Lambda^{2}}{8 D d \\epsilon}$$"
       ],
       "metadata": {},
       "output_type": "pyout",
       "png": "[encoded data removed]",
       "prompt_number": 72,
       "text": [
        "     2 \n",
        " I\u2091\u22c5\u039b  \n",
        "\u2500\u2500\u2500\u2500\u2500\u2500\u2500\n",
        "8\u22c5D\u22c5d\u22c5\u03b5"
       ]
      }
     ],
     "prompt_number": 72
    },
    {
     "cell_type": "code",
     "collapsed": false,
     "input": [
      "DDi[14] = g1*alpha*a*(1-a)*I_y/(2*d*(1+u1)**3*D*y)\n",
      "DDi[14]"
     ],
     "language": "python",
     "metadata": {},
     "outputs": [
      {
       "latex": [
        "$$\\frac{I_{y} a \\alpha g_{1} \\left(- a + 1\\right)}{2 D d y \\left(u_{1} + 1\\right)^{3}}$$"
       ],
       "metadata": {},
       "output_type": "pyout",
       "png": "[encoded data removed]",
       "prompt_number": 73,
       "text": [
        "I_y\u22c5a\u22c5\u03b1\u22c5g\u2081\u22c5(-a + 1)\n",
        "\u2500\u2500\u2500\u2500\u2500\u2500\u2500\u2500\u2500\u2500\u2500\u2500\u2500\u2500\u2500\u2500\u2500\u2500\u2500\n",
        "                 3 \n",
        " 2\u22c5D\u22c5d\u22c5y\u22c5(u\u2081 + 1)  "
       ]
      }
     ],
     "prompt_number": 73
    },
    {
     "cell_type": "code",
     "collapsed": false,
     "input": [
      "DDi[15] = -D**2*Lambda**2*I_e/(4*d*D**3*epsilon)\n",
      "DDi[15]"
     ],
     "language": "python",
     "metadata": {},
     "outputs": [
      {
       "latex": [
        "$$- \\frac{I_{e} \\Lambda^{2}}{4 D d \\epsilon}$$"
       ],
       "metadata": {},
       "output_type": "pyout",
       "png": "[encoded data removed]",
       "prompt_number": 74,
       "text": [
        "     2 \n",
        "-I\u2091\u22c5\u039b  \n",
        "\u2500\u2500\u2500\u2500\u2500\u2500\u2500\n",
        "4\u22c5D\u22c5d\u22c5\u03b5"
       ]
      }
     ],
     "prompt_number": 74
    },
    {
     "cell_type": "code",
     "collapsed": false,
     "input": [
      "DDi[16] = -D*u2*Lambda**2*I_e/(4*D**2*epsilon)\n",
      "DDi[16]"
     ],
     "language": "python",
     "metadata": {},
     "outputs": [
      {
       "latex": [
        "$$- \\frac{I_{e} \\Lambda^{2} u_{2}}{4 D \\epsilon}$$"
       ],
       "metadata": {},
       "output_type": "pyout",
       "png": "[encoded data removed]",
       "prompt_number": 75,
       "text": [
        "     2    \n",
        "-I\u2091\u22c5\u039b \u22c5u\u2082 \n",
        "\u2500\u2500\u2500\u2500\u2500\u2500\u2500\u2500\u2500\u2500\n",
        "  4\u22c5D\u22c5\u03b5   "
       ]
      }
     ],
     "prompt_number": 75
    },
    {
     "cell_type": "code",
     "collapsed": false,
     "input": [
      "DDi[17] = -u2/D*alpha*g1*a*(1-a)*I_y/(2*y*(1+u1)**2)\n",
      "DDi[17]"
     ],
     "language": "python",
     "metadata": {},
     "outputs": [
      {
       "latex": [
        "$$- \\frac{I_{y} a \\alpha g_{1} u_{2} \\left(- a + 1\\right)}{2 D y \\left(u_{1} + 1\\right)^{2}}$$"
       ],
       "metadata": {},
       "output_type": "pyout",
       "png": "[encoded data removed]",
       "prompt_number": 76,
       "text": [
        "-I_y\u22c5a\u22c5\u03b1\u22c5g\u2081\u22c5u\u2082\u22c5(-a + 1) \n",
        "\u2500\u2500\u2500\u2500\u2500\u2500\u2500\u2500\u2500\u2500\u2500\u2500\u2500\u2500\u2500\u2500\u2500\u2500\u2500\u2500\u2500\u2500\u2500\u2500\n",
        "                  2     \n",
        "    2\u22c5D\u22c5y\u22c5(u\u2081 + 1)      "
       ]
      }
     ],
     "prompt_number": 76
    },
    {
     "cell_type": "code",
     "collapsed": false,
     "input": [
      "DDi[18] = -u2/D*g1*alpha*a*I_y/(2*d*(1+u1)**2*y)\n",
      "DDi[18]"
     ],
     "language": "python",
     "metadata": {},
     "outputs": [
      {
       "latex": [
        "$$- \\frac{I_{y} a \\alpha g_{1} u_{2}}{2 D d y \\left(u_{1} + 1\\right)^{2}}$$"
       ],
       "metadata": {},
       "output_type": "pyout",
       "png": "[encoded data removed]",
       "prompt_number": 77,
       "text": [
        " -I_y\u22c5a\u22c5\u03b1\u22c5g\u2081\u22c5u\u2082  \n",
        "\u2500\u2500\u2500\u2500\u2500\u2500\u2500\u2500\u2500\u2500\u2500\u2500\u2500\u2500\u2500\u2500\u2500\n",
        "                2\n",
        "2\u22c5D\u22c5d\u22c5y\u22c5(u\u2081 + 1) "
       ]
      }
     ],
     "prompt_number": 77
    },
    {
     "cell_type": "code",
     "collapsed": false,
     "input": [
      "DDi[19] = -u2/D*alpha*g1*I_y*(1-a)/(2*d*(1+u1)**2*y)\n",
      "DDi[19]"
     ],
     "language": "python",
     "metadata": {},
     "outputs": [
      {
       "latex": [
        "$$- \\frac{I_{y} \\alpha g_{1} u_{2} \\left(- a + 1\\right)}{2 D d y \\left(u_{1} + 1\\right)^{2}}$$"
       ],
       "metadata": {},
       "output_type": "pyout",
       "png": "[encoded data removed]",
       "prompt_number": 78,
       "text": [
        "-I_y\u22c5\u03b1\u22c5g\u2081\u22c5u\u2082\u22c5(-a + 1) \n",
        "\u2500\u2500\u2500\u2500\u2500\u2500\u2500\u2500\u2500\u2500\u2500\u2500\u2500\u2500\u2500\u2500\u2500\u2500\u2500\u2500\u2500\u2500\n",
        "                  2   \n",
        "  2\u22c5D\u22c5d\u22c5y\u22c5(u\u2081 + 1)    "
       ]
      }
     ],
     "prompt_number": 78
    },
    {
     "cell_type": "code",
     "collapsed": false,
     "input": [
      "DDi[20] = u2**2/D**2*g1*D*I_y*(d-1+alpha)/(2*d*(1+u1)*y)\n",
      "DDi[20]"
     ],
     "language": "python",
     "metadata": {},
     "outputs": [
      {
       "latex": [
        "$$\\frac{I_{y} g_{1} u_{2}^{2} \\left(\\alpha + d - 1\\right)}{2 D d y \\left(u_{1} + 1\\right)}$$"
       ],
       "metadata": {},
       "output_type": "pyout",
       "png": "[encoded data removed]",
       "prompt_number": 79,
       "text": [
        "         2            \n",
        "I_y\u22c5g\u2081\u22c5u\u2082 \u22c5(\u03b1 + d - 1)\n",
        "\u2500\u2500\u2500\u2500\u2500\u2500\u2500\u2500\u2500\u2500\u2500\u2500\u2500\u2500\u2500\u2500\u2500\u2500\u2500\u2500\u2500\u2500\n",
        "   2\u22c5D\u22c5d\u22c5y\u22c5(u\u2081 + 1)   "
       ]
      }
     ],
     "prompt_number": 79
    },
    {
     "cell_type": "code",
     "collapsed": false,
     "input": [
      "#substituting d = 4\n",
      "Di = {}\n",
      "for i in DDi:\n",
      "    Di[i] = DDi[i].subs(d,4)\n",
      "    "
     ],
     "language": "python",
     "metadata": {},
     "outputs": [],
     "prompt_number": 80
    },
    {
     "cell_type": "code",
     "collapsed": false,
     "input": [
      "#symmetric coefficients\n",
      "s = {}\n",
      "s[1] = 1\n",
      "s[2] = 1/2\n",
      "s[3] = 1\n",
      "s[4] = 1\n",
      "s[5] = 1\n",
      "s[6] = 1\n",
      "s[7] = 2\n",
      "s[8] = 1\n",
      "s[9] = 2\n",
      "s[10] = 2\n",
      "s[11] = 1\n",
      "s[12] = 2\n",
      "s[13] = 2\n",
      "s[14] = 2\n",
      "s[15] = 1\n",
      "s[16] = 1\n",
      "s[17] = 1\n",
      "s[18] = 2\n",
      "s[19] = 2\n",
      "s[20] = 2"
     ],
     "language": "python",
     "metadata": {},
     "outputs": [],
     "prompt_number": 81
    },
    {
     "cell_type": "code",
     "collapsed": false,
     "input": [
      "#adding symmetric coefficients\n",
      "for i in Di:\n",
      "    Di[i] = Di[i]*s[i]"
     ],
     "language": "python",
     "metadata": {},
     "outputs": [],
     "prompt_number": 82
    },
    {
     "cell_type": "code",
     "collapsed": false,
     "input": [
      "#Z equations\n",
      "#Z = 1+O(), but i take Z = O()\n",
      "\n",
      "Z = {}\n",
      "for i in symbols('z1:9'):\n",
      "    Z[symbols('z1:9').index(i)+1] = i\n",
      "\n",
      "#Z of fields, parameters, coupling constants\n",
      "Z['psidag'], Z['psi'], Z['v'], Z['a'], Z['D'], Z['tau'], Z['Lambda'], Z['u1'], Z['u2'], Z['g1'], Z['g2'] = symbols('Z_psi_dagger, Z_psi, Z_v, Z_a, Z_D, Z_tau, Z_Lambda, Z_u1, Z_u2, Z_g1, Z_g2')\n",
      "\n",
      "#equations\n",
      "e1 = Z['psi']*Z['psidag']-Z[1]\n",
      "e2 = Z['psi']*Z['psidag']*Z['v']-Z[4]\n",
      "e3 = Z['psi']*Z['psidag']*Z['a']*Z['v']-Z[5]\n",
      "e4 = Z['psi']*Z['psidag']*Z['D']-Z[2]\n",
      "e5 = Z['psi']*Z['psidag']*Z['D']*Z['tau']-Z[3]\n",
      "e6 = Z['psi']*Z['psidag']**2*Z['D']*Z['Lambda']-Z[6]\n",
      "e7 = Z['psi']**2*Z['psidag']*Z['D']*Z['Lambda']-Z[7]\n",
      "e8 = Z['u2']/Z['D']*Z['psi']*Z['psidag']*Z['v']**2-Z[8]\n",
      "\n",
      "solve((e1,e2,e3,e4,e5,e6,e7,e8), Z['psi'], Z['psidag'], Z['v'], Z['tau'], Z['u2'], Z['Lambda'], Z['D'], Z['a'])"
     ],
     "language": "python",
     "metadata": {},
     "outputs": [
      {
       "latex": [
        "$$\\begin{bmatrix}\\begin{pmatrix}- \\frac{z_{1}}{z_{6}} \\sqrt{\\frac{z_{6} z_{7}}{z_{1}}}, & - \\frac{z_{1}}{z_{7}} \\sqrt{\\frac{z_{6} z_{7}}{z_{1}}}, & \\frac{z_{4}}{z_{1}}, & \\frac{z_{3}}{z_{2}}, & \\frac{z_{2} z_{8}}{z_{4}^{2}}, & - \\frac{\\sqrt{\\frac{z_{6} z_{7}}{z_{1}}}}{z_{2}}, & \\frac{z_{2}}{z_{1}}, & \\frac{z_{5}}{z_{4}}\\end{pmatrix}, & \\begin{pmatrix}\\frac{z_{1}}{z_{6}} \\sqrt{\\frac{z_{6} z_{7}}{z_{1}}}, & \\frac{z_{1}}{z_{7}} \\sqrt{\\frac{z_{6} z_{7}}{z_{1}}}, & \\frac{z_{4}}{z_{1}}, & \\frac{z_{3}}{z_{2}}, & \\frac{z_{2} z_{8}}{z_{4}^{2}}, & \\frac{\\sqrt{\\frac{z_{6} z_{7}}{z_{1}}}}{z_{2}}, & \\frac{z_{2}}{z_{1}}, & \\frac{z_{5}}{z_{4}}\\end{pmatrix}\\end{bmatrix}$$"
       ],
       "metadata": {},
       "output_type": "pyout",
       "png": "[encoded data removed]",
       "prompt_number": 83,
       "text": [
        "\u23a1\u239b        _______           _______                       _______         \u239e  \u239b\n",
        "\u23a2\u239c       \u2571 z\u2086\u22c5z\u2087           \u2571 z\u2086\u22c5z\u2087                       \u2571 z\u2086\u22c5z\u2087          \u239f  \u239c\n",
        "\u23a2\u239c-z\u2081\u22c5  \u2571  \u2500\u2500\u2500\u2500\u2500    -z\u2081\u22c5  \u2571  \u2500\u2500\u2500\u2500\u2500                   -  \u2571  \u2500\u2500\u2500\u2500\u2500          \u239f  \u239c\n",
        "\u23a2\u239c    \u2572\u2571     z\u2081         \u2572\u2571     z\u2081     z\u2084  z\u2083  z\u2082\u22c5z\u2088   \u2572\u2571     z\u2081     z\u2082  z\u2085\u239f  \u239c\n",
        "\u23a2\u239c\u2500\u2500\u2500\u2500\u2500\u2500\u2500\u2500\u2500\u2500\u2500\u2500\u2500\u2500\u2500\u2500, \u2500\u2500\u2500\u2500\u2500\u2500\u2500\u2500\u2500\u2500\u2500\u2500\u2500\u2500\u2500\u2500, \u2500\u2500, \u2500\u2500, \u2500\u2500\u2500\u2500\u2500, \u2500\u2500\u2500\u2500\u2500\u2500\u2500\u2500\u2500\u2500\u2500\u2500\u2500, \u2500\u2500, \u2500\u2500\u239f, \u239c\n",
        "\u23a2\u239c       z\u2086                z\u2087         z\u2081  z\u2082     2         z\u2082       z\u2081  z\u2084\u239f  \u239c\n",
        "\u23a3\u239d                                             z\u2084                         \u23a0  \u239d\n",
        "\n",
        "       _______         _______                     _______        \u239e\u23a4\n",
        "      \u2571 z\u2086\u22c5z\u2087         \u2571 z\u2086\u22c5z\u2087                     \u2571 z\u2086\u22c5z\u2087         \u239f\u23a5\n",
        "z\u2081\u22c5  \u2571  \u2500\u2500\u2500\u2500\u2500   z\u2081\u22c5  \u2571  \u2500\u2500\u2500\u2500\u2500                    \u2571  \u2500\u2500\u2500\u2500\u2500         \u239f\u23a5\n",
        "   \u2572\u2571     z\u2081       \u2572\u2571     z\u2081    z\u2084  z\u2083  z\u2082\u22c5z\u2088  \u2572\u2571     z\u2081    z\u2082  z\u2085\u239f\u23a5\n",
        "\u2500\u2500\u2500\u2500\u2500\u2500\u2500\u2500\u2500\u2500\u2500\u2500\u2500\u2500, \u2500\u2500\u2500\u2500\u2500\u2500\u2500\u2500\u2500\u2500\u2500\u2500\u2500\u2500, \u2500\u2500, \u2500\u2500, \u2500\u2500\u2500\u2500\u2500, \u2500\u2500\u2500\u2500\u2500\u2500\u2500\u2500\u2500\u2500\u2500, \u2500\u2500, \u2500\u2500\u239f\u23a5\n",
        "      z\u2086              z\u2087        z\u2081  z\u2082     2        z\u2082      z\u2081  z\u2084\u239f\u23a5\n",
        "                                         z\u2084                       \u23a0\u23a6"
       ]
      }
     ],
     "prompt_number": 83
    },
    {
     "cell_type": "code",
     "collapsed": false,
     "input": [
      "#<psi^dag, psi>\n",
      "#I think, from Dyson equation we have minus, so for G_2... <psi psi>1-ir=wZ-pZ-tz - G_2\n",
      "eq1 = I*omega*Z[1] - D*p**2*Z[2] - D*tau*Z[3]-Di[1]-Di[2]\n",
      "eq1"
     ],
     "language": "python",
     "metadata": {},
     "outputs": [
      {
       "latex": [
        "$$- \\frac{D I_{y} a \\alpha g_{1} \\tau \\left(- a + 1\\right)}{2 y \\left(u_{1} + 1\\right)^{2}} + \\frac{D I_{y} g_{1} p^{2}}{2 y d{\\left (u_{1} + 1 \\right )}} \\left(\\frac{a \\alpha}{u_{1} + 1} \\left(-4 + \\frac{4}{u_{1} + 1}\\right) \\left(- a + 1\\right) + \\alpha - \\frac{2 \\alpha}{u_{1} + 1} + 3\\right) - D p^{2} z_{2} - D \\tau z_{3} + \\frac{i I_{y} \\alpha g_{1} \\omega}{2 y \\left(u_{1} + 1\\right)^{2}} a{\\left (- a + 1 \\right )} + i \\omega z_{1}$$"
       ],
       "metadata": {},
       "output_type": "pyout",
       "png": "[encoded data removed]",
       "prompt_number": 84,
       "text": [
        "                                        \u239b    \u239b       4   \u239e                    \n",
        "                                        \u239ca\u22c5\u03b1\u22c5\u239c-4 + \u2500\u2500\u2500\u2500\u2500\u2500\u239f\u22c5(-a + 1)           \n",
        "                                      2 \u239c    \u239d     u\u2081 + 1\u23a0                 2\u22c5\u03b1\n",
        "                            D\u22c5I_y\u22c5g\u2081\u22c5p \u22c5\u239c\u2500\u2500\u2500\u2500\u2500\u2500\u2500\u2500\u2500\u2500\u2500\u2500\u2500\u2500\u2500\u2500\u2500\u2500\u2500\u2500\u2500\u2500\u2500\u2500\u2500\u2500 + \u03b1 - \u2500\u2500\u2500\u2500\n",
        "  D\u22c5I_y\u22c5a\u22c5\u03b1\u22c5g\u2081\u22c5\u03c4\u22c5(-a + 1)               \u239d          u\u2081 + 1                 u\u2081 +\n",
        "- \u2500\u2500\u2500\u2500\u2500\u2500\u2500\u2500\u2500\u2500\u2500\u2500\u2500\u2500\u2500\u2500\u2500\u2500\u2500\u2500\u2500\u2500\u2500 + \u2500\u2500\u2500\u2500\u2500\u2500\u2500\u2500\u2500\u2500\u2500\u2500\u2500\u2500\u2500\u2500\u2500\u2500\u2500\u2500\u2500\u2500\u2500\u2500\u2500\u2500\u2500\u2500\u2500\u2500\u2500\u2500\u2500\u2500\u2500\u2500\u2500\u2500\u2500\u2500\u2500\u2500\u2500\u2500\u2500\u2500\u2500\u2500\u2500\u2500\n",
        "                   2                              2\u22c5y\u22c5d(u\u2081 + 1)               \n",
        "       2\u22c5y\u22c5(u\u2081 + 1)                                                           \n",
        "\n",
        "      \u239e                                                     \n",
        "      \u239f                                                     \n",
        "      \u239f                                                     \n",
        "\u2500\u2500 + 3\u239f                                                     \n",
        " 1    \u23a0      2               \u2148\u22c5I_y\u22c5\u03b1\u22c5g\u2081\u22c5\u03c9\u22c5a(-a + 1)         \n",
        "\u2500\u2500\u2500\u2500\u2500\u2500\u2500 - D\u22c5p \u22c5z\u2082 - D\u22c5\u03c4\u22c5z\u2083 + \u2500\u2500\u2500\u2500\u2500\u2500\u2500\u2500\u2500\u2500\u2500\u2500\u2500\u2500\u2500\u2500\u2500\u2500\u2500\u2500\u2500\u2500 + \u2148\u22c5\u03c9\u22c5z\u2081\n",
        "                                             2              \n",
        "                                 2\u22c5y\u22c5(u\u2081 + 1)               "
       ]
      }
     ],
     "prompt_number": 84
    },
    {
     "cell_type": "code",
     "collapsed": false,
     "input": [
      "#eq.coeff(var, power) return coefficient of var**power\n",
      "#expand, cause a*(b+10).coeff(b) == 0\n",
      "#factor, cause expression is very difficult. But factor doesn't solve this problem.....\n",
      "#expr[0], cause we have unique solution \n",
      "Z[1] = factor(solve(eq1.expand().coeff(I*omega), Z[1]))[0]\n",
      "Z[2] = factor(solve(eq1.expand().coeff(D*p**2), Z[2]))[0]\n",
      "Z[3] = factor(solve(eq1.expand().coeff(D*tau), Z[3]))[0]"
     ],
     "language": "python",
     "metadata": {},
     "outputs": [],
     "prompt_number": 85
    },
    {
     "cell_type": "code",
     "collapsed": false,
     "input": [
      "#<psi^dag, psi, v>\n",
      "eq2 = -I*p*Z[4]-I*a*q*Z[5]+Di[3]+Di[4]+Di[5]+Di[6]\n",
      "eq2"
     ],
     "language": "python",
     "metadata": {},
     "outputs": [
      {
       "latex": [
        "$$\\frac{i I_{e} \\Lambda^{2}}{16 \\epsilon} \\left(2 p + q{\\left (4 a - 1 \\right )}\\right) + \\frac{i I_{y} \\alpha g_{1}}{2 y \\left(u_{1} + 1\\right)^{2}} \\left(- \\frac{a}{2 u_{1} + 2} \\left(- a + 1\\right) \\left(2 p + q\\right) + \\left(\\alpha q + p\\right) \\left(- a^{2} + a + \\frac{1}{4}\\right)\\right) - \\frac{i I_{y} g_{1} p u_{2}}{8 y \\left(u_{1} + 1\\right)} \\left(\\alpha{\\left (- \\frac{2 a}{u_{1} + 1} + 1 \\right )} + 3\\right) - \\frac{i I_{y} g_{1} u_{2}}{8 y \\left(u_{1} + 1\\right)} \\left(p + q\\right) \\left(- \\frac{2 \\alpha \\left(- a + 1\\right)}{u_{1} + 1} + \\alpha + 3\\right) - i a q z_{5} - i p z_{4}$$"
       ],
       "metadata": {},
       "output_type": "pyout",
       "png": "[encoded data removed]",
       "prompt_number": 86,
       "text": [
        "                                        \u239b  a\u22c5(-a + 1)\u22c5(2\u22c5p + q)             \u239b \n",
        "      2                      \u2148\u22c5I_y\u22c5\u03b1\u22c5g\u2081\u22c5\u239c- \u2500\u2500\u2500\u2500\u2500\u2500\u2500\u2500\u2500\u2500\u2500\u2500\u2500\u2500\u2500\u2500\u2500\u2500\u2500\u2500 + (\u03b1\u22c5q + p)\u22c5\u239c-\n",
        "\u2148\u22c5I\u2091\u22c5\u039b \u22c5(2\u22c5p + q(4\u22c5a - 1))              \u239d       2\u22c5(u\u2081 + 1)                  \u239d \n",
        "\u2500\u2500\u2500\u2500\u2500\u2500\u2500\u2500\u2500\u2500\u2500\u2500\u2500\u2500\u2500\u2500\u2500\u2500\u2500\u2500\u2500\u2500\u2500\u2500\u2500\u2500 + \u2500\u2500\u2500\u2500\u2500\u2500\u2500\u2500\u2500\u2500\u2500\u2500\u2500\u2500\u2500\u2500\u2500\u2500\u2500\u2500\u2500\u2500\u2500\u2500\u2500\u2500\u2500\u2500\u2500\u2500\u2500\u2500\u2500\u2500\u2500\u2500\u2500\u2500\u2500\u2500\u2500\u2500\u2500\u2500\u2500\u2500\u2500\u2500\u2500\n",
        "           16\u22c5\u03b5                                                  2            \n",
        "                                                     2\u22c5y\u22c5(u\u2081 + 1)             \n",
        "\n",
        "  2       1\u239e\u239e                 \u239b \u239b   2\u22c5a      \u239e    \u239e                       \u239b  2\n",
        " a  + a + \u2500\u239f\u239f   \u2148\u22c5I_y\u22c5g\u2081\u22c5p\u22c5u\u2082\u22c5\u239c\u03b1\u239c- \u2500\u2500\u2500\u2500\u2500\u2500 + 1\u239f + 3\u239f   \u2148\u22c5I_y\u22c5g\u2081\u22c5u\u2082\u22c5(p + q)\u22c5\u239c- \u2500\n",
        "          4\u23a0\u23a0                 \u239d \u239d  u\u2081 + 1    \u23a0    \u23a0                       \u239d   \n",
        "\u2500\u2500\u2500\u2500\u2500\u2500\u2500\u2500\u2500\u2500\u2500\u2500\u2500 - \u2500\u2500\u2500\u2500\u2500\u2500\u2500\u2500\u2500\u2500\u2500\u2500\u2500\u2500\u2500\u2500\u2500\u2500\u2500\u2500\u2500\u2500\u2500\u2500\u2500\u2500\u2500\u2500\u2500\u2500\u2500\u2500\u2500\u2500\u2500 - \u2500\u2500\u2500\u2500\u2500\u2500\u2500\u2500\u2500\u2500\u2500\u2500\u2500\u2500\u2500\u2500\u2500\u2500\u2500\u2500\u2500\u2500\u2500\u2500\n",
        "                            8\u22c5y\u22c5(u\u2081 + 1)                              8\u22c5y\u22c5(u\u2081 \n",
        "                                                                              \n",
        "\n",
        "\u22c5\u03b1\u22c5(-a + 1)        \u239e                    \n",
        "\u2500\u2500\u2500\u2500\u2500\u2500\u2500\u2500\u2500\u2500\u2500 + \u03b1 + 3\u239f                    \n",
        "  u\u2081 + 1           \u23a0                    \n",
        "\u2500\u2500\u2500\u2500\u2500\u2500\u2500\u2500\u2500\u2500\u2500\u2500\u2500\u2500\u2500\u2500\u2500\u2500\u2500\u2500 - \u2148\u22c5a\u22c5q\u22c5z\u2085 - \u2148\u22c5p\u22c5z\u2084\n",
        "+ 1)                                    \n",
        "                                        "
       ]
      }
     ],
     "prompt_number": 86
    },
    {
     "cell_type": "code",
     "collapsed": false,
     "input": [
      "Z[4] = factor(solve(eq2.expand().coeff(p), Z[4]))[0]\n",
      "Z[5] = factor(solve(eq2.expand().coeff(q), Z[5]))[0]"
     ],
     "language": "python",
     "metadata": {},
     "outputs": [],
     "prompt_number": 87
    },
    {
     "cell_type": "code",
     "collapsed": false,
     "input": [
      "#<psi^dag, psi^dag, psi>\n",
      "eq3 = D*Lambda*Z[6]+Di[7]+Di[8]+Di[9]\n",
      "eq3"
     ],
     "language": "python",
     "metadata": {},
     "outputs": [
      {
       "latex": [
        "$$- \\frac{D I_{e} \\Lambda^{3}}{2 \\epsilon} - \\frac{D I_{y} \\Lambda a \\alpha g_{1}}{y \\left(u_{1} + 1\\right)^{2}} \\left(- a + 1\\right) + \\frac{D I_{y} \\Lambda \\alpha g_{1} \\left(- a + 1\\right)^{2}}{2 y \\left(u_{1} + 1\\right)} + D \\Lambda z_{6}$$"
       ],
       "metadata": {},
       "output_type": "pyout",
       "png": "[encoded data removed]",
       "prompt_number": 88,
       "text": [
        "        3                                                  2         \n",
        "  D\u22c5I\u2091\u22c5\u039b    D\u22c5I_y\u22c5\u039b\u22c5a\u22c5\u03b1\u22c5g\u2081\u22c5(-a + 1)   D\u22c5I_y\u22c5\u039b\u22c5\u03b1\u22c5g\u2081\u22c5(-a + 1)          \n",
        "- \u2500\u2500\u2500\u2500\u2500\u2500\u2500 - \u2500\u2500\u2500\u2500\u2500\u2500\u2500\u2500\u2500\u2500\u2500\u2500\u2500\u2500\u2500\u2500\u2500\u2500\u2500\u2500\u2500\u2500\u2500 + \u2500\u2500\u2500\u2500\u2500\u2500\u2500\u2500\u2500\u2500\u2500\u2500\u2500\u2500\u2500\u2500\u2500\u2500\u2500\u2500\u2500\u2500 + D\u22c5\u039b\u22c5z\u2086\n",
        "    2\u22c5\u03b5                     2              2\u22c5y\u22c5(u\u2081 + 1)              \n",
        "                  y\u22c5(u\u2081 + 1)                                         "
       ]
      }
     ],
     "prompt_number": 88
    },
    {
     "cell_type": "code",
     "collapsed": false,
     "input": [
      "Z[6] = factor(solve(eq3, Z[6]))[0]"
     ],
     "language": "python",
     "metadata": {},
     "outputs": [],
     "prompt_number": 89
    },
    {
     "cell_type": "code",
     "collapsed": false,
     "input": [
      "#<psi^dag, psi, psi>\n",
      "eq4 = -D*Lambda*Z[7]+Di[10]+Di[11]+Di[12]\n",
      "eq4"
     ],
     "language": "python",
     "metadata": {},
     "outputs": [
      {
       "latex": [
        "$$\\frac{D I_{e} \\Lambda^{3}}{2 \\epsilon} - \\frac{D I_{y} \\Lambda a^{2} \\alpha g_{1}}{2 y \\left(u_{1} + 1\\right)} + \\frac{D I_{y} \\Lambda a \\alpha g_{1}}{y \\left(u_{1} + 1\\right)^{2}} \\left(- a + 1\\right) - D \\Lambda z_{7}$$"
       ],
       "metadata": {},
       "output_type": "pyout",
       "png": "[encoded data removed]",
       "prompt_number": 90,
       "text": [
        "      3            2                                        \n",
        "D\u22c5I\u2091\u22c5\u039b    D\u22c5I_y\u22c5\u039b\u22c5a \u22c5\u03b1\u22c5g\u2081   D\u22c5I_y\u22c5\u039b\u22c5a\u22c5\u03b1\u22c5g\u2081\u22c5(-a + 1)         \n",
        "\u2500\u2500\u2500\u2500\u2500\u2500\u2500 - \u2500\u2500\u2500\u2500\u2500\u2500\u2500\u2500\u2500\u2500\u2500\u2500\u2500\u2500\u2500 + \u2500\u2500\u2500\u2500\u2500\u2500\u2500\u2500\u2500\u2500\u2500\u2500\u2500\u2500\u2500\u2500\u2500\u2500\u2500\u2500\u2500\u2500\u2500 - D\u22c5\u039b\u22c5z\u2087\n",
        "  2\u22c5\u03b5       2\u22c5y\u22c5(u\u2081 + 1)                    2               \n",
        "                                  y\u22c5(u\u2081 + 1)                "
       ]
      }
     ],
     "prompt_number": 90
    },
    {
     "cell_type": "code",
     "collapsed": false,
     "input": [
      "Z[7] = factor(solve(eq4, Z[7]))[0]"
     ],
     "language": "python",
     "metadata": {},
     "outputs": [],
     "prompt_number": 91
    },
    {
     "cell_type": "code",
     "collapsed": false,
     "input": [
      "#<psi^dag, psi, v, v>\n",
      "eq5 = u2/D*Z[8]+Di[13]+Di[14]+Di[15]+Di[16]+Di[17]+Di[18]+Di[19]+Di[20]\n",
      "eq5"
     ],
     "language": "python",
     "metadata": {},
     "outputs": [
      {
       "latex": [
        "$$- \\frac{I_{e} \\Lambda^{2} u_{2}}{4 D \\epsilon} - \\frac{I_{y} a \\alpha g_{1} u_{2} \\left(- a + 1\\right)}{2 D y \\left(u_{1} + 1\\right)^{2}} - \\frac{I_{y} a \\alpha g_{1} u_{2}}{4 D y \\left(u_{1} + 1\\right)^{2}} + \\frac{I_{y} a \\alpha g_{1} \\left(- a + 1\\right)}{4 D y \\left(u_{1} + 1\\right)^{3}} - \\frac{I_{y} \\alpha g_{1} u_{2} \\left(- a + 1\\right)}{4 D y \\left(u_{1} + 1\\right)^{2}} + \\frac{I_{y} g_{1} u_{2}^{2} \\left(\\alpha + 3\\right)}{4 D y \\left(u_{1} + 1\\right)} + \\frac{1}{4 D \\epsilon y \\left(u_{1} + 1\\right)^{3}} \\left(I_{e} \\Lambda^{2} u_{1}^{3} u_{2} y + 3 I_{e} \\Lambda^{2} u_{1}^{2} u_{2} y + 3 I_{e} \\Lambda^{2} u_{1} u_{2} y + I_{e} \\Lambda^{2} u_{2} y - 2 I_{y} a^{2} \\alpha \\epsilon g_{1} u_{1} u_{2} - 2 I_{y} a^{2} \\alpha \\epsilon g_{1} u_{2} + I_{y} a^{2} \\alpha \\epsilon g_{1} + 2 I_{y} a \\alpha \\epsilon g_{1} u_{1} u_{2} + 2 I_{y} a \\alpha \\epsilon g_{1} u_{2} - I_{y} a \\alpha \\epsilon g_{1} - I_{y} \\alpha \\epsilon g_{1} u_{1}^{2} u_{2}^{2} - 2 I_{y} \\alpha \\epsilon g_{1} u_{1} u_{2}^{2} + I_{y} \\alpha \\epsilon g_{1} u_{1} u_{2} - I_{y} \\alpha \\epsilon g_{1} u_{2}^{2} + I_{y} \\alpha \\epsilon g_{1} u_{2} - 3 I_{y} \\epsilon g_{1} u_{1}^{2} u_{2}^{2} - 6 I_{y} \\epsilon g_{1} u_{1} u_{2}^{2} - 3 I_{y} \\epsilon g_{1} u_{2}^{2}\\right)$$"
       ],
       "metadata": {},
       "output_type": "pyout",
       "png": "[encoded data removed]",
       "prompt_number": 95,
       "text": [
        "      2                                                                       \n",
        "  I\u2091\u22c5\u039b \u22c5u\u2082   I_y\u22c5a\u22c5\u03b1\u22c5g\u2081\u22c5u\u2082\u22c5(-a + 1)    I_y\u22c5a\u22c5\u03b1\u22c5g\u2081\u22c5u\u2082    I_y\u22c5a\u22c5\u03b1\u22c5g\u2081\u22c5(-a + 1)   \n",
        "- \u2500\u2500\u2500\u2500\u2500\u2500\u2500\u2500 - \u2500\u2500\u2500\u2500\u2500\u2500\u2500\u2500\u2500\u2500\u2500\u2500\u2500\u2500\u2500\u2500\u2500\u2500\u2500\u2500\u2500\u2500 - \u2500\u2500\u2500\u2500\u2500\u2500\u2500\u2500\u2500\u2500\u2500\u2500\u2500\u2500\u2500 + \u2500\u2500\u2500\u2500\u2500\u2500\u2500\u2500\u2500\u2500\u2500\u2500\u2500\u2500\u2500\u2500\u2500\u2500\u2500 - \n",
        "   4\u22c5D\u22c5\u03b5                      2                     2                   3     \n",
        "                2\u22c5D\u22c5y\u22c5(u\u2081 + 1)        4\u22c5D\u22c5y\u22c5(u\u2081 + 1)      4\u22c5D\u22c5y\u22c5(u\u2081 + 1)      \n",
        "\n",
        "                                2               2   3              2   2      \n",
        "I_y\u22c5\u03b1\u22c5g\u2081\u22c5u\u2082\u22c5(-a + 1)   I_y\u22c5g\u2081\u22c5u\u2082 \u22c5(\u03b1 + 3)   I\u2091\u22c5\u039b \u22c5u\u2081 \u22c5u\u2082\u22c5y + 3\u22c5I\u2091\u22c5\u039b \u22c5u\u2081 \u22c5u\u2082\u22c5y \n",
        "\u2500\u2500\u2500\u2500\u2500\u2500\u2500\u2500\u2500\u2500\u2500\u2500\u2500\u2500\u2500\u2500\u2500\u2500\u2500\u2500 + \u2500\u2500\u2500\u2500\u2500\u2500\u2500\u2500\u2500\u2500\u2500\u2500\u2500\u2500\u2500\u2500\u2500\u2500 + \u2500\u2500\u2500\u2500\u2500\u2500\u2500\u2500\u2500\u2500\u2500\u2500\u2500\u2500\u2500\u2500\u2500\u2500\u2500\u2500\u2500\u2500\u2500\u2500\u2500\u2500\u2500\u2500\u2500\u2500\u2500\u2500\u2500\u2500\n",
        "                2        4\u22c5D\u22c5y\u22c5(u\u2081 + 1)                                       \n",
        "  4\u22c5D\u22c5y\u22c5(u\u2081 + 1)                                                              \n",
        "\n",
        "        2               2               2                       2             \n",
        "+ 3\u22c5I\u2091\u22c5\u039b \u22c5u\u2081\u22c5u\u2082\u22c5y + I\u2091\u22c5\u039b \u22c5u\u2082\u22c5y - 2\u22c5I_y\u22c5a \u22c5\u03b1\u22c5\u03b5\u22c5g\u2081\u22c5u\u2081\u22c5u\u2082 - 2\u22c5I_y\u22c5a \u22c5\u03b1\u22c5\u03b5\u22c5g\u2081\u22c5u\u2082 + \n",
        "\u2500\u2500\u2500\u2500\u2500\u2500\u2500\u2500\u2500\u2500\u2500\u2500\u2500\u2500\u2500\u2500\u2500\u2500\u2500\u2500\u2500\u2500\u2500\u2500\u2500\u2500\u2500\u2500\u2500\u2500\u2500\u2500\u2500\u2500\u2500\u2500\u2500\u2500\u2500\u2500\u2500\u2500\u2500\u2500\u2500\u2500\u2500\u2500\u2500\u2500\u2500\u2500\u2500\u2500\u2500\u2500\u2500\u2500\u2500\u2500\u2500\u2500\u2500\u2500\u2500\u2500\u2500\u2500\u2500\u2500\u2500\u2500\u2500\u2500\u2500\u2500\u2500\u2500\n",
        "                                                                              \n",
        "                                                                              \n",
        "\n",
        "     2                                                                        \n",
        "I_y\u22c5a \u22c5\u03b1\u22c5\u03b5\u22c5g\u2081 + 2\u22c5I_y\u22c5a\u22c5\u03b1\u22c5\u03b5\u22c5g\u2081\u22c5u\u2081\u22c5u\u2082 + 2\u22c5I_y\u22c5a\u22c5\u03b1\u22c5\u03b5\u22c5g\u2081\u22c5u\u2082 - I_y\u22c5a\u22c5\u03b1\u22c5\u03b5\u22c5g\u2081 - I_y\u22c5\n",
        "\u2500\u2500\u2500\u2500\u2500\u2500\u2500\u2500\u2500\u2500\u2500\u2500\u2500\u2500\u2500\u2500\u2500\u2500\u2500\u2500\u2500\u2500\u2500\u2500\u2500\u2500\u2500\u2500\u2500\u2500\u2500\u2500\u2500\u2500\u2500\u2500\u2500\u2500\u2500\u2500\u2500\u2500\u2500\u2500\u2500\u2500\u2500\u2500\u2500\u2500\u2500\u2500\u2500\u2500\u2500\u2500\u2500\u2500\u2500\u2500\u2500\u2500\u2500\u2500\u2500\u2500\u2500\u2500\u2500\u2500\u2500\u2500\u2500\u2500\u2500\u2500\u2500\u2500\n",
        "                                                               3              \n",
        "                                               4\u22c5D\u22c5\u03b5\u22c5y\u22c5(u\u2081 + 1)               \n",
        "\n",
        "         2   2                     2                                   2      \n",
        "\u03b1\u22c5\u03b5\u22c5g\u2081\u22c5u\u2081 \u22c5u\u2082  - 2\u22c5I_y\u22c5\u03b1\u22c5\u03b5\u22c5g\u2081\u22c5u\u2081\u22c5u\u2082  + I_y\u22c5\u03b1\u22c5\u03b5\u22c5g\u2081\u22c5u\u2081\u22c5u\u2082 - I_y\u22c5\u03b1\u22c5\u03b5\u22c5g\u2081\u22c5u\u2082  + I_y\n",
        "\u2500\u2500\u2500\u2500\u2500\u2500\u2500\u2500\u2500\u2500\u2500\u2500\u2500\u2500\u2500\u2500\u2500\u2500\u2500\u2500\u2500\u2500\u2500\u2500\u2500\u2500\u2500\u2500\u2500\u2500\u2500\u2500\u2500\u2500\u2500\u2500\u2500\u2500\u2500\u2500\u2500\u2500\u2500\u2500\u2500\u2500\u2500\u2500\u2500\u2500\u2500\u2500\u2500\u2500\u2500\u2500\u2500\u2500\u2500\u2500\u2500\u2500\u2500\u2500\u2500\u2500\u2500\u2500\u2500\u2500\u2500\u2500\u2500\u2500\u2500\u2500\u2500\u2500\n",
        "                                                                              \n",
        "                                                                              \n",
        "\n",
        "                          2   2                   2                2\n",
        "\u22c5\u03b1\u22c5\u03b5\u22c5g\u2081\u22c5u\u2082 - 3\u22c5I_y\u22c5\u03b5\u22c5g\u2081\u22c5u\u2081 \u22c5u\u2082  - 6\u22c5I_y\u22c5\u03b5\u22c5g\u2081\u22c5u\u2081\u22c5u\u2082  - 3\u22c5I_y\u22c5\u03b5\u22c5g\u2081\u22c5u\u2082 \n",
        "\u2500\u2500\u2500\u2500\u2500\u2500\u2500\u2500\u2500\u2500\u2500\u2500\u2500\u2500\u2500\u2500\u2500\u2500\u2500\u2500\u2500\u2500\u2500\u2500\u2500\u2500\u2500\u2500\u2500\u2500\u2500\u2500\u2500\u2500\u2500\u2500\u2500\u2500\u2500\u2500\u2500\u2500\u2500\u2500\u2500\u2500\u2500\u2500\u2500\u2500\u2500\u2500\u2500\u2500\u2500\u2500\u2500\u2500\u2500\u2500\u2500\u2500\u2500\u2500\u2500\u2500\u2500\u2500\n",
        "                                                                    \n",
        "                                                                    "
       ]
      }
     ],
     "prompt_number": 95
    },
    {
     "cell_type": "code",
     "collapsed": false,
     "input": [
      "Z[8] = factor(solve(eq5, Z[8]))[0]"
     ],
     "language": "python",
     "metadata": {},
     "outputs": [
      {
       "ename": "IndexError",
       "evalue": "list index out of range",
       "output_type": "pyerr",
       "traceback": [
        "\u001b[1;31m---------------------------------------------------------------------------\u001b[0m\n\u001b[1;31mIndexError\u001b[0m                                Traceback (most recent call last)",
        "\u001b[1;32m<ipython-input-96-f29cf805dc95>\u001b[0m in \u001b[0;36m<module>\u001b[1;34m()\u001b[0m\n\u001b[1;32m----> 1\u001b[1;33m \u001b[0mZ\u001b[0m\u001b[1;33m[\u001b[0m\u001b[1;36m8\u001b[0m\u001b[1;33m]\u001b[0m \u001b[1;33m=\u001b[0m \u001b[0mfactor\u001b[0m\u001b[1;33m(\u001b[0m\u001b[0msolve\u001b[0m\u001b[1;33m(\u001b[0m\u001b[0meq5\u001b[0m\u001b[1;33m,\u001b[0m \u001b[0mZ\u001b[0m\u001b[1;33m[\u001b[0m\u001b[1;36m8\u001b[0m\u001b[1;33m]\u001b[0m\u001b[1;33m)\u001b[0m\u001b[1;33m)\u001b[0m\u001b[1;33m[\u001b[0m\u001b[1;36m0\u001b[0m\u001b[1;33m]\u001b[0m\u001b[1;33m\u001b[0m\u001b[0m\n\u001b[0m",
        "\u001b[1;31mIndexError\u001b[0m: list index out of range"
       ]
      }
     ],
     "prompt_number": 96
    },
    {
     "cell_type": "markdown",
     "metadata": {},
     "source": [
      "<h2>This Z-functions checked with Slovaks. Next, should used more simple results(Slovaks results)</h2>"
     ]
    },
    {
     "cell_type": "code",
     "collapsed": false,
     "input": [
      "Z[1] = 1+(g1*alpha*a*(1-a))/(1+u1)**2*y+g2/(4*epsilon)\n",
      "Z[1]"
     ],
     "language": "python",
     "metadata": {},
     "outputs": [
      {
       "latex": [
        "$$\\frac{a \\alpha g_{1} y}{\\left(u_{1} + 1\\right)^{2}} \\left(- a + 1\\right) + 1 + \\frac{g_{2}}{4 \\epsilon}$$"
       ],
       "metadata": {},
       "output_type": "pyout",
       "png": "[encoded data removed]",
       "prompt_number": 99,
       "text": [
        "a\u22c5\u03b1\u22c5g\u2081\u22c5y\u22c5(-a + 1)        g\u2082\n",
        "\u2500\u2500\u2500\u2500\u2500\u2500\u2500\u2500\u2500\u2500\u2500\u2500\u2500\u2500\u2500\u2500\u2500 + 1 + \u2500\u2500\u2500\n",
        "            2           4\u22c5\u03b5\n",
        "    (u\u2081 + 1)               "
       ]
      }
     ],
     "prompt_number": 99
    },
    {
     "cell_type": "code",
     "collapsed": false,
     "input": [
      "Z[2] = 1-g1/(4*(1+u1)*y)*(3+alpha*(1-2/(1+u1)-4*a*(1-a)*u1/(1+u1)**2))+g2/(8*epsilon)\n",
      "Z[2]"
     ],
     "language": "python",
     "metadata": {},
     "outputs": [
      {
       "latex": [
        "$$- \\frac{g_{1}}{y \\left(4 u_{1} + 4\\right)} \\left(\\alpha \\left(- \\frac{4 a u_{1}}{\\left(u_{1} + 1\\right)^{2}} \\left(- a + 1\\right) + 1 - \\frac{2}{u_{1} + 1}\\right) + 3\\right) + 1 + \\frac{g_{2}}{8 \\epsilon}$$"
       ],
       "metadata": {},
       "output_type": "pyout",
       "png": "[encoded data removed]",
       "prompt_number": 100,
       "text": [
        "     \u239b  \u239b  4\u22c5a\u22c5u\u2081\u22c5(-a + 1)         2   \u239e    \u239e          \n",
        "  g\u2081\u22c5\u239c\u03b1\u22c5\u239c- \u2500\u2500\u2500\u2500\u2500\u2500\u2500\u2500\u2500\u2500\u2500\u2500\u2500\u2500\u2500 + 1 - \u2500\u2500\u2500\u2500\u2500\u2500\u239f + 3\u239f          \n",
        "     \u239c  \u239c             2          u\u2081 + 1\u239f    \u239f          \n",
        "     \u239d  \u239d     (u\u2081 + 1)                 \u23a0    \u23a0        g\u2082\n",
        "- \u2500\u2500\u2500\u2500\u2500\u2500\u2500\u2500\u2500\u2500\u2500\u2500\u2500\u2500\u2500\u2500\u2500\u2500\u2500\u2500\u2500\u2500\u2500\u2500\u2500\u2500\u2500\u2500\u2500\u2500\u2500\u2500\u2500\u2500\u2500\u2500\u2500\u2500\u2500\u2500\u2500\u2500\u2500 + 1 + \u2500\u2500\u2500\n",
        "                  y\u22c5(4\u22c5u\u2081 + 4)                      8\u22c5\u03b5"
       ]
      }
     ],
     "prompt_number": 100
    },
    {
     "cell_type": "code",
     "collapsed": false,
     "input": [
      "Z[3] = 1+g1*alpha*a*(1-a)/((1+u1)**2*y)+g2/(2*epsilon)\n",
      "Z[3]"
     ],
     "language": "python",
     "metadata": {},
     "outputs": [
      {
       "latex": [
        "$$\\frac{a \\alpha g_{1} \\left(- a + 1\\right)}{y \\left(u_{1} + 1\\right)^{2}} + 1 + \\frac{g_{2}}{2 \\epsilon}$$"
       ],
       "metadata": {},
       "output_type": "pyout",
       "png": "[encoded data removed]",
       "prompt_number": 101,
       "text": [
        "a\u22c5\u03b1\u22c5g\u2081\u22c5(-a + 1)        g\u2082\n",
        "\u2500\u2500\u2500\u2500\u2500\u2500\u2500\u2500\u2500\u2500\u2500\u2500\u2500\u2500\u2500 + 1 + \u2500\u2500\u2500\n",
        "            2         2\u22c5\u03b5\n",
        "  y\u22c5(u\u2081 + 1)             "
       ]
      }
     ],
     "prompt_number": 101
    },
    {
     "cell_type": "code",
     "collapsed": false,
     "input": [
      "Z[4] = 1+g1/(4*(1+u1)**2*y)*(alpha*(1+4*a*(1-a)*u1/(1+u1))-u2*(6+6*u1+2*alpha*u1))+g2/(4*epsilon)\n",
      "Z[4]"
     ],
     "language": "python",
     "metadata": {},
     "outputs": [
      {
       "latex": [
        "$$\\frac{g_{1}}{4 y \\left(u_{1} + 1\\right)^{2}} \\left(\\alpha \\left(\\frac{4 a u_{1}}{u_{1} + 1} \\left(- a + 1\\right) + 1\\right) - u_{2} \\left(2 \\alpha u_{1} + 6 u_{1} + 6\\right)\\right) + 1 + \\frac{g_{2}}{4 \\epsilon}$$"
       ],
       "metadata": {},
       "output_type": "pyout",
       "png": "[encoded data removed]",
       "prompt_number": 102,
       "text": [
        "   \u239b  \u239b4\u22c5a\u22c5u\u2081\u22c5(-a + 1)    \u239e                         \u239e          \n",
        "g\u2081\u22c5\u239c\u03b1\u22c5\u239c\u2500\u2500\u2500\u2500\u2500\u2500\u2500\u2500\u2500\u2500\u2500\u2500\u2500\u2500\u2500 + 1\u239f - u\u2082\u22c5(2\u22c5\u03b1\u22c5u\u2081 + 6\u22c5u\u2081 + 6)\u239f          \n",
        "   \u239d  \u239d     u\u2081 + 1        \u23a0                         \u23a0        g\u2082\n",
        "\u2500\u2500\u2500\u2500\u2500\u2500\u2500\u2500\u2500\u2500\u2500\u2500\u2500\u2500\u2500\u2500\u2500\u2500\u2500\u2500\u2500\u2500\u2500\u2500\u2500\u2500\u2500\u2500\u2500\u2500\u2500\u2500\u2500\u2500\u2500\u2500\u2500\u2500\u2500\u2500\u2500\u2500\u2500\u2500\u2500\u2500\u2500\u2500\u2500\u2500\u2500\u2500\u2500 + 1 + \u2500\u2500\u2500\n",
        "                                2                           4\u22c5\u03b5\n",
        "                    4\u22c5y\u22c5(u\u2081 + 1)                               "
       ]
      }
     ],
     "prompt_number": 102
    },
    {
     "cell_type": "code",
     "collapsed": false,
     "input": [
      "Z[5] = 1+g1*alpha/(4*(1+u1)**2*y)*(1+2*(1-a)*(2*a-1/(1+u1)))-g1*u2/(4*a*(1+u1)*y)*(3+alpha-2*alpha*(1-a)/(1+u1))+g2*(4*a-1)/(8*a*epsilon)\n",
      "Z[5]"
     ],
     "language": "python",
     "metadata": {},
     "outputs": [
      {
       "latex": [
        "$$\\frac{\\alpha g_{1}}{4 y \\left(u_{1} + 1\\right)^{2}} \\left(\\left(- 2 a + 2\\right) \\left(2 a - \\frac{1}{u_{1} + 1}\\right) + 1\\right) + 1 - \\frac{g_{1} u_{2}}{4 a y \\left(u_{1} + 1\\right)} \\left(- \\frac{2 \\alpha \\left(- a + 1\\right)}{u_{1} + 1} + \\alpha + 3\\right) + \\frac{g_{2} \\left(4 a - 1\\right)}{8 a \\epsilon}$$"
       ],
       "metadata": {},
       "output_type": "pyout",
       "png": "[encoded data removed]",
       "prompt_number": 104,
       "text": [
        "     \u239b           \u239b        1   \u239e    \u239e             \u239b  2\u22c5\u03b1\u22c5(-a + 1)        \u239e     \n",
        "\u03b1\u22c5g\u2081\u22c5\u239c(-2\u22c5a + 2)\u22c5\u239c2\u22c5a - \u2500\u2500\u2500\u2500\u2500\u2500\u239f + 1\u239f       g\u2081\u22c5u\u2082\u22c5\u239c- \u2500\u2500\u2500\u2500\u2500\u2500\u2500\u2500\u2500\u2500\u2500\u2500 + \u03b1 + 3\u239f     \n",
        "     \u239d           \u239d      u\u2081 + 1\u23a0    \u23a0             \u239d     u\u2081 + 1           \u23a0   g\u2082\n",
        "\u2500\u2500\u2500\u2500\u2500\u2500\u2500\u2500\u2500\u2500\u2500\u2500\u2500\u2500\u2500\u2500\u2500\u2500\u2500\u2500\u2500\u2500\u2500\u2500\u2500\u2500\u2500\u2500\u2500\u2500\u2500\u2500\u2500\u2500\u2500\u2500 + 1 - \u2500\u2500\u2500\u2500\u2500\u2500\u2500\u2500\u2500\u2500\u2500\u2500\u2500\u2500\u2500\u2500\u2500\u2500\u2500\u2500\u2500\u2500\u2500\u2500\u2500\u2500\u2500\u2500\u2500\u2500 + \u2500\u2500\n",
        "                       2                           4\u22c5a\u22c5y\u22c5(u\u2081 + 1)             \n",
        "           4\u22c5y\u22c5(u\u2081 + 1)                                                       \n",
        "\n",
        "          \n",
        "          \n",
        "\u22c5(4\u22c5a - 1)\n",
        "\u2500\u2500\u2500\u2500\u2500\u2500\u2500\u2500\u2500\u2500\n",
        " 8\u22c5a\u22c5\u03b5    \n",
        "          "
       ]
      }
     ],
     "prompt_number": 104
    },
    {
     "cell_type": "code",
     "collapsed": false,
     "input": [
      "Z[6] = 1-g1*alpha*(1-a)/((1+u1)*y)*(1-a-2*a/(1+u1))+g2/epsilon\n",
      "Z[6]"
     ],
     "language": "python",
     "metadata": {},
     "outputs": [
      {
       "latex": [
        "$$- \\frac{\\alpha g_{1}}{y \\left(u_{1} + 1\\right)} \\left(- a + 1\\right) \\left(- a - \\frac{2 a}{u_{1} + 1} + 1\\right) + 1 + \\frac{g_{2}}{\\epsilon}$$"
       ],
       "metadata": {},
       "output_type": "pyout",
       "png": "[encoded data removed]",
       "prompt_number": 105,
       "text": [
        "                \u239b      2\u22c5a      \u239e         \n",
        "  \u03b1\u22c5g\u2081\u22c5(-a + 1)\u22c5\u239c-a - \u2500\u2500\u2500\u2500\u2500\u2500 + 1\u239f         \n",
        "                \u239d     u\u2081 + 1    \u23a0       g\u2082\n",
        "- \u2500\u2500\u2500\u2500\u2500\u2500\u2500\u2500\u2500\u2500\u2500\u2500\u2500\u2500\u2500\u2500\u2500\u2500\u2500\u2500\u2500\u2500\u2500\u2500\u2500\u2500\u2500\u2500\u2500\u2500\u2500 + 1 + \u2500\u2500\n",
        "             y\u22c5(u\u2081 + 1)                 \u03b5 "
       ]
      }
     ],
     "prompt_number": 105
    },
    {
     "cell_type": "code",
     "collapsed": false,
     "input": [
      "Z[7] = 1-g1*alpha*a/((1+u1)*y)*(a-2*(1-a)/(1+u1))+g2/epsilon\n",
      "Z[7]"
     ],
     "language": "python",
     "metadata": {},
     "outputs": [
      {
       "latex": [
        "$$- \\frac{a \\alpha g_{1}}{y \\left(u_{1} + 1\\right)} \\left(a - \\frac{- 2 a + 2}{u_{1} + 1}\\right) + 1 + \\frac{g_{2}}{\\epsilon}$$"
       ],
       "metadata": {},
       "output_type": "pyout",
       "png": "[encoded data removed]",
       "prompt_number": 106,
       "text": [
        "         \u239b    -2\u22c5a + 2\u239e         \n",
        "  a\u22c5\u03b1\u22c5g\u2081\u22c5\u239ca - \u2500\u2500\u2500\u2500\u2500\u2500\u2500\u2500\u239f         \n",
        "         \u239d     u\u2081 + 1 \u23a0       g\u2082\n",
        "- \u2500\u2500\u2500\u2500\u2500\u2500\u2500\u2500\u2500\u2500\u2500\u2500\u2500\u2500\u2500\u2500\u2500\u2500\u2500\u2500\u2500 + 1 + \u2500\u2500\n",
        "        y\u22c5(u\u2081 + 1)            \u03b5 "
       ]
      }
     ],
     "prompt_number": 106
    },
    {
     "cell_type": "code",
     "collapsed": false,
     "input": [
      "Z[8] = 1+g1/(2*(1+u1)*y)*(alpha*(2*a*(1-a)+1)/(1+u1)-alpha*a*(1-a)/(u2*(1+u2)**2)-u2*(3+alpha))+g2/(2*epsilon)\n",
      "Z[8]"
     ],
     "language": "python",
     "metadata": {},
     "outputs": [
      {
       "latex": [
        "$$\\frac{g_{1}}{y \\left(2 u_{1} + 2\\right)} \\left(- \\frac{a \\alpha \\left(- a + 1\\right)}{u_{2} \\left(u_{2} + 1\\right)^{2}} + \\frac{\\alpha}{u_{1} + 1} \\left(2 a \\left(- a + 1\\right) + 1\\right) - u_{2} \\left(\\alpha + 3\\right)\\right) + 1 + \\frac{g_{2}}{2 \\epsilon}$$"
       ],
       "metadata": {},
       "output_type": "pyout",
       "png": "[encoded data removed]",
       "prompt_number": 107,
       "text": [
        "   \u239b  a\u22c5\u03b1\u22c5(-a + 1)   \u03b1\u22c5(2\u22c5a\u22c5(-a + 1) + 1)             \u239e          \n",
        "g\u2081\u22c5\u239c- \u2500\u2500\u2500\u2500\u2500\u2500\u2500\u2500\u2500\u2500\u2500\u2500 + \u2500\u2500\u2500\u2500\u2500\u2500\u2500\u2500\u2500\u2500\u2500\u2500\u2500\u2500\u2500\u2500\u2500\u2500\u2500\u2500 - u\u2082\u22c5(\u03b1 + 3)\u239f          \n",
        "   \u239c             2          u\u2081 + 1                    \u239f          \n",
        "   \u239d  u\u2082\u22c5(u\u2082 + 1)                                     \u23a0        g\u2082\n",
        "\u2500\u2500\u2500\u2500\u2500\u2500\u2500\u2500\u2500\u2500\u2500\u2500\u2500\u2500\u2500\u2500\u2500\u2500\u2500\u2500\u2500\u2500\u2500\u2500\u2500\u2500\u2500\u2500\u2500\u2500\u2500\u2500\u2500\u2500\u2500\u2500\u2500\u2500\u2500\u2500\u2500\u2500\u2500\u2500\u2500\u2500\u2500\u2500\u2500\u2500\u2500\u2500\u2500\u2500\u2500 + 1 + \u2500\u2500\u2500\n",
        "                      y\u22c5(2\u22c5u\u2081 + 2)                            2\u22c5\u03b5"
       ]
      }
     ],
     "prompt_number": 107
    },
    {
     "cell_type": "code",
     "collapsed": false,
     "input": [
      "gamma = {}\n",
      "gamma['D'], gamma['a'], gamma['u2'], gamma['g2'], gamma['v']  = symbols('gamma_D, gamma_a, gamma_u2, gamma_g2, gamma_v')"
     ],
     "language": "python",
     "metadata": {},
     "outputs": [],
     "prompt_number": 125
    },
    {
     "cell_type": "code",
     "collapsed": false,
     "input": [
      "gamma['D']=g1/(4*(1+u1))*(3+alpha*(u1-1)/(u1+1)+4*alpha*a*(1-a)/(1+u1)**2)+g2/8\n",
      "gamma['D']"
     ],
     "language": "python",
     "metadata": {},
     "outputs": [
      {
       "latex": [
        "$$\\frac{g_{1}}{4 u_{1} + 4} \\left(\\frac{4 a \\alpha}{\\left(u_{1} + 1\\right)^{2}} \\left(- a + 1\\right) + \\frac{\\alpha \\left(u_{1} - 1\\right)}{u_{1} + 1} + 3\\right) + \\frac{g_{2}}{8}$$"
       ],
       "metadata": {},
       "output_type": "pyout",
       "png": "[encoded data removed]",
       "prompt_number": 127,
       "text": [
        "   \u239b4\u22c5a\u22c5\u03b1\u22c5(-a + 1)   \u03b1\u22c5(u\u2081 - 1)    \u239e     \n",
        "g\u2081\u22c5\u239c\u2500\u2500\u2500\u2500\u2500\u2500\u2500\u2500\u2500\u2500\u2500\u2500\u2500\u2500 + \u2500\u2500\u2500\u2500\u2500\u2500\u2500\u2500\u2500\u2500 + 3\u239f     \n",
        "   \u239c          2        u\u2081 + 1      \u239f     \n",
        "   \u239d  (u\u2081 + 1)                     \u23a0   g\u2082\n",
        "\u2500\u2500\u2500\u2500\u2500\u2500\u2500\u2500\u2500\u2500\u2500\u2500\u2500\u2500\u2500\u2500\u2500\u2500\u2500\u2500\u2500\u2500\u2500\u2500\u2500\u2500\u2500\u2500\u2500\u2500\u2500\u2500\u2500\u2500\u2500\u2500 + \u2500\u2500\n",
        "              4\u22c5u\u2081 + 4                 8 "
       ]
      }
     ],
     "prompt_number": 127
    },
    {
     "cell_type": "code",
     "collapsed": false,
     "input": [
      "gamma['a'] = (1-2*a)*(g1*alpha*(1-a)/(2*(1+u1)**3)+g1*u2*(3+alpha-2*alpha/(1+u1))/(4*a*(1+u1))+g2/8/a)\n",
      "gamma['a']"
     ],
     "language": "python",
     "metadata": {},
     "outputs": [
      {
       "latex": [
        "$$\\left(- 2 a + 1\\right) \\left(\\frac{\\alpha g_{1} \\left(- a + 1\\right)}{2 \\left(u_{1} + 1\\right)^{3}} + \\frac{g_{1} u_{2} \\left(\\alpha - \\frac{2 \\alpha}{u_{1} + 1} + 3\\right)}{4 a \\left(u_{1} + 1\\right)} + \\frac{g_{2}}{8 a}\\right)$$"
       ],
       "metadata": {},
       "output_type": "pyout",
       "png": "[encoded data removed]",
       "prompt_number": 128,
       "text": [
        "           \u239b                      \u239b     2\u22c5\u03b1      \u239e      \u239e\n",
        "           \u239c                g\u2081\u22c5u\u2082\u22c5\u239c\u03b1 - \u2500\u2500\u2500\u2500\u2500\u2500 + 3\u239f      \u239f\n",
        "           \u239c\u03b1\u22c5g\u2081\u22c5(-a + 1)         \u239d    u\u2081 + 1    \u23a0    g\u2082\u239f\n",
        "(-2\u22c5a + 1)\u22c5\u239c\u2500\u2500\u2500\u2500\u2500\u2500\u2500\u2500\u2500\u2500\u2500\u2500\u2500 + \u2500\u2500\u2500\u2500\u2500\u2500\u2500\u2500\u2500\u2500\u2500\u2500\u2500\u2500\u2500\u2500\u2500\u2500\u2500\u2500\u2500\u2500 + \u2500\u2500\u2500\u239f\n",
        "           \u239c           3         4\u22c5a\u22c5(u\u2081 + 1)        8\u22c5a\u239f\n",
        "           \u239d 2\u22c5(u\u2081 + 1)                                 \u23a0"
       ]
      }
     ],
     "prompt_number": 128
    },
    {
     "cell_type": "code",
     "collapsed": false,
     "input": [
      "gamma['u2'] = g1*(1-2*u2)/(4*(1+u1))*(3+alpha*(u1-1)/(u1+1)+2*alpha*a*(1-a)/(u2*(1+u1)**2))-g2/8\n",
      "gamma['u2']"
     ],
     "language": "python",
     "metadata": {},
     "outputs": [
      {
       "latex": [
        "$$\\frac{g_{1}}{4 u_{1} + 4} \\left(- 2 u_{2} + 1\\right) \\left(\\frac{2 a \\alpha \\left(- a + 1\\right)}{u_{2} \\left(u_{1} + 1\\right)^{2}} + \\frac{\\alpha \\left(u_{1} - 1\\right)}{u_{1} + 1} + 3\\right) - \\frac{g_{2}}{8}$$"
       ],
       "metadata": {},
       "output_type": "pyout",
       "png": "[encoded data removed]",
       "prompt_number": 129,
       "text": [
        "               \u239b2\u22c5a\u22c5\u03b1\u22c5(-a + 1)   \u03b1\u22c5(u\u2081 - 1)    \u239e     \n",
        "g\u2081\u22c5(-2\u22c5u\u2082 + 1)\u22c5\u239c\u2500\u2500\u2500\u2500\u2500\u2500\u2500\u2500\u2500\u2500\u2500\u2500\u2500\u2500 + \u2500\u2500\u2500\u2500\u2500\u2500\u2500\u2500\u2500\u2500 + 3\u239f     \n",
        "               \u239c            2      u\u2081 + 1      \u239f     \n",
        "               \u239d u\u2082\u22c5(u\u2081 + 1)                   \u23a0   g\u2082\n",
        "\u2500\u2500\u2500\u2500\u2500\u2500\u2500\u2500\u2500\u2500\u2500\u2500\u2500\u2500\u2500\u2500\u2500\u2500\u2500\u2500\u2500\u2500\u2500\u2500\u2500\u2500\u2500\u2500\u2500\u2500\u2500\u2500\u2500\u2500\u2500\u2500\u2500\u2500\u2500\u2500\u2500\u2500\u2500\u2500\u2500\u2500\u2500\u2500 - \u2500\u2500\n",
        "                    4\u22c5u\u2081 + 4                       8 "
       ]
      }
     ],
     "prompt_number": 129
    },
    {
     "cell_type": "code",
     "collapsed": false,
     "input": [
      "gamma['g2'] = -3*g1/(2*(1+u1))+g1*alpha/(1+u1)*((1-2*a)**2/2+(1-3*a*(1-a))/(1+u1)+2*a*(1-a)*u1/(1+u1)**2)-3*g2/2\n",
      "gamma['g2']"
     ],
     "language": "python",
     "metadata": {},
     "outputs": [
      {
       "latex": [
        "$$\\frac{\\alpha g_{1}}{u_{1} + 1} \\left(\\frac{2 a u_{1}}{\\left(u_{1} + 1\\right)^{2}} \\left(- a + 1\\right) + \\frac{1}{2} \\left(- 2 a + 1\\right)^{2} + \\frac{1}{u_{1} + 1} \\left(- 3 a \\left(- a + 1\\right) + 1\\right)\\right) - \\frac{3 g_{1}}{2 u_{1} + 2} - \\frac{3 g_{2}}{2}$$"
       ],
       "metadata": {},
       "output_type": "pyout",
       "png": "[encoded data removed]",
       "prompt_number": 131,
       "text": [
        "     \u239b                            2                    \u239e                  \n",
        "     \u239c2\u22c5a\u22c5u\u2081\u22c5(-a + 1)   (-2\u22c5a + 1)    -3\u22c5a\u22c5(-a + 1) + 1\u239f                  \n",
        "\u03b1\u22c5g\u2081\u22c5\u239c\u2500\u2500\u2500\u2500\u2500\u2500\u2500\u2500\u2500\u2500\u2500\u2500\u2500\u2500\u2500 + \u2500\u2500\u2500\u2500\u2500\u2500\u2500\u2500\u2500\u2500\u2500 + \u2500\u2500\u2500\u2500\u2500\u2500\u2500\u2500\u2500\u2500\u2500\u2500\u2500\u2500\u2500\u2500\u2500\u239f                  \n",
        "     \u239c           2           2              u\u2081 + 1     \u239f                  \n",
        "     \u239d   (u\u2081 + 1)                                      \u23a0     3\u22c5g\u2081     3\u22c5g\u2082\n",
        "\u2500\u2500\u2500\u2500\u2500\u2500\u2500\u2500\u2500\u2500\u2500\u2500\u2500\u2500\u2500\u2500\u2500\u2500\u2500\u2500\u2500\u2500\u2500\u2500\u2500\u2500\u2500\u2500\u2500\u2500\u2500\u2500\u2500\u2500\u2500\u2500\u2500\u2500\u2500\u2500\u2500\u2500\u2500\u2500\u2500\u2500\u2500\u2500\u2500\u2500\u2500\u2500\u2500\u2500\u2500\u2500 - \u2500\u2500\u2500\u2500\u2500\u2500\u2500\u2500 - \u2500\u2500\u2500\u2500\n",
        "                         u\u2081 + 1                            2\u22c5u\u2081 + 2    2  "
       ]
      }
     ],
     "prompt_number": 131
    },
    {
     "cell_type": "code",
     "collapsed": false,
     "input": [
      "gamma['v'] = g1*alpha/(4*(1+u1)**2)*(4*a*(1-a)/(1+u1)-1)+g1*u2/(2*(1+u1))*(3+alpha*u1/(1+u1))\n",
      "gamma['v']"
     ],
     "language": "python",
     "metadata": {},
     "outputs": [
      {
       "latex": [
        "$$\\frac{\\alpha g_{1}}{4 \\left(u_{1} + 1\\right)^{2}} \\left(\\frac{4 a \\left(- a + 1\\right)}{u_{1} + 1} - 1\\right) + \\frac{g_{1} u_{2} \\left(\\frac{\\alpha u_{1}}{u_{1} + 1} + 3\\right)}{2 u_{1} + 2}$$"
       ],
       "metadata": {},
       "output_type": "pyout",
       "png": "[encoded data removed]",
       "prompt_number": 132,
       "text": [
        "     \u239b4\u22c5a\u22c5(-a + 1)    \u239e         \u239b \u03b1\u22c5u\u2081     \u239e\n",
        "\u03b1\u22c5g\u2081\u22c5\u239c\u2500\u2500\u2500\u2500\u2500\u2500\u2500\u2500\u2500\u2500\u2500\u2500 - 1\u239f   g\u2081\u22c5u\u2082\u22c5\u239c\u2500\u2500\u2500\u2500\u2500\u2500 + 3\u239f\n",
        "     \u239d   u\u2081 + 1       \u23a0         \u239du\u2081 + 1    \u23a0\n",
        "\u2500\u2500\u2500\u2500\u2500\u2500\u2500\u2500\u2500\u2500\u2500\u2500\u2500\u2500\u2500\u2500\u2500\u2500\u2500\u2500\u2500\u2500\u2500 + \u2500\u2500\u2500\u2500\u2500\u2500\u2500\u2500\u2500\u2500\u2500\u2500\u2500\u2500\u2500\u2500\u2500\u2500\n",
        "                2              2\u22c5u\u2081 + 2     \n",
        "      4\u22c5(u\u2081 + 1)                            "
       ]
      }
     ],
     "prompt_number": 132
    },
    {
     "cell_type": "code",
     "collapsed": false,
     "input": [
      "beta = {}\n",
      "beta['g1'], beta['g2'], beta['u2'], beta['u1'], beta['a'] = symbols('beta_g1,beta_g2,beta_u2, beta_u1, beta_a')"
     ],
     "language": "python",
     "metadata": {},
     "outputs": [],
     "prompt_number": 135
    },
    {
     "cell_type": "code",
     "collapsed": false,
     "input": [
      "beta['g1']=g1*(-y+2*gamma['D']-2*gamma['v'])\n",
      "beta['g1']"
     ],
     "language": "python",
     "metadata": {},
     "outputs": [
      {
       "latex": [
        "$$g_{1} \\left(- \\frac{\\alpha g_{1}}{2 \\left(u_{1} + 1\\right)^{2}} \\left(\\frac{4 a \\left(- a + 1\\right)}{u_{1} + 1} - 1\\right) - \\frac{2 g_{1} u_{2}}{2 u_{1} + 2} \\left(\\frac{\\alpha u_{1}}{u_{1} + 1} + 3\\right) + \\frac{2 g_{1}}{4 u_{1} + 4} \\left(\\frac{4 a \\alpha}{\\left(u_{1} + 1\\right)^{2}} \\left(- a + 1\\right) + \\frac{\\alpha \\left(u_{1} - 1\\right)}{u_{1} + 1} + 3\\right) + \\frac{g_{2}}{4} - y\\right)$$"
       ],
       "metadata": {},
       "output_type": "pyout",
       "png": "[encoded data removed]",
       "prompt_number": 136,
       "text": [
        "   \u239b                                                        \u239b4\u22c5a\u22c5\u03b1\u22c5(-a + 1)   \n",
        "   \u239c       \u239b4\u22c5a\u22c5(-a + 1)    \u239e           \u239b \u03b1\u22c5u\u2081     \u239e   2\u22c5g\u2081\u22c5\u239c\u2500\u2500\u2500\u2500\u2500\u2500\u2500\u2500\u2500\u2500\u2500\u2500\u2500\u2500 + \n",
        "   \u239c  \u03b1\u22c5g\u2081\u22c5\u239c\u2500\u2500\u2500\u2500\u2500\u2500\u2500\u2500\u2500\u2500\u2500\u2500 - 1\u239f   2\u22c5g\u2081\u22c5u\u2082\u22c5\u239c\u2500\u2500\u2500\u2500\u2500\u2500 + 3\u239f        \u239c          2      \n",
        "   \u239c       \u239d   u\u2081 + 1       \u23a0           \u239du\u2081 + 1    \u23a0        \u239d  (u\u2081 + 1)       \n",
        "g\u2081\u22c5\u239c- \u2500\u2500\u2500\u2500\u2500\u2500\u2500\u2500\u2500\u2500\u2500\u2500\u2500\u2500\u2500\u2500\u2500\u2500\u2500\u2500\u2500\u2500\u2500 - \u2500\u2500\u2500\u2500\u2500\u2500\u2500\u2500\u2500\u2500\u2500\u2500\u2500\u2500\u2500\u2500\u2500\u2500\u2500\u2500 + \u2500\u2500\u2500\u2500\u2500\u2500\u2500\u2500\u2500\u2500\u2500\u2500\u2500\u2500\u2500\u2500\u2500\u2500\u2500\u2500\u2500\u2500\u2500\n",
        "   \u239c                  2               2\u22c5u\u2081 + 2                        4\u22c5u\u2081 + 4\n",
        "   \u239d        2\u22c5(u\u2081 + 1)                                                        \n",
        "\n",
        "\u03b1\u22c5(u\u2081 - 1)    \u239e         \u239e\n",
        "\u2500\u2500\u2500\u2500\u2500\u2500\u2500\u2500\u2500\u2500 + 3\u239f         \u239f\n",
        "  u\u2081 + 1      \u239f         \u239f\n",
        "              \u23a0   g\u2082    \u239f\n",
        "\u2500\u2500\u2500\u2500\u2500\u2500\u2500\u2500\u2500\u2500\u2500\u2500\u2500\u2500\u2500 + \u2500\u2500 - y\u239f\n",
        "                  4     \u239f\n",
        "                        \u23a0"
       ]
      }
     ],
     "prompt_number": 136
    },
    {
     "cell_type": "code",
     "collapsed": false,
     "input": [
      "beta['g2']=g2*(-epsilon-gamma['g2'])\n",
      "beta['g2']"
     ],
     "language": "python",
     "metadata": {},
     "outputs": [
      {
       "latex": [
        "$$g_{2} \\left(- \\frac{\\alpha g_{1}}{u_{1} + 1} \\left(\\frac{2 a u_{1}}{\\left(u_{1} + 1\\right)^{2}} \\left(- a + 1\\right) + \\frac{1}{2} \\left(- 2 a + 1\\right)^{2} + \\frac{1}{u_{1} + 1} \\left(- 3 a \\left(- a + 1\\right) + 1\\right)\\right) - \\epsilon + \\frac{3 g_{1}}{2 u_{1} + 2} + \\frac{3 g_{2}}{2}\\right)$$"
       ],
       "metadata": {},
       "output_type": "pyout",
       "png": "[encoded data removed]",
       "prompt_number": 137,
       "text": [
        "   \u239b       \u239b                            2                    \u239e                \n",
        "   \u239c       \u239c2\u22c5a\u22c5u\u2081\u22c5(-a + 1)   (-2\u22c5a + 1)    -3\u22c5a\u22c5(-a + 1) + 1\u239f                \n",
        "   \u239c  \u03b1\u22c5g\u2081\u22c5\u239c\u2500\u2500\u2500\u2500\u2500\u2500\u2500\u2500\u2500\u2500\u2500\u2500\u2500\u2500\u2500 + \u2500\u2500\u2500\u2500\u2500\u2500\u2500\u2500\u2500\u2500\u2500 + \u2500\u2500\u2500\u2500\u2500\u2500\u2500\u2500\u2500\u2500\u2500\u2500\u2500\u2500\u2500\u2500\u2500\u239f                \n",
        "   \u239c       \u239c           2           2              u\u2081 + 1     \u239f                \n",
        "   \u239c       \u239d   (u\u2081 + 1)                                      \u23a0         3\u22c5g\u2081   \n",
        "g\u2082\u22c5\u239c- \u2500\u2500\u2500\u2500\u2500\u2500\u2500\u2500\u2500\u2500\u2500\u2500\u2500\u2500\u2500\u2500\u2500\u2500\u2500\u2500\u2500\u2500\u2500\u2500\u2500\u2500\u2500\u2500\u2500\u2500\u2500\u2500\u2500\u2500\u2500\u2500\u2500\u2500\u2500\u2500\u2500\u2500\u2500\u2500\u2500\u2500\u2500\u2500\u2500\u2500\u2500\u2500\u2500\u2500\u2500\u2500 - \u03b5 + \u2500\u2500\u2500\u2500\u2500\u2500\u2500\u2500 \n",
        "   \u239d                           u\u2081 + 1                                2\u22c5u\u2081 + 2 \n",
        "\n",
        "      \u239e\n",
        "      \u239f\n",
        "      \u239f\n",
        "      \u239f\n",
        "  3\u22c5g\u2082\u239f\n",
        "+ \u2500\u2500\u2500\u2500\u239f\n",
        "   2  \u23a0"
       ]
      }
     ],
     "prompt_number": 137
    },
    {
     "cell_type": "code",
     "collapsed": false,
     "input": [
      "beta['u1']=u1*(-eta+gamma['D'])\n",
      "beta['u1']"
     ],
     "language": "python",
     "metadata": {},
     "outputs": [
      {
       "latex": [
        "$$u_{1} \\left(- \\eta + \\frac{g_{1}}{4 u_{1} + 4} \\left(\\frac{4 a \\alpha}{\\left(u_{1} + 1\\right)^{2}} \\left(- a + 1\\right) + \\frac{\\alpha \\left(u_{1} - 1\\right)}{u_{1} + 1} + 3\\right) + \\frac{g_{2}}{8}\\right)$$"
       ],
       "metadata": {},
       "output_type": "pyout",
       "png": "[encoded data removed]",
       "prompt_number": 140,
       "text": [
        "   \u239b        \u239b4\u22c5a\u22c5\u03b1\u22c5(-a + 1)   \u03b1\u22c5(u\u2081 - 1)    \u239e     \u239e\n",
        "   \u239c     g\u2081\u22c5\u239c\u2500\u2500\u2500\u2500\u2500\u2500\u2500\u2500\u2500\u2500\u2500\u2500\u2500\u2500 + \u2500\u2500\u2500\u2500\u2500\u2500\u2500\u2500\u2500\u2500 + 3\u239f     \u239f\n",
        "   \u239c        \u239c          2        u\u2081 + 1      \u239f     \u239f\n",
        "   \u239c        \u239d  (u\u2081 + 1)                     \u23a0   g\u2082\u239f\n",
        "u\u2081\u22c5\u239c-\u03b7 + \u2500\u2500\u2500\u2500\u2500\u2500\u2500\u2500\u2500\u2500\u2500\u2500\u2500\u2500\u2500\u2500\u2500\u2500\u2500\u2500\u2500\u2500\u2500\u2500\u2500\u2500\u2500\u2500\u2500\u2500\u2500\u2500\u2500\u2500\u2500\u2500 + \u2500\u2500\u239f\n",
        "   \u239d                   4\u22c5u\u2081 + 4                 8 \u23a0"
       ]
      }
     ],
     "prompt_number": 140
    },
    {
     "cell_type": "code",
     "collapsed": false,
     "input": [
      "beta['u2']=-u2*gamma['u2']\n",
      "beta['u2']"
     ],
     "language": "python",
     "metadata": {},
     "outputs": [
      {
       "latex": [
        "$$- u_{2} \\left(\\frac{g_{1}}{4 u_{1} + 4} \\left(- 2 u_{2} + 1\\right) \\left(\\frac{2 a \\alpha \\left(- a + 1\\right)}{u_{2} \\left(u_{1} + 1\\right)^{2}} + \\frac{\\alpha \\left(u_{1} - 1\\right)}{u_{1} + 1} + 3\\right) - \\frac{g_{2}}{8}\\right)$$"
       ],
       "metadata": {},
       "output_type": "pyout",
       "png": "[encoded data removed]",
       "prompt_number": 141,
       "text": [
        "    \u239b               \u239b2\u22c5a\u22c5\u03b1\u22c5(-a + 1)   \u03b1\u22c5(u\u2081 - 1)    \u239e     \u239e\n",
        "    \u239cg\u2081\u22c5(-2\u22c5u\u2082 + 1)\u22c5\u239c\u2500\u2500\u2500\u2500\u2500\u2500\u2500\u2500\u2500\u2500\u2500\u2500\u2500\u2500 + \u2500\u2500\u2500\u2500\u2500\u2500\u2500\u2500\u2500\u2500 + 3\u239f     \u239f\n",
        "    \u239c               \u239c            2      u\u2081 + 1      \u239f     \u239f\n",
        "    \u239c               \u239d u\u2082\u22c5(u\u2081 + 1)                   \u23a0   g\u2082\u239f\n",
        "-u\u2082\u22c5\u239c\u2500\u2500\u2500\u2500\u2500\u2500\u2500\u2500\u2500\u2500\u2500\u2500\u2500\u2500\u2500\u2500\u2500\u2500\u2500\u2500\u2500\u2500\u2500\u2500\u2500\u2500\u2500\u2500\u2500\u2500\u2500\u2500\u2500\u2500\u2500\u2500\u2500\u2500\u2500\u2500\u2500\u2500\u2500\u2500\u2500\u2500\u2500\u2500 - \u2500\u2500\u239f\n",
        "    \u239d                    4\u22c5u\u2081 + 4                       8 \u23a0"
       ]
      }
     ],
     "prompt_number": 141
    },
    {
     "cell_type": "code",
     "collapsed": false,
     "input": [
      "beta['a']=-a*gamma['a']\n",
      "beta['a']"
     ],
     "language": "python",
     "metadata": {},
     "outputs": [
      {
       "latex": [
        "$$- a \\left(- 2 a + 1\\right) \\left(\\frac{\\alpha g_{1} \\left(- a + 1\\right)}{2 \\left(u_{1} + 1\\right)^{3}} + \\frac{g_{1} u_{2} \\left(\\alpha - \\frac{2 \\alpha}{u_{1} + 1} + 3\\right)}{4 a \\left(u_{1} + 1\\right)} + \\frac{g_{2}}{8 a}\\right)$$"
       ],
       "metadata": {},
       "output_type": "pyout",
       "png": "[encoded data removed]",
       "prompt_number": 142,
       "text": [
        "              \u239b                      \u239b     2\u22c5\u03b1      \u239e      \u239e\n",
        "              \u239c                g\u2081\u22c5u\u2082\u22c5\u239c\u03b1 - \u2500\u2500\u2500\u2500\u2500\u2500 + 3\u239f      \u239f\n",
        "              \u239c\u03b1\u22c5g\u2081\u22c5(-a + 1)         \u239d    u\u2081 + 1    \u23a0    g\u2082\u239f\n",
        "-a\u22c5(-2\u22c5a + 1)\u22c5\u239c\u2500\u2500\u2500\u2500\u2500\u2500\u2500\u2500\u2500\u2500\u2500\u2500\u2500 + \u2500\u2500\u2500\u2500\u2500\u2500\u2500\u2500\u2500\u2500\u2500\u2500\u2500\u2500\u2500\u2500\u2500\u2500\u2500\u2500\u2500\u2500 + \u2500\u2500\u2500\u239f\n",
        "              \u239c           3         4\u22c5a\u22c5(u\u2081 + 1)        8\u22c5a\u239f\n",
        "              \u239d 2\u22c5(u\u2081 + 1)                                 \u23a0"
       ]
      }
     ],
     "prompt_number": 142
    },
    {
     "cell_type": "code",
     "collapsed": false,
     "input": [
      "#eqs = (b for b in beta)\n",
      "#solve((beta['g1'], beta['g2'], beta['u1'], beta['u2'], beta['a']), g1, g2, u1, u2, a)"
     ],
     "language": "python",
     "metadata": {},
     "outputs": [
      {
       "ename": "MemoryError",
       "evalue": "",
       "output_type": "pyerr",
       "traceback": [
        "\u001b[1;31m---------------------------------------------------------------------------\u001b[0m\n\u001b[1;31mMemoryError\u001b[0m                               Traceback (most recent call last)",
        "\u001b[1;32m<ipython-input-146-4a0161e280b7>\u001b[0m in \u001b[0;36m<module>\u001b[1;34m()\u001b[0m\n\u001b[0;32m      1\u001b[0m \u001b[0meqs\u001b[0m \u001b[1;33m=\u001b[0m \u001b[1;33m(\u001b[0m\u001b[0mb\u001b[0m \u001b[1;32mfor\u001b[0m \u001b[0mb\u001b[0m \u001b[1;32min\u001b[0m \u001b[0mbeta\u001b[0m\u001b[1;33m)\u001b[0m\u001b[1;33m\u001b[0m\u001b[0m\n\u001b[1;32m----> 2\u001b[1;33m \u001b[0msolve\u001b[0m\u001b[1;33m(\u001b[0m\u001b[1;33m(\u001b[0m\u001b[0mbeta\u001b[0m\u001b[1;33m[\u001b[0m\u001b[1;34m'g1'\u001b[0m\u001b[1;33m]\u001b[0m\u001b[1;33m,\u001b[0m \u001b[0mbeta\u001b[0m\u001b[1;33m[\u001b[0m\u001b[1;34m'g2'\u001b[0m\u001b[1;33m]\u001b[0m\u001b[1;33m,\u001b[0m \u001b[0mbeta\u001b[0m\u001b[1;33m[\u001b[0m\u001b[1;34m'u1'\u001b[0m\u001b[1;33m]\u001b[0m\u001b[1;33m,\u001b[0m \u001b[0mbeta\u001b[0m\u001b[1;33m[\u001b[0m\u001b[1;34m'u2'\u001b[0m\u001b[1;33m]\u001b[0m\u001b[1;33m,\u001b[0m \u001b[0mbeta\u001b[0m\u001b[1;33m[\u001b[0m\u001b[1;34m'a'\u001b[0m\u001b[1;33m]\u001b[0m\u001b[1;33m)\u001b[0m\u001b[1;33m,\u001b[0m \u001b[0mg1\u001b[0m\u001b[1;33m,\u001b[0m \u001b[0mg2\u001b[0m\u001b[1;33m,\u001b[0m \u001b[0mu1\u001b[0m\u001b[1;33m,\u001b[0m \u001b[0mu2\u001b[0m\u001b[1;33m,\u001b[0m \u001b[0ma\u001b[0m\u001b[1;33m)\u001b[0m\u001b[1;33m\u001b[0m\u001b[0m\n\u001b[0m",
        "\u001b[1;32m/usr/lib/python2.7/site-packages/sympy/solvers/solvers.pyc\u001b[0m in \u001b[0;36msolve\u001b[1;34m(f, *symbols, **flags)\u001b[0m\n\u001b[0;32m    885\u001b[0m         \u001b[0msolution\u001b[0m \u001b[1;33m=\u001b[0m \u001b[0m_solve\u001b[0m\u001b[1;33m(\u001b[0m\u001b[0mf\u001b[0m\u001b[1;33m[\u001b[0m\u001b[1;36m0\u001b[0m\u001b[1;33m]\u001b[0m\u001b[1;33m,\u001b[0m \u001b[1;33m*\u001b[0m\u001b[0msymbols\u001b[0m\u001b[1;33m,\u001b[0m \u001b[1;33m**\u001b[0m\u001b[0mflags\u001b[0m\u001b[1;33m)\u001b[0m\u001b[1;33m\u001b[0m\u001b[0m\n\u001b[0;32m    886\u001b[0m     \u001b[1;32melse\u001b[0m\u001b[1;33m:\u001b[0m\u001b[1;33m\u001b[0m\u001b[0m\n\u001b[1;32m--> 887\u001b[1;33m         \u001b[0msolution\u001b[0m \u001b[1;33m=\u001b[0m \u001b[0m_solve_system\u001b[0m\u001b[1;33m(\u001b[0m\u001b[0mf\u001b[0m\u001b[1;33m,\u001b[0m \u001b[0msymbols\u001b[0m\u001b[1;33m,\u001b[0m \u001b[1;33m**\u001b[0m\u001b[0mflags\u001b[0m\u001b[1;33m)\u001b[0m\u001b[1;33m\u001b[0m\u001b[0m\n\u001b[0m\u001b[0;32m    888\u001b[0m \u001b[1;33m\u001b[0m\u001b[0m\n\u001b[0;32m    889\u001b[0m     \u001b[1;31m#\u001b[0m\u001b[1;33m\u001b[0m\u001b[1;33m\u001b[0m\u001b[0m\n",
        "\u001b[1;32m/usr/lib/python2.7/site-packages/sympy/solvers/solvers.pyc\u001b[0m in \u001b[0;36m_solve_system\u001b[1;34m(exprs, symbols, **flags)\u001b[0m\n\u001b[0;32m   1493\u001b[0m             \u001b[1;32melse\u001b[0m\u001b[1;33m:\u001b[0m\u001b[1;33m\u001b[0m\u001b[0m\n\u001b[0;32m   1494\u001b[0m                 \u001b[1;32mtry\u001b[0m\u001b[1;33m:\u001b[0m\u001b[1;33m\u001b[0m\u001b[0m\n\u001b[1;32m-> 1495\u001b[1;33m                     \u001b[0mresult\u001b[0m \u001b[1;33m=\u001b[0m \u001b[0msolve_poly_system\u001b[0m\u001b[1;33m(\u001b[0m\u001b[0mpolys\u001b[0m\u001b[1;33m,\u001b[0m \u001b[1;33m*\u001b[0m\u001b[0msymbols\u001b[0m\u001b[1;33m)\u001b[0m\u001b[1;33m\u001b[0m\u001b[0m\n\u001b[0m\u001b[0;32m   1496\u001b[0m                     \u001b[0msolved_syms\u001b[0m \u001b[1;33m=\u001b[0m \u001b[0msymbols\u001b[0m\u001b[1;33m\u001b[0m\u001b[0m\n\u001b[0;32m   1497\u001b[0m                 \u001b[1;32mexcept\u001b[0m \u001b[0mNotImplementedError\u001b[0m\u001b[1;33m:\u001b[0m\u001b[1;33m\u001b[0m\u001b[0m\n",
        "\u001b[1;32m/usr/lib/python2.7/site-packages/sympy/solvers/polysys.pyc\u001b[0m in \u001b[0;36msolve_poly_system\u001b[1;34m(seq, *gens, **args)\u001b[0m\n\u001b[0;32m     45\u001b[0m                 \u001b[1;32mpass\u001b[0m\u001b[1;33m\u001b[0m\u001b[0m\n\u001b[0;32m     46\u001b[0m \u001b[1;33m\u001b[0m\u001b[0m\n\u001b[1;32m---> 47\u001b[1;33m     \u001b[1;32mreturn\u001b[0m \u001b[0msolve_generic\u001b[0m\u001b[1;33m(\u001b[0m\u001b[0mpolys\u001b[0m\u001b[1;33m,\u001b[0m \u001b[0mopt\u001b[0m\u001b[1;33m)\u001b[0m\u001b[1;33m\u001b[0m\u001b[0m\n\u001b[0m\u001b[0;32m     48\u001b[0m \u001b[1;33m\u001b[0m\u001b[0m\n\u001b[0;32m     49\u001b[0m \u001b[1;33m\u001b[0m\u001b[0m\n",
        "\u001b[1;32m/usr/lib/python2.7/site-packages/sympy/solvers/polysys.pyc\u001b[0m in \u001b[0;36msolve_generic\u001b[1;34m(polys, opt)\u001b[0m\n\u001b[0;32m    224\u001b[0m \u001b[1;33m\u001b[0m\u001b[0m\n\u001b[0;32m    225\u001b[0m     \u001b[1;32mtry\u001b[0m\u001b[1;33m:\u001b[0m\u001b[1;33m\u001b[0m\u001b[0m\n\u001b[1;32m--> 226\u001b[1;33m         \u001b[0mresult\u001b[0m \u001b[1;33m=\u001b[0m \u001b[0m_solve_reduced_system\u001b[0m\u001b[1;33m(\u001b[0m\u001b[0mpolys\u001b[0m\u001b[1;33m,\u001b[0m \u001b[0mopt\u001b[0m\u001b[1;33m.\u001b[0m\u001b[0mgens\u001b[0m\u001b[1;33m,\u001b[0m \u001b[0mentry\u001b[0m\u001b[1;33m=\u001b[0m\u001b[0mTrue\u001b[0m\u001b[1;33m)\u001b[0m\u001b[1;33m\u001b[0m\u001b[0m\n\u001b[0m\u001b[0;32m    227\u001b[0m     \u001b[1;32mexcept\u001b[0m \u001b[0mCoercionFailed\u001b[0m\u001b[1;33m:\u001b[0m\u001b[1;33m\u001b[0m\u001b[0m\n\u001b[0;32m    228\u001b[0m         \u001b[1;32mraise\u001b[0m \u001b[0mNotImplementedError\u001b[0m\u001b[1;33m\u001b[0m\u001b[0m\n",
        "\u001b[1;32m/usr/lib/python2.7/site-packages/sympy/solvers/polysys.pyc\u001b[0m in \u001b[0;36m_solve_reduced_system\u001b[1;34m(system, gens, entry)\u001b[0m\n\u001b[0;32m    180\u001b[0m             \u001b[1;32mreturn\u001b[0m \u001b[1;33m[\u001b[0m \u001b[1;33m(\u001b[0m\u001b[0mzero\u001b[0m\u001b[1;33m,\u001b[0m\u001b[1;33m)\u001b[0m \u001b[1;32mfor\u001b[0m \u001b[0mzero\u001b[0m \u001b[1;32min\u001b[0m \u001b[0mzeros\u001b[0m \u001b[1;33m]\u001b[0m\u001b[1;33m\u001b[0m\u001b[0m\n\u001b[0;32m    181\u001b[0m \u001b[1;33m\u001b[0m\u001b[0m\n\u001b[1;32m--> 182\u001b[1;33m         \u001b[0mbasis\u001b[0m \u001b[1;33m=\u001b[0m \u001b[0mgroebner\u001b[0m\u001b[1;33m(\u001b[0m\u001b[0msystem\u001b[0m\u001b[1;33m,\u001b[0m \u001b[0mgens\u001b[0m\u001b[1;33m,\u001b[0m \u001b[0mpolys\u001b[0m\u001b[1;33m=\u001b[0m\u001b[0mTrue\u001b[0m\u001b[1;33m)\u001b[0m\u001b[1;33m\u001b[0m\u001b[0m\n\u001b[0m\u001b[0;32m    183\u001b[0m \u001b[1;33m\u001b[0m\u001b[0m\n\u001b[0;32m    184\u001b[0m         \u001b[1;32mif\u001b[0m \u001b[0mlen\u001b[0m\u001b[1;33m(\u001b[0m\u001b[0mbasis\u001b[0m\u001b[1;33m)\u001b[0m \u001b[1;33m==\u001b[0m \u001b[1;36m1\u001b[0m \u001b[1;32mand\u001b[0m \u001b[0mbasis\u001b[0m\u001b[1;33m[\u001b[0m\u001b[1;36m0\u001b[0m\u001b[1;33m]\u001b[0m\u001b[1;33m.\u001b[0m\u001b[0mis_ground\u001b[0m\u001b[1;33m:\u001b[0m\u001b[1;33m\u001b[0m\u001b[0m\n",
        "\u001b[1;32m/usr/lib/python2.7/site-packages/sympy/polys/polytools.pyc\u001b[0m in \u001b[0;36mgroebner\u001b[1;34m(F, *gens, **args)\u001b[0m\n\u001b[0;32m   6110\u001b[0m \u001b[1;33m\u001b[0m\u001b[0m\n\u001b[0;32m   6111\u001b[0m     \"\"\"\n\u001b[1;32m-> 6112\u001b[1;33m     \u001b[1;32mreturn\u001b[0m \u001b[0mGroebnerBasis\u001b[0m\u001b[1;33m(\u001b[0m\u001b[0mF\u001b[0m\u001b[1;33m,\u001b[0m \u001b[1;33m*\u001b[0m\u001b[0mgens\u001b[0m\u001b[1;33m,\u001b[0m \u001b[1;33m**\u001b[0m\u001b[0margs\u001b[0m\u001b[1;33m)\u001b[0m\u001b[1;33m\u001b[0m\u001b[0m\n\u001b[0m\u001b[0;32m   6113\u001b[0m \u001b[1;33m\u001b[0m\u001b[0m\n\u001b[0;32m   6114\u001b[0m \u001b[1;33m\u001b[0m\u001b[0m\n",
        "\u001b[1;32m/usr/lib/python2.7/site-packages/sympy/polys/polytools.pyc\u001b[0m in \u001b[0;36m__new__\u001b[1;34m(cls, F, *gens, **args)\u001b[0m\n\u001b[0;32m   6158\u001b[0m             \u001b[0mpolys\u001b[0m\u001b[1;33m[\u001b[0m\u001b[0mi\u001b[0m\u001b[1;33m]\u001b[0m \u001b[1;33m=\u001b[0m \u001b[0m_ring\u001b[0m\u001b[1;33m.\u001b[0m\u001b[0mfrom_dict\u001b[0m\u001b[1;33m(\u001b[0m\u001b[0mpoly\u001b[0m\u001b[1;33m)\u001b[0m\u001b[1;33m\u001b[0m\u001b[0m\n\u001b[0;32m   6159\u001b[0m \u001b[1;33m\u001b[0m\u001b[0m\n\u001b[1;32m-> 6160\u001b[1;33m         \u001b[0mG\u001b[0m \u001b[1;33m=\u001b[0m \u001b[0m_groebner\u001b[0m\u001b[1;33m(\u001b[0m\u001b[0mpolys\u001b[0m\u001b[1;33m,\u001b[0m \u001b[0m_ring\u001b[0m\u001b[1;33m,\u001b[0m \u001b[0mmethod\u001b[0m\u001b[1;33m=\u001b[0m\u001b[0mopt\u001b[0m\u001b[1;33m.\u001b[0m\u001b[0mmethod\u001b[0m\u001b[1;33m)\u001b[0m\u001b[1;33m\u001b[0m\u001b[0m\n\u001b[0m\u001b[0;32m   6161\u001b[0m         \u001b[0mG\u001b[0m \u001b[1;33m=\u001b[0m \u001b[1;33m[\u001b[0m \u001b[0mPoly\u001b[0m\u001b[1;33m.\u001b[0m\u001b[0m_from_dict\u001b[0m\u001b[1;33m(\u001b[0m\u001b[0mg\u001b[0m\u001b[1;33m,\u001b[0m \u001b[0mopt\u001b[0m\u001b[1;33m)\u001b[0m \u001b[1;32mfor\u001b[0m \u001b[0mg\u001b[0m \u001b[1;32min\u001b[0m \u001b[0mG\u001b[0m \u001b[1;33m]\u001b[0m\u001b[1;33m\u001b[0m\u001b[0m\n\u001b[0;32m   6162\u001b[0m \u001b[1;33m\u001b[0m\u001b[0m\n",
        "\u001b[1;32m/usr/lib/python2.7/site-packages/sympy/polys/groebnertools.pyc\u001b[0m in \u001b[0;36mgroebner\u001b[1;34m(seq, ring, method)\u001b[0m\n\u001b[0;32m     39\u001b[0m             \u001b[0mseq\u001b[0m \u001b[1;33m=\u001b[0m \u001b[1;33m[\u001b[0m \u001b[0ms\u001b[0m\u001b[1;33m.\u001b[0m\u001b[0mset_ring\u001b[0m\u001b[1;33m(\u001b[0m\u001b[0mring\u001b[0m\u001b[1;33m)\u001b[0m \u001b[1;32mfor\u001b[0m \u001b[0ms\u001b[0m \u001b[1;32min\u001b[0m \u001b[0mseq\u001b[0m \u001b[1;33m]\u001b[0m\u001b[1;33m\u001b[0m\u001b[0m\n\u001b[0;32m     40\u001b[0m \u001b[1;33m\u001b[0m\u001b[0m\n\u001b[1;32m---> 41\u001b[1;33m     \u001b[0mG\u001b[0m \u001b[1;33m=\u001b[0m \u001b[0m_groebner\u001b[0m\u001b[1;33m(\u001b[0m\u001b[0mseq\u001b[0m\u001b[1;33m,\u001b[0m \u001b[0mring\u001b[0m\u001b[1;33m)\u001b[0m\u001b[1;33m\u001b[0m\u001b[0m\n\u001b[0m\u001b[0;32m     42\u001b[0m \u001b[1;33m\u001b[0m\u001b[0m\n\u001b[0;32m     43\u001b[0m     \u001b[1;32mif\u001b[0m \u001b[0morig\u001b[0m \u001b[1;32mis\u001b[0m \u001b[1;32mnot\u001b[0m \u001b[0mNone\u001b[0m\u001b[1;33m:\u001b[0m\u001b[1;33m\u001b[0m\u001b[0m\n",
        "\u001b[1;32m/usr/lib/python2.7/site-packages/sympy/polys/groebnertools.pyc\u001b[0m in \u001b[0;36m_buchberger\u001b[1;34m(f, ring)\u001b[0m\n\u001b[0;32m    228\u001b[0m         \u001b[1;31m# ordering divisors is on average more efficient [Cox] page 111\u001b[0m\u001b[1;33m\u001b[0m\u001b[1;33m\u001b[0m\u001b[0m\n\u001b[0;32m    229\u001b[0m         \u001b[0mG1\u001b[0m \u001b[1;33m=\u001b[0m \u001b[0msorted\u001b[0m\u001b[1;33m(\u001b[0m\u001b[0mG\u001b[0m\u001b[1;33m,\u001b[0m \u001b[0mkey\u001b[0m\u001b[1;33m=\u001b[0m\u001b[1;32mlambda\u001b[0m \u001b[0mg\u001b[0m\u001b[1;33m:\u001b[0m \u001b[0morder\u001b[0m\u001b[1;33m(\u001b[0m\u001b[0mf\u001b[0m\u001b[1;33m[\u001b[0m\u001b[0mg\u001b[0m\u001b[1;33m]\u001b[0m\u001b[1;33m.\u001b[0m\u001b[0mLM\u001b[0m\u001b[1;33m)\u001b[0m\u001b[1;33m)\u001b[0m\u001b[1;33m\u001b[0m\u001b[0m\n\u001b[1;32m--> 230\u001b[1;33m         \u001b[0mht\u001b[0m \u001b[1;33m=\u001b[0m \u001b[0mnormal\u001b[0m\u001b[1;33m(\u001b[0m\u001b[0mh\u001b[0m\u001b[1;33m,\u001b[0m \u001b[0mG1\u001b[0m\u001b[1;33m)\u001b[0m\u001b[1;33m\u001b[0m\u001b[0m\n\u001b[0m\u001b[0;32m    231\u001b[0m \u001b[1;33m\u001b[0m\u001b[0m\n\u001b[0;32m    232\u001b[0m         \u001b[1;32mif\u001b[0m \u001b[0mht\u001b[0m\u001b[1;33m:\u001b[0m\u001b[1;33m\u001b[0m\u001b[0m\n",
        "\u001b[1;32m/usr/lib/python2.7/site-packages/sympy/polys/groebnertools.pyc\u001b[0m in \u001b[0;36mnormal\u001b[1;34m(g, J)\u001b[0m\n\u001b[0;32m     94\u001b[0m \u001b[1;33m\u001b[0m\u001b[0m\n\u001b[0;32m     95\u001b[0m     \u001b[1;32mdef\u001b[0m \u001b[0mnormal\u001b[0m\u001b[1;33m(\u001b[0m\u001b[0mg\u001b[0m\u001b[1;33m,\u001b[0m \u001b[0mJ\u001b[0m\u001b[1;33m)\u001b[0m\u001b[1;33m:\u001b[0m\u001b[1;33m\u001b[0m\u001b[0m\n\u001b[1;32m---> 96\u001b[1;33m         \u001b[0mh\u001b[0m \u001b[1;33m=\u001b[0m \u001b[0mg\u001b[0m\u001b[1;33m.\u001b[0m\u001b[0mrem\u001b[0m\u001b[1;33m(\u001b[0m\u001b[1;33m[\u001b[0m \u001b[0mf\u001b[0m\u001b[1;33m[\u001b[0m\u001b[0mj\u001b[0m\u001b[1;33m]\u001b[0m \u001b[1;32mfor\u001b[0m \u001b[0mj\u001b[0m \u001b[1;32min\u001b[0m \u001b[0mJ\u001b[0m \u001b[1;33m]\u001b[0m\u001b[1;33m)\u001b[0m\u001b[1;33m\u001b[0m\u001b[0m\n\u001b[0m\u001b[0;32m     97\u001b[0m \u001b[1;33m\u001b[0m\u001b[0m\n\u001b[0;32m     98\u001b[0m         \u001b[1;32mif\u001b[0m \u001b[1;32mnot\u001b[0m \u001b[0mh\u001b[0m\u001b[1;33m:\u001b[0m\u001b[1;33m\u001b[0m\u001b[0m\n",
        "\u001b[1;32m/usr/lib/python2.7/site-packages/sympy/polys/rings.pyc\u001b[0m in \u001b[0;36mrem\u001b[1;34m(f, G)\u001b[0m\n\u001b[0;32m    958\u001b[0m                     \u001b[1;32mfor\u001b[0m \u001b[0mmg\u001b[0m\u001b[1;33m,\u001b[0m \u001b[0mcg\u001b[0m \u001b[1;32min\u001b[0m \u001b[0mg\u001b[0m\u001b[1;33m.\u001b[0m\u001b[0mterms\u001b[0m\u001b[1;33m(\u001b[0m\u001b[1;33m)\u001b[0m\u001b[1;33m:\u001b[0m\u001b[1;33m\u001b[0m\u001b[0m\n\u001b[0;32m    959\u001b[0m                         \u001b[0mm1\u001b[0m \u001b[1;33m=\u001b[0m \u001b[0mmonomial_mul\u001b[0m\u001b[1;33m(\u001b[0m\u001b[0mmg\u001b[0m\u001b[1;33m,\u001b[0m \u001b[0mm\u001b[0m\u001b[1;33m)\u001b[0m\u001b[1;33m\u001b[0m\u001b[0m\n\u001b[1;32m--> 960\u001b[1;33m                         \u001b[0mc1\u001b[0m \u001b[1;33m=\u001b[0m \u001b[0mget\u001b[0m\u001b[1;33m(\u001b[0m\u001b[0mm1\u001b[0m\u001b[1;33m,\u001b[0m \u001b[1;36m0\u001b[0m\u001b[1;33m)\u001b[0m \u001b[1;33m-\u001b[0m \u001b[0mc\u001b[0m\u001b[1;33m*\u001b[0m\u001b[0mcg\u001b[0m\u001b[1;33m\u001b[0m\u001b[0m\n\u001b[0m\u001b[0;32m    961\u001b[0m                         \u001b[1;32mif\u001b[0m \u001b[1;32mnot\u001b[0m \u001b[0mc1\u001b[0m\u001b[1;33m:\u001b[0m\u001b[1;33m\u001b[0m\u001b[0m\n\u001b[0;32m    962\u001b[0m                             \u001b[1;32mdel\u001b[0m \u001b[0mf\u001b[0m\u001b[1;33m[\u001b[0m\u001b[0mm1\u001b[0m\u001b[1;33m]\u001b[0m\u001b[1;33m\u001b[0m\u001b[0m\n",
        "\u001b[1;32m/usr/lib/python2.7/site-packages/sympy/polys/polyclasses.pyc\u001b[0m in \u001b[0;36m__sub__\u001b[1;34m(f, g)\u001b[0m\n\u001b[0;32m   1325\u001b[0m     \u001b[1;32mdef\u001b[0m \u001b[0m__sub__\u001b[0m\u001b[1;33m(\u001b[0m\u001b[0mf\u001b[0m\u001b[1;33m,\u001b[0m \u001b[0mg\u001b[0m\u001b[1;33m)\u001b[0m\u001b[1;33m:\u001b[0m\u001b[1;33m\u001b[0m\u001b[0m\n\u001b[0;32m   1326\u001b[0m         \u001b[1;32mif\u001b[0m \u001b[0misinstance\u001b[0m\u001b[1;33m(\u001b[0m\u001b[0mg\u001b[0m\u001b[1;33m,\u001b[0m \u001b[1;33m(\u001b[0m\u001b[0mDMP\u001b[0m\u001b[1;33m,\u001b[0m \u001b[0mDMF\u001b[0m\u001b[1;33m)\u001b[0m\u001b[1;33m)\u001b[0m\u001b[1;33m:\u001b[0m\u001b[1;33m\u001b[0m\u001b[0m\n\u001b[1;32m-> 1327\u001b[1;33m             \u001b[1;32mreturn\u001b[0m \u001b[0mf\u001b[0m\u001b[1;33m.\u001b[0m\u001b[0msub\u001b[0m\u001b[1;33m(\u001b[0m\u001b[0mg\u001b[0m\u001b[1;33m)\u001b[0m\u001b[1;33m\u001b[0m\u001b[0m\n\u001b[0m\u001b[0;32m   1328\u001b[0m \u001b[1;33m\u001b[0m\u001b[0m\n\u001b[0;32m   1329\u001b[0m         \u001b[1;32mtry\u001b[0m\u001b[1;33m:\u001b[0m\u001b[1;33m\u001b[0m\u001b[0m\n",
        "\u001b[1;32m/usr/lib/python2.7/site-packages/sympy/polys/polyclasses.pyc\u001b[0m in \u001b[0;36msub\u001b[1;34m(f, g)\u001b[0m\n\u001b[0;32m   1239\u001b[0m             \u001b[0mden\u001b[0m \u001b[1;33m=\u001b[0m \u001b[0mdmp_mul\u001b[0m\u001b[1;33m(\u001b[0m\u001b[0mF_den\u001b[0m\u001b[1;33m,\u001b[0m \u001b[0mG_den\u001b[0m\u001b[1;33m,\u001b[0m \u001b[0mlev\u001b[0m\u001b[1;33m,\u001b[0m \u001b[0mdom\u001b[0m\u001b[1;33m)\u001b[0m\u001b[1;33m\u001b[0m\u001b[0m\n\u001b[0;32m   1240\u001b[0m \u001b[1;33m\u001b[0m\u001b[0m\n\u001b[1;32m-> 1241\u001b[1;33m         \u001b[1;32mreturn\u001b[0m \u001b[0mper\u001b[0m\u001b[1;33m(\u001b[0m\u001b[0mnum\u001b[0m\u001b[1;33m,\u001b[0m \u001b[0mden\u001b[0m\u001b[1;33m)\u001b[0m\u001b[1;33m\u001b[0m\u001b[0m\n\u001b[0m\u001b[0;32m   1242\u001b[0m \u001b[1;33m\u001b[0m\u001b[0m\n\u001b[0;32m   1243\u001b[0m     \u001b[1;32mdef\u001b[0m \u001b[0mmul\u001b[0m\u001b[1;33m(\u001b[0m\u001b[0mf\u001b[0m\u001b[1;33m,\u001b[0m \u001b[0mg\u001b[0m\u001b[1;33m)\u001b[0m\u001b[1;33m:\u001b[0m\u001b[1;33m\u001b[0m\u001b[0m\n",
        "\u001b[1;32m/usr/lib/python2.7/site-packages/sympy/polys/polyclasses.pyc\u001b[0m in \u001b[0;36mper\u001b[1;34m(f, num, den, cancel, kill, ring)\u001b[0m\n\u001b[0;32m   1168\u001b[0m \u001b[1;33m\u001b[0m\u001b[0m\n\u001b[0;32m   1169\u001b[0m         \u001b[1;32mif\u001b[0m \u001b[0mcancel\u001b[0m\u001b[1;33m:\u001b[0m\u001b[1;33m\u001b[0m\u001b[0m\n\u001b[1;32m-> 1170\u001b[1;33m             \u001b[0mnum\u001b[0m\u001b[1;33m,\u001b[0m \u001b[0mden\u001b[0m \u001b[1;33m=\u001b[0m \u001b[0mdmp_cancel\u001b[0m\u001b[1;33m(\u001b[0m\u001b[0mnum\u001b[0m\u001b[1;33m,\u001b[0m \u001b[0mden\u001b[0m\u001b[1;33m,\u001b[0m \u001b[0mlev\u001b[0m\u001b[1;33m,\u001b[0m \u001b[0mdom\u001b[0m\u001b[1;33m)\u001b[0m\u001b[1;33m\u001b[0m\u001b[0m\n\u001b[0m\u001b[0;32m   1171\u001b[0m \u001b[1;33m\u001b[0m\u001b[0m\n\u001b[0;32m   1172\u001b[0m         \u001b[1;32mif\u001b[0m \u001b[0mring\u001b[0m \u001b[1;32mis\u001b[0m \u001b[0mNone\u001b[0m\u001b[1;33m:\u001b[0m\u001b[1;33m\u001b[0m\u001b[0m\n",
        "\u001b[1;32m/usr/lib/python2.7/site-packages/sympy/polys/euclidtools.pyc\u001b[0m in \u001b[0;36mdmp_cancel\u001b[1;34m(f, g, u, K, include)\u001b[0m\n\u001b[0;32m   1905\u001b[0m         \u001b[0mcp\u001b[0m\u001b[1;33m,\u001b[0m \u001b[0mcq\u001b[0m \u001b[1;33m=\u001b[0m \u001b[0mK\u001b[0m\u001b[1;33m.\u001b[0m\u001b[0mone\u001b[0m\u001b[1;33m,\u001b[0m \u001b[0mK\u001b[0m\u001b[1;33m.\u001b[0m\u001b[0mone\u001b[0m\u001b[1;33m\u001b[0m\u001b[0m\n\u001b[0;32m   1906\u001b[0m \u001b[1;33m\u001b[0m\u001b[0m\n\u001b[1;32m-> 1907\u001b[1;33m     \u001b[0m_\u001b[0m\u001b[1;33m,\u001b[0m \u001b[0mp\u001b[0m\u001b[1;33m,\u001b[0m \u001b[0mq\u001b[0m \u001b[1;33m=\u001b[0m \u001b[0mdmp_inner_gcd\u001b[0m\u001b[1;33m(\u001b[0m\u001b[0mf\u001b[0m\u001b[1;33m,\u001b[0m \u001b[0mg\u001b[0m\u001b[1;33m,\u001b[0m \u001b[0mu\u001b[0m\u001b[1;33m,\u001b[0m \u001b[0mK\u001b[0m\u001b[1;33m)\u001b[0m\u001b[1;33m\u001b[0m\u001b[0m\n\u001b[0m\u001b[0;32m   1908\u001b[0m \u001b[1;33m\u001b[0m\u001b[0m\n\u001b[0;32m   1909\u001b[0m     \u001b[1;32mif\u001b[0m \u001b[0mK0\u001b[0m \u001b[1;32mis\u001b[0m \u001b[1;32mnot\u001b[0m \u001b[0mNone\u001b[0m\u001b[1;33m:\u001b[0m\u001b[1;33m\u001b[0m\u001b[0m\n",
        "\u001b[1;32m/usr/lib/python2.7/site-packages/sympy/polys/euclidtools.pyc\u001b[0m in \u001b[0;36mdmp_inner_gcd\u001b[1;34m(f, g, u, K)\u001b[0m\n\u001b[0;32m   1616\u001b[0m \u001b[1;33m\u001b[0m\u001b[0m\n\u001b[0;32m   1617\u001b[0m     \u001b[0mJ\u001b[0m\u001b[1;33m,\u001b[0m \u001b[1;33m(\u001b[0m\u001b[0mf\u001b[0m\u001b[1;33m,\u001b[0m \u001b[0mg\u001b[0m\u001b[1;33m)\u001b[0m \u001b[1;33m=\u001b[0m \u001b[0mdmp_multi_deflate\u001b[0m\u001b[1;33m(\u001b[0m\u001b[1;33m(\u001b[0m\u001b[0mf\u001b[0m\u001b[1;33m,\u001b[0m \u001b[0mg\u001b[0m\u001b[1;33m)\u001b[0m\u001b[1;33m,\u001b[0m \u001b[0mu\u001b[0m\u001b[1;33m,\u001b[0m \u001b[0mK\u001b[0m\u001b[1;33m)\u001b[0m\u001b[1;33m\u001b[0m\u001b[0m\n\u001b[1;32m-> 1618\u001b[1;33m     \u001b[0mh\u001b[0m\u001b[1;33m,\u001b[0m \u001b[0mcff\u001b[0m\u001b[1;33m,\u001b[0m \u001b[0mcfg\u001b[0m \u001b[1;33m=\u001b[0m \u001b[0m_dmp_inner_gcd\u001b[0m\u001b[1;33m(\u001b[0m\u001b[0mf\u001b[0m\u001b[1;33m,\u001b[0m \u001b[0mg\u001b[0m\u001b[1;33m,\u001b[0m \u001b[0mu\u001b[0m\u001b[1;33m,\u001b[0m \u001b[0mK\u001b[0m\u001b[1;33m)\u001b[0m\u001b[1;33m\u001b[0m\u001b[0m\n\u001b[0m\u001b[0;32m   1619\u001b[0m \u001b[1;33m\u001b[0m\u001b[0m\n\u001b[0;32m   1620\u001b[0m     return (dmp_inflate(h, J, u, K),\n",
        "\u001b[1;32m/usr/lib/python2.7/site-packages/sympy/polys/euclidtools.pyc\u001b[0m in \u001b[0;36m_dmp_inner_gcd\u001b[1;34m(f, g, u, K)\u001b[0m\n\u001b[0;32m   1584\u001b[0m         \u001b[1;32mif\u001b[0m \u001b[0mK\u001b[0m\u001b[1;33m.\u001b[0m\u001b[0mis_ZZ\u001b[0m \u001b[1;32mand\u001b[0m \u001b[0mquery\u001b[0m\u001b[1;33m(\u001b[0m\u001b[1;34m'USE_HEU_GCD'\u001b[0m\u001b[1;33m)\u001b[0m\u001b[1;33m:\u001b[0m\u001b[1;33m\u001b[0m\u001b[0m\n\u001b[0;32m   1585\u001b[0m             \u001b[1;32mtry\u001b[0m\u001b[1;33m:\u001b[0m\u001b[1;33m\u001b[0m\u001b[0m\n\u001b[1;32m-> 1586\u001b[1;33m                 \u001b[1;32mreturn\u001b[0m \u001b[0mdmp_zz_heu_gcd\u001b[0m\u001b[1;33m(\u001b[0m\u001b[0mf\u001b[0m\u001b[1;33m,\u001b[0m \u001b[0mg\u001b[0m\u001b[1;33m,\u001b[0m \u001b[0mu\u001b[0m\u001b[1;33m,\u001b[0m \u001b[0mK\u001b[0m\u001b[1;33m)\u001b[0m\u001b[1;33m\u001b[0m\u001b[0m\n\u001b[0m\u001b[0;32m   1587\u001b[0m             \u001b[1;32mexcept\u001b[0m \u001b[0mHeuristicGCDFailed\u001b[0m\u001b[1;33m:\u001b[0m\u001b[1;33m\u001b[0m\u001b[0m\n\u001b[0;32m   1588\u001b[0m                 \u001b[1;32mpass\u001b[0m\u001b[1;33m\u001b[0m\u001b[0m\n",
        "\u001b[1;32m/usr/lib/python2.7/site-packages/sympy/polys/euclidtools.pyc\u001b[0m in \u001b[0;36mdmp_zz_heu_gcd\u001b[1;34m(f, g, u, K)\u001b[0m\n\u001b[0;32m   1372\u001b[0m         \u001b[1;32mreturn\u001b[0m \u001b[0mdup_zz_heu_gcd\u001b[0m\u001b[1;33m(\u001b[0m\u001b[0mf\u001b[0m\u001b[1;33m,\u001b[0m \u001b[0mg\u001b[0m\u001b[1;33m,\u001b[0m \u001b[0mK\u001b[0m\u001b[1;33m)\u001b[0m\u001b[1;33m\u001b[0m\u001b[0m\n\u001b[0;32m   1373\u001b[0m \u001b[1;33m\u001b[0m\u001b[0m\n\u001b[1;32m-> 1374\u001b[1;33m     \u001b[0mresult\u001b[0m \u001b[1;33m=\u001b[0m \u001b[0m_dmp_rr_trivial_gcd\u001b[0m\u001b[1;33m(\u001b[0m\u001b[0mf\u001b[0m\u001b[1;33m,\u001b[0m \u001b[0mg\u001b[0m\u001b[1;33m,\u001b[0m \u001b[0mu\u001b[0m\u001b[1;33m,\u001b[0m \u001b[0mK\u001b[0m\u001b[1;33m)\u001b[0m\u001b[1;33m\u001b[0m\u001b[0m\n\u001b[0m\u001b[0;32m   1375\u001b[0m \u001b[1;33m\u001b[0m\u001b[0m\n\u001b[0;32m   1376\u001b[0m     \u001b[1;32mif\u001b[0m \u001b[0mresult\u001b[0m \u001b[1;32mis\u001b[0m \u001b[1;32mnot\u001b[0m \u001b[0mNone\u001b[0m\u001b[1;33m:\u001b[0m\u001b[1;33m\u001b[0m\u001b[0m\n",
        "\u001b[1;32m/usr/lib/python2.7/site-packages/sympy/polys/euclidtools.pyc\u001b[0m in \u001b[0;36m_dmp_rr_trivial_gcd\u001b[1;34m(f, g, u, K)\u001b[0m\n\u001b[0;32m    965\u001b[0m             \u001b[1;32mreturn\u001b[0m \u001b[0mdmp_neg\u001b[0m\u001b[1;33m(\u001b[0m\u001b[0mf\u001b[0m\u001b[1;33m,\u001b[0m \u001b[0mu\u001b[0m\u001b[1;33m,\u001b[0m \u001b[0mK\u001b[0m\u001b[1;33m)\u001b[0m\u001b[1;33m,\u001b[0m \u001b[0mdmp_ground\u001b[0m\u001b[1;33m(\u001b[0m\u001b[1;33m-\u001b[0m\u001b[0mK\u001b[0m\u001b[1;33m.\u001b[0m\u001b[0mone\u001b[0m\u001b[1;33m,\u001b[0m \u001b[0mu\u001b[0m\u001b[1;33m)\u001b[0m\u001b[1;33m,\u001b[0m \u001b[0mdmp_zero\u001b[0m\u001b[1;33m(\u001b[0m\u001b[0mu\u001b[0m\u001b[1;33m)\u001b[0m\u001b[1;33m\u001b[0m\u001b[0m\n\u001b[0;32m    966\u001b[0m     \u001b[1;32melif\u001b[0m \u001b[0mquery\u001b[0m\u001b[1;33m(\u001b[0m\u001b[1;34m'USE_SIMPLIFY_GCD'\u001b[0m\u001b[1;33m)\u001b[0m\u001b[1;33m:\u001b[0m\u001b[1;33m\u001b[0m\u001b[0m\n\u001b[1;32m--> 967\u001b[1;33m         \u001b[1;32mreturn\u001b[0m \u001b[0m_dmp_simplify_gcd\u001b[0m\u001b[1;33m(\u001b[0m\u001b[0mf\u001b[0m\u001b[1;33m,\u001b[0m \u001b[0mg\u001b[0m\u001b[1;33m,\u001b[0m \u001b[0mu\u001b[0m\u001b[1;33m,\u001b[0m \u001b[0mK\u001b[0m\u001b[1;33m)\u001b[0m\u001b[1;33m\u001b[0m\u001b[0m\n\u001b[0m\u001b[0;32m    968\u001b[0m     \u001b[1;32melse\u001b[0m\u001b[1;33m:\u001b[0m\u001b[1;33m\u001b[0m\u001b[0m\n\u001b[0;32m    969\u001b[0m         \u001b[1;32mreturn\u001b[0m \u001b[0mNone\u001b[0m\u001b[1;33m\u001b[0m\u001b[0m\n",
        "\u001b[1;32m/usr/lib/python2.7/site-packages/sympy/polys/euclidtools.pyc\u001b[0m in \u001b[0;36m_dmp_simplify_gcd\u001b[1;34m(f, g, u, K)\u001b[0m\n\u001b[0;32m   1013\u001b[0m \u001b[1;33m\u001b[0m\u001b[0m\n\u001b[0;32m   1014\u001b[0m     \u001b[0mv\u001b[0m \u001b[1;33m=\u001b[0m \u001b[0mu\u001b[0m \u001b[1;33m-\u001b[0m \u001b[1;36m1\u001b[0m\u001b[1;33m\u001b[0m\u001b[0m\n\u001b[1;32m-> 1015\u001b[1;33m     \u001b[0mh\u001b[0m \u001b[1;33m=\u001b[0m \u001b[0mdmp_gcd\u001b[0m\u001b[1;33m(\u001b[0m\u001b[0mF\u001b[0m\u001b[1;33m,\u001b[0m \u001b[0mG\u001b[0m\u001b[1;33m,\u001b[0m \u001b[0mv\u001b[0m\u001b[1;33m,\u001b[0m \u001b[0mK\u001b[0m\u001b[1;33m)\u001b[0m\u001b[1;33m\u001b[0m\u001b[0m\n\u001b[0m\u001b[0;32m   1016\u001b[0m \u001b[1;33m\u001b[0m\u001b[0m\n\u001b[0;32m   1017\u001b[0m     \u001b[0mcff\u001b[0m \u001b[1;33m=\u001b[0m \u001b[1;33m[\u001b[0m \u001b[0mdmp_quo\u001b[0m\u001b[1;33m(\u001b[0m\u001b[0mcf\u001b[0m\u001b[1;33m,\u001b[0m \u001b[0mh\u001b[0m\u001b[1;33m,\u001b[0m \u001b[0mv\u001b[0m\u001b[1;33m,\u001b[0m \u001b[0mK\u001b[0m\u001b[1;33m)\u001b[0m \u001b[1;32mfor\u001b[0m \u001b[0mcf\u001b[0m \u001b[1;32min\u001b[0m \u001b[0mf\u001b[0m \u001b[1;33m]\u001b[0m\u001b[1;33m\u001b[0m\u001b[0m\n",
        "\u001b[1;32m/usr/lib/python2.7/site-packages/sympy/polys/euclidtools.pyc\u001b[0m in \u001b[0;36mdmp_gcd\u001b[1;34m(f, g, u, K)\u001b[0m\n\u001b[0;32m   1658\u001b[0m \u001b[1;33m\u001b[0m\u001b[0m\n\u001b[0;32m   1659\u001b[0m     \"\"\"\n\u001b[1;32m-> 1660\u001b[1;33m     \u001b[1;32mreturn\u001b[0m \u001b[0mdmp_inner_gcd\u001b[0m\u001b[1;33m(\u001b[0m\u001b[0mf\u001b[0m\u001b[1;33m,\u001b[0m \u001b[0mg\u001b[0m\u001b[1;33m,\u001b[0m \u001b[0mu\u001b[0m\u001b[1;33m,\u001b[0m \u001b[0mK\u001b[0m\u001b[1;33m)\u001b[0m\u001b[1;33m[\u001b[0m\u001b[1;36m0\u001b[0m\u001b[1;33m]\u001b[0m\u001b[1;33m\u001b[0m\u001b[0m\n\u001b[0m\u001b[0;32m   1661\u001b[0m \u001b[1;33m\u001b[0m\u001b[0m\n\u001b[0;32m   1662\u001b[0m \u001b[1;33m\u001b[0m\u001b[0m\n",
        "\u001b[1;32m/usr/lib/python2.7/site-packages/sympy/polys/euclidtools.pyc\u001b[0m in \u001b[0;36mdmp_inner_gcd\u001b[1;34m(f, g, u, K)\u001b[0m\n\u001b[0;32m   1616\u001b[0m \u001b[1;33m\u001b[0m\u001b[0m\n\u001b[0;32m   1617\u001b[0m     \u001b[0mJ\u001b[0m\u001b[1;33m,\u001b[0m \u001b[1;33m(\u001b[0m\u001b[0mf\u001b[0m\u001b[1;33m,\u001b[0m \u001b[0mg\u001b[0m\u001b[1;33m)\u001b[0m \u001b[1;33m=\u001b[0m \u001b[0mdmp_multi_deflate\u001b[0m\u001b[1;33m(\u001b[0m\u001b[1;33m(\u001b[0m\u001b[0mf\u001b[0m\u001b[1;33m,\u001b[0m \u001b[0mg\u001b[0m\u001b[1;33m)\u001b[0m\u001b[1;33m,\u001b[0m \u001b[0mu\u001b[0m\u001b[1;33m,\u001b[0m \u001b[0mK\u001b[0m\u001b[1;33m)\u001b[0m\u001b[1;33m\u001b[0m\u001b[0m\n\u001b[1;32m-> 1618\u001b[1;33m     \u001b[0mh\u001b[0m\u001b[1;33m,\u001b[0m \u001b[0mcff\u001b[0m\u001b[1;33m,\u001b[0m \u001b[0mcfg\u001b[0m \u001b[1;33m=\u001b[0m \u001b[0m_dmp_inner_gcd\u001b[0m\u001b[1;33m(\u001b[0m\u001b[0mf\u001b[0m\u001b[1;33m,\u001b[0m \u001b[0mg\u001b[0m\u001b[1;33m,\u001b[0m \u001b[0mu\u001b[0m\u001b[1;33m,\u001b[0m \u001b[0mK\u001b[0m\u001b[1;33m)\u001b[0m\u001b[1;33m\u001b[0m\u001b[0m\n\u001b[0m\u001b[0;32m   1619\u001b[0m \u001b[1;33m\u001b[0m\u001b[0m\n\u001b[0;32m   1620\u001b[0m     return (dmp_inflate(h, J, u, K),\n",
        "\u001b[1;32m/usr/lib/python2.7/site-packages/sympy/polys/euclidtools.pyc\u001b[0m in \u001b[0;36m_dmp_inner_gcd\u001b[1;34m(f, g, u, K)\u001b[0m\n\u001b[0;32m   1584\u001b[0m         \u001b[1;32mif\u001b[0m \u001b[0mK\u001b[0m\u001b[1;33m.\u001b[0m\u001b[0mis_ZZ\u001b[0m \u001b[1;32mand\u001b[0m \u001b[0mquery\u001b[0m\u001b[1;33m(\u001b[0m\u001b[1;34m'USE_HEU_GCD'\u001b[0m\u001b[1;33m)\u001b[0m\u001b[1;33m:\u001b[0m\u001b[1;33m\u001b[0m\u001b[0m\n\u001b[0;32m   1585\u001b[0m             \u001b[1;32mtry\u001b[0m\u001b[1;33m:\u001b[0m\u001b[1;33m\u001b[0m\u001b[0m\n\u001b[1;32m-> 1586\u001b[1;33m                 \u001b[1;32mreturn\u001b[0m \u001b[0mdmp_zz_heu_gcd\u001b[0m\u001b[1;33m(\u001b[0m\u001b[0mf\u001b[0m\u001b[1;33m,\u001b[0m \u001b[0mg\u001b[0m\u001b[1;33m,\u001b[0m \u001b[0mu\u001b[0m\u001b[1;33m,\u001b[0m \u001b[0mK\u001b[0m\u001b[1;33m)\u001b[0m\u001b[1;33m\u001b[0m\u001b[0m\n\u001b[0m\u001b[0;32m   1587\u001b[0m             \u001b[1;32mexcept\u001b[0m \u001b[0mHeuristicGCDFailed\u001b[0m\u001b[1;33m:\u001b[0m\u001b[1;33m\u001b[0m\u001b[0m\n\u001b[0;32m   1588\u001b[0m                 \u001b[1;32mpass\u001b[0m\u001b[1;33m\u001b[0m\u001b[0m\n",
        "\u001b[1;32m/usr/lib/python2.7/site-packages/sympy/polys/euclidtools.pyc\u001b[0m in \u001b[0;36mdmp_zz_heu_gcd\u001b[1;34m(f, g, u, K)\u001b[0m\n\u001b[0;32m   1377\u001b[0m         \u001b[1;32mreturn\u001b[0m \u001b[0mresult\u001b[0m\u001b[1;33m\u001b[0m\u001b[0m\n\u001b[0;32m   1378\u001b[0m \u001b[1;33m\u001b[0m\u001b[0m\n\u001b[1;32m-> 1379\u001b[1;33m     \u001b[0mgcd\u001b[0m\u001b[1;33m,\u001b[0m \u001b[0mf\u001b[0m\u001b[1;33m,\u001b[0m \u001b[0mg\u001b[0m \u001b[1;33m=\u001b[0m \u001b[0mdmp_ground_extract\u001b[0m\u001b[1;33m(\u001b[0m\u001b[0mf\u001b[0m\u001b[1;33m,\u001b[0m \u001b[0mg\u001b[0m\u001b[1;33m,\u001b[0m \u001b[0mu\u001b[0m\u001b[1;33m,\u001b[0m \u001b[0mK\u001b[0m\u001b[1;33m)\u001b[0m\u001b[1;33m\u001b[0m\u001b[0m\n\u001b[0m\u001b[0;32m   1380\u001b[0m \u001b[1;33m\u001b[0m\u001b[0m\n\u001b[0;32m   1381\u001b[0m     \u001b[0mf_norm\u001b[0m \u001b[1;33m=\u001b[0m \u001b[0mdmp_max_norm\u001b[0m\u001b[1;33m(\u001b[0m\u001b[0mf\u001b[0m\u001b[1;33m,\u001b[0m \u001b[0mu\u001b[0m\u001b[1;33m,\u001b[0m \u001b[0mK\u001b[0m\u001b[1;33m)\u001b[0m\u001b[1;33m\u001b[0m\u001b[0m\n",
        "\u001b[1;32m/usr/lib/python2.7/site-packages/sympy/polys/densetools.pyc\u001b[0m in \u001b[0;36mdmp_ground_extract\u001b[1;34m(f, g, u, K)\u001b[0m\n\u001b[0;32m    791\u001b[0m \u001b[1;33m\u001b[0m\u001b[0m\n\u001b[0;32m    792\u001b[0m     \"\"\"\n\u001b[1;32m--> 793\u001b[1;33m     \u001b[0mfc\u001b[0m \u001b[1;33m=\u001b[0m \u001b[0mdmp_ground_content\u001b[0m\u001b[1;33m(\u001b[0m\u001b[0mf\u001b[0m\u001b[1;33m,\u001b[0m \u001b[0mu\u001b[0m\u001b[1;33m,\u001b[0m \u001b[0mK\u001b[0m\u001b[1;33m)\u001b[0m\u001b[1;33m\u001b[0m\u001b[0m\n\u001b[0m\u001b[0;32m    794\u001b[0m     \u001b[0mgc\u001b[0m \u001b[1;33m=\u001b[0m \u001b[0mdmp_ground_content\u001b[0m\u001b[1;33m(\u001b[0m\u001b[0mg\u001b[0m\u001b[1;33m,\u001b[0m \u001b[0mu\u001b[0m\u001b[1;33m,\u001b[0m \u001b[0mK\u001b[0m\u001b[1;33m)\u001b[0m\u001b[1;33m\u001b[0m\u001b[0m\n\u001b[0;32m    795\u001b[0m \u001b[1;33m\u001b[0m\u001b[0m\n",
        "\u001b[1;32m/usr/lib/python2.7/site-packages/sympy/polys/densetools.pyc\u001b[0m in \u001b[0;36mdmp_ground_content\u001b[1;34m(f, u, K)\u001b[0m\n\u001b[0;32m    672\u001b[0m     \u001b[1;32melse\u001b[0m\u001b[1;33m:\u001b[0m\u001b[1;33m\u001b[0m\u001b[0m\n\u001b[0;32m    673\u001b[0m         \u001b[1;32mfor\u001b[0m \u001b[0mc\u001b[0m \u001b[1;32min\u001b[0m \u001b[0mf\u001b[0m\u001b[1;33m:\u001b[0m\u001b[1;33m\u001b[0m\u001b[0m\n\u001b[1;32m--> 674\u001b[1;33m             \u001b[0mcont\u001b[0m \u001b[1;33m=\u001b[0m \u001b[0mK\u001b[0m\u001b[1;33m.\u001b[0m\u001b[0mgcd\u001b[0m\u001b[1;33m(\u001b[0m\u001b[0mcont\u001b[0m\u001b[1;33m,\u001b[0m \u001b[0mdmp_ground_content\u001b[0m\u001b[1;33m(\u001b[0m\u001b[0mc\u001b[0m\u001b[1;33m,\u001b[0m \u001b[0mv\u001b[0m\u001b[1;33m,\u001b[0m \u001b[0mK\u001b[0m\u001b[1;33m)\u001b[0m\u001b[1;33m)\u001b[0m\u001b[1;33m\u001b[0m\u001b[0m\n\u001b[0m\u001b[0;32m    675\u001b[0m \u001b[1;33m\u001b[0m\u001b[0m\n\u001b[0;32m    676\u001b[0m             \u001b[1;32mif\u001b[0m \u001b[0mK\u001b[0m\u001b[1;33m.\u001b[0m\u001b[0mis_one\u001b[0m\u001b[1;33m(\u001b[0m\u001b[0mcont\u001b[0m\u001b[1;33m)\u001b[0m\u001b[1;33m:\u001b[0m\u001b[1;33m\u001b[0m\u001b[0m\n",
        "\u001b[1;32m/usr/lib/python2.7/site-packages/sympy/polys/densetools.pyc\u001b[0m in \u001b[0;36mdmp_ground_content\u001b[1;34m(f, u, K)\u001b[0m\n\u001b[0;32m    672\u001b[0m     \u001b[1;32melse\u001b[0m\u001b[1;33m:\u001b[0m\u001b[1;33m\u001b[0m\u001b[0m\n\u001b[0;32m    673\u001b[0m         \u001b[1;32mfor\u001b[0m \u001b[0mc\u001b[0m \u001b[1;32min\u001b[0m \u001b[0mf\u001b[0m\u001b[1;33m:\u001b[0m\u001b[1;33m\u001b[0m\u001b[0m\n\u001b[1;32m--> 674\u001b[1;33m             \u001b[0mcont\u001b[0m \u001b[1;33m=\u001b[0m \u001b[0mK\u001b[0m\u001b[1;33m.\u001b[0m\u001b[0mgcd\u001b[0m\u001b[1;33m(\u001b[0m\u001b[0mcont\u001b[0m\u001b[1;33m,\u001b[0m \u001b[0mdmp_ground_content\u001b[0m\u001b[1;33m(\u001b[0m\u001b[0mc\u001b[0m\u001b[1;33m,\u001b[0m \u001b[0mv\u001b[0m\u001b[1;33m,\u001b[0m \u001b[0mK\u001b[0m\u001b[1;33m)\u001b[0m\u001b[1;33m)\u001b[0m\u001b[1;33m\u001b[0m\u001b[0m\n\u001b[0m\u001b[0;32m    675\u001b[0m \u001b[1;33m\u001b[0m\u001b[0m\n\u001b[0;32m    676\u001b[0m             \u001b[1;32mif\u001b[0m \u001b[0mK\u001b[0m\u001b[1;33m.\u001b[0m\u001b[0mis_one\u001b[0m\u001b[1;33m(\u001b[0m\u001b[0mcont\u001b[0m\u001b[1;33m)\u001b[0m\u001b[1;33m:\u001b[0m\u001b[1;33m\u001b[0m\u001b[0m\n",
        "\u001b[1;32m/usr/lib/python2.7/site-packages/sympy/polys/densetools.pyc\u001b[0m in \u001b[0;36mdmp_ground_content\u001b[1;34m(f, u, K)\u001b[0m\n\u001b[0;32m    660\u001b[0m \u001b[1;33m\u001b[0m\u001b[0m\n\u001b[0;32m    661\u001b[0m     \u001b[1;32mif\u001b[0m \u001b[1;32mnot\u001b[0m \u001b[0mu\u001b[0m\u001b[1;33m:\u001b[0m\u001b[1;33m\u001b[0m\u001b[0m\n\u001b[1;32m--> 662\u001b[1;33m         \u001b[1;32mreturn\u001b[0m \u001b[0mdup_content\u001b[0m\u001b[1;33m(\u001b[0m\u001b[0mf\u001b[0m\u001b[1;33m,\u001b[0m \u001b[0mK\u001b[0m\u001b[1;33m)\u001b[0m\u001b[1;33m\u001b[0m\u001b[0m\n\u001b[0m\u001b[0;32m    663\u001b[0m \u001b[1;33m\u001b[0m\u001b[0m\n\u001b[0;32m    664\u001b[0m     \u001b[1;32mif\u001b[0m \u001b[0mdmp_zero_p\u001b[0m\u001b[1;33m(\u001b[0m\u001b[0mf\u001b[0m\u001b[1;33m,\u001b[0m \u001b[0mu\u001b[0m\u001b[1;33m)\u001b[0m\u001b[1;33m:\u001b[0m\u001b[1;33m\u001b[0m\u001b[0m\n",
        "\u001b[1;32m/usr/lib/python2.7/site-packages/sympy/polys/densetools.pyc\u001b[0m in \u001b[0;36mdup_content\u001b[1;34m(f, K)\u001b[0m\n\u001b[0;32m    626\u001b[0m     \u001b[1;32melse\u001b[0m\u001b[1;33m:\u001b[0m\u001b[1;33m\u001b[0m\u001b[0m\n\u001b[0;32m    627\u001b[0m         \u001b[1;32mfor\u001b[0m \u001b[0mc\u001b[0m \u001b[1;32min\u001b[0m \u001b[0mf\u001b[0m\u001b[1;33m:\u001b[0m\u001b[1;33m\u001b[0m\u001b[0m\n\u001b[1;32m--> 628\u001b[1;33m             \u001b[0mcont\u001b[0m \u001b[1;33m=\u001b[0m \u001b[0mK\u001b[0m\u001b[1;33m.\u001b[0m\u001b[0mgcd\u001b[0m\u001b[1;33m(\u001b[0m\u001b[0mcont\u001b[0m\u001b[1;33m,\u001b[0m \u001b[0mc\u001b[0m\u001b[1;33m)\u001b[0m\u001b[1;33m\u001b[0m\u001b[0m\n\u001b[0m\u001b[0;32m    629\u001b[0m \u001b[1;33m\u001b[0m\u001b[0m\n\u001b[0;32m    630\u001b[0m             \u001b[1;32mif\u001b[0m \u001b[0mK\u001b[0m\u001b[1;33m.\u001b[0m\u001b[0mis_one\u001b[0m\u001b[1;33m(\u001b[0m\u001b[0mcont\u001b[0m\u001b[1;33m)\u001b[0m\u001b[1;33m:\u001b[0m\u001b[1;33m\u001b[0m\u001b[0m\n",
        "\u001b[1;32m/usr/lib/python2.7/site-packages/sympy/polys/domains/pythonintegerring.pyc\u001b[0m in \u001b[0;36mgcd\u001b[1;34m(self, a, b)\u001b[0m\n\u001b[0;32m     74\u001b[0m     \u001b[1;32mdef\u001b[0m \u001b[0mgcd\u001b[0m\u001b[1;33m(\u001b[0m\u001b[0mself\u001b[0m\u001b[1;33m,\u001b[0m \u001b[0ma\u001b[0m\u001b[1;33m,\u001b[0m \u001b[0mb\u001b[0m\u001b[1;33m)\u001b[0m\u001b[1;33m:\u001b[0m\u001b[1;33m\u001b[0m\u001b[0m\n\u001b[0;32m     75\u001b[0m         \u001b[1;34m\"\"\"Compute GCD of ``a`` and ``b``. \"\"\"\u001b[0m\u001b[1;33m\u001b[0m\u001b[0m\n\u001b[1;32m---> 76\u001b[1;33m         \u001b[1;32mreturn\u001b[0m \u001b[0mpython_gcd\u001b[0m\u001b[1;33m(\u001b[0m\u001b[0ma\u001b[0m\u001b[1;33m,\u001b[0m \u001b[0mb\u001b[0m\u001b[1;33m)\u001b[0m\u001b[1;33m\u001b[0m\u001b[0m\n\u001b[0m\u001b[0;32m     77\u001b[0m \u001b[1;33m\u001b[0m\u001b[0m\n\u001b[0;32m     78\u001b[0m     \u001b[1;32mdef\u001b[0m \u001b[0mlcm\u001b[0m\u001b[1;33m(\u001b[0m\u001b[0mself\u001b[0m\u001b[1;33m,\u001b[0m \u001b[0ma\u001b[0m\u001b[1;33m,\u001b[0m \u001b[0mb\u001b[0m\u001b[1;33m)\u001b[0m\u001b[1;33m:\u001b[0m\u001b[1;33m\u001b[0m\u001b[0m\n",
        "\u001b[1;32m/usr/lib/python2.7/site-packages/sympy/core/numbers.pyc\u001b[0m in \u001b[0;36migcd\u001b[1;34m(a, b)\u001b[0m\n\u001b[0;32m    130\u001b[0m             \u001b[0ma\u001b[0m \u001b[1;33m=\u001b[0m \u001b[0mabs\u001b[0m\u001b[1;33m(\u001b[0m\u001b[0ma\u001b[0m \u001b[1;32mor\u001b[0m \u001b[0mb\u001b[0m\u001b[1;33m)\u001b[0m\u001b[1;33m\u001b[0m\u001b[0m\n\u001b[0;32m    131\u001b[0m \u001b[1;33m\u001b[0m\u001b[0m\n\u001b[1;32m--> 132\u001b[1;33m         \u001b[0m_gcdcache\u001b[0m\u001b[1;33m[\u001b[0m\u001b[1;33m(\u001b[0m\u001b[0ma\u001b[0m\u001b[1;33m,\u001b[0m \u001b[0mb\u001b[0m\u001b[1;33m)\u001b[0m\u001b[1;33m]\u001b[0m \u001b[1;33m=\u001b[0m \u001b[0ma\u001b[0m\u001b[1;33m\u001b[0m\u001b[0m\n\u001b[0m\u001b[0;32m    133\u001b[0m         \u001b[1;32mreturn\u001b[0m \u001b[0ma\u001b[0m\u001b[1;33m\u001b[0m\u001b[0m\n\u001b[0;32m    134\u001b[0m \u001b[1;33m\u001b[0m\u001b[0m\n",
        "\u001b[1;31mMemoryError\u001b[0m: "
       ]
      }
     ],
     "prompt_number": 146
    },
    {
     "cell_type": "code",
     "collapsed": false,
     "input": [],
     "language": "python",
     "metadata": {},
     "outputs": []
    }
   ],
   "metadata": {}
  }
 ]
}