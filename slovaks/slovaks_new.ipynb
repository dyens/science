{
 "metadata": {
  "name": ""
 },
 "nbformat": 3,
 "nbformat_minor": 0,
 "worksheets": [
  {
   "cells": [
    {
     "cell_type": "heading",
     "level": 1,
     "metadata": {},
     "source": [
      "Gribov-Antonov model"
     ]
    },
    {
     "cell_type": "code",
     "collapsed": false,
     "input": [
      "from sympy import *\n",
      "# commands starting with % are IPython commands\n",
      "%load_ext sympy.interactive.ipythonprinting\n",
      "\n",
      "# in older versions of sympy/ipython, use\n",
      "#%load_ext sympyprinting\n",
      "\n",
      "\n",
      "#I take Lambda instead lambda, because lambda is lambda function in python\n",
      "omega, Lambda, D, p, q, k, tau, u1, u2, g1, g2, y, eta, alpha, a, epsilon, xi, d, I_y, I_e = symbols('omega, Lambda, D, p, q, k, tau, u1, u2, g1, g2, y, eta, alpha, a, epsilon, xi, d, I_y, I_e')\n",
      "DDi = {}"
     ],
     "language": "python",
     "metadata": {},
     "outputs": [
      {
       "output_type": "stream",
       "stream": "stdout",
       "text": [
        "The sympy.interactive.ipythonprinting extension is already loaded. To reload it, use:\n",
        "  %reload_ext sympy.interactive.ipythonprinting\n"
       ]
      }
     ],
     "prompt_number": 3
    },
    {
     "cell_type": "code",
     "collapsed": false,
     "input": [
      "#definition graphs\n",
      "#<psi^dag,psi>\n",
      "DDi[1] = -(p**2*g1*D*I_y)/(2*d(1+u1)*y)*(d-1+alpha-(2*alpha)/(1+u1)+(alpha*a*(1-a))/(1+u1)*(4/(1+u1)-d)) - I*omega*g1*alpha*a(1-a)*I_y/(2*(1+u1)**2*y) + tau*D*g1*alpha*a*(1-a)*I_y/(2*(1+u1)**2*y)\n",
      "DDi[1]"
     ],
     "language": "python",
     "metadata": {},
     "outputs": [
      {
       "latex": [
        "$$\\frac{D I_{y} a \\alpha g_{1} \\tau \\left(- a + 1\\right)}{2 y \\left(u_{1} + 1\\right)^{2}} - \\frac{D I_{y} g_{1} p^{2}}{2 y d{\\left (u_{1} + 1 \\right )}} \\left(\\frac{a \\alpha}{u_{1} + 1} \\left(- a + 1\\right) \\left(- d + \\frac{4}{u_{1} + 1}\\right) + \\alpha - \\frac{2 \\alpha}{u_{1} + 1} + d - 1\\right) - \\frac{i I_{y} \\alpha g_{1} \\omega}{2 y \\left(u_{1} + 1\\right)^{2}} a{\\left (- a + 1 \\right )}$$"
       ],
       "metadata": {},
       "output_type": "pyout",
       "png": "[encoded data removed]",
       "prompt_number": 4,
       "text": [
        "                                      \u239b             \u239b       4   \u239e             \n",
        "                                      \u239ca\u22c5\u03b1\u22c5(-a + 1)\u22c5\u239c-d + \u2500\u2500\u2500\u2500\u2500\u2500\u239f             \n",
        "                                    2 \u239c             \u239d     u\u2081 + 1\u23a0        2\u22c5\u03b1  \n",
        "                          D\u22c5I_y\u22c5g\u2081\u22c5p \u22c5\u239c\u2500\u2500\u2500\u2500\u2500\u2500\u2500\u2500\u2500\u2500\u2500\u2500\u2500\u2500\u2500\u2500\u2500\u2500\u2500\u2500\u2500\u2500\u2500\u2500\u2500\u2500 + \u03b1 - \u2500\u2500\u2500\u2500\u2500\u2500\n",
        "D\u22c5I_y\u22c5a\u22c5\u03b1\u22c5g\u2081\u22c5\u03c4\u22c5(-a + 1)               \u239d          u\u2081 + 1                 u\u2081 + 1\n",
        "\u2500\u2500\u2500\u2500\u2500\u2500\u2500\u2500\u2500\u2500\u2500\u2500\u2500\u2500\u2500\u2500\u2500\u2500\u2500\u2500\u2500\u2500\u2500 - \u2500\u2500\u2500\u2500\u2500\u2500\u2500\u2500\u2500\u2500\u2500\u2500\u2500\u2500\u2500\u2500\u2500\u2500\u2500\u2500\u2500\u2500\u2500\u2500\u2500\u2500\u2500\u2500\u2500\u2500\u2500\u2500\u2500\u2500\u2500\u2500\u2500\u2500\u2500\u2500\u2500\u2500\u2500\u2500\u2500\u2500\u2500\u2500\u2500\u2500\u2500\u2500\n",
        "                 2                                2\u22c5y\u22c5d(u\u2081 + 1)               \n",
        "     2\u22c5y\u22c5(u\u2081 + 1)                                                             \n",
        "\n",
        "        \u239e                         \n",
        "        \u239f                         \n",
        "        \u239f                         \n",
        " + d - 1\u239f                         \n",
        "        \u23a0   \u2148\u22c5I_y\u22c5\u03b1\u22c5g\u2081\u22c5\u03c9\u22c5a(-a + 1)\n",
        "\u2500\u2500\u2500\u2500\u2500\u2500\u2500\u2500\u2500 - \u2500\u2500\u2500\u2500\u2500\u2500\u2500\u2500\u2500\u2500\u2500\u2500\u2500\u2500\u2500\u2500\u2500\u2500\u2500\u2500\u2500\u2500\n",
        "                            2     \n",
        "                2\u22c5y\u22c5(u\u2081 + 1)      "
       ]
      }
     ],
     "prompt_number": 4
    },
    {
     "cell_type": "code",
     "collapsed": false,
     "input": [
      "DDi[2] = -D**2*Lambda**2*I_e*(I*omega/(2*D) - tau - p**2*(d-2)/(2*d))/(2*D*epsilon)\n",
      "DDi[2]"
     ],
     "language": "python",
     "metadata": {},
     "outputs": [
      {
       "latex": [
        "$$- \\frac{D I_{e} \\Lambda^{2}}{2 \\epsilon} \\left(- \\tau - \\frac{p^{2} \\left(d - 2\\right)}{2 d} + \\frac{i \\omega}{2 D}\\right)$$"
       ],
       "metadata": {},
       "output_type": "pyout",
       "png": "[encoded data removed]",
       "prompt_number": 5,
       "text": [
        "         \u239b      2              \u239e \n",
        "       2 \u239c     p \u22c5(d - 2)   \u2148\u22c5\u03c9\u239f \n",
        "-D\u22c5I\u2091\u22c5\u039b \u22c5\u239c-\u03c4 - \u2500\u2500\u2500\u2500\u2500\u2500\u2500\u2500\u2500\u2500 + \u2500\u2500\u2500\u239f \n",
        "         \u239d        2\u22c5d       2\u22c5D\u23a0 \n",
        "\u2500\u2500\u2500\u2500\u2500\u2500\u2500\u2500\u2500\u2500\u2500\u2500\u2500\u2500\u2500\u2500\u2500\u2500\u2500\u2500\u2500\u2500\u2500\u2500\u2500\u2500\u2500\u2500\u2500\u2500\u2500\u2500\u2500\n",
        "               2\u22c5\u03b5               "
       ]
      }
     ],
     "prompt_number": 5
    },
    {
     "cell_type": "code",
     "collapsed": false,
     "input": [
      "#<psi^dag, psi, v>\n",
      "DDi[3] = -1*(-1*D**2*Lambda**2)*I*I_e*(2*p+q(a*d+3-d))/(4*d*D**2*epsilon)\n",
      "DDi[3]"
     ],
     "language": "python",
     "metadata": {},
     "outputs": [
      {
       "latex": [
        "$$\\frac{i I_{e} \\Lambda^{2}}{4 d \\epsilon} \\left(2 p + q{\\left (a d - d + 3 \\right )}\\right)$$"
       ],
       "metadata": {},
       "output_type": "pyout",
       "png": "[encoded data removed]",
       "prompt_number": 6,
       "text": [
        "      2                       \n",
        "\u2148\u22c5I\u2091\u22c5\u039b \u22c5(2\u22c5p + q(a\u22c5d - d + 3))\n",
        "\u2500\u2500\u2500\u2500\u2500\u2500\u2500\u2500\u2500\u2500\u2500\u2500\u2500\u2500\u2500\u2500\u2500\u2500\u2500\u2500\u2500\u2500\u2500\u2500\u2500\u2500\u2500\u2500\u2500\u2500\n",
        "            4\u22c5d\u22c5\u03b5             "
       ]
      }
     ],
     "prompt_number": 6
    },
    {
     "cell_type": "code",
     "collapsed": false,
     "input": [
      "DDi[4] = I*g1*alpha*I_y*((p+alpha*q)*(1/d+a-a**2) - 2*a*(1-a)*(2*p+q)/((1+u1)*d))/(2*(1+u1)**2*y)\n",
      "DDi[4]"
     ],
     "language": "python",
     "metadata": {},
     "outputs": [
      {
       "latex": [
        "$$\\frac{i I_{y} \\alpha g_{1}}{2 y \\left(u_{1} + 1\\right)^{2}} \\left(- \\frac{2 a}{d \\left(u_{1} + 1\\right)} \\left(- a + 1\\right) \\left(2 p + q\\right) + \\left(\\alpha q + p\\right) \\left(- a^{2} + a + \\frac{1}{d}\\right)\\right)$$"
       ],
       "metadata": {},
       "output_type": "pyout",
       "png": "[encoded data removed]",
       "prompt_number": 7,
       "text": [
        "           \u239b  2\u22c5a\u22c5(-a + 1)\u22c5(2\u22c5p + q)             \u239b   2       1\u239e\u239e\n",
        "\u2148\u22c5I_y\u22c5\u03b1\u22c5g\u2081\u22c5\u239c- \u2500\u2500\u2500\u2500\u2500\u2500\u2500\u2500\u2500\u2500\u2500\u2500\u2500\u2500\u2500\u2500\u2500\u2500\u2500\u2500\u2500\u2500 + (\u03b1\u22c5q + p)\u22c5\u239c- a  + a + \u2500\u239f\u239f\n",
        "           \u239d        d\u22c5(u\u2081 + 1)                   \u239d           d\u23a0\u23a0\n",
        "\u2500\u2500\u2500\u2500\u2500\u2500\u2500\u2500\u2500\u2500\u2500\u2500\u2500\u2500\u2500\u2500\u2500\u2500\u2500\u2500\u2500\u2500\u2500\u2500\u2500\u2500\u2500\u2500\u2500\u2500\u2500\u2500\u2500\u2500\u2500\u2500\u2500\u2500\u2500\u2500\u2500\u2500\u2500\u2500\u2500\u2500\u2500\u2500\u2500\u2500\u2500\u2500\u2500\u2500\u2500\u2500\u2500\u2500\u2500\u2500\u2500\u2500\u2500\u2500\n",
        "                                     2                          \n",
        "                         2\u22c5y\u22c5(u\u2081 + 1)                           "
       ]
      }
     ],
     "prompt_number": 7
    },
    {
     "cell_type": "code",
     "collapsed": false,
     "input": [
      "DDi[5] = -u2/D*I*p*g1*D*I_y*(d-1+alpha(1-2*a/(u1+1)))/(2*d*(1+u1)*y)\n",
      "DDi[5]"
     ],
     "language": "python",
     "metadata": {},
     "outputs": [
      {
       "latex": [
        "$$- \\frac{i I_{y} g_{1} p u_{2}}{2 d y \\left(u_{1} + 1\\right)} \\left(d + \\alpha{\\left (- \\frac{2 a}{u_{1} + 1} + 1 \\right )} - 1\\right)$$"
       ],
       "metadata": {},
       "output_type": "pyout",
       "png": "[encoded data removed]",
       "prompt_number": 8,
       "text": [
        "               \u239b     \u239b   2\u22c5a      \u239e    \u239e \n",
        "-\u2148\u22c5I_y\u22c5g\u2081\u22c5p\u22c5u\u2082\u22c5\u239cd + \u03b1\u239c- \u2500\u2500\u2500\u2500\u2500\u2500 + 1\u239f - 1\u239f \n",
        "               \u239d     \u239d  u\u2081 + 1    \u23a0    \u23a0 \n",
        "\u2500\u2500\u2500\u2500\u2500\u2500\u2500\u2500\u2500\u2500\u2500\u2500\u2500\u2500\u2500\u2500\u2500\u2500\u2500\u2500\u2500\u2500\u2500\u2500\u2500\u2500\u2500\u2500\u2500\u2500\u2500\u2500\u2500\u2500\u2500\u2500\u2500\u2500\u2500\u2500\u2500\n",
        "              2\u22c5d\u22c5y\u22c5(u\u2081 + 1)             "
       ]
      }
     ],
     "prompt_number": 8
    },
    {
     "cell_type": "code",
     "collapsed": false,
     "input": [
      "DDi[6] = -u2/D*I*(p+q)*g1*D*I_y*(d-1+alpha-2*alpha*(1-a)/(1+u1))/(2*d*(1+u1)*y)\n",
      "DDi[6]"
     ],
     "language": "python",
     "metadata": {},
     "outputs": [
      {
       "latex": [
        "$$- \\frac{i I_{y} g_{1} u_{2}}{2 d y \\left(u_{1} + 1\\right)} \\left(p + q\\right) \\left(- \\frac{2 \\alpha \\left(- a + 1\\right)}{u_{1} + 1} + \\alpha + d - 1\\right)$$"
       ],
       "metadata": {},
       "output_type": "pyout",
       "png": "[encoded data removed]",
       "prompt_number": 9,
       "text": [
        "                     \u239b  2\u22c5\u03b1\u22c5(-a + 1)            \u239e \n",
        "-\u2148\u22c5I_y\u22c5g\u2081\u22c5u\u2082\u22c5(p + q)\u22c5\u239c- \u2500\u2500\u2500\u2500\u2500\u2500\u2500\u2500\u2500\u2500\u2500\u2500 + \u03b1 + d - 1\u239f \n",
        "                     \u239d     u\u2081 + 1               \u23a0 \n",
        "\u2500\u2500\u2500\u2500\u2500\u2500\u2500\u2500\u2500\u2500\u2500\u2500\u2500\u2500\u2500\u2500\u2500\u2500\u2500\u2500\u2500\u2500\u2500\u2500\u2500\u2500\u2500\u2500\u2500\u2500\u2500\u2500\u2500\u2500\u2500\u2500\u2500\u2500\u2500\u2500\u2500\u2500\u2500\u2500\u2500\u2500\u2500\u2500\u2500\u2500\n",
        "                  2\u22c5d\u22c5y\u22c5(u\u2081 + 1)                  "
       ]
      }
     ],
     "prompt_number": 9
    },
    {
     "cell_type": "code",
     "collapsed": false,
     "input": [
      "#<psi^dag, psi^dag, psi>\n",
      "DDi[7] = -D**3*Lambda**3*I_e/(4*D**2*epsilon)\n",
      "DDi[7]"
     ],
     "language": "python",
     "metadata": {},
     "outputs": [
      {
       "latex": [
        "$$- \\frac{D I_{e} \\Lambda^{3}}{4 \\epsilon}$$"
       ],
       "metadata": {},
       "output_type": "pyout",
       "png": "[encoded data removed]",
       "prompt_number": 10,
       "text": [
        "       3 \n",
        "-D\u22c5I\u2091\u22c5\u039b  \n",
        "\u2500\u2500\u2500\u2500\u2500\u2500\u2500\u2500\u2500\n",
        "   4\u22c5\u03b5   "
       ]
      }
     ],
     "prompt_number": 10
    },
    {
     "cell_type": "code",
     "collapsed": false,
     "input": [
      "DDi[8] = D*Lambda*alpha*g1*I_y*(1-a)**2/(2*y*(1+u1))\n",
      "DDi[8]"
     ],
     "language": "python",
     "metadata": {},
     "outputs": [
      {
       "latex": [
        "$$\\frac{D I_{y} \\Lambda \\alpha g_{1} \\left(- a + 1\\right)^{2}}{2 y \\left(u_{1} + 1\\right)}$$"
       ],
       "metadata": {},
       "output_type": "pyout",
       "png": "[encoded data removed]",
       "prompt_number": 11,
       "text": [
        "                     2\n",
        "D\u22c5I_y\u22c5\u039b\u22c5\u03b1\u22c5g\u2081\u22c5(-a + 1) \n",
        "\u2500\u2500\u2500\u2500\u2500\u2500\u2500\u2500\u2500\u2500\u2500\u2500\u2500\u2500\u2500\u2500\u2500\u2500\u2500\u2500\u2500\u2500\n",
        "     2\u22c5y\u22c5(u\u2081 + 1)     "
       ]
      }
     ],
     "prompt_number": 11
    },
    {
     "cell_type": "code",
     "collapsed": false,
     "input": [
      "DDi[9] = -D*Lambda*alpha*g1*a*(1-a)*I_y/(2*(1+u1)**2*y)\n",
      "DDi[9]"
     ],
     "language": "python",
     "metadata": {},
     "outputs": [
      {
       "latex": [
        "$$- \\frac{D I_{y} \\Lambda a \\alpha g_{1} \\left(- a + 1\\right)}{2 y \\left(u_{1} + 1\\right)^{2}}$$"
       ],
       "metadata": {},
       "output_type": "pyout",
       "png": "[encoded data removed]",
       "prompt_number": 12,
       "text": [
        "-D\u22c5I_y\u22c5\u039b\u22c5a\u22c5\u03b1\u22c5g\u2081\u22c5(-a + 1) \n",
        "\u2500\u2500\u2500\u2500\u2500\u2500\u2500\u2500\u2500\u2500\u2500\u2500\u2500\u2500\u2500\u2500\u2500\u2500\u2500\u2500\u2500\u2500\u2500\u2500\u2500\n",
        "                  2      \n",
        "      2\u22c5y\u22c5(u\u2081 + 1)       "
       ]
      }
     ],
     "prompt_number": 12
    },
    {
     "cell_type": "code",
     "collapsed": false,
     "input": [
      "#<psi, psi, psi^dag>\n",
      "DDi[10] = D**3*Lambda**3*I_e/(4*D**2*epsilon)\n",
      "DDi[10]"
     ],
     "language": "python",
     "metadata": {},
     "outputs": [
      {
       "latex": [
        "$$\\frac{D I_{e} \\Lambda^{3}}{4 \\epsilon}$$"
       ],
       "metadata": {},
       "output_type": "pyout",
       "png": "[encoded data removed]",
       "prompt_number": 13,
       "text": [
        "      3\n",
        "D\u22c5I\u2091\u22c5\u039b \n",
        "\u2500\u2500\u2500\u2500\u2500\u2500\u2500\n",
        "  4\u22c5\u03b5  "
       ]
      }
     ],
     "prompt_number": 13
    },
    {
     "cell_type": "code",
     "collapsed": false,
     "input": [
      "DDi[11] = -D*Lambda*alpha*g1*I_y*a**2/(2*y*(1+u1))\n",
      "DDi[11]"
     ],
     "language": "python",
     "metadata": {},
     "outputs": [
      {
       "latex": [
        "$$- \\frac{D I_{y} \\Lambda a^{2} \\alpha g_{1}}{2 y \\left(u_{1} + 1\\right)}$$"
       ],
       "metadata": {},
       "output_type": "pyout",
       "png": "[encoded data removed]",
       "prompt_number": 14,
       "text": [
        "          2      \n",
        "-D\u22c5I_y\u22c5\u039b\u22c5a \u22c5\u03b1\u22c5g\u2081 \n",
        "\u2500\u2500\u2500\u2500\u2500\u2500\u2500\u2500\u2500\u2500\u2500\u2500\u2500\u2500\u2500\u2500\u2500\n",
        "   2\u22c5y\u22c5(u\u2081 + 1)  "
       ]
      }
     ],
     "prompt_number": 14
    },
    {
     "cell_type": "code",
     "collapsed": false,
     "input": [
      "DDi[12] = -D*Lambda*(-1)*alpha*g1*a*(1-a)*I_y/(2*(1+u1)**2*y)\n",
      "DDi[12]"
     ],
     "language": "python",
     "metadata": {},
     "outputs": [
      {
       "latex": [
        "$$\\frac{D I_{y} \\Lambda a \\alpha g_{1} \\left(- a + 1\\right)}{2 y \\left(u_{1} + 1\\right)^{2}}$$"
       ],
       "metadata": {},
       "output_type": "pyout",
       "png": "[encoded data removed]",
       "prompt_number": 15,
       "text": [
        "D\u22c5I_y\u22c5\u039b\u22c5a\u22c5\u03b1\u22c5g\u2081\u22c5(-a + 1)\n",
        "\u2500\u2500\u2500\u2500\u2500\u2500\u2500\u2500\u2500\u2500\u2500\u2500\u2500\u2500\u2500\u2500\u2500\u2500\u2500\u2500\u2500\u2500\u2500\n",
        "                 2     \n",
        "     2\u22c5y\u22c5(u\u2081 + 1)      "
       ]
      }
     ],
     "prompt_number": 15
    },
    {
     "cell_type": "code",
     "collapsed": false,
     "input": [
      "#<psi, psi^dag, v, v>\n",
      "DDi[13] = -D**2*Lambda**2*(-1)*I_e/(8*d*D**3*epsilon)\n",
      "DDi[13]"
     ],
     "language": "python",
     "metadata": {},
     "outputs": [
      {
       "latex": [
        "$$\\frac{I_{e} \\Lambda^{2}}{8 D d \\epsilon}$$"
       ],
       "metadata": {},
       "output_type": "pyout",
       "png": "[encoded data removed]",
       "prompt_number": 16,
       "text": [
        "     2 \n",
        " I\u2091\u22c5\u039b  \n",
        "\u2500\u2500\u2500\u2500\u2500\u2500\u2500\n",
        "8\u22c5D\u22c5d\u22c5\u03b5"
       ]
      }
     ],
     "prompt_number": 16
    },
    {
     "cell_type": "code",
     "collapsed": false,
     "input": [
      "DDi[14] = g1*alpha*a*(1-a)*I_y/(2*d*(1+u1)**3*D*y)\n",
      "DDi[14]"
     ],
     "language": "python",
     "metadata": {},
     "outputs": [
      {
       "latex": [
        "$$\\frac{I_{y} a \\alpha g_{1} \\left(- a + 1\\right)}{2 D d y \\left(u_{1} + 1\\right)^{3}}$$"
       ],
       "metadata": {},
       "output_type": "pyout",
       "png": "[encoded data removed]",
       "prompt_number": 17,
       "text": [
        "I_y\u22c5a\u22c5\u03b1\u22c5g\u2081\u22c5(-a + 1)\n",
        "\u2500\u2500\u2500\u2500\u2500\u2500\u2500\u2500\u2500\u2500\u2500\u2500\u2500\u2500\u2500\u2500\u2500\u2500\u2500\n",
        "                 3 \n",
        " 2\u22c5D\u22c5d\u22c5y\u22c5(u\u2081 + 1)  "
       ]
      }
     ],
     "prompt_number": 17
    },
    {
     "cell_type": "code",
     "collapsed": false,
     "input": [
      "DDi[15] = -D**2*Lambda**2*I_e/(4*d*D**3*epsilon)\n",
      "DDi[15]"
     ],
     "language": "python",
     "metadata": {},
     "outputs": [
      {
       "latex": [
        "$$- \\frac{I_{e} \\Lambda^{2}}{4 D d \\epsilon}$$"
       ],
       "metadata": {},
       "output_type": "pyout",
       "png": "[encoded data removed]",
       "prompt_number": 18,
       "text": [
        "     2 \n",
        "-I\u2091\u22c5\u039b  \n",
        "\u2500\u2500\u2500\u2500\u2500\u2500\u2500\n",
        "4\u22c5D\u22c5d\u22c5\u03b5"
       ]
      }
     ],
     "prompt_number": 18
    },
    {
     "cell_type": "code",
     "collapsed": false,
     "input": [
      "DDi[16] = -D*u2*Lambda**2*I_e/(4*D**2*epsilon)\n",
      "DDi[16]"
     ],
     "language": "python",
     "metadata": {},
     "outputs": [
      {
       "latex": [
        "$$- \\frac{I_{e} \\Lambda^{2} u_{2}}{4 D \\epsilon}$$"
       ],
       "metadata": {},
       "output_type": "pyout",
       "png": "[encoded data removed]",
       "prompt_number": 19,
       "text": [
        "     2    \n",
        "-I\u2091\u22c5\u039b \u22c5u\u2082 \n",
        "\u2500\u2500\u2500\u2500\u2500\u2500\u2500\u2500\u2500\u2500\n",
        "  4\u22c5D\u22c5\u03b5   "
       ]
      }
     ],
     "prompt_number": 19
    },
    {
     "cell_type": "code",
     "collapsed": false,
     "input": [
      "DDi[17] = -u2/D*alpha*g1*a*(1-a)*I_y/(2*y*(1+u1)**2)\n",
      "DDi[17]"
     ],
     "language": "python",
     "metadata": {},
     "outputs": [
      {
       "latex": [
        "$$- \\frac{I_{y} a \\alpha g_{1} u_{2} \\left(- a + 1\\right)}{2 D y \\left(u_{1} + 1\\right)^{2}}$$"
       ],
       "metadata": {},
       "output_type": "pyout",
       "png": "[encoded data removed]",
       "prompt_number": 20,
       "text": [
        "-I_y\u22c5a\u22c5\u03b1\u22c5g\u2081\u22c5u\u2082\u22c5(-a + 1) \n",
        "\u2500\u2500\u2500\u2500\u2500\u2500\u2500\u2500\u2500\u2500\u2500\u2500\u2500\u2500\u2500\u2500\u2500\u2500\u2500\u2500\u2500\u2500\u2500\u2500\n",
        "                  2     \n",
        "    2\u22c5D\u22c5y\u22c5(u\u2081 + 1)      "
       ]
      }
     ],
     "prompt_number": 20
    },
    {
     "cell_type": "code",
     "collapsed": false,
     "input": [
      "DDi[18] = -u2/D*g1*alpha*a*I_y/(2*d*(1+u1)**2*y)\n",
      "DDi[18]"
     ],
     "language": "python",
     "metadata": {},
     "outputs": [
      {
       "latex": [
        "$$- \\frac{I_{y} a \\alpha g_{1} u_{2}}{2 D d y \\left(u_{1} + 1\\right)^{2}}$$"
       ],
       "metadata": {},
       "output_type": "pyout",
       "png": "[encoded data removed]",
       "prompt_number": 21,
       "text": [
        " -I_y\u22c5a\u22c5\u03b1\u22c5g\u2081\u22c5u\u2082  \n",
        "\u2500\u2500\u2500\u2500\u2500\u2500\u2500\u2500\u2500\u2500\u2500\u2500\u2500\u2500\u2500\u2500\u2500\n",
        "                2\n",
        "2\u22c5D\u22c5d\u22c5y\u22c5(u\u2081 + 1) "
       ]
      }
     ],
     "prompt_number": 21
    },
    {
     "cell_type": "code",
     "collapsed": false,
     "input": [
      "DDi[19] = -u2/D*alpha*g1*I_y*(1-a)/(2*d*(1+u1)**2*y)\n",
      "DDi[19]"
     ],
     "language": "python",
     "metadata": {},
     "outputs": [
      {
       "latex": [
        "$$- \\frac{I_{y} \\alpha g_{1} u_{2} \\left(- a + 1\\right)}{2 D d y \\left(u_{1} + 1\\right)^{2}}$$"
       ],
       "metadata": {},
       "output_type": "pyout",
       "png": "[encoded data removed]",
       "prompt_number": 22,
       "text": [
        "-I_y\u22c5\u03b1\u22c5g\u2081\u22c5u\u2082\u22c5(-a + 1) \n",
        "\u2500\u2500\u2500\u2500\u2500\u2500\u2500\u2500\u2500\u2500\u2500\u2500\u2500\u2500\u2500\u2500\u2500\u2500\u2500\u2500\u2500\u2500\n",
        "                  2   \n",
        "  2\u22c5D\u22c5d\u22c5y\u22c5(u\u2081 + 1)    "
       ]
      }
     ],
     "prompt_number": 22
    },
    {
     "cell_type": "code",
     "collapsed": false,
     "input": [
      "DDi[20] = u2**2/D**2*g1*D*I_y*(d-1+alpha)/(2*d*(1+u1)*y)\n",
      "DDi[20]"
     ],
     "language": "python",
     "metadata": {},
     "outputs": [
      {
       "latex": [
        "$$\\frac{I_{y} g_{1} u_{2}^{2} \\left(\\alpha + d - 1\\right)}{2 D d y \\left(u_{1} + 1\\right)}$$"
       ],
       "metadata": {},
       "output_type": "pyout",
       "png": "[encoded data removed]",
       "prompt_number": 23,
       "text": [
        "         2            \n",
        "I_y\u22c5g\u2081\u22c5u\u2082 \u22c5(\u03b1 + d - 1)\n",
        "\u2500\u2500\u2500\u2500\u2500\u2500\u2500\u2500\u2500\u2500\u2500\u2500\u2500\u2500\u2500\u2500\u2500\u2500\u2500\u2500\u2500\u2500\n",
        "   2\u22c5D\u22c5d\u22c5y\u22c5(u\u2081 + 1)   "
       ]
      }
     ],
     "prompt_number": 23
    },
    {
     "cell_type": "code",
     "collapsed": false,
     "input": [
      "#substituting d = 4\n",
      "Di = {}\n",
      "for i in DDi:\n",
      "    Di[i] = DDi[i].subs(d,4)\n",
      "    "
     ],
     "language": "python",
     "metadata": {},
     "outputs": [],
     "prompt_number": 24
    },
    {
     "cell_type": "code",
     "collapsed": false,
     "input": [
      "#symmetric coefficients\n",
      "s = {}\n",
      "s[1] = 1\n",
      "s[2] = 1/2\n",
      "s[3] = 1\n",
      "s[4] = 1\n",
      "s[5] = 1\n",
      "s[6] = 1\n",
      "s[7] = 2\n",
      "s[8] = 1\n",
      "s[9] = 2\n",
      "s[10] = 2\n",
      "s[11] = 1\n",
      "s[12] = 2\n",
      "s[13] = 2\n",
      "s[14] = 2\n",
      "s[15] = 1\n",
      "s[16] = 1\n",
      "s[17] = 1\n",
      "s[18] = 2\n",
      "s[19] = 2\n",
      "s[20] = 2"
     ],
     "language": "python",
     "metadata": {},
     "outputs": [],
     "prompt_number": 25
    },
    {
     "cell_type": "code",
     "collapsed": false,
     "input": [
      "#adding symmetric coefficients\n",
      "for i in Di:\n",
      "    Di[i] = Di[i]*s[i]"
     ],
     "language": "python",
     "metadata": {},
     "outputs": [],
     "prompt_number": 26
    },
    {
     "cell_type": "code",
     "collapsed": false,
     "input": [
      "#Z equations\n",
      "#Z = 1+O(), but i take Z = O()\n",
      "\n",
      "Z = {}\n",
      "for i in symbols('z1:9'):\n",
      "    Z[symbols('z1:9').index(i)+1] = i\n",
      "\n",
      "#Z of fields, parameters, coupling constants\n",
      "Z['psidag'], Z['psi'], Z['v'], Z['a'], Z['D'], Z['tau'], Z['Lambda'], Z['u1'], Z['u2'], Z['g1'], Z['g2'] = symbols('Z_psi_dagger, Z_psi, Z_v, Z_a, Z_D, Z_tau, Z_Lambda, Z_u1, Z_u2, Z_g1, Z_g2')\n",
      "\n",
      "#equations\n",
      "e1 = Z['psi']*Z['psidag']-Z[1]\n",
      "e2 = Z['psi']*Z['psidag']*Z['v']-Z[4]\n",
      "e3 = Z['psi']*Z['psidag']*Z['a']*Z['v']-Z[5]\n",
      "e4 = Z['psi']*Z['psidag']*Z['D']-Z[2]\n",
      "e5 = Z['psi']*Z['psidag']*Z['D']*Z['tau']-Z[3]\n",
      "e6 = Z['psi']*Z['psidag']**2*Z['D']*Z['Lambda']-Z[6]\n",
      "e7 = Z['psi']**2*Z['psidag']*Z['D']*Z['Lambda']-Z[7]\n",
      "e8 = Z['u2']/Z['D']*Z['psi']*Z['psidag']*Z['v']**2-Z[8]\n",
      "\n",
      "(Z['psi'], Z['psidag'], Z['v'], Z['tau'], Z['u2'], Z['Lambda'], Z['D'], Z['a']) = solve((e1,e2,e3,e4,e5,e6,e7,e8), Z['psi'], Z['psidag'], Z['v'], Z['tau'], Z['u2'], Z['Lambda'], Z['D'], Z['a'])[0]"
     ],
     "language": "python",
     "metadata": {},
     "outputs": [],
     "prompt_number": 27
    },
    {
     "cell_type": "code",
     "collapsed": false,
     "input": [
      "#<psi^dag, psi>\n",
      "#I think, from Dyson equation we have minus, so for G_2... <psi psi>1-ir=wZ-pZ-tz - G_2\n",
      "eq1 = I*omega*Z[1] - D*p**2*Z[2] - D*tau*Z[3]-Di[1]-Di[2]\n",
      "eq1"
     ],
     "language": "python",
     "metadata": {},
     "outputs": [
      {
       "latex": [
        "$$- \\frac{D I_{y} a \\alpha g_{1} \\tau \\left(- a + 1\\right)}{2 y \\left(u_{1} + 1\\right)^{2}} + \\frac{D I_{y} g_{1} p^{2}}{2 y d{\\left (u_{1} + 1 \\right )}} \\left(\\frac{a \\alpha}{u_{1} + 1} \\left(-4 + \\frac{4}{u_{1} + 1}\\right) \\left(- a + 1\\right) + \\alpha - \\frac{2 \\alpha}{u_{1} + 1} + 3\\right) - D p^{2} z_{2} - D \\tau z_{3} + \\frac{i I_{y} \\alpha g_{1} \\omega}{2 y \\left(u_{1} + 1\\right)^{2}} a{\\left (- a + 1 \\right )} + i \\omega z_{1}$$"
       ],
       "metadata": {},
       "output_type": "pyout",
       "png": "[encoded data removed]",
       "prompt_number": 28,
       "text": [
        "                                        \u239b    \u239b       4   \u239e                    \n",
        "                                        \u239ca\u22c5\u03b1\u22c5\u239c-4 + \u2500\u2500\u2500\u2500\u2500\u2500\u239f\u22c5(-a + 1)           \n",
        "                                      2 \u239c    \u239d     u\u2081 + 1\u23a0                 2\u22c5\u03b1\n",
        "                            D\u22c5I_y\u22c5g\u2081\u22c5p \u22c5\u239c\u2500\u2500\u2500\u2500\u2500\u2500\u2500\u2500\u2500\u2500\u2500\u2500\u2500\u2500\u2500\u2500\u2500\u2500\u2500\u2500\u2500\u2500\u2500\u2500\u2500\u2500 + \u03b1 - \u2500\u2500\u2500\u2500\n",
        "  D\u22c5I_y\u22c5a\u22c5\u03b1\u22c5g\u2081\u22c5\u03c4\u22c5(-a + 1)               \u239d          u\u2081 + 1                 u\u2081 +\n",
        "- \u2500\u2500\u2500\u2500\u2500\u2500\u2500\u2500\u2500\u2500\u2500\u2500\u2500\u2500\u2500\u2500\u2500\u2500\u2500\u2500\u2500\u2500\u2500 + \u2500\u2500\u2500\u2500\u2500\u2500\u2500\u2500\u2500\u2500\u2500\u2500\u2500\u2500\u2500\u2500\u2500\u2500\u2500\u2500\u2500\u2500\u2500\u2500\u2500\u2500\u2500\u2500\u2500\u2500\u2500\u2500\u2500\u2500\u2500\u2500\u2500\u2500\u2500\u2500\u2500\u2500\u2500\u2500\u2500\u2500\u2500\u2500\u2500\u2500\n",
        "                   2                              2\u22c5y\u22c5d(u\u2081 + 1)               \n",
        "       2\u22c5y\u22c5(u\u2081 + 1)                                                           \n",
        "\n",
        "      \u239e                                                     \n",
        "      \u239f                                                     \n",
        "      \u239f                                                     \n",
        "\u2500\u2500 + 3\u239f                                                     \n",
        " 1    \u23a0      2               \u2148\u22c5I_y\u22c5\u03b1\u22c5g\u2081\u22c5\u03c9\u22c5a(-a + 1)         \n",
        "\u2500\u2500\u2500\u2500\u2500\u2500\u2500 - D\u22c5p \u22c5z\u2082 - D\u22c5\u03c4\u22c5z\u2083 + \u2500\u2500\u2500\u2500\u2500\u2500\u2500\u2500\u2500\u2500\u2500\u2500\u2500\u2500\u2500\u2500\u2500\u2500\u2500\u2500\u2500\u2500 + \u2148\u22c5\u03c9\u22c5z\u2081\n",
        "                                             2              \n",
        "                                 2\u22c5y\u22c5(u\u2081 + 1)               "
       ]
      }
     ],
     "prompt_number": 28
    },
    {
     "cell_type": "code",
     "collapsed": false,
     "input": [
      "#eq.coeff(var, power) return coefficient of var**power\n",
      "#expand, cause a*(b+10).coeff(b) == 0\n",
      "#factor, cause expression is very difficult. But factor doesn't solve this problem.....\n",
      "#expr[0], cause we have unique solution \n",
      "Z[1] = factor(solve(eq1.expand().coeff(I*omega), Z[1]))[0]\n",
      "Z[2] = factor(solve(eq1.expand().coeff(D*p**2), Z[2]))[0]\n",
      "Z[3] = factor(solve(eq1.expand().coeff(D*tau), Z[3]))[0]"
     ],
     "language": "python",
     "metadata": {},
     "outputs": [],
     "prompt_number": 29
    },
    {
     "cell_type": "code",
     "collapsed": false,
     "input": [
      "#<psi^dag, psi, v>\n",
      "eq2 = -I*p*Z[4]-I*a*q*Z[5]+Di[3]+Di[4]+Di[5]+Di[6]\n",
      "eq2"
     ],
     "language": "python",
     "metadata": {},
     "outputs": [
      {
       "latex": [
        "$$\\frac{i I_{e} \\Lambda^{2}}{16 \\epsilon} \\left(2 p + q{\\left (4 a - 1 \\right )}\\right) + \\frac{i I_{y} \\alpha g_{1}}{2 y \\left(u_{1} + 1\\right)^{2}} \\left(- \\frac{a}{2 u_{1} + 2} \\left(- a + 1\\right) \\left(2 p + q\\right) + \\left(\\alpha q + p\\right) \\left(- a^{2} + a + \\frac{1}{4}\\right)\\right) - \\frac{i I_{y} g_{1} p u_{2}}{8 y \\left(u_{1} + 1\\right)} \\left(\\alpha{\\left (- \\frac{2 a}{u_{1} + 1} + 1 \\right )} + 3\\right) - \\frac{i I_{y} g_{1} u_{2}}{8 y \\left(u_{1} + 1\\right)} \\left(p + q\\right) \\left(- \\frac{2 \\alpha \\left(- a + 1\\right)}{u_{1} + 1} + \\alpha + 3\\right) - i a q z_{5} - i p z_{4}$$"
       ],
       "metadata": {},
       "output_type": "pyout",
       "png": "[encoded data removed]",
       "prompt_number": 30,
       "text": [
        "                                        \u239b  a\u22c5(-a + 1)\u22c5(2\u22c5p + q)             \u239b \n",
        "      2                      \u2148\u22c5I_y\u22c5\u03b1\u22c5g\u2081\u22c5\u239c- \u2500\u2500\u2500\u2500\u2500\u2500\u2500\u2500\u2500\u2500\u2500\u2500\u2500\u2500\u2500\u2500\u2500\u2500\u2500\u2500 + (\u03b1\u22c5q + p)\u22c5\u239c-\n",
        "\u2148\u22c5I\u2091\u22c5\u039b \u22c5(2\u22c5p + q(4\u22c5a - 1))              \u239d       2\u22c5(u\u2081 + 1)                  \u239d \n",
        "\u2500\u2500\u2500\u2500\u2500\u2500\u2500\u2500\u2500\u2500\u2500\u2500\u2500\u2500\u2500\u2500\u2500\u2500\u2500\u2500\u2500\u2500\u2500\u2500\u2500\u2500 + \u2500\u2500\u2500\u2500\u2500\u2500\u2500\u2500\u2500\u2500\u2500\u2500\u2500\u2500\u2500\u2500\u2500\u2500\u2500\u2500\u2500\u2500\u2500\u2500\u2500\u2500\u2500\u2500\u2500\u2500\u2500\u2500\u2500\u2500\u2500\u2500\u2500\u2500\u2500\u2500\u2500\u2500\u2500\u2500\u2500\u2500\u2500\u2500\u2500\n",
        "           16\u22c5\u03b5                                                  2            \n",
        "                                                     2\u22c5y\u22c5(u\u2081 + 1)             \n",
        "\n",
        "  2       1\u239e\u239e                 \u239b \u239b   2\u22c5a      \u239e    \u239e                       \u239b  2\n",
        " a  + a + \u2500\u239f\u239f   \u2148\u22c5I_y\u22c5g\u2081\u22c5p\u22c5u\u2082\u22c5\u239c\u03b1\u239c- \u2500\u2500\u2500\u2500\u2500\u2500 + 1\u239f + 3\u239f   \u2148\u22c5I_y\u22c5g\u2081\u22c5u\u2082\u22c5(p + q)\u22c5\u239c- \u2500\n",
        "          4\u23a0\u23a0                 \u239d \u239d  u\u2081 + 1    \u23a0    \u23a0                       \u239d   \n",
        "\u2500\u2500\u2500\u2500\u2500\u2500\u2500\u2500\u2500\u2500\u2500\u2500\u2500 - \u2500\u2500\u2500\u2500\u2500\u2500\u2500\u2500\u2500\u2500\u2500\u2500\u2500\u2500\u2500\u2500\u2500\u2500\u2500\u2500\u2500\u2500\u2500\u2500\u2500\u2500\u2500\u2500\u2500\u2500\u2500\u2500\u2500\u2500\u2500 - \u2500\u2500\u2500\u2500\u2500\u2500\u2500\u2500\u2500\u2500\u2500\u2500\u2500\u2500\u2500\u2500\u2500\u2500\u2500\u2500\u2500\u2500\u2500\u2500\n",
        "                            8\u22c5y\u22c5(u\u2081 + 1)                              8\u22c5y\u22c5(u\u2081 \n",
        "                                                                              \n",
        "\n",
        "\u22c5\u03b1\u22c5(-a + 1)        \u239e                    \n",
        "\u2500\u2500\u2500\u2500\u2500\u2500\u2500\u2500\u2500\u2500\u2500 + \u03b1 + 3\u239f                    \n",
        "  u\u2081 + 1           \u23a0                    \n",
        "\u2500\u2500\u2500\u2500\u2500\u2500\u2500\u2500\u2500\u2500\u2500\u2500\u2500\u2500\u2500\u2500\u2500\u2500\u2500\u2500 - \u2148\u22c5a\u22c5q\u22c5z\u2085 - \u2148\u22c5p\u22c5z\u2084\n",
        "+ 1)                                    \n",
        "                                        "
       ]
      }
     ],
     "prompt_number": 30
    },
    {
     "cell_type": "code",
     "collapsed": false,
     "input": [
      "Z[4] = factor(solve(eq2.expand().coeff(p), Z[4]))[0]\n",
      "Z[5] = factor(solve(eq2.expand().coeff(q), Z[5]))[0]"
     ],
     "language": "python",
     "metadata": {},
     "outputs": [],
     "prompt_number": 31
    },
    {
     "cell_type": "code",
     "collapsed": false,
     "input": [
      "#<psi^dag, psi^dag, psi>\n",
      "eq3 = D*Lambda*Z[6]+Di[7]+Di[8]+Di[9]\n",
      "eq3"
     ],
     "language": "python",
     "metadata": {},
     "outputs": [
      {
       "latex": [
        "$$- \\frac{D I_{e} \\Lambda^{3}}{2 \\epsilon} - \\frac{D I_{y} \\Lambda a \\alpha g_{1}}{y \\left(u_{1} + 1\\right)^{2}} \\left(- a + 1\\right) + \\frac{D I_{y} \\Lambda \\alpha g_{1} \\left(- a + 1\\right)^{2}}{2 y \\left(u_{1} + 1\\right)} + D \\Lambda z_{6}$$"
       ],
       "metadata": {},
       "output_type": "pyout",
       "png": "[encoded data removed]",
       "prompt_number": 32,
       "text": [
        "        3                                                  2         \n",
        "  D\u22c5I\u2091\u22c5\u039b    D\u22c5I_y\u22c5\u039b\u22c5a\u22c5\u03b1\u22c5g\u2081\u22c5(-a + 1)   D\u22c5I_y\u22c5\u039b\u22c5\u03b1\u22c5g\u2081\u22c5(-a + 1)          \n",
        "- \u2500\u2500\u2500\u2500\u2500\u2500\u2500 - \u2500\u2500\u2500\u2500\u2500\u2500\u2500\u2500\u2500\u2500\u2500\u2500\u2500\u2500\u2500\u2500\u2500\u2500\u2500\u2500\u2500\u2500\u2500 + \u2500\u2500\u2500\u2500\u2500\u2500\u2500\u2500\u2500\u2500\u2500\u2500\u2500\u2500\u2500\u2500\u2500\u2500\u2500\u2500\u2500\u2500 + D\u22c5\u039b\u22c5z\u2086\n",
        "    2\u22c5\u03b5                     2              2\u22c5y\u22c5(u\u2081 + 1)              \n",
        "                  y\u22c5(u\u2081 + 1)                                         "
       ]
      }
     ],
     "prompt_number": 32
    },
    {
     "cell_type": "code",
     "collapsed": false,
     "input": [
      "Z[6] = factor(solve(eq3, Z[6]))[0]"
     ],
     "language": "python",
     "metadata": {},
     "outputs": [],
     "prompt_number": 33
    },
    {
     "cell_type": "code",
     "collapsed": false,
     "input": [
      "#<psi^dag, psi, psi>\n",
      "eq4 = -D*Lambda*Z[7]+Di[10]+Di[11]+Di[12]\n",
      "eq4"
     ],
     "language": "python",
     "metadata": {},
     "outputs": [
      {
       "latex": [
        "$$\\frac{D I_{e} \\Lambda^{3}}{2 \\epsilon} - \\frac{D I_{y} \\Lambda a^{2} \\alpha g_{1}}{2 y \\left(u_{1} + 1\\right)} + \\frac{D I_{y} \\Lambda a \\alpha g_{1}}{y \\left(u_{1} + 1\\right)^{2}} \\left(- a + 1\\right) - D \\Lambda z_{7}$$"
       ],
       "metadata": {},
       "output_type": "pyout",
       "png": "[encoded data removed]",
       "prompt_number": 34,
       "text": [
        "      3            2                                        \n",
        "D\u22c5I\u2091\u22c5\u039b    D\u22c5I_y\u22c5\u039b\u22c5a \u22c5\u03b1\u22c5g\u2081   D\u22c5I_y\u22c5\u039b\u22c5a\u22c5\u03b1\u22c5g\u2081\u22c5(-a + 1)         \n",
        "\u2500\u2500\u2500\u2500\u2500\u2500\u2500 - \u2500\u2500\u2500\u2500\u2500\u2500\u2500\u2500\u2500\u2500\u2500\u2500\u2500\u2500\u2500 + \u2500\u2500\u2500\u2500\u2500\u2500\u2500\u2500\u2500\u2500\u2500\u2500\u2500\u2500\u2500\u2500\u2500\u2500\u2500\u2500\u2500\u2500\u2500 - D\u22c5\u039b\u22c5z\u2087\n",
        "  2\u22c5\u03b5       2\u22c5y\u22c5(u\u2081 + 1)                    2               \n",
        "                                  y\u22c5(u\u2081 + 1)                "
       ]
      }
     ],
     "prompt_number": 34
    },
    {
     "cell_type": "code",
     "collapsed": false,
     "input": [
      "Z[7] = factor(solve(eq4, Z[7]))[0]"
     ],
     "language": "python",
     "metadata": {},
     "outputs": [],
     "prompt_number": 35
    },
    {
     "cell_type": "code",
     "collapsed": false,
     "input": [
      "#<psi^dag, psi, v, v>\n",
      "eq5 = u2/D*Z[8]+Di[13]+Di[14]+Di[15]+Di[16]+Di[17]+Di[18]+Di[19]+Di[20]\n",
      "eq5"
     ],
     "language": "python",
     "metadata": {},
     "outputs": [
      {
       "latex": [
        "$$- \\frac{I_{e} \\Lambda^{2} u_{2}}{4 D \\epsilon} - \\frac{I_{y} a \\alpha g_{1} u_{2} \\left(- a + 1\\right)}{2 D y \\left(u_{1} + 1\\right)^{2}} - \\frac{I_{y} a \\alpha g_{1} u_{2}}{4 D y \\left(u_{1} + 1\\right)^{2}} + \\frac{I_{y} a \\alpha g_{1} \\left(- a + 1\\right)}{4 D y \\left(u_{1} + 1\\right)^{3}} - \\frac{I_{y} \\alpha g_{1} u_{2} \\left(- a + 1\\right)}{4 D y \\left(u_{1} + 1\\right)^{2}} + \\frac{I_{y} g_{1} u_{2}^{2} \\left(\\alpha + 3\\right)}{4 D y \\left(u_{1} + 1\\right)} + \\frac{u_{2} z_{8}}{D}$$"
       ],
       "metadata": {},
       "output_type": "pyout",
       "png": "[encoded data removed]",
       "prompt_number": 36,
       "text": [
        "      2                                                                       \n",
        "  I\u2091\u22c5\u039b \u22c5u\u2082   I_y\u22c5a\u22c5\u03b1\u22c5g\u2081\u22c5u\u2082\u22c5(-a + 1)    I_y\u22c5a\u22c5\u03b1\u22c5g\u2081\u22c5u\u2082    I_y\u22c5a\u22c5\u03b1\u22c5g\u2081\u22c5(-a + 1)   \n",
        "- \u2500\u2500\u2500\u2500\u2500\u2500\u2500\u2500 - \u2500\u2500\u2500\u2500\u2500\u2500\u2500\u2500\u2500\u2500\u2500\u2500\u2500\u2500\u2500\u2500\u2500\u2500\u2500\u2500\u2500\u2500 - \u2500\u2500\u2500\u2500\u2500\u2500\u2500\u2500\u2500\u2500\u2500\u2500\u2500\u2500\u2500 + \u2500\u2500\u2500\u2500\u2500\u2500\u2500\u2500\u2500\u2500\u2500\u2500\u2500\u2500\u2500\u2500\u2500\u2500\u2500 - \n",
        "   4\u22c5D\u22c5\u03b5                      2                     2                   3     \n",
        "                2\u22c5D\u22c5y\u22c5(u\u2081 + 1)        4\u22c5D\u22c5y\u22c5(u\u2081 + 1)      4\u22c5D\u22c5y\u22c5(u\u2081 + 1)      \n",
        "\n",
        "                                2                \n",
        "I_y\u22c5\u03b1\u22c5g\u2081\u22c5u\u2082\u22c5(-a + 1)   I_y\u22c5g\u2081\u22c5u\u2082 \u22c5(\u03b1 + 3)   u\u2082\u22c5z\u2088\n",
        "\u2500\u2500\u2500\u2500\u2500\u2500\u2500\u2500\u2500\u2500\u2500\u2500\u2500\u2500\u2500\u2500\u2500\u2500\u2500\u2500 + \u2500\u2500\u2500\u2500\u2500\u2500\u2500\u2500\u2500\u2500\u2500\u2500\u2500\u2500\u2500\u2500\u2500\u2500 + \u2500\u2500\u2500\u2500\u2500\n",
        "                2        4\u22c5D\u22c5y\u22c5(u\u2081 + 1)       D  \n",
        "  4\u22c5D\u22c5y\u22c5(u\u2081 + 1)                                 "
       ]
      }
     ],
     "prompt_number": 36
    },
    {
     "cell_type": "code",
     "collapsed": false,
     "input": [
      "Z[8] = factor(solve(eq5, Z[8]))[0]"
     ],
     "language": "python",
     "metadata": {},
     "outputs": [],
     "prompt_number": 37
    },
    {
     "cell_type": "markdown",
     "metadata": {},
     "source": [
      "<h2>Betta function</h2>"
     ]
    },
    {
     "cell_type": "code",
     "collapsed": false,
     "input": [
      "gam = {}\n",
      "#gam - gamma function\n",
      "gam['D'], gam['a'], gam['u2'], gam['g2'], gam['v']=\\\n",
      "symbols('gamma_D, gamma_a, gamma_u2, gamma_g2, gamma_v')"
     ],
     "language": "python",
     "metadata": {},
     "outputs": [],
     "prompt_number": 38
    },
    {
     "cell_type": "code",
     "collapsed": false,
     "input": [
      "bet = {}\n",
      "#bet - betta function\n",
      "bet['a'], bet['u2'], bet['u1'], bet['g2'], bet['g1']=\\\n",
      "symbols('beta_a, beta_u2, beta_u1, beta_g2, beta_g1')"
     ],
     "language": "python",
     "metadata": {},
     "outputs": [],
     "prompt_number": 39
    },
    {
     "cell_type": "code",
     "collapsed": false,
     "input": [
      "gam['D']=\\\n",
      "g1/(4*(1+u1))*(3+alpha*(u1-1)/(u1+1)+4*alpha*a*(1-a)/(1+u1)**2)+\\\n",
      "g2/8\n",
      "gam['D']"
     ],
     "language": "python",
     "metadata": {},
     "outputs": [
      {
       "latex": [
        "$$\\frac{g_{1}}{4 u_{1} + 4} \\left(\\frac{4 a \\alpha}{\\left(u_{1} + 1\\right)^{2}} \\left(- a + 1\\right) + \\frac{\\alpha \\left(u_{1} - 1\\right)}{u_{1} + 1} + 3\\right) + \\frac{g_{2}}{8}$$"
       ],
       "metadata": {},
       "output_type": "pyout",
       "png": "[encoded data removed]",
       "prompt_number": 40,
       "text": [
        "   \u239b4\u22c5a\u22c5\u03b1\u22c5(-a + 1)   \u03b1\u22c5(u\u2081 - 1)    \u239e     \n",
        "g\u2081\u22c5\u239c\u2500\u2500\u2500\u2500\u2500\u2500\u2500\u2500\u2500\u2500\u2500\u2500\u2500\u2500 + \u2500\u2500\u2500\u2500\u2500\u2500\u2500\u2500\u2500\u2500 + 3\u239f     \n",
        "   \u239c          2        u\u2081 + 1      \u239f     \n",
        "   \u239d  (u\u2081 + 1)                     \u23a0   g\u2082\n",
        "\u2500\u2500\u2500\u2500\u2500\u2500\u2500\u2500\u2500\u2500\u2500\u2500\u2500\u2500\u2500\u2500\u2500\u2500\u2500\u2500\u2500\u2500\u2500\u2500\u2500\u2500\u2500\u2500\u2500\u2500\u2500\u2500\u2500\u2500\u2500\u2500 + \u2500\u2500\n",
        "              4\u22c5u\u2081 + 4                 8 "
       ]
      }
     ],
     "prompt_number": 40
    },
    {
     "cell_type": "code",
     "collapsed": false,
     "input": [
      "gam['a'] = (1-2*a)*(g1*alpha*(1-a)/(2*(1+u1)**3)+\\\n",
      "g1*u2/(4*a*(1+u1))*(3+alpha-2*a/(1+u1))+\\\n",
      "g2/(8*a))\n",
      "gam['a']"
     ],
     "language": "python",
     "metadata": {},
     "outputs": [
      {
       "latex": [
        "$$\\left(- 2 a + 1\\right) \\left(\\frac{\\alpha g_{1} \\left(- a + 1\\right)}{2 \\left(u_{1} + 1\\right)^{3}} + \\frac{g_{1} u_{2}}{4 a \\left(u_{1} + 1\\right)} \\left(- \\frac{2 a}{u_{1} + 1} + \\alpha + 3\\right) + \\frac{g_{2}}{8 a}\\right)$$"
       ],
       "metadata": {},
       "output_type": "pyout",
       "png": "[encoded data removed]",
       "prompt_number": 41,
       "text": [
        "           \u239b                      \u239b   2\u22c5a          \u239e      \u239e\n",
        "           \u239c                g\u2081\u22c5u\u2082\u22c5\u239c- \u2500\u2500\u2500\u2500\u2500\u2500 + \u03b1 + 3\u239f      \u239f\n",
        "           \u239c\u03b1\u22c5g\u2081\u22c5(-a + 1)         \u239d  u\u2081 + 1        \u23a0    g\u2082\u239f\n",
        "(-2\u22c5a + 1)\u22c5\u239c\u2500\u2500\u2500\u2500\u2500\u2500\u2500\u2500\u2500\u2500\u2500\u2500\u2500 + \u2500\u2500\u2500\u2500\u2500\u2500\u2500\u2500\u2500\u2500\u2500\u2500\u2500\u2500\u2500\u2500\u2500\u2500\u2500\u2500\u2500\u2500\u2500\u2500 + \u2500\u2500\u2500\u239f\n",
        "           \u239c           3          4\u22c5a\u22c5(u\u2081 + 1)         8\u22c5a\u239f\n",
        "           \u239d 2\u22c5(u\u2081 + 1)                                   \u23a0"
       ]
      }
     ],
     "prompt_number": 41
    },
    {
     "cell_type": "code",
     "collapsed": false,
     "input": [
      "gam['u2']=g1*(1-2*u2)/(4*(1+u1))*(3+alpha*(u1-1)/(u1+1)+2*alpha*a*(1-a)/(u2*(1+u1)**2))-\\\n",
      "g2/8\n",
      "gam['u2']"
     ],
     "language": "python",
     "metadata": {},
     "outputs": [
      {
       "latex": [
        "$$\\frac{g_{1}}{4 u_{1} + 4} \\left(- 2 u_{2} + 1\\right) \\left(\\frac{2 a \\alpha \\left(- a + 1\\right)}{u_{2} \\left(u_{1} + 1\\right)^{2}} + \\frac{\\alpha \\left(u_{1} - 1\\right)}{u_{1} + 1} + 3\\right) - \\frac{g_{2}}{8}$$"
       ],
       "metadata": {},
       "output_type": "pyout",
       "png": "[encoded data removed]",
       "prompt_number": 42,
       "text": [
        "               \u239b2\u22c5a\u22c5\u03b1\u22c5(-a + 1)   \u03b1\u22c5(u\u2081 - 1)    \u239e     \n",
        "g\u2081\u22c5(-2\u22c5u\u2082 + 1)\u22c5\u239c\u2500\u2500\u2500\u2500\u2500\u2500\u2500\u2500\u2500\u2500\u2500\u2500\u2500\u2500 + \u2500\u2500\u2500\u2500\u2500\u2500\u2500\u2500\u2500\u2500 + 3\u239f     \n",
        "               \u239c            2      u\u2081 + 1      \u239f     \n",
        "               \u239d u\u2082\u22c5(u\u2081 + 1)                   \u23a0   g\u2082\n",
        "\u2500\u2500\u2500\u2500\u2500\u2500\u2500\u2500\u2500\u2500\u2500\u2500\u2500\u2500\u2500\u2500\u2500\u2500\u2500\u2500\u2500\u2500\u2500\u2500\u2500\u2500\u2500\u2500\u2500\u2500\u2500\u2500\u2500\u2500\u2500\u2500\u2500\u2500\u2500\u2500\u2500\u2500\u2500\u2500\u2500\u2500\u2500\u2500 - \u2500\u2500\n",
        "                    4\u22c5u\u2081 + 4                       8 "
       ]
      }
     ],
     "prompt_number": 42
    },
    {
     "cell_type": "code",
     "collapsed": false,
     "input": [
      "gam['g2']=-3*g1/(2*(1+u1))+\\\n",
      "g1*alpha/(1+u1)*((1-2*a)**2/2+(1-3*a*(1-a))/(1+u1)+2*a*(1-a)*u1/(1+u1)**2)-\\\n",
      "3*g2/2\n",
      "gam['g2']"
     ],
     "language": "python",
     "metadata": {},
     "outputs": [
      {
       "latex": [
        "$$\\frac{\\alpha g_{1}}{u_{1} + 1} \\left(\\frac{2 a u_{1}}{\\left(u_{1} + 1\\right)^{2}} \\left(- a + 1\\right) + \\frac{1}{2} \\left(- 2 a + 1\\right)^{2} + \\frac{1}{u_{1} + 1} \\left(- 3 a \\left(- a + 1\\right) + 1\\right)\\right) - \\frac{3 g_{1}}{2 u_{1} + 2} - \\frac{3 g_{2}}{2}$$"
       ],
       "metadata": {},
       "output_type": "pyout",
       "png": "[encoded data removed]",
       "prompt_number": 43,
       "text": [
        "     \u239b                            2                    \u239e                  \n",
        "     \u239c2\u22c5a\u22c5u\u2081\u22c5(-a + 1)   (-2\u22c5a + 1)    -3\u22c5a\u22c5(-a + 1) + 1\u239f                  \n",
        "\u03b1\u22c5g\u2081\u22c5\u239c\u2500\u2500\u2500\u2500\u2500\u2500\u2500\u2500\u2500\u2500\u2500\u2500\u2500\u2500\u2500 + \u2500\u2500\u2500\u2500\u2500\u2500\u2500\u2500\u2500\u2500\u2500 + \u2500\u2500\u2500\u2500\u2500\u2500\u2500\u2500\u2500\u2500\u2500\u2500\u2500\u2500\u2500\u2500\u2500\u239f                  \n",
        "     \u239c           2           2              u\u2081 + 1     \u239f                  \n",
        "     \u239d   (u\u2081 + 1)                                      \u23a0     3\u22c5g\u2081     3\u22c5g\u2082\n",
        "\u2500\u2500\u2500\u2500\u2500\u2500\u2500\u2500\u2500\u2500\u2500\u2500\u2500\u2500\u2500\u2500\u2500\u2500\u2500\u2500\u2500\u2500\u2500\u2500\u2500\u2500\u2500\u2500\u2500\u2500\u2500\u2500\u2500\u2500\u2500\u2500\u2500\u2500\u2500\u2500\u2500\u2500\u2500\u2500\u2500\u2500\u2500\u2500\u2500\u2500\u2500\u2500\u2500\u2500\u2500\u2500 - \u2500\u2500\u2500\u2500\u2500\u2500\u2500\u2500 - \u2500\u2500\u2500\u2500\n",
        "                         u\u2081 + 1                            2\u22c5u\u2081 + 2    2  "
       ]
      }
     ],
     "prompt_number": 43
    },
    {
     "cell_type": "code",
     "collapsed": false,
     "input": [
      "gam['v']=g1*alpha/(4*(1+u1)**2)*(4*a*(1-a)/(1+u1)-1)+\\\n",
      "g1*u2/(2*(1+u1))*(3+alpha*u1/(1+u1))\n",
      "gam['v']"
     ],
     "language": "python",
     "metadata": {},
     "outputs": [
      {
       "latex": [
        "$$\\frac{\\alpha g_{1}}{4 \\left(u_{1} + 1\\right)^{2}} \\left(\\frac{4 a \\left(- a + 1\\right)}{u_{1} + 1} - 1\\right) + \\frac{g_{1} u_{2} \\left(\\frac{\\alpha u_{1}}{u_{1} + 1} + 3\\right)}{2 u_{1} + 2}$$"
       ],
       "metadata": {},
       "output_type": "pyout",
       "png": "[encoded data removed]",
       "prompt_number": 44,
       "text": [
        "     \u239b4\u22c5a\u22c5(-a + 1)    \u239e         \u239b \u03b1\u22c5u\u2081     \u239e\n",
        "\u03b1\u22c5g\u2081\u22c5\u239c\u2500\u2500\u2500\u2500\u2500\u2500\u2500\u2500\u2500\u2500\u2500\u2500 - 1\u239f   g\u2081\u22c5u\u2082\u22c5\u239c\u2500\u2500\u2500\u2500\u2500\u2500 + 3\u239f\n",
        "     \u239d   u\u2081 + 1       \u23a0         \u239du\u2081 + 1    \u23a0\n",
        "\u2500\u2500\u2500\u2500\u2500\u2500\u2500\u2500\u2500\u2500\u2500\u2500\u2500\u2500\u2500\u2500\u2500\u2500\u2500\u2500\u2500\u2500\u2500 + \u2500\u2500\u2500\u2500\u2500\u2500\u2500\u2500\u2500\u2500\u2500\u2500\u2500\u2500\u2500\u2500\u2500\u2500\n",
        "                2              2\u22c5u\u2081 + 2     \n",
        "      4\u22c5(u\u2081 + 1)                            "
       ]
      }
     ],
     "prompt_number": 44
    },
    {
     "cell_type": "code",
     "collapsed": false,
     "input": [
      "bet['g1']=g1*(-y+2*gam['D']-2*gam['v'])\n",
      "bet['g1']"
     ],
     "language": "python",
     "metadata": {},
     "outputs": [
      {
       "latex": [
        "$$g_{1} \\left(- \\frac{\\alpha g_{1}}{2 \\left(u_{1} + 1\\right)^{2}} \\left(\\frac{4 a \\left(- a + 1\\right)}{u_{1} + 1} - 1\\right) - \\frac{2 g_{1} u_{2}}{2 u_{1} + 2} \\left(\\frac{\\alpha u_{1}}{u_{1} + 1} + 3\\right) + \\frac{2 g_{1}}{4 u_{1} + 4} \\left(\\frac{4 a \\alpha}{\\left(u_{1} + 1\\right)^{2}} \\left(- a + 1\\right) + \\frac{\\alpha \\left(u_{1} - 1\\right)}{u_{1} + 1} + 3\\right) + \\frac{g_{2}}{4} - y\\right)$$"
       ],
       "metadata": {},
       "output_type": "pyout",
       "png": "[encoded data removed]",
       "prompt_number": 45,
       "text": [
        "   \u239b                                                        \u239b4\u22c5a\u22c5\u03b1\u22c5(-a + 1)   \n",
        "   \u239c       \u239b4\u22c5a\u22c5(-a + 1)    \u239e           \u239b \u03b1\u22c5u\u2081     \u239e   2\u22c5g\u2081\u22c5\u239c\u2500\u2500\u2500\u2500\u2500\u2500\u2500\u2500\u2500\u2500\u2500\u2500\u2500\u2500 + \n",
        "   \u239c  \u03b1\u22c5g\u2081\u22c5\u239c\u2500\u2500\u2500\u2500\u2500\u2500\u2500\u2500\u2500\u2500\u2500\u2500 - 1\u239f   2\u22c5g\u2081\u22c5u\u2082\u22c5\u239c\u2500\u2500\u2500\u2500\u2500\u2500 + 3\u239f        \u239c          2      \n",
        "   \u239c       \u239d   u\u2081 + 1       \u23a0           \u239du\u2081 + 1    \u23a0        \u239d  (u\u2081 + 1)       \n",
        "g\u2081\u22c5\u239c- \u2500\u2500\u2500\u2500\u2500\u2500\u2500\u2500\u2500\u2500\u2500\u2500\u2500\u2500\u2500\u2500\u2500\u2500\u2500\u2500\u2500\u2500\u2500 - \u2500\u2500\u2500\u2500\u2500\u2500\u2500\u2500\u2500\u2500\u2500\u2500\u2500\u2500\u2500\u2500\u2500\u2500\u2500\u2500 + \u2500\u2500\u2500\u2500\u2500\u2500\u2500\u2500\u2500\u2500\u2500\u2500\u2500\u2500\u2500\u2500\u2500\u2500\u2500\u2500\u2500\u2500\u2500\n",
        "   \u239c                  2               2\u22c5u\u2081 + 2                        4\u22c5u\u2081 + 4\n",
        "   \u239d        2\u22c5(u\u2081 + 1)                                                        \n",
        "\n",
        "\u03b1\u22c5(u\u2081 - 1)    \u239e         \u239e\n",
        "\u2500\u2500\u2500\u2500\u2500\u2500\u2500\u2500\u2500\u2500 + 3\u239f         \u239f\n",
        "  u\u2081 + 1      \u239f         \u239f\n",
        "              \u23a0   g\u2082    \u239f\n",
        "\u2500\u2500\u2500\u2500\u2500\u2500\u2500\u2500\u2500\u2500\u2500\u2500\u2500\u2500\u2500 + \u2500\u2500 - y\u239f\n",
        "                  4     \u239f\n",
        "                        \u23a0"
       ]
      }
     ],
     "prompt_number": 45
    },
    {
     "cell_type": "code",
     "collapsed": false,
     "input": [
      "bet['g2']=g2*(-epsilon-gam['g2'])\n",
      "bet['g2']"
     ],
     "language": "python",
     "metadata": {},
     "outputs": [
      {
       "latex": [
        "$$g_{2} \\left(- \\frac{\\alpha g_{1}}{u_{1} + 1} \\left(\\frac{2 a u_{1}}{\\left(u_{1} + 1\\right)^{2}} \\left(- a + 1\\right) + \\frac{1}{2} \\left(- 2 a + 1\\right)^{2} + \\frac{1}{u_{1} + 1} \\left(- 3 a \\left(- a + 1\\right) + 1\\right)\\right) - \\epsilon + \\frac{3 g_{1}}{2 u_{1} + 2} + \\frac{3 g_{2}}{2}\\right)$$"
       ],
       "metadata": {},
       "output_type": "pyout",
       "png": "[encoded data removed]",
       "prompt_number": 46,
       "text": [
        "   \u239b       \u239b                            2                    \u239e                \n",
        "   \u239c       \u239c2\u22c5a\u22c5u\u2081\u22c5(-a + 1)   (-2\u22c5a + 1)    -3\u22c5a\u22c5(-a + 1) + 1\u239f                \n",
        "   \u239c  \u03b1\u22c5g\u2081\u22c5\u239c\u2500\u2500\u2500\u2500\u2500\u2500\u2500\u2500\u2500\u2500\u2500\u2500\u2500\u2500\u2500 + \u2500\u2500\u2500\u2500\u2500\u2500\u2500\u2500\u2500\u2500\u2500 + \u2500\u2500\u2500\u2500\u2500\u2500\u2500\u2500\u2500\u2500\u2500\u2500\u2500\u2500\u2500\u2500\u2500\u239f                \n",
        "   \u239c       \u239c           2           2              u\u2081 + 1     \u239f                \n",
        "   \u239c       \u239d   (u\u2081 + 1)                                      \u23a0         3\u22c5g\u2081   \n",
        "g\u2082\u22c5\u239c- \u2500\u2500\u2500\u2500\u2500\u2500\u2500\u2500\u2500\u2500\u2500\u2500\u2500\u2500\u2500\u2500\u2500\u2500\u2500\u2500\u2500\u2500\u2500\u2500\u2500\u2500\u2500\u2500\u2500\u2500\u2500\u2500\u2500\u2500\u2500\u2500\u2500\u2500\u2500\u2500\u2500\u2500\u2500\u2500\u2500\u2500\u2500\u2500\u2500\u2500\u2500\u2500\u2500\u2500\u2500\u2500 - \u03b5 + \u2500\u2500\u2500\u2500\u2500\u2500\u2500\u2500 \n",
        "   \u239d                           u\u2081 + 1                                2\u22c5u\u2081 + 2 \n",
        "\n",
        "      \u239e\n",
        "      \u239f\n",
        "      \u239f\n",
        "      \u239f\n",
        "  3\u22c5g\u2082\u239f\n",
        "+ \u2500\u2500\u2500\u2500\u239f\n",
        "   2  \u23a0"
       ]
      }
     ],
     "prompt_number": 46
    },
    {
     "cell_type": "code",
     "collapsed": false,
     "input": [
      "bet['u2']=-u2*gam['u2']\n",
      "bet['u2']"
     ],
     "language": "python",
     "metadata": {},
     "outputs": [
      {
       "latex": [
        "$$- u_{2} \\left(\\frac{g_{1}}{4 u_{1} + 4} \\left(- 2 u_{2} + 1\\right) \\left(\\frac{2 a \\alpha \\left(- a + 1\\right)}{u_{2} \\left(u_{1} + 1\\right)^{2}} + \\frac{\\alpha \\left(u_{1} - 1\\right)}{u_{1} + 1} + 3\\right) - \\frac{g_{2}}{8}\\right)$$"
       ],
       "metadata": {},
       "output_type": "pyout",
       "png": "[encoded data removed]",
       "prompt_number": 47,
       "text": [
        "    \u239b               \u239b2\u22c5a\u22c5\u03b1\u22c5(-a + 1)   \u03b1\u22c5(u\u2081 - 1)    \u239e     \u239e\n",
        "    \u239cg\u2081\u22c5(-2\u22c5u\u2082 + 1)\u22c5\u239c\u2500\u2500\u2500\u2500\u2500\u2500\u2500\u2500\u2500\u2500\u2500\u2500\u2500\u2500 + \u2500\u2500\u2500\u2500\u2500\u2500\u2500\u2500\u2500\u2500 + 3\u239f     \u239f\n",
        "    \u239c               \u239c            2      u\u2081 + 1      \u239f     \u239f\n",
        "    \u239c               \u239d u\u2082\u22c5(u\u2081 + 1)                   \u23a0   g\u2082\u239f\n",
        "-u\u2082\u22c5\u239c\u2500\u2500\u2500\u2500\u2500\u2500\u2500\u2500\u2500\u2500\u2500\u2500\u2500\u2500\u2500\u2500\u2500\u2500\u2500\u2500\u2500\u2500\u2500\u2500\u2500\u2500\u2500\u2500\u2500\u2500\u2500\u2500\u2500\u2500\u2500\u2500\u2500\u2500\u2500\u2500\u2500\u2500\u2500\u2500\u2500\u2500\u2500\u2500 - \u2500\u2500\u239f\n",
        "    \u239d                    4\u22c5u\u2081 + 4                       8 \u23a0"
       ]
      }
     ],
     "prompt_number": 47
    },
    {
     "cell_type": "code",
     "collapsed": false,
     "input": [
      "bet['u1']=u1*(-eta+gam['D'])\n",
      "bet['u1']"
     ],
     "language": "python",
     "metadata": {},
     "outputs": [
      {
       "latex": [
        "$$u_{1} \\left(- \\eta + \\frac{g_{1}}{4 u_{1} + 4} \\left(\\frac{4 a \\alpha}{\\left(u_{1} + 1\\right)^{2}} \\left(- a + 1\\right) + \\frac{\\alpha \\left(u_{1} - 1\\right)}{u_{1} + 1} + 3\\right) + \\frac{g_{2}}{8}\\right)$$"
       ],
       "metadata": {},
       "output_type": "pyout",
       "png": "[encoded data removed]",
       "prompt_number": 48,
       "text": [
        "   \u239b        \u239b4\u22c5a\u22c5\u03b1\u22c5(-a + 1)   \u03b1\u22c5(u\u2081 - 1)    \u239e     \u239e\n",
        "   \u239c     g\u2081\u22c5\u239c\u2500\u2500\u2500\u2500\u2500\u2500\u2500\u2500\u2500\u2500\u2500\u2500\u2500\u2500 + \u2500\u2500\u2500\u2500\u2500\u2500\u2500\u2500\u2500\u2500 + 3\u239f     \u239f\n",
        "   \u239c        \u239c          2        u\u2081 + 1      \u239f     \u239f\n",
        "   \u239c        \u239d  (u\u2081 + 1)                     \u23a0   g\u2082\u239f\n",
        "u\u2081\u22c5\u239c-\u03b7 + \u2500\u2500\u2500\u2500\u2500\u2500\u2500\u2500\u2500\u2500\u2500\u2500\u2500\u2500\u2500\u2500\u2500\u2500\u2500\u2500\u2500\u2500\u2500\u2500\u2500\u2500\u2500\u2500\u2500\u2500\u2500\u2500\u2500\u2500\u2500\u2500 + \u2500\u2500\u239f\n",
        "   \u239d                   4\u22c5u\u2081 + 4                 8 \u23a0"
       ]
      }
     ],
     "prompt_number": 48
    },
    {
     "cell_type": "code",
     "collapsed": false,
     "input": [
      "bet['a']=-a*gam['a']\n",
      "bet['a']"
     ],
     "language": "python",
     "metadata": {},
     "outputs": [
      {
       "latex": [
        "$$- a \\left(- 2 a + 1\\right) \\left(\\frac{\\alpha g_{1} \\left(- a + 1\\right)}{2 \\left(u_{1} + 1\\right)^{3}} + \\frac{g_{1} u_{2}}{4 a \\left(u_{1} + 1\\right)} \\left(- \\frac{2 a}{u_{1} + 1} + \\alpha + 3\\right) + \\frac{g_{2}}{8 a}\\right)$$"
       ],
       "metadata": {},
       "output_type": "pyout",
       "png": "[encoded data removed]",
       "prompt_number": 49,
       "text": [
        "              \u239b                      \u239b   2\u22c5a          \u239e      \u239e\n",
        "              \u239c                g\u2081\u22c5u\u2082\u22c5\u239c- \u2500\u2500\u2500\u2500\u2500\u2500 + \u03b1 + 3\u239f      \u239f\n",
        "              \u239c\u03b1\u22c5g\u2081\u22c5(-a + 1)         \u239d  u\u2081 + 1        \u23a0    g\u2082\u239f\n",
        "-a\u22c5(-2\u22c5a + 1)\u22c5\u239c\u2500\u2500\u2500\u2500\u2500\u2500\u2500\u2500\u2500\u2500\u2500\u2500\u2500 + \u2500\u2500\u2500\u2500\u2500\u2500\u2500\u2500\u2500\u2500\u2500\u2500\u2500\u2500\u2500\u2500\u2500\u2500\u2500\u2500\u2500\u2500\u2500\u2500 + \u2500\u2500\u2500\u239f\n",
        "              \u239c           3          4\u22c5a\u22c5(u\u2081 + 1)         8\u22c5a\u239f\n",
        "              \u239d 2\u22c5(u\u2081 + 1)                                   \u23a0"
       ]
      }
     ],
     "prompt_number": 49
    },
    {
     "cell_type": "code",
     "collapsed": false,
     "input": [
      "g1g1=diff(bet['g1'],g1); g1g2=diff(bet['g1'],g2); g1u1=diff(bet['g1'],u1);g1u2=diff(bet['g1'],u2);g1a=diff(bet['g1'],a);"
     ],
     "language": "python",
     "metadata": {},
     "outputs": [],
     "prompt_number": 51
    },
    {
     "cell_type": "code",
     "collapsed": false,
     "input": [
      "g2g1=diff(bet['g2'],g1); g2g2=diff(bet['g2'],g2); g2u1=diff(bet['g2'],u1);g2u2=diff(bet['g2'],u2);g2a=diff(bet['g2'],a);"
     ],
     "language": "python",
     "metadata": {},
     "outputs": [],
     "prompt_number": 52
    },
    {
     "cell_type": "code",
     "collapsed": false,
     "input": [
      "u1g1=diff(bet['u1'],g1); u1g2=diff(bet['u1'],g2); u1u1=diff(bet['u1'],u1);u1u2=diff(bet['g1'],u2);u1a=diff(bet['u1'],a);"
     ],
     "language": "python",
     "metadata": {},
     "outputs": [],
     "prompt_number": 53
    },
    {
     "cell_type": "code",
     "collapsed": false,
     "input": [
      "u2g1=diff(bet['u2'],g1); u2g2=diff(bet['u2'],g2); u2u1=diff(bet['u2'],u1);u2u2=diff(bet['g2'],u2);u2a=diff(bet['u2'],a);"
     ],
     "language": "python",
     "metadata": {},
     "outputs": [],
     "prompt_number": 54
    },
    {
     "cell_type": "code",
     "collapsed": false,
     "input": [
      "ag1=diff(bet['a'],g1); ag2=diff(bet['a'],g2); au1=diff(bet['a'],u1);au2=diff(bet['a'],u2);aa=diff(bet['a'],a);"
     ],
     "language": "python",
     "metadata": {},
     "outputs": [],
     "prompt_number": 55
    },
    {
     "cell_type": "code",
     "collapsed": false,
     "input": [
      "m = Matrix([[g1g1, g1g2,g1u1,g1u2,g1a],\n",
      "           [g2g1, g2g2,g2u1,g2u2,g2a],\n",
      "           [u1g1, u1g2,u1u1,u1u2,u1a],\n",
      "           [u2g1, u2g2,u2u1,u2u2,u2a],\n",
      "           [ag1, ag2,au1,au2,aa]])"
     ],
     "language": "python",
     "metadata": {},
     "outputs": [],
     "prompt_number": 57
    },
    {
     "cell_type": "code",
     "collapsed": false,
     "input": [
      "m"
     ],
     "language": "python",
     "metadata": {},
     "outputs": [
      {
       "latex": [
        "$$\\left[\\begin{smallmatrix}{}- \\frac{\\alpha g_{1}}{2 \\left(u_{1} + 1\\right)^{2}} \\left(\\frac{4 a \\left(- a + 1\\right)}{u_{1} + 1} - 1\\right) - \\frac{2 g_{1} u_{2}}{2 u_{1} + 2} \\left(\\frac{\\alpha u_{1}}{u_{1} + 1} + 3\\right) + g_{1} \\left(- \\frac{\\alpha}{2 \\left(u_{1} + 1\\right)^{2}} \\left(\\frac{4 a \\left(- a + 1\\right)}{u_{1} + 1} - 1\\right) - \\frac{2 u_{2} \\left(\\frac{\\alpha u_{1}}{u_{1} + 1} + 3\\right)}{2 u_{1} + 2} + \\frac{1}{4 u_{1} + 4} \\left(\\frac{8 a \\alpha}{\\left(u_{1} + 1\\right)^{2}} \\left(- a + 1\\right) + \\frac{2 \\alpha \\left(u_{1} - 1\\right)}{u_{1} + 1} + 6\\right)\\right) + \\frac{2 g_{1}}{4 u_{1} + 4} \\left(\\frac{4 a \\alpha}{\\left(u_{1} + 1\\right)^{2}} \\left(- a + 1\\right) + \\frac{\\alpha \\left(u_{1} - 1\\right)}{u_{1} + 1} + 3\\right) + \\frac{g_{2}}{4} - y & \\frac{g_{1}}{4} & g_{1} \\left(\\frac{2 a \\alpha g_{1}}{\\left(u_{1} + 1\\right)^{4}} \\left(- a + 1\\right) + \\frac{\\alpha g_{1}}{\\left(u_{1} + 1\\right)^{3}} \\left(\\frac{4 a \\left(- a + 1\\right)}{u_{1} + 1} - 1\\right) - \\frac{2 g_{1} u_{2}}{2 u_{1} + 2} \\left(- \\frac{\\alpha u_{1}}{\\left(u_{1} + 1\\right)^{2}} + \\frac{\\alpha}{u_{1} + 1}\\right) + \\frac{4 g_{1} u_{2}}{\\left(2 u_{1} + 2\\right)^{2}} \\left(\\frac{\\alpha u_{1}}{u_{1} + 1} + 3\\right) + \\frac{2 g_{1}}{4 u_{1} + 4} \\left(- \\frac{8 a \\alpha}{\\left(u_{1} + 1\\right)^{3}} \\left(- a + 1\\right) - \\frac{\\alpha \\left(u_{1} - 1\\right)}{\\left(u_{1} + 1\\right)^{2}} + \\frac{\\alpha}{u_{1} + 1}\\right) - \\frac{8 g_{1}}{\\left(4 u_{1} + 4\\right)^{2}} \\left(\\frac{4 a \\alpha}{\\left(u_{1} + 1\\right)^{2}} \\left(- a + 1\\right) + \\frac{\\alpha \\left(u_{1} - 1\\right)}{u_{1} + 1} + 3\\right)\\right) & - \\frac{2 g_{1}^{2} \\left(\\frac{\\alpha u_{1}}{u_{1} + 1} + 3\\right)}{2 u_{1} + 2} & g_{1} \\left(- \\frac{\\alpha g_{1}}{2 \\left(u_{1} + 1\\right)^{2}} \\left(- \\frac{4 a}{u_{1} + 1} + \\frac{- 4 a + 4}{u_{1} + 1}\\right) + \\frac{2 g_{1}}{4 u_{1} + 4} \\left(- \\frac{4 a \\alpha}{\\left(u_{1} + 1\\right)^{2}} + \\frac{4 \\alpha \\left(- a + 1\\right)}{\\left(u_{1} + 1\\right)^{2}}\\right)\\right)\\\\g_{2} \\left(- \\frac{\\alpha}{u_{1} + 1} \\left(\\frac{2 a u_{1}}{\\left(u_{1} + 1\\right)^{2}} \\left(- a + 1\\right) + \\frac{1}{2} \\left(- 2 a + 1\\right)^{2} + \\frac{1}{u_{1} + 1} \\left(- 3 a \\left(- a + 1\\right) + 1\\right)\\right) + \\frac{3}{2 u_{1} + 2}\\right) & - \\frac{\\alpha g_{1}}{u_{1} + 1} \\left(\\frac{2 a u_{1}}{\\left(u_{1} + 1\\right)^{2}} \\left(- a + 1\\right) + \\frac{1}{2} \\left(- 2 a + 1\\right)^{2} + \\frac{1}{u_{1} + 1} \\left(- 3 a \\left(- a + 1\\right) + 1\\right)\\right) - \\epsilon + \\frac{3 g_{1}}{2 u_{1} + 2} + 3 g_{2} & g_{2} \\left(- \\frac{\\alpha g_{1}}{u_{1} + 1} \\left(- \\frac{4 a u_{1}}{\\left(u_{1} + 1\\right)^{3}} \\left(- a + 1\\right) + \\frac{2 a \\left(- a + 1\\right)}{\\left(u_{1} + 1\\right)^{2}} - \\frac{1}{\\left(u_{1} + 1\\right)^{2}} \\left(- 3 a \\left(- a + 1\\right) + 1\\right)\\right) + \\frac{\\alpha g_{1}}{\\left(u_{1} + 1\\right)^{2}} \\left(\\frac{2 a u_{1}}{\\left(u_{1} + 1\\right)^{2}} \\left(- a + 1\\right) + \\frac{1}{2} \\left(- 2 a + 1\\right)^{2} + \\frac{1}{u_{1} + 1} \\left(- 3 a \\left(- a + 1\\right) + 1\\right)\\right) - \\frac{6 g_{1}}{\\left(2 u_{1} + 2\\right)^{2}}\\right) & 0 & - \\frac{\\alpha g_{1} g_{2}}{u_{1} + 1} \\left(- \\frac{2 a u_{1}}{\\left(u_{1} + 1\\right)^{2}} + 4 a + \\frac{2 u_{1} \\left(- a + 1\\right)}{\\left(u_{1} + 1\\right)^{2}} + \\frac{6 a - 3}{u_{1} + 1} - 2\\right)\\\\\\frac{u_{1}}{4 u_{1} + 4} \\left(\\frac{4 a \\alpha}{\\left(u_{1} + 1\\right)^{2}} \\left(- a + 1\\right) + \\frac{\\alpha \\left(u_{1} - 1\\right)}{u_{1} + 1} + 3\\right) & \\frac{u_{1}}{8} & - \\eta + \\frac{g_{1}}{4 u_{1} + 4} \\left(\\frac{4 a \\alpha}{\\left(u_{1} + 1\\right)^{2}} \\left(- a + 1\\right) + \\frac{\\alpha \\left(u_{1} - 1\\right)}{u_{1} + 1} + 3\\right) + \\frac{g_{2}}{8} + u_{1} \\left(\\frac{g_{1}}{4 u_{1} + 4} \\left(- \\frac{8 a \\alpha}{\\left(u_{1} + 1\\right)^{3}} \\left(- a + 1\\right) - \\frac{\\alpha \\left(u_{1} - 1\\right)}{\\left(u_{1} + 1\\right)^{2}} + \\frac{\\alpha}{u_{1} + 1}\\right) - \\frac{4 g_{1}}{\\left(4 u_{1} + 4\\right)^{2}} \\left(\\frac{4 a \\alpha}{\\left(u_{1} + 1\\right)^{2}} \\left(- a + 1\\right) + \\frac{\\alpha \\left(u_{1} - 1\\right)}{u_{1} + 1} + 3\\right)\\right) & - \\frac{2 g_{1}^{2} \\left(\\frac{\\alpha u_{1}}{u_{1} + 1} + 3\\right)}{2 u_{1} + 2} & \\frac{g_{1} u_{1}}{4 u_{1} + 4} \\left(- \\frac{4 a \\alpha}{\\left(u_{1} + 1\\right)^{2}} + \\frac{4 \\alpha \\left(- a + 1\\right)}{\\left(u_{1} + 1\\right)^{2}}\\right)\\\\- \\frac{u_{2}}{4 u_{1} + 4} \\left(- 2 u_{2} + 1\\right) \\left(\\frac{2 a \\alpha \\left(- a + 1\\right)}{u_{2} \\left(u_{1} + 1\\right)^{2}} + \\frac{\\alpha \\left(u_{1} - 1\\right)}{u_{1} + 1} + 3\\right) & \\frac{u_{2}}{8} & - u_{2} \\left(\\frac{g_{1}}{4 u_{1} + 4} \\left(- 2 u_{2} + 1\\right) \\left(- \\frac{4 a \\alpha \\left(- a + 1\\right)}{u_{2} \\left(u_{1} + 1\\right)^{3}} - \\frac{\\alpha \\left(u_{1} - 1\\right)}{\\left(u_{1} + 1\\right)^{2}} + \\frac{\\alpha}{u_{1} + 1}\\right) - \\frac{4 g_{1}}{\\left(4 u_{1} + 4\\right)^{2}} \\left(- 2 u_{2} + 1\\right) \\left(\\frac{2 a \\alpha \\left(- a + 1\\right)}{u_{2} \\left(u_{1} + 1\\right)^{2}} + \\frac{\\alpha \\left(u_{1} - 1\\right)}{u_{1} + 1} + 3\\right)\\right) & 0 & - \\frac{g_{1} u_{2}}{4 u_{1} + 4} \\left(- 2 u_{2} + 1\\right) \\left(- \\frac{2 a \\alpha}{u_{2} \\left(u_{1} + 1\\right)^{2}} + \\frac{2 \\alpha \\left(- a + 1\\right)}{u_{2} \\left(u_{1} + 1\\right)^{2}}\\right)\\\\- a \\left(- 2 a + 1\\right) \\left(\\frac{\\alpha \\left(- a + 1\\right)}{2 \\left(u_{1} + 1\\right)^{3}} + \\frac{u_{2} \\left(- \\frac{2 a}{u_{1} + 1} + \\alpha + 3\\right)}{4 a \\left(u_{1} + 1\\right)}\\right) & \\frac{a}{4} - \\frac{1}{8} & - a \\left(- 2 a + 1\\right) \\left(- \\frac{3 \\alpha g_{1} \\left(- a + 1\\right)}{2 \\left(u_{1} + 1\\right)^{4}} + \\frac{g_{1} u_{2}}{2 \\left(u_{1} + 1\\right)^{3}} - \\frac{g_{1} u_{2}}{4 a \\left(u_{1} + 1\\right)^{2}} \\left(- \\frac{2 a}{u_{1} + 1} + \\alpha + 3\\right)\\right) & - \\frac{g_{1}}{4 u_{1} + 4} \\left(- 2 a + 1\\right) \\left(- \\frac{2 a}{u_{1} + 1} + \\alpha + 3\\right) & - a \\left(- 2 a + 1\\right) \\left(- \\frac{\\alpha g_{1}}{2 \\left(u_{1} + 1\\right)^{3}} - \\frac{g_{1} u_{2}}{2 a \\left(u_{1} + 1\\right)^{2}} - \\frac{g_{1} u_{2}}{4 a^{2} \\left(u_{1} + 1\\right)} \\left(- \\frac{2 a}{u_{1} + 1} + \\alpha + 3\\right) - \\frac{g_{2}}{8 a^{2}}\\right) + 2 a \\left(\\frac{\\alpha g_{1} \\left(- a + 1\\right)}{2 \\left(u_{1} + 1\\right)^{3}} + \\frac{g_{1} u_{2}}{4 a \\left(u_{1} + 1\\right)} \\left(- \\frac{2 a}{u_{1} + 1} + \\alpha + 3\\right) + \\frac{g_{2}}{8 a}\\right) - \\left(- 2 a + 1\\right) \\left(\\frac{\\alpha g_{1} \\left(- a + 1\\right)}{2 \\left(u_{1} + 1\\right)^{3}} + \\frac{g_{1} u_{2}}{4 a \\left(u_{1} + 1\\right)} \\left(- \\frac{2 a}{u_{1} + 1} + \\alpha + 3\\right) + \\frac{g_{2}}{8 a}\\right)\\end{smallmatrix}\\right]$$"
       ],
       "metadata": {},
       "output_type": "pyout",
       "png": "[encoded data removed]",
       "prompt_number": 58,
       "text": [
        "\u23a1                                                      \u239b                      \n",
        "\u23a2       \u239b4\u22c5a\u22c5(-a + 1)    \u239e           \u239b \u03b1\u22c5u\u2081     \u239e      \u239c    \u239b4\u22c5a\u22c5(-a + 1)    \u239e\n",
        "\u23a2  \u03b1\u22c5g\u2081\u22c5\u239c\u2500\u2500\u2500\u2500\u2500\u2500\u2500\u2500\u2500\u2500\u2500\u2500 - 1\u239f   2\u22c5g\u2081\u22c5u\u2082\u22c5\u239c\u2500\u2500\u2500\u2500\u2500\u2500 + 3\u239f      \u239c  \u03b1\u22c5\u239c\u2500\u2500\u2500\u2500\u2500\u2500\u2500\u2500\u2500\u2500\u2500\u2500 - 1\u239f\n",
        "\u23a2       \u239d   u\u2081 + 1       \u23a0           \u239du\u2081 + 1    \u23a0      \u239c    \u239d   u\u2081 + 1       \u23a0\n",
        "\u23a2- \u2500\u2500\u2500\u2500\u2500\u2500\u2500\u2500\u2500\u2500\u2500\u2500\u2500\u2500\u2500\u2500\u2500\u2500\u2500\u2500\u2500\u2500\u2500 - \u2500\u2500\u2500\u2500\u2500\u2500\u2500\u2500\u2500\u2500\u2500\u2500\u2500\u2500\u2500\u2500\u2500\u2500\u2500\u2500 + g\u2081\u22c5\u239c- \u2500\u2500\u2500\u2500\u2500\u2500\u2500\u2500\u2500\u2500\u2500\u2500\u2500\u2500\u2500\u2500\u2500\u2500\u2500\u2500\n",
        "\u23a2                  2               2\u22c5u\u2081 + 2            \u239c                2     \n",
        "\u23a2        2\u22c5(u\u2081 + 1)                                    \u239d      2\u22c5(u\u2081 + 1)      \n",
        "\u23a2                                                                             \n",
        "\u23a2                                                            \u239b    \u239b           \n",
        "\u23a2                                                            \u239c    \u239c2\u22c5a\u22c5u\u2081\u22c5(-a \n",
        "\u23a2                                                            \u239c  \u03b1\u22c5\u239c\u2500\u2500\u2500\u2500\u2500\u2500\u2500\u2500\u2500\u2500\u2500\n",
        "\u23a2                                                            \u239c    \u239c           \n",
        "\u23a2                                                            \u239c    \u239d   (u\u2081 + 1)\n",
        "\u23a2                                                         g\u2082\u22c5\u239c- \u2500\u2500\u2500\u2500\u2500\u2500\u2500\u2500\u2500\u2500\u2500\u2500\u2500\u2500\n",
        "\u23a2                                                            \u239d                \n",
        "\u23a2                                                                             \n",
        "\u23a2                                                                             \n",
        "\u23a2                                                                             \n",
        "\u23a2                                                                           u\u2081\n",
        "\u23a2                                                                             \n",
        "\u23a2                                                                             \n",
        "\u23a2                                                                           \u2500\u2500\n",
        "\u23a2                                                                             \n",
        "\u23a2                                                                             \n",
        "\u23a2                                                                             \n",
        "\u23a2                                                                             \n",
        "\u23a2                                                                    -u\u2082\u22c5(-2\u22c5u\n",
        "\u23a2                                                                             \n",
        "\u23a2                                                                             \n",
        "\u23a2                                                                    \u2500\u2500\u2500\u2500\u2500\u2500\u2500\u2500\u2500\n",
        "\u23a2                                                                             \n",
        "\u23a2                                                                             \n",
        "\u23a2                                                                             \n",
        "\u23a2                                                                             \n",
        "\u23a2                                                                             \n",
        "\u23a2                                                                             \n",
        "\u23a2                                                                   -a\u22c5(-2\u22c5a +\n",
        "\u23a2                                                                             \n",
        "\u23a3                                                                             \n",
        "\n",
        "                         \u239b4\u22c5a\u22c5\u03b1\u22c5(-a + 1)   \u03b1\u22c5(u\u2081 - 1)    \u239e\u239e        \u239b4\u22c5a\u22c5\u03b1\u22c5(-a \n",
        "        \u239b \u03b1\u22c5u\u2081     \u239e   2\u22c5\u239c\u2500\u2500\u2500\u2500\u2500\u2500\u2500\u2500\u2500\u2500\u2500\u2500\u2500\u2500 + \u2500\u2500\u2500\u2500\u2500\u2500\u2500\u2500\u2500\u2500 + 3\u239f\u239f   2\u22c5g\u2081\u22c5\u239c\u2500\u2500\u2500\u2500\u2500\u2500\u2500\u2500\u2500\u2500\n",
        "   2\u22c5u\u2082\u22c5\u239c\u2500\u2500\u2500\u2500\u2500\u2500 + 3\u239f     \u239c          2        u\u2081 + 1      \u239f\u239f        \u239c          \n",
        "        \u239du\u2081 + 1    \u23a0     \u239d  (u\u2081 + 1)                     \u23a0\u239f        \u239d  (u\u2081 + 1)\n",
        " - \u2500\u2500\u2500\u2500\u2500\u2500\u2500\u2500\u2500\u2500\u2500\u2500\u2500\u2500\u2500\u2500\u2500 + \u2500\u2500\u2500\u2500\u2500\u2500\u2500\u2500\u2500\u2500\u2500\u2500\u2500\u2500\u2500\u2500\u2500\u2500\u2500\u2500\u2500\u2500\u2500\u2500\u2500\u2500\u2500\u2500\u2500\u2500\u2500\u2500\u2500\u2500\u2500\u239f + \u2500\u2500\u2500\u2500\u2500\u2500\u2500\u2500\u2500\u2500\u2500\u2500\u2500\u2500\u2500\u2500\n",
        "        2\u22c5u\u2081 + 2                     4\u22c5u\u2081 + 4             \u239f                  4\n",
        "                                                          \u23a0                   \n",
        "                                                                              \n",
        "                 2                    \u239e           \u239e                           \n",
        "+ 1)   (-2\u22c5a + 1)    -3\u22c5a\u22c5(-a + 1) + 1\u239f           \u239f                           \n",
        "\u2500\u2500\u2500\u2500 + \u2500\u2500\u2500\u2500\u2500\u2500\u2500\u2500\u2500\u2500\u2500 + \u2500\u2500\u2500\u2500\u2500\u2500\u2500\u2500\u2500\u2500\u2500\u2500\u2500\u2500\u2500\u2500\u2500\u239f           \u239f                           \n",
        "2           2              u\u2081 + 1     \u239f           \u239f                           \n",
        "                                      \u23a0      3    \u239f                           \n",
        "\u2500\u2500\u2500\u2500\u2500\u2500\u2500\u2500\u2500\u2500\u2500\u2500\u2500\u2500\u2500\u2500\u2500\u2500\u2500\u2500\u2500\u2500\u2500\u2500\u2500\u2500\u2500\u2500\u2500\u2500\u2500\u2500\u2500\u2500\u2500\u2500\u2500\u2500\u2500 + \u2500\u2500\u2500\u2500\u2500\u2500\u2500\u2500\u239f                           \n",
        "          u\u2081 + 1                          2\u22c5u\u2081 + 2\u23a0                           \n",
        "                                                                              \n",
        "                                                                              \n",
        " \u239b4\u22c5a\u22c5\u03b1\u22c5(-a + 1)   \u03b1\u22c5(u\u2081 - 1)    \u239e                                            \n",
        "\u22c5\u239c\u2500\u2500\u2500\u2500\u2500\u2500\u2500\u2500\u2500\u2500\u2500\u2500\u2500\u2500 + \u2500\u2500\u2500\u2500\u2500\u2500\u2500\u2500\u2500\u2500 + 3\u239f                                            \n",
        " \u239c          2        u\u2081 + 1      \u239f                                            \n",
        " \u239d  (u\u2081 + 1)                     \u23a0                                            \n",
        "\u2500\u2500\u2500\u2500\u2500\u2500\u2500\u2500\u2500\u2500\u2500\u2500\u2500\u2500\u2500\u2500\u2500\u2500\u2500\u2500\u2500\u2500\u2500\u2500\u2500\u2500\u2500\u2500\u2500\u2500\u2500\u2500\u2500\u2500                                            \n",
        "            4\u22c5u\u2081 + 4                                                          \n",
        "                                                                              \n",
        "                                                                              \n",
        "       \u239b2\u22c5a\u22c5\u03b1\u22c5(-a + 1)   \u03b1\u22c5(u\u2081 - 1)    \u239e                                      \n",
        "\u2082 + 1)\u22c5\u239c\u2500\u2500\u2500\u2500\u2500\u2500\u2500\u2500\u2500\u2500\u2500\u2500\u2500\u2500 + \u2500\u2500\u2500\u2500\u2500\u2500\u2500\u2500\u2500\u2500 + 3\u239f                                      \n",
        "       \u239c            2      u\u2081 + 1      \u239f                                      \n",
        "       \u239d u\u2082\u22c5(u\u2081 + 1)                   \u23a0                                      \n",
        "\u2500\u2500\u2500\u2500\u2500\u2500\u2500\u2500\u2500\u2500\u2500\u2500\u2500\u2500\u2500\u2500\u2500\u2500\u2500\u2500\u2500\u2500\u2500\u2500\u2500\u2500\u2500\u2500\u2500\u2500\u2500\u2500\u2500\u2500\u2500\u2500\u2500\u2500\u2500\u2500\u2500                                     \n",
        "            4\u22c5u\u2081 + 4                                                          \n",
        "                                                                              \n",
        "                                                                              \n",
        "    \u239b                 \u239b   2\u22c5a          \u239e\u239e                                     \n",
        "    \u239c              u\u2082\u22c5\u239c- \u2500\u2500\u2500\u2500\u2500\u2500 + \u03b1 + 3\u239f\u239f                                     \n",
        "    \u239c \u03b1\u22c5(-a + 1)      \u239d  u\u2081 + 1        \u23a0\u239f                                     \n",
        " 1)\u22c5\u239c\u2500\u2500\u2500\u2500\u2500\u2500\u2500\u2500\u2500\u2500\u2500 + \u2500\u2500\u2500\u2500\u2500\u2500\u2500\u2500\u2500\u2500\u2500\u2500\u2500\u2500\u2500\u2500\u2500\u2500\u2500\u2500\u2500\u239f                                     \n",
        "    \u239c          3        4\u22c5a\u22c5(u\u2081 + 1)    \u239f                                     \n",
        "    \u239d2\u22c5(u\u2081 + 1)                         \u23a0                                     \n",
        "\n",
        "+ 1)   \u03b1\u22c5(u\u2081 - 1)    \u239e                                                        \n",
        "\u2500\u2500\u2500\u2500 + \u2500\u2500\u2500\u2500\u2500\u2500\u2500\u2500\u2500\u2500 + 3\u239f                                                        \n",
        "2        u\u2081 + 1      \u239f                                                        \n",
        "                     \u23a0   g\u2082                                             g\u2081    \n",
        "\u2500\u2500\u2500\u2500\u2500\u2500\u2500\u2500\u2500\u2500\u2500\u2500\u2500\u2500\u2500\u2500\u2500\u2500\u2500\u2500\u2500\u2500 + \u2500\u2500 - y                                         \u2500\u2500    \n",
        "\u22c5u\u2081 + 4                  4                                              4     \n",
        "                                                                              \n",
        "                                                                              \n",
        "                                        \u239b                            2        \n",
        "                                        \u239c2\u22c5a\u22c5u\u2081\u22c5(-a + 1)   (-2\u22c5a + 1)    -3\u22c5a\u22c5\n",
        "                                   \u03b1\u22c5g\u2081\u22c5\u239c\u2500\u2500\u2500\u2500\u2500\u2500\u2500\u2500\u2500\u2500\u2500\u2500\u2500\u2500\u2500 + \u2500\u2500\u2500\u2500\u2500\u2500\u2500\u2500\u2500\u2500\u2500 + \u2500\u2500\u2500\u2500\u2500\n",
        "                                        \u239c           2           2             \n",
        "                                        \u239d   (u\u2081 + 1)                          \n",
        "                                 - \u2500\u2500\u2500\u2500\u2500\u2500\u2500\u2500\u2500\u2500\u2500\u2500\u2500\u2500\u2500\u2500\u2500\u2500\u2500\u2500\u2500\u2500\u2500\u2500\u2500\u2500\u2500\u2500\u2500\u2500\u2500\u2500\u2500\u2500\u2500\u2500\u2500\u2500\u2500\u2500\u2500\u2500\u2500\n",
        "                                                            u\u2081 + 1            \n",
        "                                                                              \n",
        "                                                                              \n",
        "                                                                              \n",
        "                                                                              \n",
        "                                                                              \n",
        "                                                                        u\u2081    \n",
        "                                                                        \u2500\u2500    \n",
        "                                                                        8     \n",
        "                                                                              \n",
        "                                                                              \n",
        "                                                                              \n",
        "                                                                              \n",
        "                                                                              \n",
        "                                                                        u\u2082    \n",
        "                                                                        \u2500\u2500    \n",
        "                                                                        8     \n",
        "                                                                              \n",
        "                                                                              \n",
        "                                                                              \n",
        "                                                                              \n",
        "                                                                      a   1   \n",
        "                                                                      \u2500 - \u2500   \n",
        "                                                                      4   8   \n",
        "                                                                              \n",
        "\n",
        "                                        \u239b                                     \n",
        "                                        \u239c                         \u239b4\u22c5a\u22c5(-a + 1\n",
        "                                        \u239c                    \u03b1\u22c5g\u2081\u22c5\u239c\u2500\u2500\u2500\u2500\u2500\u2500\u2500\u2500\u2500\u2500\u2500\n",
        "                                        \u239c2\u22c5a\u22c5\u03b1\u22c5g\u2081\u22c5(-a + 1)        \u239d   u\u2081 + 1  \n",
        "                                     g\u2081\u22c5\u239c\u2500\u2500\u2500\u2500\u2500\u2500\u2500\u2500\u2500\u2500\u2500\u2500\u2500\u2500\u2500\u2500\u2500 + \u2500\u2500\u2500\u2500\u2500\u2500\u2500\u2500\u2500\u2500\u2500\u2500\u2500\u2500\u2500\u2500\u2500\n",
        "                                        \u239c            4                      3 \n",
        "                                        \u239d    (u\u2081 + 1)               (u\u2081 + 1)  \n",
        "                                                                              \n",
        "            \u239e                                                      \u239b          \n",
        "(-a + 1) + 1\u239f                                                      \u239c       \u239b  \n",
        "\u2500\u2500\u2500\u2500\u2500\u2500\u2500\u2500\u2500\u2500\u2500\u2500\u239f                                                      \u239c  \u03b1\u22c5g\u2081\u22c5\u239c- \n",
        " u\u2081 + 1     \u239f                                                      \u239c       \u239c  \n",
        "            \u23a0         3\u22c5g\u2081                                         \u239c       \u239d  \n",
        "\u2500\u2500\u2500\u2500\u2500\u2500\u2500\u2500\u2500\u2500\u2500\u2500\u2500 - \u03b5 + \u2500\u2500\u2500\u2500\u2500\u2500\u2500\u2500 + 3\u22c5g\u2082                             g\u2082\u22c5\u239c- \u2500\u2500\u2500\u2500\u2500\u2500\u2500\u2500\n",
        "                    2\u22c5u\u2081 + 2                                       \u239c          \n",
        "                                                                   \u239d          \n",
        "                                                                              \n",
        "                                                                        \u239b4\u22c5a\u22c5\u03b1\n",
        "                                                                     g\u2081\u22c5\u239c\u2500\u2500\u2500\u2500\u2500\n",
        "                                                                        \u239c     \n",
        "                                                                        \u239d  (u\u2081\n",
        "                                                                -\u03b7 + \u2500\u2500\u2500\u2500\u2500\u2500\u2500\u2500\u2500\n",
        "                                                                              \n",
        "                                                                              \n",
        "                                                                              \n",
        "                                                                              \n",
        "                                                                              \n",
        "                                                                              \n",
        "                                                                              \n",
        "                                                                            -u\n",
        "                                                                              \n",
        "                                                                              \n",
        "                                                                              \n",
        "                                                                              \n",
        "                                                                              \n",
        "                                                                              \n",
        "                                                                              \n",
        "                                                                              \n",
        "                                                                              \n",
        "\n",
        "                 \u239b     \u03b1\u22c5u\u2081       \u03b1   \u239e                               \u239b  8\u22c5a\u22c5\u03b1\n",
        ")    \u239e   2\u22c5g\u2081\u22c5u\u2082\u22c5\u239c- \u2500\u2500\u2500\u2500\u2500\u2500\u2500\u2500\u2500 + \u2500\u2500\u2500\u2500\u2500\u2500\u239f           \u239b \u03b1\u22c5u\u2081     \u239e   2\u22c5g\u2081\u22c5\u239c- \u2500\u2500\u2500\u2500\u2500\n",
        "\u2500 - 1\u239f           \u239c          2   u\u2081 + 1\u239f   4\u22c5g\u2081\u22c5u\u2082\u22c5\u239c\u2500\u2500\u2500\u2500\u2500\u2500 + 3\u239f        \u239c       \n",
        "     \u23a0           \u239d  (u\u2081 + 1)          \u23a0           \u239du\u2081 + 1    \u23a0        \u239d    (u\u2081\n",
        "\u2500\u2500\u2500\u2500\u2500\u2500 - \u2500\u2500\u2500\u2500\u2500\u2500\u2500\u2500\u2500\u2500\u2500\u2500\u2500\u2500\u2500\u2500\u2500\u2500\u2500\u2500\u2500\u2500\u2500\u2500\u2500\u2500\u2500\u2500\u2500\u2500 + \u2500\u2500\u2500\u2500\u2500\u2500\u2500\u2500\u2500\u2500\u2500\u2500\u2500\u2500\u2500\u2500\u2500\u2500\u2500\u2500 + \u2500\u2500\u2500\u2500\u2500\u2500\u2500\u2500\u2500\u2500\u2500\u2500\u2500\n",
        "                    2\u22c5u\u2081 + 2                            2                     \n",
        "                                              (2\u22c5u\u2081 + 2)                      \n",
        "                                                                              \n",
        "                                                           \u239b                  \n",
        "4\u22c5a\u22c5u\u2081\u22c5(-a + 1)   2\u22c5a\u22c5(-a + 1)   -3\u22c5a\u22c5(-a + 1) + 1\u239e        \u239c2\u22c5a\u22c5u\u2081\u22c5(-a + 1)   \n",
        "\u2500\u2500\u2500\u2500\u2500\u2500\u2500\u2500\u2500\u2500\u2500\u2500\u2500\u2500\u2500 + \u2500\u2500\u2500\u2500\u2500\u2500\u2500\u2500\u2500\u2500\u2500\u2500 - \u2500\u2500\u2500\u2500\u2500\u2500\u2500\u2500\u2500\u2500\u2500\u2500\u2500\u2500\u2500\u2500\u2500\u239f   \u03b1\u22c5g\u2081\u22c5\u239c\u2500\u2500\u2500\u2500\u2500\u2500\u2500\u2500\u2500\u2500\u2500\u2500\u2500\u2500\u2500 + \n",
        "           3               2                 2    \u239f        \u239c           2      \n",
        "   (u\u2081 + 1)        (u\u2081 + 1)          (u\u2081 + 1)     \u23a0        \u239d   (u\u2081 + 1)       \n",
        "\u2500\u2500\u2500\u2500\u2500\u2500\u2500\u2500\u2500\u2500\u2500\u2500\u2500\u2500\u2500\u2500\u2500\u2500\u2500\u2500\u2500\u2500\u2500\u2500\u2500\u2500\u2500\u2500\u2500\u2500\u2500\u2500\u2500\u2500\u2500\u2500\u2500\u2500\u2500\u2500\u2500\u2500\u2500\u2500\u2500\u2500\u2500\u2500\u2500\u2500\u2500 + \u2500\u2500\u2500\u2500\u2500\u2500\u2500\u2500\u2500\u2500\u2500\u2500\u2500\u2500\u2500\u2500\u2500\u2500\u2500\u2500\u2500\u2500\u2500\u2500\n",
        "                   u\u2081 + 1                                                     \n",
        "                                                                             (\n",
        "                                                                              \n",
        "\u22c5(-a + 1)   \u03b1\u22c5(u\u2081 - 1)    \u239e           \u239b   \u239b  8\u22c5a\u22c5\u03b1\u22c5(-a + 1)   \u03b1\u22c5(u\u2081 - 1)     \u03b1\n",
        "\u2500\u2500\u2500\u2500\u2500\u2500\u2500\u2500\u2500 + \u2500\u2500\u2500\u2500\u2500\u2500\u2500\u2500\u2500\u2500 + 3\u239f           \u239cg\u2081\u22c5\u239c- \u2500\u2500\u2500\u2500\u2500\u2500\u2500\u2500\u2500\u2500\u2500\u2500\u2500\u2500 - \u2500\u2500\u2500\u2500\u2500\u2500\u2500\u2500\u2500\u2500 + \u2500\u2500\u2500\n",
        "     2        u\u2081 + 1      \u239f           \u239c   \u239c            3              2    u\u2081 \n",
        " + 1)                     \u23a0   g\u2082      \u239c   \u239d    (u\u2081 + 1)       (u\u2081 + 1)        \n",
        "\u2500\u2500\u2500\u2500\u2500\u2500\u2500\u2500\u2500\u2500\u2500\u2500\u2500\u2500\u2500\u2500\u2500\u2500\u2500\u2500\u2500\u2500\u2500\u2500\u2500\u2500\u2500 + \u2500\u2500 + u\u2081\u22c5\u239c\u2500\u2500\u2500\u2500\u2500\u2500\u2500\u2500\u2500\u2500\u2500\u2500\u2500\u2500\u2500\u2500\u2500\u2500\u2500\u2500\u2500\u2500\u2500\u2500\u2500\u2500\u2500\u2500\u2500\u2500\u2500\u2500\u2500\u2500\u2500\u2500\u2500\u2500\u2500\n",
        "     4\u22c5u\u2081 + 4                 8       \u239c                  4\u22c5u\u2081 + 4             \n",
        "                                      \u239d                                       \n",
        "                                                                              \n",
        "  \u239b               \u239b  4\u22c5a\u22c5\u03b1\u22c5(-a + 1)   \u03b1\u22c5(u\u2081 - 1)     \u03b1   \u239e                    \n",
        "  \u239cg\u2081\u22c5(-2\u22c5u\u2082 + 1)\u22c5\u239c- \u2500\u2500\u2500\u2500\u2500\u2500\u2500\u2500\u2500\u2500\u2500\u2500\u2500\u2500 - \u2500\u2500\u2500\u2500\u2500\u2500\u2500\u2500\u2500\u2500 + \u2500\u2500\u2500\u2500\u2500\u2500\u239f   4\u22c5g\u2081\u22c5(-2\u22c5u\u2082 + 1)\u22c5\n",
        "  \u239c               \u239c              3            2    u\u2081 + 1\u239f                    \n",
        "  \u239c               \u239d   u\u2082\u22c5(u\u2081 + 1)     (u\u2081 + 1)           \u23a0                    \n",
        "\u2082\u22c5\u239c\u2500\u2500\u2500\u2500\u2500\u2500\u2500\u2500\u2500\u2500\u2500\u2500\u2500\u2500\u2500\u2500\u2500\u2500\u2500\u2500\u2500\u2500\u2500\u2500\u2500\u2500\u2500\u2500\u2500\u2500\u2500\u2500\u2500\u2500\u2500\u2500\u2500\u2500\u2500\u2500\u2500\u2500\u2500\u2500\u2500\u2500\u2500\u2500\u2500\u2500\u2500\u2500\u2500\u2500\u2500 - \u2500\u2500\u2500\u2500\u2500\u2500\u2500\u2500\u2500\u2500\u2500\u2500\u2500\u2500\u2500\u2500\u2500\n",
        "  \u239c                        4\u22c5u\u2081 + 4                                           \n",
        "  \u239d                                                                           \n",
        "                                                                              \n",
        "                                \u239b                                        \u239b   2\n",
        "                                \u239c                                  g\u2081\u22c5u\u2082\u22c5\u239c- \u2500\u2500\n",
        "                                \u239c  3\u22c5\u03b1\u22c5g\u2081\u22c5(-a + 1)      g\u2081\u22c5u\u2082            \u239d  u\u2081\n",
        "                  -a\u22c5(-2\u22c5a + 1)\u22c5\u239c- \u2500\u2500\u2500\u2500\u2500\u2500\u2500\u2500\u2500\u2500\u2500\u2500\u2500\u2500\u2500 + \u2500\u2500\u2500\u2500\u2500\u2500\u2500\u2500\u2500\u2500\u2500 - \u2500\u2500\u2500\u2500\u2500\u2500\u2500\u2500\u2500\u2500\u2500\n",
        "                                \u239c              4               3              \n",
        "                                \u239d    2\u22c5(u\u2081 + 1)      2\u22c5(u\u2081 + 1)         4\u22c5a\u22c5(u\n",
        "\n",
        "\u22c5(-a + 1)   \u03b1\u22c5(u\u2081 - 1)     \u03b1   \u239e        \u239b4\u22c5a\u22c5\u03b1\u22c5(-a + 1)   \u03b1\u22c5(u\u2081 - 1)    \u239e\u239e    \n",
        "\u2500\u2500\u2500\u2500\u2500\u2500\u2500\u2500\u2500 - \u2500\u2500\u2500\u2500\u2500\u2500\u2500\u2500\u2500\u2500 + \u2500\u2500\u2500\u2500\u2500\u2500\u239f   8\u22c5g\u2081\u22c5\u239c\u2500\u2500\u2500\u2500\u2500\u2500\u2500\u2500\u2500\u2500\u2500\u2500\u2500\u2500 + \u2500\u2500\u2500\u2500\u2500\u2500\u2500\u2500\u2500\u2500 + 3\u239f\u239f    \n",
        "     3              2    u\u2081 + 1\u239f        \u239c          2        u\u2081 + 1      \u239f\u239f    \n",
        " + 1)       (u\u2081 + 1)           \u23a0        \u239d  (u\u2081 + 1)                     \u23a0\u239f    \n",
        "\u2500\u2500\u2500\u2500\u2500\u2500\u2500\u2500\u2500\u2500\u2500\u2500\u2500\u2500\u2500\u2500\u2500\u2500\u2500\u2500\u2500\u2500\u2500\u2500\u2500\u2500\u2500\u2500\u2500\u2500\u2500\u2500 - \u2500\u2500\u2500\u2500\u2500\u2500\u2500\u2500\u2500\u2500\u2500\u2500\u2500\u2500\u2500\u2500\u2500\u2500\u2500\u2500\u2500\u2500\u2500\u2500\u2500\u2500\u2500\u2500\u2500\u2500\u2500\u2500\u2500\u2500\u2500\u2500\u2500\u2500\u239f    \n",
        "      4\u22c5u\u2081 + 4                                            2              \u239f    \n",
        "                                                (4\u22c5u\u2081 + 4)               \u23a0    \n",
        "                                                                              \n",
        "          2                    \u239e              \u239e                               \n",
        "(-2\u22c5a + 1)    -3\u22c5a\u22c5(-a + 1) + 1\u239f              \u239f                               \n",
        "\u2500\u2500\u2500\u2500\u2500\u2500\u2500\u2500\u2500\u2500\u2500 + \u2500\u2500\u2500\u2500\u2500\u2500\u2500\u2500\u2500\u2500\u2500\u2500\u2500\u2500\u2500\u2500\u2500\u239f              \u239f                               \n",
        "     2              u\u2081 + 1     \u239f              \u239f                               \n",
        "                               \u23a0       6\u22c5g\u2081   \u239f                               \n",
        "\u2500\u2500\u2500\u2500\u2500\u2500\u2500\u2500\u2500\u2500\u2500\u2500\u2500\u2500\u2500\u2500\u2500\u2500\u2500\u2500\u2500\u2500\u2500\u2500\u2500\u2500\u2500\u2500\u2500\u2500\u2500\u2500 - \u2500\u2500\u2500\u2500\u2500\u2500\u2500\u2500\u2500\u2500\u2500\u239f                               \n",
        "       2                                     2\u239f                               \n",
        "u\u2081 + 1)                            (2\u22c5u\u2081 + 2) \u23a0                               \n",
        "                                                                              \n",
        "   \u239e        \u239b4\u22c5a\u22c5\u03b1\u22c5(-a + 1)   \u03b1\u22c5(u\u2081 - 1)    \u239e\u239e                                \n",
        "\u2500\u2500\u2500\u239f   4\u22c5g\u2081\u22c5\u239c\u2500\u2500\u2500\u2500\u2500\u2500\u2500\u2500\u2500\u2500\u2500\u2500\u2500\u2500 + \u2500\u2500\u2500\u2500\u2500\u2500\u2500\u2500\u2500\u2500 + 3\u239f\u239f                                \n",
        "+ 1\u239f        \u239c          2        u\u2081 + 1      \u239f\u239f                                \n",
        "   \u23a0        \u239d  (u\u2081 + 1)                     \u23a0\u239f                                \n",
        "\u2500\u2500\u2500\u2500 - \u2500\u2500\u2500\u2500\u2500\u2500\u2500\u2500\u2500\u2500\u2500\u2500\u2500\u2500\u2500\u2500\u2500\u2500\u2500\u2500\u2500\u2500\u2500\u2500\u2500\u2500\u2500\u2500\u2500\u2500\u2500\u2500\u2500\u2500\u2500\u2500\u2500\u2500\u239f                                \n",
        "                              2              \u239f                                \n",
        "                    (4\u22c5u\u2081 + 4)               \u23a0                                \n",
        "                                                                              \n",
        "\u239b2\u22c5a\u22c5\u03b1\u22c5(-a + 1)   \u03b1\u22c5(u\u2081 - 1)    \u239e\u239e                                            \n",
        "\u239c\u2500\u2500\u2500\u2500\u2500\u2500\u2500\u2500\u2500\u2500\u2500\u2500\u2500\u2500 + \u2500\u2500\u2500\u2500\u2500\u2500\u2500\u2500\u2500\u2500 + 3\u239f\u239f                                            \n",
        "\u239c            2      u\u2081 + 1      \u239f\u239f                                            \n",
        "\u239d u\u2082\u22c5(u\u2081 + 1)                   \u23a0\u239f                                            \n",
        "\u2500\u2500\u2500\u2500\u2500\u2500\u2500\u2500\u2500\u2500\u2500\u2500\u2500\u2500\u2500\u2500\u2500\u2500\u2500\u2500\u2500\u2500\u2500\u2500\u2500\u2500\u2500\u2500\u2500\u2500\u2500\u2500\u2500\u239f                                            \n",
        "            2                    \u239f                                            \n",
        "  (4\u22c5u\u2081 + 4)                     \u23a0                                            \n",
        "                                                                              \n",
        "\u22c5a          \u239e\u239e                                                                \n",
        "\u2500\u2500\u2500\u2500 + \u03b1 + 3\u239f\u239f                                                              -g\n",
        " + 1        \u23a0\u239f                                                                \n",
        "\u2500\u2500\u2500\u2500\u2500\u2500\u2500\u2500\u2500\u2500\u2500\u2500\u2500\u239f                                                              \u2500\u2500\n",
        "      2      \u239f                                                                \n",
        "\u2081 + 1)       \u23a0                                                                \n",
        "\n",
        "                                                                              \n",
        "          2 \u239b \u03b1\u22c5u\u2081     \u239e                                                      \n",
        "     -2\u22c5g\u2081 \u22c5\u239c\u2500\u2500\u2500\u2500\u2500\u2500 + 3\u239f                                                      \n",
        "            \u239du\u2081 + 1    \u23a0                                                      \n",
        "     \u2500\u2500\u2500\u2500\u2500\u2500\u2500\u2500\u2500\u2500\u2500\u2500\u2500\u2500\u2500\u2500\u2500\u2500\u2500\u2500                                                     \n",
        "           2\u22c5u\u2081 + 2                                                           \n",
        "                                                                              \n",
        "                                                                              \n",
        "                                                                              \n",
        "                                                                              \n",
        "                                                                              \n",
        "                                                                              \n",
        "                                                                              \n",
        "              0                                                               \n",
        "                                                                              \n",
        "                                                                              \n",
        "                                                                              \n",
        "                                                                              \n",
        "          2 \u239b \u03b1\u22c5u\u2081     \u239e                                                      \n",
        "     -2\u22c5g\u2081 \u22c5\u239c\u2500\u2500\u2500\u2500\u2500\u2500 + 3\u239f                                                      \n",
        "            \u239du\u2081 + 1    \u23a0                                                      \n",
        "     \u2500\u2500\u2500\u2500\u2500\u2500\u2500\u2500\u2500\u2500\u2500\u2500\u2500\u2500\u2500\u2500\u2500\u2500\u2500\u2500                                                     \n",
        "           2\u22c5u\u2081 + 2                                                           \n",
        "                                                                              \n",
        "                                                                              \n",
        "                                                                              \n",
        "                                                                              \n",
        "                                                                              \n",
        "                                                                              \n",
        "              0                                                               \n",
        "                                                                              \n",
        "                                                                              \n",
        "                                                                              \n",
        "             \u239b   2\u22c5a          \u239e                  \u239b                            \n",
        "\u2081\u22c5(-2\u22c5a + 1)\u22c5\u239c- \u2500\u2500\u2500\u2500\u2500\u2500 + \u03b1 + 3\u239f                  \u239c                            \n",
        "             \u239d  u\u2081 + 1        \u23a0                  \u239c      \u03b1\u22c5g\u2081          g\u2081\u22c5u\u2082   \n",
        "\u2500\u2500\u2500\u2500\u2500\u2500\u2500\u2500\u2500\u2500\u2500\u2500\u2500\u2500\u2500\u2500\u2500\u2500\u2500\u2500\u2500\u2500\u2500\u2500\u2500\u2500\u2500\u2500\u2500\u2500\u2500\u2500  - a\u22c5(-2\u22c5a + 1)\u22c5\u239c- \u2500\u2500\u2500\u2500\u2500\u2500\u2500\u2500\u2500\u2500\u2500 - \u2500\u2500\u2500\u2500\u2500\u2500\u2500\u2500\u2500\u2500\u2500\u2500\n",
        "          4\u22c5(u\u2081 + 1)                             \u239c            3               \n",
        "                                                 \u239d  2\u22c5(u\u2081 + 1)    2\u22c5a\u22c5(u\u2081 + 1)\n",
        "\n",
        "                      \u239b                                      \u239b    4\u22c5a\u22c5\u03b1     4\u22c5\n",
        "                      \u239c       \u239b   4\u22c5a     4\u22c5(-a + 1)\u239e   2\u22c5g\u2081\u22c5\u239c- \u2500\u2500\u2500\u2500\u2500\u2500\u2500\u2500\u2500 + \u2500\u2500\n",
        "                      \u239c  \u03b1\u22c5g\u2081\u22c5\u239c- \u2500\u2500\u2500\u2500\u2500\u2500 + \u2500\u2500\u2500\u2500\u2500\u2500\u2500\u2500\u2500\u2500\u239f        \u239c          2     \n",
        "                      \u239c       \u239d  u\u2081 + 1     u\u2081 + 1  \u23a0        \u239d  (u\u2081 + 1)     (\n",
        "                   g\u2081\u22c5\u239c- \u2500\u2500\u2500\u2500\u2500\u2500\u2500\u2500\u2500\u2500\u2500\u2500\u2500\u2500\u2500\u2500\u2500\u2500\u2500\u2500\u2500\u2500\u2500\u2500\u2500\u2500\u2500\u2500 + \u2500\u2500\u2500\u2500\u2500\u2500\u2500\u2500\u2500\u2500\u2500\u2500\u2500\u2500\u2500\u2500\u2500\u2500\u2500\u2500\u2500\u2500\n",
        "                      \u239c                    2                         4\u22c5u\u2081 + 4 \n",
        "                      \u239d          2\u22c5(u\u2081 + 1)                                   \n",
        "                                                                              \n",
        "                                                                              \n",
        "                                  \u239b    2\u22c5a\u22c5u\u2081          2\u22c5u\u2081\u22c5(-a + 1)   6\u22c5a - 3\n",
        "                         -\u03b1\u22c5g\u2081\u22c5g\u2082\u22c5\u239c- \u2500\u2500\u2500\u2500\u2500\u2500\u2500\u2500\u2500 + 4\u22c5a + \u2500\u2500\u2500\u2500\u2500\u2500\u2500\u2500\u2500\u2500\u2500\u2500\u2500 + \u2500\u2500\u2500\u2500\u2500\u2500\u2500\n",
        "                                  \u239c          2                   2      u\u2081 + 1\n",
        "                                  \u239d  (u\u2081 + 1)            (u\u2081 + 1)             \n",
        "                         \u2500\u2500\u2500\u2500\u2500\u2500\u2500\u2500\u2500\u2500\u2500\u2500\u2500\u2500\u2500\u2500\u2500\u2500\u2500\u2500\u2500\u2500\u2500\u2500\u2500\u2500\u2500\u2500\u2500\u2500\u2500\u2500\u2500\u2500\u2500\u2500\u2500\u2500\u2500\u2500\u2500\u2500\u2500\u2500\u2500\u2500\u2500\u2500\u2500\u2500\u2500\u2500\u2500\n",
        "                                                    u\u2081 + 1                    \n",
        "                                                                              \n",
        "                                                                              \n",
        "                                           \u239b    4\u22c5a\u22c5\u03b1     4\u22c5\u03b1\u22c5(-a + 1)\u239e       \n",
        "                                     g\u2081\u22c5u\u2081\u22c5\u239c- \u2500\u2500\u2500\u2500\u2500\u2500\u2500\u2500\u2500 + \u2500\u2500\u2500\u2500\u2500\u2500\u2500\u2500\u2500\u2500\u2500\u2500\u239f       \n",
        "                                           \u239c          2            2  \u239f       \n",
        "                                           \u239d  (u\u2081 + 1)     (u\u2081 + 1)   \u23a0       \n",
        "                                     \u2500\u2500\u2500\u2500\u2500\u2500\u2500\u2500\u2500\u2500\u2500\u2500\u2500\u2500\u2500\u2500\u2500\u2500\u2500\u2500\u2500\u2500\u2500\u2500\u2500\u2500\u2500\u2500\u2500\u2500\u2500\u2500\u2500\u2500       \n",
        "                                                  4\u22c5u\u2081 + 4                    \n",
        "                                                                              \n",
        "                                                                              \n",
        "                                                \u239b     2\u22c5a\u22c5\u03b1       2\u22c5\u03b1\u22c5(-a + 1)\n",
        "                             -g\u2081\u22c5u\u2082\u22c5(-2\u22c5u\u2082 + 1)\u22c5\u239c- \u2500\u2500\u2500\u2500\u2500\u2500\u2500\u2500\u2500\u2500\u2500\u2500 + \u2500\u2500\u2500\u2500\u2500\u2500\u2500\u2500\u2500\u2500\u2500\u2500\n",
        "                                                \u239c             2              2\n",
        "                                                \u239d  u\u2082\u22c5(u\u2081 + 1)    u\u2082\u22c5(u\u2081 + 1) \n",
        "                             \u2500\u2500\u2500\u2500\u2500\u2500\u2500\u2500\u2500\u2500\u2500\u2500\u2500\u2500\u2500\u2500\u2500\u2500\u2500\u2500\u2500\u2500\u2500\u2500\u2500\u2500\u2500\u2500\u2500\u2500\u2500\u2500\u2500\u2500\u2500\u2500\u2500\u2500\u2500\u2500\u2500\u2500\u2500\u2500\u2500\u2500\u2500\u2500\u2500\n",
        "                                                   4\u22c5u\u2081 + 4                   \n",
        "                                                                              \n",
        "                                                                              \n",
        "          \u239b   2\u22c5a          \u239e       \u239e       \u239b                      \u239b   2\u22c5a     \n",
        "    g\u2081\u22c5u\u2082\u22c5\u239c- \u2500\u2500\u2500\u2500\u2500\u2500 + \u03b1 + 3\u239f       \u239f       \u239c                g\u2081\u22c5u\u2082\u22c5\u239c- \u2500\u2500\u2500\u2500\u2500\u2500 + \n",
        "          \u239d  u\u2081 + 1        \u23a0    g\u2082 \u239f       \u239c\u03b1\u22c5g\u2081\u22c5(-a + 1)         \u239d  u\u2081 + 1   \n",
        "\u2500 - \u2500\u2500\u2500\u2500\u2500\u2500\u2500\u2500\u2500\u2500\u2500\u2500\u2500\u2500\u2500\u2500\u2500\u2500\u2500\u2500\u2500\u2500\u2500\u2500 - \u2500\u2500\u2500\u2500\u239f + 2\u22c5a\u22c5\u239c\u2500\u2500\u2500\u2500\u2500\u2500\u2500\u2500\u2500\u2500\u2500\u2500\u2500 + \u2500\u2500\u2500\u2500\u2500\u2500\u2500\u2500\u2500\u2500\u2500\u2500\u2500\u2500\u2500\u2500\u2500\u2500\n",
        "2           2                     2\u239f       \u239c           3          4\u22c5a\u22c5(u\u2081 + 1)\n",
        "         4\u22c5a \u22c5(u\u2081 + 1)         8\u22c5a \u23a0       \u239d 2\u22c5(u\u2081 + 1)                       \n",
        "\n",
        "\u03b1\u22c5(-a + 1)\u239e\u239e                                                               \u23a4\n",
        "\u2500\u2500\u2500\u2500\u2500\u2500\u2500\u2500\u2500\u2500\u239f\u239f                                                               \u23a5\n",
        "       2  \u239f\u239f                                                               \u23a5\n",
        "u\u2081 + 1)   \u23a0\u239f                                                               \u23a5\n",
        "\u2500\u2500\u2500\u2500\u2500\u2500\u2500\u2500\u2500\u2500\u2500\u239f                                                               \u23a5\n",
        "           \u239f                                                               \u23a5\n",
        "           \u23a0                                                               \u23a5\n",
        "                                                                           \u23a5\n",
        "                                                                           \u23a5\n",
        "    \u239e                                                                      \u23a5\n",
        " - 2\u239f                                                                      \u23a5\n",
        "    \u239f                                                                      \u23a5\n",
        "    \u23a0                                                                      \u23a5\n",
        "\u2500\u2500\u2500\u2500\u2500\u2500                                                                     \u23a5\n",
        "                                                                           \u23a5\n",
        "                                                                           \u23a5\n",
        "                                                                           \u23a5\n",
        "                                                                           \u23a5\n",
        "                                                                           \u23a5\n",
        "                                                                           \u23a5\n",
        "                                                                           \u23a5\n",
        "                                                                           \u23a5\n",
        "                                                                           \u23a5\n",
        "                                                                           \u23a5\n",
        "                                                                           \u23a5\n",
        "\u239e                                                                          \u23a5\n",
        "\u239f                                                                          \u23a5\n",
        "\u239f                                                                          \u23a5\n",
        "\u23a0                                                                          \u23a5\n",
        "\u2500\u2500                                                                         \u23a5\n",
        "                                                                           \u23a5\n",
        "                                                                           \u23a5\n",
        "                                                                           \u23a5\n",
        "     \u239e      \u239e              \u239b                      \u239b   2\u22c5a          \u239e      \u239e\u23a5\n",
        "\u03b1 + 3\u239f      \u239f              \u239c                g\u2081\u22c5u\u2082\u22c5\u239c- \u2500\u2500\u2500\u2500\u2500\u2500 + \u03b1 + 3\u239f      \u239f\u23a5\n",
        "     \u23a0    g\u2082\u239f              \u239c\u03b1\u22c5g\u2081\u22c5(-a + 1)         \u239d  u\u2081 + 1        \u23a0    g\u2082\u239f\u23a5\n",
        "\u2500\u2500\u2500\u2500\u2500\u2500 + \u2500\u2500\u2500\u239f - (-2\u22c5a + 1)\u22c5\u239c\u2500\u2500\u2500\u2500\u2500\u2500\u2500\u2500\u2500\u2500\u2500\u2500\u2500 + \u2500\u2500\u2500\u2500\u2500\u2500\u2500\u2500\u2500\u2500\u2500\u2500\u2500\u2500\u2500\u2500\u2500\u2500\u2500\u2500\u2500\u2500\u2500\u2500 + \u2500\u2500\u2500\u239f\u23a5\n",
        "         8\u22c5a\u239f              \u239c           3          4\u22c5a\u22c5(u\u2081 + 1)         8\u22c5a\u239f\u23a5\n",
        "            \u23a0              \u239d 2\u22c5(u\u2081 + 1)                                   \u23a0\u23a6"
       ]
      }
     ],
     "prompt_number": 58
    },
    {
     "cell_type": "code",
     "collapsed": false,
     "input": [
      "m.det()"
     ],
     "language": "python",
     "metadata": {},
     "outputs": [
      {
       "ename": "MemoryError",
       "evalue": "",
       "output_type": "pyerr",
       "traceback": [
        "\u001b[1;31m---------------------------------------------------------------------------\u001b[0m\n\u001b[1;31mMemoryError\u001b[0m                               Traceback (most recent call last)",
        "\u001b[1;32m<ipython-input-61-398222b460ca>\u001b[0m in \u001b[0;36m<module>\u001b[1;34m()\u001b[0m\n\u001b[1;32m----> 1\u001b[1;33m \u001b[0mm\u001b[0m\u001b[1;33m.\u001b[0m\u001b[0mdet\u001b[0m\u001b[1;33m(\u001b[0m\u001b[1;33m)\u001b[0m\u001b[1;33m\u001b[0m\u001b[0m\n\u001b[0m",
        "\u001b[1;32m/usr/lib/python2.7/site-packages/sympy/matrices/matrices.pyc\u001b[0m in \u001b[0;36mdet\u001b[1;34m(self, method)\u001b[0m\n\u001b[0;32m   2341\u001b[0m             \u001b[1;32mreturn\u001b[0m \u001b[0mS\u001b[0m\u001b[1;33m.\u001b[0m\u001b[0mOne\u001b[0m\u001b[1;33m\u001b[0m\u001b[0m\n\u001b[0;32m   2342\u001b[0m         \u001b[1;32mif\u001b[0m \u001b[0mmethod\u001b[0m \u001b[1;33m==\u001b[0m \u001b[1;34m\"bareis\"\u001b[0m\u001b[1;33m:\u001b[0m\u001b[1;33m\u001b[0m\u001b[0m\n\u001b[1;32m-> 2343\u001b[1;33m             \u001b[1;32mreturn\u001b[0m \u001b[0mself\u001b[0m\u001b[1;33m.\u001b[0m\u001b[0mdet_bareis\u001b[0m\u001b[1;33m(\u001b[0m\u001b[1;33m)\u001b[0m\u001b[1;33m\u001b[0m\u001b[0m\n\u001b[0m\u001b[0;32m   2344\u001b[0m         \u001b[1;32melif\u001b[0m \u001b[0mmethod\u001b[0m \u001b[1;33m==\u001b[0m \u001b[1;34m\"berkowitz\"\u001b[0m\u001b[1;33m:\u001b[0m\u001b[1;33m\u001b[0m\u001b[0m\n\u001b[0;32m   2345\u001b[0m             \u001b[1;32mreturn\u001b[0m \u001b[0mself\u001b[0m\u001b[1;33m.\u001b[0m\u001b[0mberkowitz_det\u001b[0m\u001b[1;33m(\u001b[0m\u001b[1;33m)\u001b[0m\u001b[1;33m\u001b[0m\u001b[0m\n",
        "\u001b[1;32m/usr/lib/python2.7/site-packages/sympy/matrices/matrices.pyc\u001b[0m in \u001b[0;36mdet_bareis\u001b[1;34m(self)\u001b[0m\n\u001b[0;32m   2407\u001b[0m                             \u001b[0mM\u001b[0m\u001b[1;33m[\u001b[0m\u001b[0mi\u001b[0m\u001b[1;33m,\u001b[0m \u001b[0mj\u001b[0m\u001b[1;33m]\u001b[0m \u001b[1;33m=\u001b[0m \u001b[0mD\u001b[0m\u001b[1;33m\u001b[0m\u001b[0m\n\u001b[0;32m   2408\u001b[0m                         \u001b[1;32melse\u001b[0m\u001b[1;33m:\u001b[0m\u001b[1;33m\u001b[0m\u001b[0m\n\u001b[1;32m-> 2409\u001b[1;33m                             \u001b[0mM\u001b[0m\u001b[1;33m[\u001b[0m\u001b[0mi\u001b[0m\u001b[1;33m,\u001b[0m \u001b[0mj\u001b[0m\u001b[1;33m]\u001b[0m \u001b[1;33m=\u001b[0m \u001b[0mcancel\u001b[0m\u001b[1;33m(\u001b[0m\u001b[0mD\u001b[0m\u001b[1;33m)\u001b[0m\u001b[1;33m\u001b[0m\u001b[0m\n\u001b[0m\u001b[0;32m   2410\u001b[0m \u001b[1;33m\u001b[0m\u001b[0m\n\u001b[0;32m   2411\u001b[0m             \u001b[0mdet\u001b[0m \u001b[1;33m=\u001b[0m \u001b[0msign\u001b[0m\u001b[1;33m*\u001b[0m\u001b[0mM\u001b[0m\u001b[1;33m[\u001b[0m\u001b[0mn\u001b[0m \u001b[1;33m-\u001b[0m \u001b[1;36m1\u001b[0m\u001b[1;33m,\u001b[0m \u001b[0mn\u001b[0m \u001b[1;33m-\u001b[0m \u001b[1;36m1\u001b[0m\u001b[1;33m]\u001b[0m\u001b[1;33m\u001b[0m\u001b[0m\n",
        "\u001b[1;32m/usr/lib/python2.7/site-packages/sympy/polys/polytools.pyc\u001b[0m in \u001b[0;36mcancel\u001b[1;34m(f, *gens, **args)\u001b[0m\n\u001b[0;32m   5953\u001b[0m \u001b[1;33m\u001b[0m\u001b[0m\n\u001b[0;32m   5954\u001b[0m     \u001b[1;32mtry\u001b[0m\u001b[1;33m:\u001b[0m\u001b[1;33m\u001b[0m\u001b[0m\n\u001b[1;32m-> 5955\u001b[1;33m         \u001b[1;33m(\u001b[0m\u001b[0mF\u001b[0m\u001b[1;33m,\u001b[0m \u001b[0mG\u001b[0m\u001b[1;33m)\u001b[0m\u001b[1;33m,\u001b[0m \u001b[0mopt\u001b[0m \u001b[1;33m=\u001b[0m \u001b[0mparallel_poly_from_expr\u001b[0m\u001b[1;33m(\u001b[0m\u001b[1;33m(\u001b[0m\u001b[0mp\u001b[0m\u001b[1;33m,\u001b[0m \u001b[0mq\u001b[0m\u001b[1;33m)\u001b[0m\u001b[1;33m,\u001b[0m \u001b[1;33m*\u001b[0m\u001b[0mgens\u001b[0m\u001b[1;33m,\u001b[0m \u001b[1;33m**\u001b[0m\u001b[0margs\u001b[0m\u001b[1;33m)\u001b[0m\u001b[1;33m\u001b[0m\u001b[0m\n\u001b[0m\u001b[0;32m   5956\u001b[0m     \u001b[1;32mexcept\u001b[0m \u001b[0mPolificationFailed\u001b[0m\u001b[1;33m:\u001b[0m\u001b[1;33m\u001b[0m\u001b[0m\n\u001b[0;32m   5957\u001b[0m         \u001b[1;32mif\u001b[0m \u001b[1;32mnot\u001b[0m \u001b[0misinstance\u001b[0m\u001b[1;33m(\u001b[0m\u001b[0mf\u001b[0m\u001b[1;33m,\u001b[0m \u001b[1;33m(\u001b[0m\u001b[0mtuple\u001b[0m\u001b[1;33m,\u001b[0m \u001b[0mTuple\u001b[0m\u001b[1;33m)\u001b[0m\u001b[1;33m)\u001b[0m\u001b[1;33m:\u001b[0m\u001b[1;33m\u001b[0m\u001b[0m\n",
        "\u001b[1;32m/usr/lib/python2.7/site-packages/sympy/polys/polytools.pyc\u001b[0m in \u001b[0;36mparallel_poly_from_expr\u001b[1;34m(exprs, *gens, **args)\u001b[0m\n\u001b[0;32m   3910\u001b[0m     \u001b[1;34m\"\"\"Construct polynomials from expressions. \"\"\"\u001b[0m\u001b[1;33m\u001b[0m\u001b[0m\n\u001b[0;32m   3911\u001b[0m     \u001b[0mopt\u001b[0m \u001b[1;33m=\u001b[0m \u001b[0moptions\u001b[0m\u001b[1;33m.\u001b[0m\u001b[0mbuild_options\u001b[0m\u001b[1;33m(\u001b[0m\u001b[0mgens\u001b[0m\u001b[1;33m,\u001b[0m \u001b[0margs\u001b[0m\u001b[1;33m)\u001b[0m\u001b[1;33m\u001b[0m\u001b[0m\n\u001b[1;32m-> 3912\u001b[1;33m     \u001b[1;32mreturn\u001b[0m \u001b[0m_parallel_poly_from_expr\u001b[0m\u001b[1;33m(\u001b[0m\u001b[0mexprs\u001b[0m\u001b[1;33m,\u001b[0m \u001b[0mopt\u001b[0m\u001b[1;33m)\u001b[0m\u001b[1;33m\u001b[0m\u001b[0m\n\u001b[0m\u001b[0;32m   3913\u001b[0m \u001b[1;33m\u001b[0m\u001b[0m\n\u001b[0;32m   3914\u001b[0m \u001b[1;33m\u001b[0m\u001b[0m\n",
        "\u001b[1;32m/usr/lib/python2.7/site-packages/sympy/polys/polytools.pyc\u001b[0m in \u001b[0;36m_parallel_poly_from_expr\u001b[1;34m(exprs, opt)\u001b[0m\n\u001b[0;32m   3947\u001b[0m \u001b[1;33m\u001b[0m\u001b[0m\n\u001b[0;32m   3948\u001b[0m                 \u001b[1;32mif\u001b[0m \u001b[0mopt\u001b[0m\u001b[1;33m.\u001b[0m\u001b[0mexpand\u001b[0m\u001b[1;33m:\u001b[0m\u001b[1;33m\u001b[0m\u001b[0m\n\u001b[1;32m-> 3949\u001b[1;33m                     \u001b[0mexpr\u001b[0m \u001b[1;33m=\u001b[0m \u001b[0mexpr\u001b[0m\u001b[1;33m.\u001b[0m\u001b[0mexpand\u001b[0m\u001b[1;33m(\u001b[0m\u001b[1;33m)\u001b[0m\u001b[1;33m\u001b[0m\u001b[0m\n\u001b[0m\u001b[0;32m   3950\u001b[0m         \u001b[1;32melse\u001b[0m\u001b[1;33m:\u001b[0m\u001b[1;33m\u001b[0m\u001b[0m\n\u001b[0;32m   3951\u001b[0m             \u001b[0mfailed\u001b[0m \u001b[1;33m=\u001b[0m \u001b[0mTrue\u001b[0m\u001b[1;33m\u001b[0m\u001b[0m\n",
        "\u001b[1;32m/usr/lib/python2.7/site-packages/sympy/core/cache.pyc\u001b[0m in \u001b[0;36mwrapper\u001b[1;34m(*args, **kw_args)\u001b[0m\n\u001b[0;32m     90\u001b[0m         \u001b[1;32mexcept\u001b[0m \u001b[0mKeyError\u001b[0m\u001b[1;33m:\u001b[0m\u001b[1;33m\u001b[0m\u001b[0m\n\u001b[0;32m     91\u001b[0m             \u001b[1;32mpass\u001b[0m\u001b[1;33m\u001b[0m\u001b[0m\n\u001b[1;32m---> 92\u001b[1;33m         \u001b[0mfunc_cache_it_cache\u001b[0m\u001b[1;33m[\u001b[0m\u001b[0mk\u001b[0m\u001b[1;33m]\u001b[0m \u001b[1;33m=\u001b[0m \u001b[0mr\u001b[0m \u001b[1;33m=\u001b[0m \u001b[0mfunc\u001b[0m\u001b[1;33m(\u001b[0m\u001b[1;33m*\u001b[0m\u001b[0margs\u001b[0m\u001b[1;33m,\u001b[0m \u001b[1;33m**\u001b[0m\u001b[0mkw_args\u001b[0m\u001b[1;33m)\u001b[0m\u001b[1;33m\u001b[0m\u001b[0m\n\u001b[0m\u001b[0;32m     93\u001b[0m         \u001b[1;32mreturn\u001b[0m \u001b[0mr\u001b[0m\u001b[1;33m\u001b[0m\u001b[0m\n\u001b[0;32m     94\u001b[0m     \u001b[1;32mreturn\u001b[0m \u001b[0mwrapper\u001b[0m\u001b[1;33m\u001b[0m\u001b[0m\n",
        "\u001b[1;32m/usr/lib/python2.7/site-packages/sympy/core/expr.pyc\u001b[0m in \u001b[0;36mexpand\u001b[1;34m(self, deep, modulus, power_base, power_exp, mul, log, multinomial, basic, **hints)\u001b[0m\n\u001b[0;32m   2853\u001b[0m             \u001b[1;32mif\u001b[0m \u001b[0muse_hint\u001b[0m\u001b[1;33m:\u001b[0m\u001b[1;33m\u001b[0m\u001b[0m\n\u001b[0;32m   2854\u001b[0m                 \u001b[0mhint\u001b[0m \u001b[1;33m=\u001b[0m \u001b[1;34m'_eval_expand_'\u001b[0m \u001b[1;33m+\u001b[0m \u001b[0mhint\u001b[0m\u001b[1;33m\u001b[0m\u001b[0m\n\u001b[1;32m-> 2855\u001b[1;33m                 \u001b[0mexpr\u001b[0m\u001b[1;33m,\u001b[0m \u001b[0mhit\u001b[0m \u001b[1;33m=\u001b[0m \u001b[0mExpr\u001b[0m\u001b[1;33m.\u001b[0m\u001b[0m_expand_hint\u001b[0m\u001b[1;33m(\u001b[0m\u001b[0mexpr\u001b[0m\u001b[1;33m,\u001b[0m \u001b[0mhint\u001b[0m\u001b[1;33m,\u001b[0m \u001b[0mdeep\u001b[0m\u001b[1;33m=\u001b[0m\u001b[0mdeep\u001b[0m\u001b[1;33m,\u001b[0m \u001b[1;33m**\u001b[0m\u001b[0mhints\u001b[0m\u001b[1;33m)\u001b[0m\u001b[1;33m\u001b[0m\u001b[0m\n\u001b[0m\u001b[0;32m   2856\u001b[0m \u001b[1;33m\u001b[0m\u001b[0m\n\u001b[0;32m   2857\u001b[0m         \u001b[1;32mwhile\u001b[0m \u001b[0mTrue\u001b[0m\u001b[1;33m:\u001b[0m\u001b[1;33m\u001b[0m\u001b[0m\n",
        "\u001b[1;32m/usr/lib/python2.7/site-packages/sympy/core/expr.pyc\u001b[0m in \u001b[0;36m_expand_hint\u001b[1;34m(expr, hint, deep, **hints)\u001b[0m\n\u001b[0;32m   2786\u001b[0m             \u001b[0msargs\u001b[0m \u001b[1;33m=\u001b[0m \u001b[1;33m[\u001b[0m\u001b[1;33m]\u001b[0m\u001b[1;33m\u001b[0m\u001b[0m\n\u001b[0;32m   2787\u001b[0m             \u001b[1;32mfor\u001b[0m \u001b[0marg\u001b[0m \u001b[1;32min\u001b[0m \u001b[0mexpr\u001b[0m\u001b[1;33m.\u001b[0m\u001b[0margs\u001b[0m\u001b[1;33m:\u001b[0m\u001b[1;33m\u001b[0m\u001b[0m\n\u001b[1;32m-> 2788\u001b[1;33m                 \u001b[0marg\u001b[0m\u001b[1;33m,\u001b[0m \u001b[0marghit\u001b[0m \u001b[1;33m=\u001b[0m \u001b[0mExpr\u001b[0m\u001b[1;33m.\u001b[0m\u001b[0m_expand_hint\u001b[0m\u001b[1;33m(\u001b[0m\u001b[0marg\u001b[0m\u001b[1;33m,\u001b[0m \u001b[0mhint\u001b[0m\u001b[1;33m,\u001b[0m \u001b[1;33m**\u001b[0m\u001b[0mhints\u001b[0m\u001b[1;33m)\u001b[0m\u001b[1;33m\u001b[0m\u001b[0m\n\u001b[0m\u001b[0;32m   2789\u001b[0m                 \u001b[0mhit\u001b[0m \u001b[1;33m|=\u001b[0m \u001b[0marghit\u001b[0m\u001b[1;33m\u001b[0m\u001b[0m\n\u001b[0;32m   2790\u001b[0m                 \u001b[0msargs\u001b[0m\u001b[1;33m.\u001b[0m\u001b[0mappend\u001b[0m\u001b[1;33m(\u001b[0m\u001b[0marg\u001b[0m\u001b[1;33m)\u001b[0m\u001b[1;33m\u001b[0m\u001b[0m\n",
        "\u001b[1;32m/usr/lib/python2.7/site-packages/sympy/core/expr.pyc\u001b[0m in \u001b[0;36m_expand_hint\u001b[1;34m(expr, hint, deep, **hints)\u001b[0m\n\u001b[0;32m   2786\u001b[0m             \u001b[0msargs\u001b[0m \u001b[1;33m=\u001b[0m \u001b[1;33m[\u001b[0m\u001b[1;33m]\u001b[0m\u001b[1;33m\u001b[0m\u001b[0m\n\u001b[0;32m   2787\u001b[0m             \u001b[1;32mfor\u001b[0m \u001b[0marg\u001b[0m \u001b[1;32min\u001b[0m \u001b[0mexpr\u001b[0m\u001b[1;33m.\u001b[0m\u001b[0margs\u001b[0m\u001b[1;33m:\u001b[0m\u001b[1;33m\u001b[0m\u001b[0m\n\u001b[1;32m-> 2788\u001b[1;33m                 \u001b[0marg\u001b[0m\u001b[1;33m,\u001b[0m \u001b[0marghit\u001b[0m \u001b[1;33m=\u001b[0m \u001b[0mExpr\u001b[0m\u001b[1;33m.\u001b[0m\u001b[0m_expand_hint\u001b[0m\u001b[1;33m(\u001b[0m\u001b[0marg\u001b[0m\u001b[1;33m,\u001b[0m \u001b[0mhint\u001b[0m\u001b[1;33m,\u001b[0m \u001b[1;33m**\u001b[0m\u001b[0mhints\u001b[0m\u001b[1;33m)\u001b[0m\u001b[1;33m\u001b[0m\u001b[0m\n\u001b[0m\u001b[0;32m   2789\u001b[0m                 \u001b[0mhit\u001b[0m \u001b[1;33m|=\u001b[0m \u001b[0marghit\u001b[0m\u001b[1;33m\u001b[0m\u001b[0m\n\u001b[0;32m   2790\u001b[0m                 \u001b[0msargs\u001b[0m\u001b[1;33m.\u001b[0m\u001b[0mappend\u001b[0m\u001b[1;33m(\u001b[0m\u001b[0marg\u001b[0m\u001b[1;33m)\u001b[0m\u001b[1;33m\u001b[0m\u001b[0m\n",
        "\u001b[1;32m/usr/lib/python2.7/site-packages/sympy/core/expr.pyc\u001b[0m in \u001b[0;36m_expand_hint\u001b[1;34m(expr, hint, deep, **hints)\u001b[0m\n\u001b[0;32m   2794\u001b[0m \u001b[1;33m\u001b[0m\u001b[0m\n\u001b[0;32m   2795\u001b[0m         \u001b[1;32mif\u001b[0m \u001b[0mhasattr\u001b[0m\u001b[1;33m(\u001b[0m\u001b[0mexpr\u001b[0m\u001b[1;33m,\u001b[0m \u001b[0mhint\u001b[0m\u001b[1;33m)\u001b[0m\u001b[1;33m:\u001b[0m\u001b[1;33m\u001b[0m\u001b[0m\n\u001b[1;32m-> 2796\u001b[1;33m             \u001b[0mnewexpr\u001b[0m \u001b[1;33m=\u001b[0m \u001b[0mgetattr\u001b[0m\u001b[1;33m(\u001b[0m\u001b[0mexpr\u001b[0m\u001b[1;33m,\u001b[0m \u001b[0mhint\u001b[0m\u001b[1;33m)\u001b[0m\u001b[1;33m(\u001b[0m\u001b[1;33m**\u001b[0m\u001b[0mhints\u001b[0m\u001b[1;33m)\u001b[0m\u001b[1;33m\u001b[0m\u001b[0m\n\u001b[0m\u001b[0;32m   2797\u001b[0m             \u001b[1;32mif\u001b[0m \u001b[0mnewexpr\u001b[0m \u001b[1;33m!=\u001b[0m \u001b[0mexpr\u001b[0m\u001b[1;33m:\u001b[0m\u001b[1;33m\u001b[0m\u001b[0m\n\u001b[0;32m   2798\u001b[0m                 \u001b[1;32mreturn\u001b[0m \u001b[1;33m(\u001b[0m\u001b[0mnewexpr\u001b[0m\u001b[1;33m,\u001b[0m \u001b[0mTrue\u001b[0m\u001b[1;33m)\u001b[0m\u001b[1;33m\u001b[0m\u001b[0m\n",
        "\u001b[1;32m/usr/lib/python2.7/site-packages/sympy/core/mul.pyc\u001b[0m in \u001b[0;36m_eval_expand_mul\u001b[1;34m(self, **hints)\u001b[0m\n\u001b[0;32m    736\u001b[0m             \u001b[0mplain\u001b[0m \u001b[1;33m=\u001b[0m \u001b[0mMul\u001b[0m\u001b[1;33m(\u001b[0m\u001b[1;33m*\u001b[0m\u001b[0mplain\u001b[0m\u001b[1;33m)\u001b[0m\u001b[1;33m\u001b[0m\u001b[0m\n\u001b[0;32m    737\u001b[0m             \u001b[1;32mif\u001b[0m \u001b[0msums\u001b[0m\u001b[1;33m:\u001b[0m\u001b[1;33m\u001b[0m\u001b[0m\n\u001b[1;32m--> 738\u001b[1;33m                 \u001b[0mterms\u001b[0m \u001b[1;33m=\u001b[0m \u001b[0mMul\u001b[0m\u001b[1;33m.\u001b[0m\u001b[0m_expandsums\u001b[0m\u001b[1;33m(\u001b[0m\u001b[0msums\u001b[0m\u001b[1;33m)\u001b[0m\u001b[1;33m\u001b[0m\u001b[0m\n\u001b[0m\u001b[0;32m    739\u001b[0m                 \u001b[0margs\u001b[0m \u001b[1;33m=\u001b[0m \u001b[1;33m[\u001b[0m\u001b[1;33m]\u001b[0m\u001b[1;33m\u001b[0m\u001b[0m\n\u001b[0;32m    740\u001b[0m                 \u001b[1;32mfor\u001b[0m \u001b[0mterm\u001b[0m \u001b[1;32min\u001b[0m \u001b[0mterms\u001b[0m\u001b[1;33m:\u001b[0m\u001b[1;33m\u001b[0m\u001b[0m\n",
        "\u001b[1;32m/usr/lib/python2.7/site-packages/sympy/core/mul.pyc\u001b[0m in \u001b[0;36m_expandsums\u001b[1;34m(sums)\u001b[0m\n\u001b[0;32m    700\u001b[0m         \u001b[0mterms\u001b[0m \u001b[1;33m=\u001b[0m \u001b[1;33m[\u001b[0m\u001b[1;33m]\u001b[0m\u001b[1;33m\u001b[0m\u001b[0m\n\u001b[0;32m    701\u001b[0m         \u001b[0mleft\u001b[0m \u001b[1;33m=\u001b[0m \u001b[0mMul\u001b[0m\u001b[1;33m.\u001b[0m\u001b[0m_expandsums\u001b[0m\u001b[1;33m(\u001b[0m\u001b[0msums\u001b[0m\u001b[1;33m[\u001b[0m\u001b[1;33m:\u001b[0m\u001b[0mL\u001b[0m\u001b[1;33m//\u001b[0m\u001b[1;36m2\u001b[0m\u001b[1;33m]\u001b[0m\u001b[1;33m)\u001b[0m\u001b[1;33m\u001b[0m\u001b[0m\n\u001b[1;32m--> 702\u001b[1;33m         \u001b[0mright\u001b[0m \u001b[1;33m=\u001b[0m \u001b[0mMul\u001b[0m\u001b[1;33m.\u001b[0m\u001b[0m_expandsums\u001b[0m\u001b[1;33m(\u001b[0m\u001b[0msums\u001b[0m\u001b[1;33m[\u001b[0m\u001b[0mL\u001b[0m\u001b[1;33m//\u001b[0m\u001b[1;36m2\u001b[0m\u001b[1;33m:\u001b[0m\u001b[1;33m]\u001b[0m\u001b[1;33m)\u001b[0m\u001b[1;33m\u001b[0m\u001b[0m\n\u001b[0m\u001b[0;32m    703\u001b[0m \u001b[1;33m\u001b[0m\u001b[0m\n\u001b[0;32m    704\u001b[0m         \u001b[0mterms\u001b[0m \u001b[1;33m=\u001b[0m \u001b[1;33m[\u001b[0m\u001b[0mMul\u001b[0m\u001b[1;33m(\u001b[0m\u001b[0ma\u001b[0m\u001b[1;33m,\u001b[0m \u001b[0mb\u001b[0m\u001b[1;33m)\u001b[0m \u001b[1;32mfor\u001b[0m \u001b[0ma\u001b[0m \u001b[1;32min\u001b[0m \u001b[0mleft\u001b[0m \u001b[1;32mfor\u001b[0m \u001b[0mb\u001b[0m \u001b[1;32min\u001b[0m \u001b[0mright\u001b[0m\u001b[1;33m]\u001b[0m\u001b[1;33m\u001b[0m\u001b[0m\n",
        "\u001b[1;32m/usr/lib/python2.7/site-packages/sympy/core/mul.pyc\u001b[0m in \u001b[0;36m_expandsums\u001b[1;34m(sums)\u001b[0m\n\u001b[0;32m    702\u001b[0m         \u001b[0mright\u001b[0m \u001b[1;33m=\u001b[0m \u001b[0mMul\u001b[0m\u001b[1;33m.\u001b[0m\u001b[0m_expandsums\u001b[0m\u001b[1;33m(\u001b[0m\u001b[0msums\u001b[0m\u001b[1;33m[\u001b[0m\u001b[0mL\u001b[0m\u001b[1;33m//\u001b[0m\u001b[1;36m2\u001b[0m\u001b[1;33m:\u001b[0m\u001b[1;33m]\u001b[0m\u001b[1;33m)\u001b[0m\u001b[1;33m\u001b[0m\u001b[0m\n\u001b[0;32m    703\u001b[0m \u001b[1;33m\u001b[0m\u001b[0m\n\u001b[1;32m--> 704\u001b[1;33m         \u001b[0mterms\u001b[0m \u001b[1;33m=\u001b[0m \u001b[1;33m[\u001b[0m\u001b[0mMul\u001b[0m\u001b[1;33m(\u001b[0m\u001b[0ma\u001b[0m\u001b[1;33m,\u001b[0m \u001b[0mb\u001b[0m\u001b[1;33m)\u001b[0m \u001b[1;32mfor\u001b[0m \u001b[0ma\u001b[0m \u001b[1;32min\u001b[0m \u001b[0mleft\u001b[0m \u001b[1;32mfor\u001b[0m \u001b[0mb\u001b[0m \u001b[1;32min\u001b[0m \u001b[0mright\u001b[0m\u001b[1;33m]\u001b[0m\u001b[1;33m\u001b[0m\u001b[0m\n\u001b[0m\u001b[0;32m    705\u001b[0m         \u001b[0madded\u001b[0m \u001b[1;33m=\u001b[0m \u001b[0mAdd\u001b[0m\u001b[1;33m(\u001b[0m\u001b[1;33m*\u001b[0m\u001b[0mterms\u001b[0m\u001b[1;33m)\u001b[0m\u001b[1;33m\u001b[0m\u001b[0m\n\u001b[0;32m    706\u001b[0m         \u001b[1;32mreturn\u001b[0m \u001b[0mAdd\u001b[0m\u001b[1;33m.\u001b[0m\u001b[0mmake_args\u001b[0m\u001b[1;33m(\u001b[0m\u001b[0madded\u001b[0m\u001b[1;33m)\u001b[0m  \u001b[1;31m# it may have collapsed down to one term\u001b[0m\u001b[1;33m\u001b[0m\u001b[0m\n",
        "\u001b[1;31mMemoryError\u001b[0m: "
       ]
      }
     ],
     "prompt_number": 61
    },
    {
     "cell_type": "code",
     "collapsed": false,
     "input": [],
     "language": "python",
     "metadata": {},
     "outputs": []
    }
   ],
   "metadata": {}
  }
 ]
}