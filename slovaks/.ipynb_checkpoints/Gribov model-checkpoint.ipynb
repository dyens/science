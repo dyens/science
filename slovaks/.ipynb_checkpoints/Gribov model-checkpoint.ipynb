{
 "metadata": {
  "name": ""
 },
 "nbformat": 3,
 "nbformat_minor": 0,
 "worksheets": [
  {
   "cells": [
    {
     "cell_type": "markdown",
     "metadata": {},
     "source": [
      "<style>\n",
      "\n",
      "</style>\n",
      "\n",
      "\n",
      "\n",
      "#Gribov model\n",
      "***\n",
      "##Some imports\n",
      " \n",
      "   We use <b>L</b>ambda instead <b>l</b>ambda, cause lambda us lambda function in python (lambda x,y: x**2)"
     ]
    },
    {
     "cell_type": "code",
     "collapsed": false,
     "input": [
      "from __future__ import division\n",
      "from sympy import *\n",
      "from sympy.interactive import printing\n",
      "printing.init_printing(use_latex=True)\n",
      "# commands starting with % are IPython commands\n",
      "%load_ext sympy.interactive.ipythonprinting\n",
      "\n",
      "# in older versions of sympy/ipython, use\n",
      "#%load_ext sympyprinting\n",
      "\n",
      "\n",
      "#I take Lambda instead lambda, because lambda is lambda function in python\n",
      "omega, Lambda, D, p, q, k, tau, u1, u2, g1, g2, y, eta, alpha, a, epsilon, xi, d, I_y, I_e = symbols('omega, Lambda, D, p, q, k, tau, u1, u2, g1, g2, y, eta, alpha, a, epsilon, xi, d, I_y, I_e')\n",
      "DDi = {}"
     ],
     "language": "python",
     "metadata": {},
     "outputs": [
      {
       "output_type": "stream",
       "stream": "stdout",
       "text": [
        "The sympy.interactive.ipythonprinting extension is already loaded. To reload it, use:\n",
        "  %reload_ext sympy.interactive.ipythonprinting\n"
       ]
      }
     ],
     "prompt_number": 739
    },
    {
     "cell_type": "markdown",
     "metadata": {},
     "source": [
      "##Definition of the graphs\n",
      "DDi is a dictionary of graphs.\n",
      "***\n",
      "$<\\psi^{\\dagger},\\psi>$-diagrams"
     ]
    },
    {
     "cell_type": "code",
     "collapsed": false,
     "input": [
      "#<psi^dag,psi>\n",
      "DDi[1] = -(p**2*g1*D*I_y)/(2*d*(1+u1)*y)*(d-1+alpha-(2*alpha)/(1+u1)+(alpha*a*(1-a))/(1+u1)*(4/(1+u1)-d)) - I*omega*g1*alpha*a(1-a)*I_y/(2*(1+u1)**2*y) + tau*D*g1*alpha*a*(1-a)*I_y/(2*(1+u1)**2*y)\n",
      "DDi[1]\n"
     ],
     "language": "python",
     "metadata": {},
     "outputs": [
      {
       "latex": [
        "$$\\frac{D I_{y} a \\alpha g_{1} \\tau \\left(- a + 1\\right)}{2 y \\left(u_{1} + 1\\right)^{2}} - \\frac{D I_{y} g_{1} p^{2}}{2 d y \\left(u_{1} + 1\\right)} \\left(\\frac{a \\alpha}{u_{1} + 1} \\left(- a + 1\\right) \\left(- d + \\frac{4}{u_{1} + 1}\\right) + \\alpha - \\frac{2 \\alpha}{u_{1} + 1} + d - 1\\right) - \\frac{i I_{y} \\alpha g_{1} \\omega}{2 y \\left(u_{1} + 1\\right)^{2}} a{\\left (- a + 1 \\right )}$$"
       ],
       "metadata": {},
       "output_type": "pyout",
       "png": "[encoded data removed]",
       "prompt_number": 740,
       "text": [
        "                                      \u239b             \u239b       4   \u239e             \n",
        "                                      \u239ca\u22c5\u03b1\u22c5(-a + 1)\u22c5\u239c-d + \u2500\u2500\u2500\u2500\u2500\u2500\u239f             \n",
        "                                    2 \u239c             \u239d     u\u2081 + 1\u23a0        2\u22c5\u03b1  \n",
        "                          D\u22c5I_y\u22c5g\u2081\u22c5p \u22c5\u239c\u2500\u2500\u2500\u2500\u2500\u2500\u2500\u2500\u2500\u2500\u2500\u2500\u2500\u2500\u2500\u2500\u2500\u2500\u2500\u2500\u2500\u2500\u2500\u2500\u2500\u2500 + \u03b1 - \u2500\u2500\u2500\u2500\u2500\u2500\n",
        "D\u22c5I_y\u22c5a\u22c5\u03b1\u22c5g\u2081\u22c5\u03c4\u22c5(-a + 1)               \u239d          u\u2081 + 1                 u\u2081 + 1\n",
        "\u2500\u2500\u2500\u2500\u2500\u2500\u2500\u2500\u2500\u2500\u2500\u2500\u2500\u2500\u2500\u2500\u2500\u2500\u2500\u2500\u2500\u2500\u2500 - \u2500\u2500\u2500\u2500\u2500\u2500\u2500\u2500\u2500\u2500\u2500\u2500\u2500\u2500\u2500\u2500\u2500\u2500\u2500\u2500\u2500\u2500\u2500\u2500\u2500\u2500\u2500\u2500\u2500\u2500\u2500\u2500\u2500\u2500\u2500\u2500\u2500\u2500\u2500\u2500\u2500\u2500\u2500\u2500\u2500\u2500\u2500\u2500\u2500\u2500\u2500\u2500\n",
        "                 2                                2\u22c5d\u22c5y\u22c5(u\u2081 + 1)              \n",
        "     2\u22c5y\u22c5(u\u2081 + 1)                                                             \n",
        "\n",
        "        \u239e                         \n",
        "        \u239f                         \n",
        "        \u239f                         \n",
        " + d - 1\u239f                         \n",
        "        \u23a0   \u2148\u22c5I_y\u22c5\u03b1\u22c5g\u2081\u22c5\u03c9\u22c5a(-a + 1)\n",
        "\u2500\u2500\u2500\u2500\u2500\u2500\u2500\u2500\u2500 - \u2500\u2500\u2500\u2500\u2500\u2500\u2500\u2500\u2500\u2500\u2500\u2500\u2500\u2500\u2500\u2500\u2500\u2500\u2500\u2500\u2500\u2500\n",
        "                            2     \n",
        "                2\u22c5y\u22c5(u\u2081 + 1)      "
       ]
      }
     ],
     "prompt_number": 740
    },
    {
     "cell_type": "code",
     "collapsed": false,
     "input": [
      "DDi[2] = -D**2*Lambda**2*I_e*(I*omega/(2*D) - tau - p**2*(d-2)/(2*d))/(2*D*epsilon)\n",
      "DDi[2]"
     ],
     "language": "python",
     "metadata": {},
     "outputs": [
      {
       "latex": [
        "$$- \\frac{D I_{e} \\Lambda^{2}}{2 \\epsilon} \\left(- \\tau - \\frac{p^{2} \\left(d - 2\\right)}{2 d} + \\frac{i \\omega}{2 D}\\right)$$"
       ],
       "metadata": {},
       "output_type": "pyout",
       "png": "[encoded data removed]",
       "prompt_number": 741,
       "text": [
        "         \u239b      2              \u239e \n",
        "       2 \u239c     p \u22c5(d - 2)   \u2148\u22c5\u03c9\u239f \n",
        "-D\u22c5I\u2091\u22c5\u039b \u22c5\u239c-\u03c4 - \u2500\u2500\u2500\u2500\u2500\u2500\u2500\u2500\u2500\u2500 + \u2500\u2500\u2500\u239f \n",
        "         \u239d        2\u22c5d       2\u22c5D\u23a0 \n",
        "\u2500\u2500\u2500\u2500\u2500\u2500\u2500\u2500\u2500\u2500\u2500\u2500\u2500\u2500\u2500\u2500\u2500\u2500\u2500\u2500\u2500\u2500\u2500\u2500\u2500\u2500\u2500\u2500\u2500\u2500\u2500\u2500\u2500\n",
        "               2\u22c5\u03b5               "
       ]
      }
     ],
     "prompt_number": 741
    },
    {
     "cell_type": "markdown",
     "metadata": {},
     "source": [
      "***\n",
      "$<\\psi^{\\dagger},\\psi,v>$ -diagrams"
     ]
    },
    {
     "cell_type": "code",
     "collapsed": false,
     "input": [
      "#<psi^dag, psi, v>\n",
      "DDi[3] = -1*(-1*D**2*Lambda**2)*I*I_e*(2*p+q*(a*d+3-d))/(4*d*D**2*epsilon)\n",
      "DDi[3]"
     ],
     "language": "python",
     "metadata": {},
     "outputs": [
      {
       "latex": [
        "$$\\frac{i I_{e} \\Lambda^{2}}{4 d \\epsilon} \\left(2 p + q \\left(a d - d + 3\\right)\\right)$$"
       ],
       "metadata": {},
       "output_type": "pyout",
       "png": "[encoded data removed]",
       "prompt_number": 742,
       "text": [
        "      2                        \n",
        "\u2148\u22c5I\u2091\u22c5\u039b \u22c5(2\u22c5p + q\u22c5(a\u22c5d - d + 3))\n",
        "\u2500\u2500\u2500\u2500\u2500\u2500\u2500\u2500\u2500\u2500\u2500\u2500\u2500\u2500\u2500\u2500\u2500\u2500\u2500\u2500\u2500\u2500\u2500\u2500\u2500\u2500\u2500\u2500\u2500\u2500\u2500\n",
        "             4\u22c5d\u22c5\u03b5             "
       ]
      }
     ],
     "prompt_number": 742
    },
    {
     "cell_type": "code",
     "collapsed": false,
     "input": [
      "DDi[4] = I*g1*alpha*I_y*((p+alpha*q)*(1/d+a-a**2) - 2*a*(1-a)*(2*p+q)/((1+u1)*d))/(2*(1+u1)**2*y)\n",
      "DDi[4]"
     ],
     "language": "python",
     "metadata": {},
     "outputs": [
      {
       "latex": [
        "$$\\frac{i I_{y} \\alpha g_{1}}{2 y \\left(u_{1} + 1\\right)^{2}} \\left(- \\frac{2 a}{d \\left(u_{1} + 1\\right)} \\left(- a + 1\\right) \\left(2 p + q\\right) + \\left(\\alpha q + p\\right) \\left(- a^{2} + a + \\frac{1}{d}\\right)\\right)$$"
       ],
       "metadata": {},
       "output_type": "pyout",
       "png": "[encoded data removed]",
       "prompt_number": 743,
       "text": [
        "           \u239b  2\u22c5a\u22c5(-a + 1)\u22c5(2\u22c5p + q)             \u239b   2       1\u239e\u239e\n",
        "\u2148\u22c5I_y\u22c5\u03b1\u22c5g\u2081\u22c5\u239c- \u2500\u2500\u2500\u2500\u2500\u2500\u2500\u2500\u2500\u2500\u2500\u2500\u2500\u2500\u2500\u2500\u2500\u2500\u2500\u2500\u2500\u2500 + (\u03b1\u22c5q + p)\u22c5\u239c- a  + a + \u2500\u239f\u239f\n",
        "           \u239d        d\u22c5(u\u2081 + 1)                   \u239d           d\u23a0\u23a0\n",
        "\u2500\u2500\u2500\u2500\u2500\u2500\u2500\u2500\u2500\u2500\u2500\u2500\u2500\u2500\u2500\u2500\u2500\u2500\u2500\u2500\u2500\u2500\u2500\u2500\u2500\u2500\u2500\u2500\u2500\u2500\u2500\u2500\u2500\u2500\u2500\u2500\u2500\u2500\u2500\u2500\u2500\u2500\u2500\u2500\u2500\u2500\u2500\u2500\u2500\u2500\u2500\u2500\u2500\u2500\u2500\u2500\u2500\u2500\u2500\u2500\u2500\u2500\u2500\u2500\n",
        "                                     2                          \n",
        "                         2\u22c5y\u22c5(u\u2081 + 1)                           "
       ]
      }
     ],
     "prompt_number": 743
    },
    {
     "cell_type": "code",
     "collapsed": false,
     "input": [
      "DDi[5] = -u2/D*I*p*g1*D*I_y*(d-1+alpha(1-2*a/(u1+1)))/(2*d*(1+u1)*y)\n",
      "DDi[5]"
     ],
     "language": "python",
     "metadata": {},
     "outputs": [
      {
       "latex": [
        "$$- \\frac{i I_{y} g_{1} p u_{2}}{2 d y \\left(u_{1} + 1\\right)} \\left(d + \\alpha{\\left (- \\frac{2 a}{u_{1} + 1} + 1 \\right )} - 1\\right)$$"
       ],
       "metadata": {},
       "output_type": "pyout",
       "png": "[encoded data removed]",
       "prompt_number": 744,
       "text": [
        "               \u239b     \u239b   2\u22c5a      \u239e    \u239e \n",
        "-\u2148\u22c5I_y\u22c5g\u2081\u22c5p\u22c5u\u2082\u22c5\u239cd + \u03b1\u239c- \u2500\u2500\u2500\u2500\u2500\u2500 + 1\u239f - 1\u239f \n",
        "               \u239d     \u239d  u\u2081 + 1    \u23a0    \u23a0 \n",
        "\u2500\u2500\u2500\u2500\u2500\u2500\u2500\u2500\u2500\u2500\u2500\u2500\u2500\u2500\u2500\u2500\u2500\u2500\u2500\u2500\u2500\u2500\u2500\u2500\u2500\u2500\u2500\u2500\u2500\u2500\u2500\u2500\u2500\u2500\u2500\u2500\u2500\u2500\u2500\u2500\u2500\n",
        "              2\u22c5d\u22c5y\u22c5(u\u2081 + 1)             "
       ]
      }
     ],
     "prompt_number": 744
    },
    {
     "cell_type": "code",
     "collapsed": false,
     "input": [
      "DDi[6] = -u2/D*I*(p+q)*g1*D*I_y*(d-1+alpha-2*alpha*(1-a)/(1+u1))/(2*d*(1+u1)*y)\n",
      "DDi[6]"
     ],
     "language": "python",
     "metadata": {},
     "outputs": [
      {
       "latex": [
        "$$- \\frac{i I_{y} g_{1} u_{2}}{2 d y \\left(u_{1} + 1\\right)} \\left(p + q\\right) \\left(- \\frac{2 \\alpha \\left(- a + 1\\right)}{u_{1} + 1} + \\alpha + d - 1\\right)$$"
       ],
       "metadata": {},
       "output_type": "pyout",
       "png": "[encoded data removed]",
       "prompt_number": 745,
       "text": [
        "                     \u239b  2\u22c5\u03b1\u22c5(-a + 1)            \u239e \n",
        "-\u2148\u22c5I_y\u22c5g\u2081\u22c5u\u2082\u22c5(p + q)\u22c5\u239c- \u2500\u2500\u2500\u2500\u2500\u2500\u2500\u2500\u2500\u2500\u2500\u2500 + \u03b1 + d - 1\u239f \n",
        "                     \u239d     u\u2081 + 1               \u23a0 \n",
        "\u2500\u2500\u2500\u2500\u2500\u2500\u2500\u2500\u2500\u2500\u2500\u2500\u2500\u2500\u2500\u2500\u2500\u2500\u2500\u2500\u2500\u2500\u2500\u2500\u2500\u2500\u2500\u2500\u2500\u2500\u2500\u2500\u2500\u2500\u2500\u2500\u2500\u2500\u2500\u2500\u2500\u2500\u2500\u2500\u2500\u2500\u2500\u2500\u2500\u2500\n",
        "                  2\u22c5d\u22c5y\u22c5(u\u2081 + 1)                  "
       ]
      }
     ],
     "prompt_number": 745
    },
    {
     "cell_type": "markdown",
     "metadata": {},
     "source": [
      "***\n",
      "$<\\psi^{\\dagger},\\psi^{\\dagger},\\psi>$ -diagrams"
     ]
    },
    {
     "cell_type": "code",
     "collapsed": false,
     "input": [
      "#<psi^dag, psi^dag, psi>\n",
      "DDi[7] = -D**3*Lambda**3*I_e/(4*D**2*epsilon)\n",
      "DDi[7]"
     ],
     "language": "python",
     "metadata": {},
     "outputs": [
      {
       "latex": [
        "$$- \\frac{D I_{e} \\Lambda^{3}}{4 \\epsilon}$$"
       ],
       "metadata": {},
       "output_type": "pyout",
       "png": "[encoded data removed]",
       "prompt_number": 746,
       "text": [
        "       3 \n",
        "-D\u22c5I\u2091\u22c5\u039b  \n",
        "\u2500\u2500\u2500\u2500\u2500\u2500\u2500\u2500\u2500\n",
        "   4\u22c5\u03b5   "
       ]
      }
     ],
     "prompt_number": 746
    },
    {
     "cell_type": "code",
     "collapsed": false,
     "input": [
      "DDi[8] = D*Lambda*alpha*g1*I_y*(1-a)**2/(2*y*(1+u1))\n",
      "DDi[8]"
     ],
     "language": "python",
     "metadata": {},
     "outputs": [
      {
       "latex": [
        "$$\\frac{D I_{y} \\Lambda \\alpha g_{1} \\left(- a + 1\\right)^{2}}{2 y \\left(u_{1} + 1\\right)}$$"
       ],
       "metadata": {},
       "output_type": "pyout",
       "png": "[encoded data removed]",
       "prompt_number": 747,
       "text": [
        "                     2\n",
        "D\u22c5I_y\u22c5\u039b\u22c5\u03b1\u22c5g\u2081\u22c5(-a + 1) \n",
        "\u2500\u2500\u2500\u2500\u2500\u2500\u2500\u2500\u2500\u2500\u2500\u2500\u2500\u2500\u2500\u2500\u2500\u2500\u2500\u2500\u2500\u2500\n",
        "     2\u22c5y\u22c5(u\u2081 + 1)     "
       ]
      }
     ],
     "prompt_number": 747
    },
    {
     "cell_type": "code",
     "collapsed": false,
     "input": [
      "DDi[9] = -D*Lambda*alpha*g1*a*(1-a)*I_y/(2*(1+u1)**2*y)\n",
      "DDi[9]"
     ],
     "language": "python",
     "metadata": {},
     "outputs": [
      {
       "latex": [
        "$$- \\frac{D I_{y} \\Lambda a \\alpha g_{1} \\left(- a + 1\\right)}{2 y \\left(u_{1} + 1\\right)^{2}}$$"
       ],
       "metadata": {},
       "output_type": "pyout",
       "png": "[encoded data removed]",
       "prompt_number": 748,
       "text": [
        "-D\u22c5I_y\u22c5\u039b\u22c5a\u22c5\u03b1\u22c5g\u2081\u22c5(-a + 1) \n",
        "\u2500\u2500\u2500\u2500\u2500\u2500\u2500\u2500\u2500\u2500\u2500\u2500\u2500\u2500\u2500\u2500\u2500\u2500\u2500\u2500\u2500\u2500\u2500\u2500\u2500\n",
        "                  2      \n",
        "      2\u22c5y\u22c5(u\u2081 + 1)       "
       ]
      }
     ],
     "prompt_number": 748
    },
    {
     "cell_type": "markdown",
     "metadata": {},
     "source": [
      "***\n",
      "$<\\psi^{\\dagger},\\psi,\\psi>$ -diagrams"
     ]
    },
    {
     "cell_type": "code",
     "collapsed": false,
     "input": [
      "#<psi, psi, psi^dag>\n",
      "DDi[10] = D**3*Lambda**3*I_e/(4*D**2*epsilon)\n",
      "DDi[10]"
     ],
     "language": "python",
     "metadata": {},
     "outputs": [
      {
       "latex": [
        "$$\\frac{D I_{e} \\Lambda^{3}}{4 \\epsilon}$$"
       ],
       "metadata": {},
       "output_type": "pyout",
       "png": "[encoded data removed]",
       "prompt_number": 749,
       "text": [
        "      3\n",
        "D\u22c5I\u2091\u22c5\u039b \n",
        "\u2500\u2500\u2500\u2500\u2500\u2500\u2500\n",
        "  4\u22c5\u03b5  "
       ]
      }
     ],
     "prompt_number": 749
    },
    {
     "cell_type": "code",
     "collapsed": false,
     "input": [
      "DDi[11] = -D*Lambda*alpha*g1*I_y*a**2/(2*y*(1+u1))\n",
      "DDi[11]"
     ],
     "language": "python",
     "metadata": {},
     "outputs": [
      {
       "latex": [
        "$$- \\frac{D I_{y} \\Lambda a^{2} \\alpha g_{1}}{2 y \\left(u_{1} + 1\\right)}$$"
       ],
       "metadata": {},
       "output_type": "pyout",
       "png": "[encoded data removed]",
       "prompt_number": 750,
       "text": [
        "          2      \n",
        "-D\u22c5I_y\u22c5\u039b\u22c5a \u22c5\u03b1\u22c5g\u2081 \n",
        "\u2500\u2500\u2500\u2500\u2500\u2500\u2500\u2500\u2500\u2500\u2500\u2500\u2500\u2500\u2500\u2500\u2500\n",
        "   2\u22c5y\u22c5(u\u2081 + 1)  "
       ]
      }
     ],
     "prompt_number": 750
    },
    {
     "cell_type": "code",
     "collapsed": false,
     "input": [
      "DDi[12] = -D*Lambda*(-1)*alpha*g1*a*(1-a)*I_y/(2*(1+u1)**2*y)\n",
      "DDi[12]"
     ],
     "language": "python",
     "metadata": {},
     "outputs": [
      {
       "latex": [
        "$$\\frac{D I_{y} \\Lambda a \\alpha g_{1} \\left(- a + 1\\right)}{2 y \\left(u_{1} + 1\\right)^{2}}$$"
       ],
       "metadata": {},
       "output_type": "pyout",
       "png": "[encoded data removed]",
       "prompt_number": 751,
       "text": [
        "D\u22c5I_y\u22c5\u039b\u22c5a\u22c5\u03b1\u22c5g\u2081\u22c5(-a + 1)\n",
        "\u2500\u2500\u2500\u2500\u2500\u2500\u2500\u2500\u2500\u2500\u2500\u2500\u2500\u2500\u2500\u2500\u2500\u2500\u2500\u2500\u2500\u2500\u2500\n",
        "                 2     \n",
        "     2\u22c5y\u22c5(u\u2081 + 1)      "
       ]
      }
     ],
     "prompt_number": 751
    },
    {
     "cell_type": "markdown",
     "metadata": {},
     "source": [
      "***\n",
      "$<\\psi^{\\dagger},\\psi,v ,v>$ -diagrams"
     ]
    },
    {
     "cell_type": "code",
     "collapsed": false,
     "input": [
      "#<psi, psi^dag, v, v>\n",
      "DDi[13] = -D**2*Lambda**2*(-1)*I_e/(8*d*D**3*epsilon)\n",
      "DDi[13]"
     ],
     "language": "python",
     "metadata": {},
     "outputs": [
      {
       "latex": [
        "$$\\frac{I_{e} \\Lambda^{2}}{8 D d \\epsilon}$$"
       ],
       "metadata": {},
       "output_type": "pyout",
       "png": "[encoded data removed]",
       "prompt_number": 752,
       "text": [
        "     2 \n",
        " I\u2091\u22c5\u039b  \n",
        "\u2500\u2500\u2500\u2500\u2500\u2500\u2500\n",
        "8\u22c5D\u22c5d\u22c5\u03b5"
       ]
      }
     ],
     "prompt_number": 752
    },
    {
     "cell_type": "code",
     "collapsed": false,
     "input": [
      "DDi[14] = g1*alpha*a*(1-a)*I_y/(2*d*(1+u1)**3*D*y)\n",
      "DDi[14]"
     ],
     "language": "python",
     "metadata": {},
     "outputs": [
      {
       "latex": [
        "$$\\frac{I_{y} a \\alpha g_{1} \\left(- a + 1\\right)}{2 D d y \\left(u_{1} + 1\\right)^{3}}$$"
       ],
       "metadata": {},
       "output_type": "pyout",
       "png": "[encoded data removed]",
       "prompt_number": 753,
       "text": [
        "I_y\u22c5a\u22c5\u03b1\u22c5g\u2081\u22c5(-a + 1)\n",
        "\u2500\u2500\u2500\u2500\u2500\u2500\u2500\u2500\u2500\u2500\u2500\u2500\u2500\u2500\u2500\u2500\u2500\u2500\u2500\n",
        "                 3 \n",
        " 2\u22c5D\u22c5d\u22c5y\u22c5(u\u2081 + 1)  "
       ]
      }
     ],
     "prompt_number": 753
    },
    {
     "cell_type": "code",
     "collapsed": false,
     "input": [
      "DDi[15] = -D**2*Lambda**2*I_e/(4*d*D**3*epsilon)\n",
      "DDi[15]"
     ],
     "language": "python",
     "metadata": {},
     "outputs": [
      {
       "latex": [
        "$$- \\frac{I_{e} \\Lambda^{2}}{4 D d \\epsilon}$$"
       ],
       "metadata": {},
       "output_type": "pyout",
       "png": "[encoded data removed]",
       "prompt_number": 754,
       "text": [
        "     2 \n",
        "-I\u2091\u22c5\u039b  \n",
        "\u2500\u2500\u2500\u2500\u2500\u2500\u2500\n",
        "4\u22c5D\u22c5d\u22c5\u03b5"
       ]
      }
     ],
     "prompt_number": 754
    },
    {
     "cell_type": "code",
     "collapsed": false,
     "input": [
      "DDi[16] = -D*u2*Lambda**2*I_e/(4*D**2*epsilon)\n",
      "DDi[16]"
     ],
     "language": "python",
     "metadata": {},
     "outputs": [
      {
       "latex": [
        "$$- \\frac{I_{e} \\Lambda^{2} u_{2}}{4 D \\epsilon}$$"
       ],
       "metadata": {},
       "output_type": "pyout",
       "png": "[encoded data removed]",
       "prompt_number": 755,
       "text": [
        "     2    \n",
        "-I\u2091\u22c5\u039b \u22c5u\u2082 \n",
        "\u2500\u2500\u2500\u2500\u2500\u2500\u2500\u2500\u2500\u2500\n",
        "  4\u22c5D\u22c5\u03b5   "
       ]
      }
     ],
     "prompt_number": 755
    },
    {
     "cell_type": "code",
     "collapsed": false,
     "input": [
      "DDi[17] = -u2/D*alpha*g1*a*(1-a)*I_y/(2*y*(1+u1)**2)\n",
      "DDi[17]"
     ],
     "language": "python",
     "metadata": {},
     "outputs": [
      {
       "latex": [
        "$$- \\frac{I_{y} a \\alpha g_{1} u_{2} \\left(- a + 1\\right)}{2 D y \\left(u_{1} + 1\\right)^{2}}$$"
       ],
       "metadata": {},
       "output_type": "pyout",
       "png": "[encoded data removed]",
       "prompt_number": 756,
       "text": [
        "-I_y\u22c5a\u22c5\u03b1\u22c5g\u2081\u22c5u\u2082\u22c5(-a + 1) \n",
        "\u2500\u2500\u2500\u2500\u2500\u2500\u2500\u2500\u2500\u2500\u2500\u2500\u2500\u2500\u2500\u2500\u2500\u2500\u2500\u2500\u2500\u2500\u2500\u2500\n",
        "                  2     \n",
        "    2\u22c5D\u22c5y\u22c5(u\u2081 + 1)      "
       ]
      }
     ],
     "prompt_number": 756
    },
    {
     "cell_type": "code",
     "collapsed": false,
     "input": [
      "DDi[18] = -u2/D*g1*alpha*a*I_y/(2*d*(1+u1)**2*y)\n",
      "DDi[18]"
     ],
     "language": "python",
     "metadata": {},
     "outputs": [
      {
       "latex": [
        "$$- \\frac{I_{y} a \\alpha g_{1} u_{2}}{2 D d y \\left(u_{1} + 1\\right)^{2}}$$"
       ],
       "metadata": {},
       "output_type": "pyout",
       "png": "[encoded data removed]",
       "prompt_number": 757,
       "text": [
        " -I_y\u22c5a\u22c5\u03b1\u22c5g\u2081\u22c5u\u2082  \n",
        "\u2500\u2500\u2500\u2500\u2500\u2500\u2500\u2500\u2500\u2500\u2500\u2500\u2500\u2500\u2500\u2500\u2500\n",
        "                2\n",
        "2\u22c5D\u22c5d\u22c5y\u22c5(u\u2081 + 1) "
       ]
      }
     ],
     "prompt_number": 757
    },
    {
     "cell_type": "code",
     "collapsed": false,
     "input": [
      "DDi[19] = -u2/D*alpha*g1*I_y*(1-a)/(2*d*(1+u1)**2*y)\n",
      "DDi[19]"
     ],
     "language": "python",
     "metadata": {},
     "outputs": [
      {
       "latex": [
        "$$- \\frac{I_{y} \\alpha g_{1} u_{2} \\left(- a + 1\\right)}{2 D d y \\left(u_{1} + 1\\right)^{2}}$$"
       ],
       "metadata": {},
       "output_type": "pyout",
       "png": "[encoded data removed]",
       "prompt_number": 758,
       "text": [
        "-I_y\u22c5\u03b1\u22c5g\u2081\u22c5u\u2082\u22c5(-a + 1) \n",
        "\u2500\u2500\u2500\u2500\u2500\u2500\u2500\u2500\u2500\u2500\u2500\u2500\u2500\u2500\u2500\u2500\u2500\u2500\u2500\u2500\u2500\u2500\n",
        "                  2   \n",
        "  2\u22c5D\u22c5d\u22c5y\u22c5(u\u2081 + 1)    "
       ]
      }
     ],
     "prompt_number": 758
    },
    {
     "cell_type": "code",
     "collapsed": false,
     "input": [
      "DDi[20] = u2**2/D**2*g1*D*I_y*(d-1+alpha)/(2*d*(1+u1)*y)\n",
      "DDi[20]"
     ],
     "language": "python",
     "metadata": {},
     "outputs": [
      {
       "latex": [
        "$$\\frac{I_{y} g_{1} u_{2}^{2} \\left(\\alpha + d - 1\\right)}{2 D d y \\left(u_{1} + 1\\right)}$$"
       ],
       "metadata": {},
       "output_type": "pyout",
       "png": "[encoded data removed]",
       "prompt_number": 759,
       "text": [
        "         2            \n",
        "I_y\u22c5g\u2081\u22c5u\u2082 \u22c5(\u03b1 + d - 1)\n",
        "\u2500\u2500\u2500\u2500\u2500\u2500\u2500\u2500\u2500\u2500\u2500\u2500\u2500\u2500\u2500\u2500\u2500\u2500\u2500\u2500\u2500\u2500\n",
        "   2\u22c5D\u22c5d\u22c5y\u22c5(u\u2081 + 1)   "
       ]
      }
     ],
     "prompt_number": 759
    },
    {
     "cell_type": "markdown",
     "metadata": {},
     "source": [
      "***\n",
      "Let substitute $d = 4, I_e=1, I_y=1$  and introduce a new parameter s - dictionary of symmetric coefficients:"
     ]
    },
    {
     "cell_type": "code",
     "collapsed": false,
     "input": [
      "#substituting subs(Lambda**3,Lambda*g2), cause we have Lambda**3\n",
      "Di = {}\n",
      "for i in DDi:\n",
      "    Di[i] = DDi[i].subs(d,4).subs(I_e,1).subs(I_y,1).subs(Lambda**2, g2).subs(Lambda**3,Lambda*g2)"
     ],
     "language": "python",
     "metadata": {},
     "outputs": [],
     "prompt_number": 760
    },
    {
     "cell_type": "code",
     "collapsed": false,
     "input": [
      "#symmetric coefficients\n",
      "s = {}\n",
      "for i in symbols('s1:21'):\n",
      "    s[symbols('s1:21').index(i)+1]=i\n",
      "R = Rational\n",
      "s[1] = 1\n",
      "s[2] = R(1/2)\n",
      "s[3] = 1\n",
      "s[4] = 1\n",
      "s[5] = 1\n",
      "s[6] = 1\n",
      "s[7] = 2\n",
      "s[8] = 1\n",
      "s[9] = 2\n",
      "s[10] = 2\n",
      "s[11] = 1\n",
      "s[12] = 2\n",
      "s[13] = 2\n",
      "s[14] = 2\n",
      "s[15] = 1\n",
      "s[16] = 1\n",
      "s[17] = 1\n",
      "s[18] = 2\n",
      "s[19] = 2\n",
      "s[20] = 2\n",
      "Di[3]\n"
     ],
     "language": "python",
     "metadata": {},
     "outputs": [
      {
       "latex": [
        "$$\\frac{i g_{2}}{16 \\epsilon} \\left(2 p + q \\left(4 a - 1\\right)\\right)$$"
       ],
       "metadata": {},
       "output_type": "pyout",
       "png": "[encoded data removed]",
       "prompt_number": 761,
       "text": [
        "\u2148\u22c5g\u2082\u22c5(2\u22c5p + q\u22c5(4\u22c5a - 1))\n",
        "\u2500\u2500\u2500\u2500\u2500\u2500\u2500\u2500\u2500\u2500\u2500\u2500\u2500\u2500\u2500\u2500\u2500\u2500\u2500\u2500\u2500\u2500\u2500\u2500\n",
        "          16\u22c5\u03b5          "
       ]
      }
     ],
     "prompt_number": 761
    },
    {
     "cell_type": "markdown",
     "metadata": {},
     "source": [
      "Now add symmetric coefficients to the graphs:"
     ]
    },
    {
     "cell_type": "code",
     "collapsed": false,
     "input": [
      "#adding symmetric coefficients\n",
      "for i in Di:\n",
      "    Di[i] = Di[i]*s[i]"
     ],
     "language": "python",
     "metadata": {},
     "outputs": [],
     "prompt_number": 762
    },
    {
     "cell_type": "code",
     "collapsed": false,
     "input": [
      "#Z equations\n",
      "\n",
      "Z = {}\n",
      "for i in symbols('z1:9'):\n",
      "    Z[symbols('z1:9').index(i)+1] = i\n",
      "\n",
      "#Z of fields, parameters, coupling constants\n",
      "Z['psidag'], Z['psi'], Z['v'], Z['a'], Z['D'],Z['tau'], Z['Lambda'], Z['u1'], Z['u2'], Z['g1'], Z['g2'] = symbols('Z_psi_dagger, Z_psi, Z_v, Z_a, Z_D, Z_tau, Z_Lambda, Z_u1, Z_u2, Z_g1, Z_g2')\n",
      "\n",
      "gamma = {}\n",
      "for i in symbols('gamma1:9'):\n",
      "    gamma[symbols('gamma1:9').index(i)+1] = i\n",
      "\n",
      "#gamma of fields, parameters, coupling constants\n",
      "gamma['psidag'], gamma['psi'], gamma['v'], gamma['a'], gamma['D'], gamma['tau'], gamma['Lambda'], gamma['u1'], gamma['u2'], gamma['g1'], gamma['g2'] = symbols('gamma_psi_dagger, gamma_psi, gamma_v, gamma_a, gamma_D, gamma_tau, gamma_Lambda, gamma_u1, gamma_u2, gamma_g1, gamma_g2')\n",
      "\n",
      "#equations\n",
      "e1 = Z['psi']*Z['psidag']-Z[1]\n",
      "e2 = Z['psi']*Z['psidag']*Z['v']-Z[4]\n",
      "e3 = Z['psi']*Z['psidag']*Z['a']*Z['v']-Z[5]\n",
      "e4 = Z['psi']*Z['psidag']*Z['D']-Z[2]\n",
      "e5 = Z['psi']*Z['psidag']*Z['D']*Z['tau']-Z[3]\n",
      "e6 = Z['psi']*Z['psidag']**2*Z['D']*Z['Lambda']-Z[6]\n",
      "e7 = Z['psi']**2*Z['psidag']*Z['D']*Z['Lambda']-Z[7]\n",
      "e8 = Z['u2']/Z['D']*Z['psi']*Z['psidag']*Z['v']**2-Z[8]\n",
      "\n",
      "solve((e1,e2,e3,e4,e5,e6,e7,e8), Z['psi'], Z['psidag'], Z['v'], Z['tau'], Z['u2'], Z['Lambda'], Z['D'], Z['a'])[1]\n"
     ],
     "language": "python",
     "metadata": {},
     "outputs": [
      {
       "latex": [
        "$$\\begin{pmatrix}\\frac{z_{1}}{z_{6}} \\sqrt{\\frac{z_{6} z_{7}}{z_{1}}}, & \\frac{z_{1}}{z_{7}} \\sqrt{\\frac{z_{6} z_{7}}{z_{1}}}, & \\frac{z_{4}}{z_{1}}, & \\frac{z_{3}}{z_{2}}, & \\frac{z_{2} z_{8}}{z_{4}^{2}}, & \\frac{\\sqrt{\\frac{z_{6} z_{7}}{z_{1}}}}{z_{2}}, & \\frac{z_{2}}{z_{1}}, & \\frac{z_{5}}{z_{4}}\\end{pmatrix}$$"
       ],
       "metadata": {},
       "output_type": "pyout",
       "png": "[encoded data removed]",
       "prompt_number": 763,
       "text": [
        "\u239b       _______         _______                     _______        \u239e\n",
        "\u239c      \u2571 z\u2086\u22c5z\u2087         \u2571 z\u2086\u22c5z\u2087                     \u2571 z\u2086\u22c5z\u2087         \u239f\n",
        "\u239cz\u2081\u22c5  \u2571  \u2500\u2500\u2500\u2500\u2500   z\u2081\u22c5  \u2571  \u2500\u2500\u2500\u2500\u2500                    \u2571  \u2500\u2500\u2500\u2500\u2500         \u239f\n",
        "\u239c   \u2572\u2571     z\u2081       \u2572\u2571     z\u2081    z\u2084  z\u2083  z\u2082\u22c5z\u2088  \u2572\u2571     z\u2081    z\u2082  z\u2085\u239f\n",
        "\u239c\u2500\u2500\u2500\u2500\u2500\u2500\u2500\u2500\u2500\u2500\u2500\u2500\u2500\u2500, \u2500\u2500\u2500\u2500\u2500\u2500\u2500\u2500\u2500\u2500\u2500\u2500\u2500\u2500, \u2500\u2500, \u2500\u2500, \u2500\u2500\u2500\u2500\u2500, \u2500\u2500\u2500\u2500\u2500\u2500\u2500\u2500\u2500\u2500\u2500, \u2500\u2500, \u2500\u2500\u239f\n",
        "\u239c      z\u2086              z\u2087        z\u2081  z\u2082     2        z\u2082      z\u2081  z\u2084\u239f\n",
        "\u239d                                         z\u2084                       \u23a0"
       ]
      }
     ],
     "prompt_number": 763
    },
    {
     "cell_type": "code",
     "collapsed": false,
     "input": [
      "#<psi^dag, psi>\n",
      "#From Dyson equation we have minus, so for G_2... <psi psi>1-ir=wZ-pZ-tz - G_2\n",
      "eq1 = I*omega*gamma[1] - D*p**2*gamma[2] - D*tau*gamma[3]+Di[1]+Di[2]\n",
      "eq1"
     ],
     "language": "python",
     "metadata": {},
     "outputs": [
      {
       "latex": [
        "$$\\frac{D a \\alpha g_{1} \\tau \\left(- a + 1\\right)}{2 y \\left(u_{1} + 1\\right)^{2}} - \\frac{D g_{1} p^{2}}{8 y \\left(u_{1} + 1\\right)} \\left(\\frac{a \\alpha}{u_{1} + 1} \\left(-4 + \\frac{4}{u_{1} + 1}\\right) \\left(- a + 1\\right) + \\alpha - \\frac{2 \\alpha}{u_{1} + 1} + 3\\right) - D \\gamma_{2} p^{2} - D \\gamma_{3} \\tau - \\frac{D g_{2}}{4 \\epsilon} \\left(- \\frac{p^{2}}{4} - \\tau + \\frac{i \\omega}{2 D}\\right) - \\frac{i \\alpha g_{1} \\omega}{2 y \\left(u_{1} + 1\\right)^{2}} a{\\left (- a + 1 \\right )} + i \\gamma_{1} \\omega$$"
       ],
       "metadata": {},
       "output_type": "pyout",
       "png": "[encoded data removed]",
       "prompt_number": 764,
       "text": [
        "                              \u239b    \u239b       4   \u239e                          \u239e   \n",
        "                              \u239ca\u22c5\u03b1\u22c5\u239c-4 + \u2500\u2500\u2500\u2500\u2500\u2500\u239f\u22c5(-a + 1)                 \u239f   \n",
        "                            2 \u239c    \u239d     u\u2081 + 1\u23a0                 2\u22c5\u03b1      \u239f   \n",
        "                      D\u22c5g\u2081\u22c5p \u22c5\u239c\u2500\u2500\u2500\u2500\u2500\u2500\u2500\u2500\u2500\u2500\u2500\u2500\u2500\u2500\u2500\u2500\u2500\u2500\u2500\u2500\u2500\u2500\u2500\u2500\u2500\u2500 + \u03b1 - \u2500\u2500\u2500\u2500\u2500\u2500 + 3\u239f   \n",
        "D\u22c5a\u22c5\u03b1\u22c5g\u2081\u22c5\u03c4\u22c5(-a + 1)           \u239d          u\u2081 + 1                 u\u2081 + 1    \u23a0   \n",
        "\u2500\u2500\u2500\u2500\u2500\u2500\u2500\u2500\u2500\u2500\u2500\u2500\u2500\u2500\u2500\u2500\u2500\u2500\u2500 - \u2500\u2500\u2500\u2500\u2500\u2500\u2500\u2500\u2500\u2500\u2500\u2500\u2500\u2500\u2500\u2500\u2500\u2500\u2500\u2500\u2500\u2500\u2500\u2500\u2500\u2500\u2500\u2500\u2500\u2500\u2500\u2500\u2500\u2500\u2500\u2500\u2500\u2500\u2500\u2500\u2500\u2500\u2500\u2500\u2500\u2500\u2500\u2500\u2500\u2500\u2500\u2500\u2500 - \n",
        "               2                           8\u22c5y\u22c5(u\u2081 + 1)                       \n",
        "   2\u22c5y\u22c5(u\u2081 + 1)                                                               \n",
        "\n",
        "                                                                      \n",
        "                        \u239b   2          \u239e                              \n",
        "                        \u239c  p        \u2148\u22c5\u03c9\u239f                              \n",
        "                   D\u22c5g\u2082\u22c5\u239c- \u2500\u2500 - \u03c4 + \u2500\u2500\u2500\u239f                              \n",
        "      2                 \u239d  4        2\u22c5D\u23a0   \u2148\u22c5\u03b1\u22c5g\u2081\u22c5\u03c9\u22c5a(-a + 1)         \n",
        "D\u22c5\u03b3\u2082\u22c5p  - D\u22c5\u03b3\u2083\u22c5\u03c4 - \u2500\u2500\u2500\u2500\u2500\u2500\u2500\u2500\u2500\u2500\u2500\u2500\u2500\u2500\u2500\u2500\u2500\u2500\u2500\u2500\u2500 - \u2500\u2500\u2500\u2500\u2500\u2500\u2500\u2500\u2500\u2500\u2500\u2500\u2500\u2500\u2500\u2500\u2500\u2500 + \u2148\u22c5\u03b3\u2081\u22c5\u03c9\n",
        "                            4\u22c5\u03b5                          2            \n",
        "                                             2\u22c5y\u22c5(u\u2081 + 1)             "
       ]
      }
     ],
     "prompt_number": 764
    },
    {
     "cell_type": "code",
     "collapsed": false,
     "input": [
      "#eq.coeff(var, power) return coefficient of var**power\n",
      "#expand, cause a*(b+10).coeff(b) == 0\n",
      "#factor, cause expression is very difficult. But factor doesn't solve this problem.....\n",
      "#expr[0], cause we have unique solution \n",
      "gamma[1] = factor(solve(eq1.expand().coeff(I*omega), gamma[1]))[0]\n",
      "gamma[2] = factor(solve(eq1.expand().coeff(D*p**2), gamma[2]))[0]\n",
      "gamma[3] = factor(solve(eq1.expand().coeff(D*tau), gamma[3]))[0]"
     ],
     "language": "python",
     "metadata": {},
     "outputs": [],
     "prompt_number": 765
    },
    {
     "cell_type": "code",
     "collapsed": false,
     "input": [
      "#<psi^dag, psi, v>\n",
      "eq2 = -I*p*gamma[4]-I*a*q*gamma[5]+Di[3]+Di[4]+Di[5]+Di[6]\n",
      "eq2"
     ],
     "language": "python",
     "metadata": {},
     "outputs": [
      {
       "latex": [
        "$$- i a \\gamma_{5} q + \\frac{i \\alpha g_{1}}{2 y \\left(u_{1} + 1\\right)^{2}} \\left(- \\frac{a}{2 u_{1} + 2} \\left(- a + 1\\right) \\left(2 p + q\\right) + \\left(\\alpha q + p\\right) \\left(- a^{2} + a + \\frac{1}{4}\\right)\\right) - \\frac{i g_{1} p u_{2}}{8 y \\left(u_{1} + 1\\right)} \\left(\\alpha{\\left (- \\frac{2 a}{u_{1} + 1} + 1 \\right )} + 3\\right) - \\frac{i g_{1} u_{2}}{8 y \\left(u_{1} + 1\\right)} \\left(p + q\\right) \\left(- \\frac{2 \\alpha \\left(- a + 1\\right)}{u_{1} + 1} + \\alpha + 3\\right) - i \\gamma_{4} p + \\frac{i g_{2}}{16 \\epsilon} \\left(2 p + q \\left(4 a - 1\\right)\\right)$$"
       ],
       "metadata": {},
       "output_type": "pyout",
       "png": "[encoded data removed]",
       "prompt_number": 766,
       "text": [
        "                   \u239b  a\u22c5(-a + 1)\u22c5(2\u22c5p + q)             \u239b   2       1\u239e\u239e        \n",
        "            \u2148\u22c5\u03b1\u22c5g\u2081\u22c5\u239c- \u2500\u2500\u2500\u2500\u2500\u2500\u2500\u2500\u2500\u2500\u2500\u2500\u2500\u2500\u2500\u2500\u2500\u2500\u2500\u2500 + (\u03b1\u22c5q + p)\u22c5\u239c- a  + a + \u2500\u239f\u239f   \u2148\u22c5g\u2081\u22c5\n",
        "                   \u239d       2\u22c5(u\u2081 + 1)                  \u239d           4\u23a0\u23a0        \n",
        "-\u2148\u22c5a\u22c5\u03b3\u2085\u22c5q + \u2500\u2500\u2500\u2500\u2500\u2500\u2500\u2500\u2500\u2500\u2500\u2500\u2500\u2500\u2500\u2500\u2500\u2500\u2500\u2500\u2500\u2500\u2500\u2500\u2500\u2500\u2500\u2500\u2500\u2500\u2500\u2500\u2500\u2500\u2500\u2500\u2500\u2500\u2500\u2500\u2500\u2500\u2500\u2500\u2500\u2500\u2500\u2500\u2500\u2500\u2500\u2500\u2500\u2500\u2500\u2500\u2500\u2500 - \u2500\u2500\u2500\u2500\u2500\n",
        "                                              2                               \n",
        "                                  2\u22c5y\u22c5(u\u2081 + 1)                                \n",
        "\n",
        "     \u239b \u239b   2\u22c5a      \u239e    \u239e                   \u239b  2\u22c5\u03b1\u22c5(-a + 1)        \u239e         \n",
        "p\u22c5u\u2082\u22c5\u239c\u03b1\u239c- \u2500\u2500\u2500\u2500\u2500\u2500 + 1\u239f + 3\u239f   \u2148\u22c5g\u2081\u22c5u\u2082\u22c5(p + q)\u22c5\u239c- \u2500\u2500\u2500\u2500\u2500\u2500\u2500\u2500\u2500\u2500\u2500\u2500 + \u03b1 + 3\u239f         \n",
        "     \u239d \u239d  u\u2081 + 1    \u23a0    \u23a0                   \u239d     u\u2081 + 1           \u23a0         \n",
        "\u2500\u2500\u2500\u2500\u2500\u2500\u2500\u2500\u2500\u2500\u2500\u2500\u2500\u2500\u2500\u2500\u2500\u2500\u2500\u2500\u2500\u2500\u2500\u2500\u2500\u2500 - \u2500\u2500\u2500\u2500\u2500\u2500\u2500\u2500\u2500\u2500\u2500\u2500\u2500\u2500\u2500\u2500\u2500\u2500\u2500\u2500\u2500\u2500\u2500\u2500\u2500\u2500\u2500\u2500\u2500\u2500\u2500\u2500\u2500\u2500\u2500\u2500\u2500\u2500\u2500\u2500 - \u2148\u22c5\u03b3\u2084\u22c5p\n",
        "     8\u22c5y\u22c5(u\u2081 + 1)                          8\u22c5y\u22c5(u\u2081 + 1)                       \n",
        "                                                                              \n",
        "\n",
        "                           \n",
        "                           \n",
        "   \u2148\u22c5g\u2082\u22c5(2\u22c5p + q\u22c5(4\u22c5a - 1))\n",
        " + \u2500\u2500\u2500\u2500\u2500\u2500\u2500\u2500\u2500\u2500\u2500\u2500\u2500\u2500\u2500\u2500\u2500\u2500\u2500\u2500\u2500\u2500\u2500\u2500\n",
        "             16\u22c5\u03b5          \n",
        "                           "
       ]
      }
     ],
     "prompt_number": 766
    },
    {
     "cell_type": "code",
     "collapsed": false,
     "input": [
      "gamma[4] = factor(solve(eq2.expand().coeff(p), gamma[4]))[0]\n",
      "gamma[5] = factor(solve(eq2.expand().coeff(q), gamma[5]))[0]"
     ],
     "language": "python",
     "metadata": {},
     "outputs": [],
     "prompt_number": 767
    },
    {
     "cell_type": "code",
     "collapsed": false,
     "input": [
      "#<psi^dag, psi^dag, psi>\n",
      "eq3 = D*Lambda*gamma[6]+Di[7]+Di[8]+Di[9]\n",
      "eq2.expand().coeff(q)"
     ],
     "language": "python",
     "metadata": {},
     "outputs": [
      {
       "latex": [
        "$$- \\frac{i a^{2} \\alpha^{2} g_{1}}{2 u_{1}^{2} y + 4 u_{1} y + 2 y} + \\frac{i a^{2} \\alpha g_{1}}{4 u_{1}^{3} y + 12 u_{1}^{2} y + 12 u_{1} y + 4 y} + \\frac{i a \\alpha^{2} g_{1}}{2 u_{1}^{2} y + 4 u_{1} y + 2 y} - \\frac{2 i a \\alpha g_{1} u_{2}}{8 u_{1}^{2} y + 16 u_{1} y + 8 y} - \\frac{i a \\alpha g_{1}}{4 u_{1}^{3} y + 12 u_{1}^{2} y + 12 u_{1} y + 4 y} - i a \\gamma_{5} + \\frac{i a g_{2}}{4 \\epsilon} + \\frac{i \\alpha^{2} g_{1}}{8 u_{1}^{2} y + 16 u_{1} y + 8 y} + \\frac{2 i \\alpha g_{1} u_{2}}{8 u_{1}^{2} y + 16 u_{1} y + 8 y} - \\frac{i \\alpha g_{1} u_{2}}{8 u_{1} y + 8 y} - \\frac{3 i g_{1} u_{2}}{8 u_{1} y + 8 y} - \\frac{i g_{2}}{16 \\epsilon}$$"
       ],
       "metadata": {},
       "output_type": "pyout",
       "png": "[encoded data removed]",
       "prompt_number": 768,
       "text": [
        "           2  2                           2                                2  \n",
        "        \u2148\u22c5a \u22c5\u03b1 \u22c5g\u2081                     \u2148\u22c5a \u22c5\u03b1\u22c5g\u2081                      \u2148\u22c5a\u22c5\u03b1 \u22c5g\n",
        "- \u2500\u2500\u2500\u2500\u2500\u2500\u2500\u2500\u2500\u2500\u2500\u2500\u2500\u2500\u2500\u2500\u2500\u2500\u2500\u2500\u2500\u2500 + \u2500\u2500\u2500\u2500\u2500\u2500\u2500\u2500\u2500\u2500\u2500\u2500\u2500\u2500\u2500\u2500\u2500\u2500\u2500\u2500\u2500\u2500\u2500\u2500\u2500\u2500\u2500\u2500\u2500\u2500\u2500\u2500\u2500\u2500 + \u2500\u2500\u2500\u2500\u2500\u2500\u2500\u2500\u2500\u2500\u2500\u2500\u2500\u2500\n",
        "      2                        3          2                         2         \n",
        "  2\u22c5u\u2081 \u22c5y + 4\u22c5u\u2081\u22c5y + 2\u22c5y   4\u22c5u\u2081 \u22c5y + 12\u22c5u\u2081 \u22c5y + 12\u22c5u\u2081\u22c5y + 4\u22c5y   2\u22c5u\u2081 \u22c5y + 4\u22c5u\u2081\n",
        "\n",
        "                                                                              \n",
        "\u2081               2\u22c5\u2148\u22c5a\u22c5\u03b1\u22c5g\u2081\u22c5u\u2082                     \u2148\u22c5a\u22c5\u03b1\u22c5g\u2081                    \n",
        "\u2500\u2500\u2500\u2500\u2500\u2500\u2500\u2500 - \u2500\u2500\u2500\u2500\u2500\u2500\u2500\u2500\u2500\u2500\u2500\u2500\u2500\u2500\u2500\u2500\u2500\u2500\u2500\u2500\u2500\u2500\u2500 - \u2500\u2500\u2500\u2500\u2500\u2500\u2500\u2500\u2500\u2500\u2500\u2500\u2500\u2500\u2500\u2500\u2500\u2500\u2500\u2500\u2500\u2500\u2500\u2500\u2500\u2500\u2500\u2500\u2500\u2500\u2500\u2500\u2500\u2500 - \u2148\u22c5a\u22c5\n",
        "               2                         3          2                         \n",
        "\u22c5y + 2\u22c5y   8\u22c5u\u2081 \u22c5y + 16\u22c5u\u2081\u22c5y + 8\u22c5y   4\u22c5u\u2081 \u22c5y + 12\u22c5u\u2081 \u22c5y + 12\u22c5u\u2081\u22c5y + 4\u22c5y       \n",
        "\n",
        "                          2                                                   \n",
        "     \u2148\u22c5a\u22c5g\u2082            \u2148\u22c5\u03b1 \u22c5g\u2081                   2\u22c5\u2148\u22c5\u03b1\u22c5g\u2081\u22c5u\u2082          \u2148\u22c5\u03b1\u22c5g\u2081\u22c5u\n",
        "\u03b3\u2085 + \u2500\u2500\u2500\u2500\u2500\u2500 + \u2500\u2500\u2500\u2500\u2500\u2500\u2500\u2500\u2500\u2500\u2500\u2500\u2500\u2500\u2500\u2500\u2500\u2500\u2500\u2500\u2500\u2500\u2500\u2500\u2500\u2500 + \u2500\u2500\u2500\u2500\u2500\u2500\u2500\u2500\u2500\u2500\u2500\u2500\u2500\u2500\u2500\u2500\u2500\u2500\u2500\u2500\u2500\u2500\u2500 - \u2500\u2500\u2500\u2500\u2500\u2500\u2500\u2500\u2500\n",
        "      4\u22c5\u03b5       \u239b    2                 \u239e       2                     8\u22c5u\u2081\u22c5y + \n",
        "              4\u22c5\u239d2\u22c5u\u2081 \u22c5y + 4\u22c5u\u2081\u22c5y + 2\u22c5y\u23a0   8\u22c5u\u2081 \u22c5y + 16\u22c5u\u2081\u22c5y + 8\u22c5y            \n",
        "\n",
        "                         \n",
        "\u2082      3\u22c5\u2148\u22c5g\u2081\u22c5u\u2082     \u2148\u22c5g\u2082\n",
        "\u2500\u2500\u2500 - \u2500\u2500\u2500\u2500\u2500\u2500\u2500\u2500\u2500\u2500\u2500\u2500 - \u2500\u2500\u2500\u2500\n",
        "8\u22c5y   8\u22c5u\u2081\u22c5y + 8\u22c5y   16\u22c5\u03b5\n",
        "                         "
       ]
      }
     ],
     "prompt_number": 768
    },
    {
     "cell_type": "code",
     "collapsed": false,
     "input": [
      "gamma[6] = factor(solve(eq3, gamma[6]))[0]"
     ],
     "language": "python",
     "metadata": {},
     "outputs": [],
     "prompt_number": 769
    },
    {
     "cell_type": "code",
     "collapsed": false,
     "input": [
      "#<psi^dag, psi, psi>\n",
      "eq4 = -D*Lambda*gamma[7]+Di[10]+Di[11]+Di[12]\n",
      "eq4"
     ],
     "language": "python",
     "metadata": {},
     "outputs": [
      {
       "latex": [
        "$$- \\frac{D \\Lambda a^{2} \\alpha g_{1}}{2 y \\left(u_{1} + 1\\right)} + \\frac{D \\Lambda a \\alpha g_{1}}{y \\left(u_{1} + 1\\right)^{2}} \\left(- a + 1\\right) - D \\Lambda \\gamma_{7} + \\frac{D \\Lambda g_{2}}{2 \\epsilon}$$"
       ],
       "metadata": {},
       "output_type": "pyout",
       "png": "[encoded data removed]",
       "prompt_number": 770,
       "text": [
        "       2                                              \n",
        "  D\u22c5\u039b\u22c5a \u22c5\u03b1\u22c5g\u2081    D\u22c5\u039b\u22c5a\u22c5\u03b1\u22c5g\u2081\u22c5(-a + 1)            D\u22c5\u039b\u22c5g\u2082\n",
        "- \u2500\u2500\u2500\u2500\u2500\u2500\u2500\u2500\u2500\u2500\u2500\u2500 + \u2500\u2500\u2500\u2500\u2500\u2500\u2500\u2500\u2500\u2500\u2500\u2500\u2500\u2500\u2500\u2500\u2500\u2500\u2500 - D\u22c5\u039b\u22c5\u03b3\u2087 + \u2500\u2500\u2500\u2500\u2500\u2500\n",
        "  2\u22c5y\u22c5(u\u2081 + 1)                 2                 2\u22c5\u03b5  \n",
        "                     y\u22c5(u\u2081 + 1)                       "
       ]
      }
     ],
     "prompt_number": 770
    },
    {
     "cell_type": "code",
     "collapsed": false,
     "input": [
      "gamma[7] = factor(solve(eq4, gamma[7]))[0]"
     ],
     "language": "python",
     "metadata": {},
     "outputs": [],
     "prompt_number": 771
    },
    {
     "cell_type": "code",
     "collapsed": false,
     "input": [
      "#<psi^dag, psi, v, v>\n",
      "eq5 = u2/D*gamma[8]+Di[13]+Di[14]+Di[15]+Di[16]+Di[17]+Di[18]+Di[19]+Di[20]\n",
      "eq5"
     ],
     "language": "python",
     "metadata": {},
     "outputs": [
      {
       "latex": [
        "$$- \\frac{a \\alpha g_{1} u_{2} \\left(- a + 1\\right)}{2 D y \\left(u_{1} + 1\\right)^{2}} - \\frac{a \\alpha g_{1} u_{2}}{4 D y \\left(u_{1} + 1\\right)^{2}} + \\frac{a \\alpha g_{1} \\left(- a + 1\\right)}{4 D y \\left(u_{1} + 1\\right)^{3}} - \\frac{\\alpha g_{1} u_{2} \\left(- a + 1\\right)}{4 D y \\left(u_{1} + 1\\right)^{2}} + \\frac{g_{1} u_{2}^{2} \\left(\\alpha + 3\\right)}{4 D y \\left(u_{1} + 1\\right)} + \\frac{\\gamma_{8} u_{2}}{D} - \\frac{g_{2} u_{2}}{4 D \\epsilon}$$"
       ],
       "metadata": {},
       "output_type": "pyout",
       "png": "[encoded data removed]",
       "prompt_number": 772,
       "text": [
        "                                                                              \n",
        "  a\u22c5\u03b1\u22c5g\u2081\u22c5u\u2082\u22c5(-a + 1)      a\u22c5\u03b1\u22c5g\u2081\u22c5u\u2082      a\u22c5\u03b1\u22c5g\u2081\u22c5(-a + 1)   \u03b1\u22c5g\u2081\u22c5u\u2082\u22c5(-a + 1)   \n",
        "- \u2500\u2500\u2500\u2500\u2500\u2500\u2500\u2500\u2500\u2500\u2500\u2500\u2500\u2500\u2500\u2500\u2500\u2500 - \u2500\u2500\u2500\u2500\u2500\u2500\u2500\u2500\u2500\u2500\u2500\u2500\u2500\u2500\u2500 + \u2500\u2500\u2500\u2500\u2500\u2500\u2500\u2500\u2500\u2500\u2500\u2500\u2500\u2500\u2500 - \u2500\u2500\u2500\u2500\u2500\u2500\u2500\u2500\u2500\u2500\u2500\u2500\u2500\u2500\u2500\u2500 + \n",
        "                 2                   2                 3                 2    \n",
        "   2\u22c5D\u22c5y\u22c5(u\u2081 + 1)      4\u22c5D\u22c5y\u22c5(u\u2081 + 1)    4\u22c5D\u22c5y\u22c5(u\u2081 + 1)    4\u22c5D\u22c5y\u22c5(u\u2081 + 1)     \n",
        "\n",
        "     2                        \n",
        "g\u2081\u22c5u\u2082 \u22c5(\u03b1 + 3)   \u03b3\u2088\u22c5u\u2082   g\u2082\u22c5u\u2082\n",
        "\u2500\u2500\u2500\u2500\u2500\u2500\u2500\u2500\u2500\u2500\u2500\u2500\u2500\u2500 + \u2500\u2500\u2500\u2500\u2500 - \u2500\u2500\u2500\u2500\u2500\n",
        "4\u22c5D\u22c5y\u22c5(u\u2081 + 1)     D     4\u22c5D\u22c5\u03b5\n",
        "                              "
       ]
      }
     ],
     "prompt_number": 772
    },
    {
     "cell_type": "code",
     "collapsed": false,
     "input": [
      "gamma[8] = factor(solve(eq5, gamma[8]))[0]\n",
      "gamma[8]"
     ],
     "language": "python",
     "metadata": {},
     "outputs": [
      {
       "latex": [
        "$$\\frac{1}{4 \\epsilon u_{2} y \\left(u_{1} + 1\\right)^{3}} \\left(- 2 a^{2} \\alpha \\epsilon g_{1} u_{1} u_{2} - 2 a^{2} \\alpha \\epsilon g_{1} u_{2} + a^{2} \\alpha \\epsilon g_{1} + 2 a \\alpha \\epsilon g_{1} u_{1} u_{2} + 2 a \\alpha \\epsilon g_{1} u_{2} - a \\alpha \\epsilon g_{1} - \\alpha \\epsilon g_{1} u_{1}^{2} u_{2}^{2} - 2 \\alpha \\epsilon g_{1} u_{1} u_{2}^{2} + \\alpha \\epsilon g_{1} u_{1} u_{2} - \\alpha \\epsilon g_{1} u_{2}^{2} + \\alpha \\epsilon g_{1} u_{2} - 3 \\epsilon g_{1} u_{1}^{2} u_{2}^{2} - 6 \\epsilon g_{1} u_{1} u_{2}^{2} - 3 \\epsilon g_{1} u_{2}^{2} + g_{2} u_{1}^{3} u_{2} y + 3 g_{2} u_{1}^{2} u_{2} y + 3 g_{2} u_{1} u_{2} y + g_{2} u_{2} y\\right)$$"
       ],
       "metadata": {},
       "output_type": "pyout",
       "png": "[encoded data removed]",
       "prompt_number": 773,
       "text": [
        "     2                   2              2                                     \n",
        "- 2\u22c5a \u22c5\u03b1\u22c5\u03b5\u22c5g\u2081\u22c5u\u2081\u22c5u\u2082 - 2\u22c5a \u22c5\u03b1\u22c5\u03b5\u22c5g\u2081\u22c5u\u2082 + a \u22c5\u03b1\u22c5\u03b5\u22c5g\u2081 + 2\u22c5a\u22c5\u03b1\u22c5\u03b5\u22c5g\u2081\u22c5u\u2081\u22c5u\u2082 + 2\u22c5a\u22c5\u03b1\u22c5\u03b5\u22c5\n",
        "\u2500\u2500\u2500\u2500\u2500\u2500\u2500\u2500\u2500\u2500\u2500\u2500\u2500\u2500\u2500\u2500\u2500\u2500\u2500\u2500\u2500\u2500\u2500\u2500\u2500\u2500\u2500\u2500\u2500\u2500\u2500\u2500\u2500\u2500\u2500\u2500\u2500\u2500\u2500\u2500\u2500\u2500\u2500\u2500\u2500\u2500\u2500\u2500\u2500\u2500\u2500\u2500\u2500\u2500\u2500\u2500\u2500\u2500\u2500\u2500\u2500\u2500\u2500\u2500\u2500\u2500\u2500\u2500\u2500\u2500\u2500\u2500\u2500\u2500\u2500\u2500\u2500\u2500\n",
        "                                                                              \n",
        "                                                                              \n",
        "\n",
        "                            2   2                 2                           \n",
        "g\u2081\u22c5u\u2082 - a\u22c5\u03b1\u22c5\u03b5\u22c5g\u2081 - \u03b1\u22c5\u03b5\u22c5g\u2081\u22c5u\u2081 \u22c5u\u2082  - 2\u22c5\u03b1\u22c5\u03b5\u22c5g\u2081\u22c5u\u2081\u22c5u\u2082  + \u03b1\u22c5\u03b5\u22c5g\u2081\u22c5u\u2081\u22c5u\u2082 - \u03b1\u22c5\u03b5\u22c5g\u2081\u22c5u\u2082\n",
        "\u2500\u2500\u2500\u2500\u2500\u2500\u2500\u2500\u2500\u2500\u2500\u2500\u2500\u2500\u2500\u2500\u2500\u2500\u2500\u2500\u2500\u2500\u2500\u2500\u2500\u2500\u2500\u2500\u2500\u2500\u2500\u2500\u2500\u2500\u2500\u2500\u2500\u2500\u2500\u2500\u2500\u2500\u2500\u2500\u2500\u2500\u2500\u2500\u2500\u2500\u2500\u2500\u2500\u2500\u2500\u2500\u2500\u2500\u2500\u2500\u2500\u2500\u2500\u2500\u2500\u2500\u2500\u2500\u2500\u2500\u2500\u2500\u2500\u2500\u2500\u2500\u2500\u2500\n",
        "                                                                 3            \n",
        "                                                4\u22c5\u03b5\u22c5u\u2082\u22c5y\u22c5(u\u2081 + 1)             \n",
        "\n",
        "2                        2   2               2            2        3          \n",
        "  + \u03b1\u22c5\u03b5\u22c5g\u2081\u22c5u\u2082 - 3\u22c5\u03b5\u22c5g\u2081\u22c5u\u2081 \u22c5u\u2082  - 6\u22c5\u03b5\u22c5g\u2081\u22c5u\u2081\u22c5u\u2082  - 3\u22c5\u03b5\u22c5g\u2081\u22c5u\u2082  + g\u2082\u22c5u\u2081 \u22c5u\u2082\u22c5y + 3\u22c5\n",
        "\u2500\u2500\u2500\u2500\u2500\u2500\u2500\u2500\u2500\u2500\u2500\u2500\u2500\u2500\u2500\u2500\u2500\u2500\u2500\u2500\u2500\u2500\u2500\u2500\u2500\u2500\u2500\u2500\u2500\u2500\u2500\u2500\u2500\u2500\u2500\u2500\u2500\u2500\u2500\u2500\u2500\u2500\u2500\u2500\u2500\u2500\u2500\u2500\u2500\u2500\u2500\u2500\u2500\u2500\u2500\u2500\u2500\u2500\u2500\u2500\u2500\u2500\u2500\u2500\u2500\u2500\u2500\u2500\u2500\u2500\u2500\u2500\u2500\u2500\u2500\u2500\u2500\u2500\n",
        "                                                                              \n",
        "                                                                              \n",
        "\n",
        "     2                              \n",
        "g\u2082\u22c5u\u2081 \u22c5u\u2082\u22c5y + 3\u22c5g\u2082\u22c5u\u2081\u22c5u\u2082\u22c5y + g\u2082\u22c5u\u2082\u22c5y\n",
        "\u2500\u2500\u2500\u2500\u2500\u2500\u2500\u2500\u2500\u2500\u2500\u2500\u2500\u2500\u2500\u2500\u2500\u2500\u2500\u2500\u2500\u2500\u2500\u2500\u2500\u2500\u2500\u2500\u2500\u2500\u2500\u2500\u2500\u2500\u2500\u2500\n",
        "                                    \n",
        "                                    "
       ]
      }
     ],
     "prompt_number": 773
    },
    {
     "cell_type": "code",
     "collapsed": false,
     "input": [
      "for i in gamma:\n",
      "    Z[i] = 1+collect(factor(simplify(gamma[i].expand())), [g1, g2])\n"
     ],
     "language": "python",
     "metadata": {},
     "outputs": [],
     "prompt_number": 774
    },
    {
     "cell_type": "code",
     "collapsed": false,
     "input": [
      "Z[1]\n",
      "# i have gamma = sgamma/2"
     ],
     "language": "python",
     "metadata": {},
     "outputs": [
      {
       "latex": [
        "$$1 + \\frac{1}{8 \\epsilon y \\left(u_{1} + 1\\right)^{2}} \\left(4 \\alpha \\epsilon g_{1} a{\\left (- a + 1 \\right )} + g_{2} \\left(u_{1}^{2} y + 2 u_{1} y + y\\right)\\right)$$"
       ],
       "metadata": {},
       "output_type": "pyout",
       "png": "[encoded data removed]",
       "prompt_number": 775,
       "text": [
        "                            \u239b  2               \u239e\n",
        "    4\u22c5\u03b1\u22c5\u03b5\u22c5g\u2081\u22c5a(-a + 1) + g\u2082\u22c5\u239du\u2081 \u22c5y + 2\u22c5u\u2081\u22c5y + y\u23a0\n",
        "1 + \u2500\u2500\u2500\u2500\u2500\u2500\u2500\u2500\u2500\u2500\u2500\u2500\u2500\u2500\u2500\u2500\u2500\u2500\u2500\u2500\u2500\u2500\u2500\u2500\u2500\u2500\u2500\u2500\u2500\u2500\u2500\u2500\u2500\u2500\u2500\u2500\u2500\u2500\u2500\u2500\u2500\u2500\u2500\u2500\n",
        "                                2               \n",
        "                  8\u22c5\u03b5\u22c5y\u22c5(u\u2081 + 1)                "
       ]
      }
     ],
     "prompt_number": 775
    },
    {
     "cell_type": "code",
     "collapsed": false,
     "input": [
      "kapp = 1+g1*alpha*a*(1-a)/((1+u1)**2*y)+g2/(4*epsilon)\n",
      "kapp\n"
     ],
     "language": "python",
     "metadata": {},
     "outputs": [
      {
       "latex": [
        "$$\\frac{a \\alpha g_{1} \\left(- a + 1\\right)}{y \\left(u_{1} + 1\\right)^{2}} + 1 + \\frac{g_{2}}{4 \\epsilon}$$"
       ],
       "metadata": {},
       "output_type": "pyout",
       "png": "[encoded data removed]",
       "prompt_number": 781,
       "text": [
        "a\u22c5\u03b1\u22c5g\u2081\u22c5(-a + 1)        g\u2082\n",
        "\u2500\u2500\u2500\u2500\u2500\u2500\u2500\u2500\u2500\u2500\u2500\u2500\u2500\u2500\u2500 + 1 + \u2500\u2500\u2500\n",
        "            2         4\u22c5\u03b5\n",
        "  y\u22c5(u\u2081 + 1)             "
       ]
      }
     ],
     "prompt_number": 781
    },
    {
     "cell_type": "code",
     "collapsed": false,
     "input": [
      "factor(together(Z[1]*2-kapp))"
     ],
     "language": "python",
     "metadata": {},
     "outputs": [
      {
       "latex": [
        "$$\\frac{1}{y \\left(u_{1} + 1\\right)^{2}} \\left(a^{2} \\alpha g_{1} - a \\alpha g_{1} + \\alpha g_{1} a{\\left (- a + 1 \\right )} + u_{1}^{2} y + 2 u_{1} y + y\\right)$$"
       ],
       "metadata": {},
       "output_type": "pyout",
       "png": "[encoded data removed]",
       "prompt_number": 790,
       "text": [
        " 2                                    2               \n",
        "a \u22c5\u03b1\u22c5g\u2081 - a\u22c5\u03b1\u22c5g\u2081 + \u03b1\u22c5g\u2081\u22c5a(-a + 1) + u\u2081 \u22c5y + 2\u22c5u\u2081\u22c5y + y\n",
        "\u2500\u2500\u2500\u2500\u2500\u2500\u2500\u2500\u2500\u2500\u2500\u2500\u2500\u2500\u2500\u2500\u2500\u2500\u2500\u2500\u2500\u2500\u2500\u2500\u2500\u2500\u2500\u2500\u2500\u2500\u2500\u2500\u2500\u2500\u2500\u2500\u2500\u2500\u2500\u2500\u2500\u2500\u2500\u2500\u2500\u2500\u2500\u2500\u2500\u2500\u2500\u2500\u2500\u2500\n",
        "                               2                      \n",
        "                     y\u22c5(u\u2081 + 1)                       "
       ]
      }
     ],
     "prompt_number": 790
    },
    {
     "cell_type": "code",
     "collapsed": false,
     "input": [
      "Z[2]\n",
      "# i have gamma = sgamma/2"
     ],
     "language": "python",
     "metadata": {},
     "outputs": [
      {
       "latex": [
        "$$1 + \\frac{1}{16 \\epsilon y \\left(u_{1} + 1\\right)^{3}} \\left(g_{1} \\left(- 8 a^{2} \\alpha \\epsilon u_{1} + 8 a \\alpha \\epsilon u_{1} - 2 \\alpha \\epsilon u_{1}^{2} + 2 \\alpha \\epsilon - 6 \\epsilon u_{1}^{2} - 12 \\epsilon u_{1} - 6 \\epsilon\\right) + g_{2} \\left(u_{1}^{3} y + 3 u_{1}^{2} y + 3 u_{1} y + y\\right)\\right)$$"
       ],
       "metadata": {},
       "output_type": "pyout",
       "png": "[encoded data removed]",
       "prompt_number": 704,
       "text": [
        "       \u239b     2                               2                 2              \n",
        "    g\u2081\u22c5\u239d- 8\u22c5a \u22c5\u03b1\u22c5\u03b5\u22c5u\u2081 + 8\u22c5a\u22c5\u03b1\u22c5\u03b5\u22c5u\u2081 - 2\u22c5\u03b1\u22c5\u03b5\u22c5u\u2081  + 2\u22c5\u03b1\u22c5\u03b5 - 6\u22c5\u03b5\u22c5u\u2081  - 12\u22c5\u03b5\u22c5u\u2081 - 6\n",
        "1 + \u2500\u2500\u2500\u2500\u2500\u2500\u2500\u2500\u2500\u2500\u2500\u2500\u2500\u2500\u2500\u2500\u2500\u2500\u2500\u2500\u2500\u2500\u2500\u2500\u2500\u2500\u2500\u2500\u2500\u2500\u2500\u2500\u2500\u2500\u2500\u2500\u2500\u2500\u2500\u2500\u2500\u2500\u2500\u2500\u2500\u2500\u2500\u2500\u2500\u2500\u2500\u2500\u2500\u2500\u2500\u2500\u2500\u2500\u2500\u2500\u2500\u2500\u2500\u2500\u2500\u2500\u2500\u2500\u2500\u2500\u2500\u2500\u2500\u2500\n",
        "                                                                    3         \n",
        "                                                     16\u22c5\u03b5\u22c5y\u22c5(u\u2081 + 1)          \n",
        "\n",
        "  \u239e      \u239b  3         2               \u239e\n",
        "\u22c5\u03b5\u23a0 + g\u2082\u22c5\u239du\u2081 \u22c5y + 3\u22c5u\u2081 \u22c5y + 3\u22c5u\u2081\u22c5y + y\u23a0\n",
        "\u2500\u2500\u2500\u2500\u2500\u2500\u2500\u2500\u2500\u2500\u2500\u2500\u2500\u2500\u2500\u2500\u2500\u2500\u2500\u2500\u2500\u2500\u2500\u2500\u2500\u2500\u2500\u2500\u2500\u2500\u2500\u2500\u2500\u2500\u2500\u2500\u2500\u2500\u2500\n",
        "                                       \n",
        "                                       "
       ]
      }
     ],
     "prompt_number": 704
    },
    {
     "cell_type": "code",
     "collapsed": false,
     "input": [
      "Z[3]\n",
      "#i have gamma = sgamma/2\n",
      "#and first term with minus !!!"
     ],
     "language": "python",
     "metadata": {},
     "outputs": [
      {
       "latex": [
        "$$1 + \\frac{1}{4 \\epsilon y \\left(u_{1} + 1\\right)^{2}} \\left(g_{1} \\left(- 2 a^{2} \\alpha \\epsilon + 2 a \\alpha \\epsilon\\right) + g_{2} \\left(u_{1}^{2} y + 2 u_{1} y + y\\right)\\right)$$"
       ],
       "metadata": {},
       "output_type": "pyout",
       "png": "[encoded data removed]",
       "prompt_number": 705,
       "text": [
        "       \u239b     2              \u239e      \u239b  2               \u239e\n",
        "    g\u2081\u22c5\u239d- 2\u22c5a \u22c5\u03b1\u22c5\u03b5 + 2\u22c5a\u22c5\u03b1\u22c5\u03b5\u23a0 + g\u2082\u22c5\u239du\u2081 \u22c5y + 2\u22c5u\u2081\u22c5y + y\u23a0\n",
        "1 + \u2500\u2500\u2500\u2500\u2500\u2500\u2500\u2500\u2500\u2500\u2500\u2500\u2500\u2500\u2500\u2500\u2500\u2500\u2500\u2500\u2500\u2500\u2500\u2500\u2500\u2500\u2500\u2500\u2500\u2500\u2500\u2500\u2500\u2500\u2500\u2500\u2500\u2500\u2500\u2500\u2500\u2500\u2500\u2500\u2500\u2500\u2500\u2500\u2500\u2500\u2500\n",
        "                                    2                  \n",
        "                      4\u22c5\u03b5\u22c5y\u22c5(u\u2081 + 1)                   "
       ]
      }
     ],
     "prompt_number": 705
    },
    {
     "cell_type": "code",
     "collapsed": false,
     "input": [
      "Z[4]\n",
      "#i have gamma = sgamma/2\n",
      "#TODO: g1 term!!!\n"
     ],
     "language": "python",
     "metadata": {},
     "outputs": [
      {
       "latex": [
        "$$1 + \\frac{1}{8 \\epsilon y \\left(u_{1} + 1\\right)^{3}} \\left(g_{1} \\left(- 4 a^{2} \\alpha \\epsilon u_{1} - 2 a \\alpha \\epsilon u_{1} u_{2} + 4 a \\alpha \\epsilon u_{1} - 2 a \\alpha \\epsilon u_{2} - \\alpha \\epsilon u_{1}^{2} u_{2} + \\alpha \\epsilon u_{1} + \\alpha \\epsilon u_{2} + \\alpha \\epsilon - \\epsilon u_{1}^{2} u_{2} \\alpha{\\left (- \\frac{2 a}{u_{1} + 1} + \\frac{u_{1}}{u_{1} + 1} + \\frac{1}{u_{1} + 1} \\right )} - 6 \\epsilon u_{1}^{2} u_{2} - 2 \\epsilon u_{1} u_{2} \\alpha{\\left (- \\frac{2 a}{u_{1} + 1} + \\frac{u_{1}}{u_{1} + 1} + \\frac{1}{u_{1} + 1} \\right )} - 12 \\epsilon u_{1} u_{2} - \\epsilon u_{2} \\alpha{\\left (- \\frac{2 a}{u_{1} + 1} + \\frac{u_{1}}{u_{1} + 1} + \\frac{1}{u_{1} + 1} \\right )} - 6 \\epsilon u_{2}\\right) + g_{2} \\left(u_{1}^{3} y + 3 u_{1}^{2} y + 3 u_{1} y + y\\right)\\right)$$"
       ],
       "metadata": {},
       "output_type": "pyout",
       "png": "[encoded data removed]",
       "prompt_number": 706,
       "text": [
        "       \u239b     2                                                          2     \n",
        "    g\u2081\u22c5\u239c- 4\u22c5a \u22c5\u03b1\u22c5\u03b5\u22c5u\u2081 - 2\u22c5a\u22c5\u03b1\u22c5\u03b5\u22c5u\u2081\u22c5u\u2082 + 4\u22c5a\u22c5\u03b1\u22c5\u03b5\u22c5u\u2081 - 2\u22c5a\u22c5\u03b1\u22c5\u03b5\u22c5u\u2082 - \u03b1\u22c5\u03b5\u22c5u\u2081 \u22c5u\u2082 +\n",
        "       \u239d                                                                      \n",
        "1 + \u2500\u2500\u2500\u2500\u2500\u2500\u2500\u2500\u2500\u2500\u2500\u2500\u2500\u2500\u2500\u2500\u2500\u2500\u2500\u2500\u2500\u2500\u2500\u2500\u2500\u2500\u2500\u2500\u2500\u2500\u2500\u2500\u2500\u2500\u2500\u2500\u2500\u2500\u2500\u2500\u2500\u2500\u2500\u2500\u2500\u2500\u2500\u2500\u2500\u2500\u2500\u2500\u2500\u2500\u2500\u2500\u2500\u2500\u2500\u2500\u2500\u2500\u2500\u2500\u2500\u2500\u2500\u2500\u2500\u2500\u2500\u2500\u2500\u2500\n",
        "                                                                              \n",
        "                                                                              \n",
        "\n",
        "                             2     \u239b   2\u22c5a       u\u2081       1   \u239e         2     \n",
        " \u03b1\u22c5\u03b5\u22c5u\u2081 + \u03b1\u22c5\u03b5\u22c5u\u2082 + \u03b1\u22c5\u03b5 - \u03b5\u22c5u\u2081 \u22c5u\u2082\u22c5\u03b1\u239c- \u2500\u2500\u2500\u2500\u2500\u2500 + \u2500\u2500\u2500\u2500\u2500\u2500 + \u2500\u2500\u2500\u2500\u2500\u2500\u239f - 6\u22c5\u03b5\u22c5u\u2081 \u22c5u\u2082 -\n",
        "                                   \u239d  u\u2081 + 1   u\u2081 + 1   u\u2081 + 1\u23a0               \n",
        "\u2500\u2500\u2500\u2500\u2500\u2500\u2500\u2500\u2500\u2500\u2500\u2500\u2500\u2500\u2500\u2500\u2500\u2500\u2500\u2500\u2500\u2500\u2500\u2500\u2500\u2500\u2500\u2500\u2500\u2500\u2500\u2500\u2500\u2500\u2500\u2500\u2500\u2500\u2500\u2500\u2500\u2500\u2500\u2500\u2500\u2500\u2500\u2500\u2500\u2500\u2500\u2500\u2500\u2500\u2500\u2500\u2500\u2500\u2500\u2500\u2500\u2500\u2500\u2500\u2500\u2500\u2500\u2500\u2500\u2500\u2500\u2500\u2500\u2500\u2500\u2500\u2500\u2500\n",
        "                                                                            3 \n",
        "                                                              8\u22c5\u03b5\u22c5y\u22c5(u\u2081 + 1)  \n",
        "\n",
        "            \u239b   2\u22c5a       u\u2081       1   \u239e                      \u239b   2\u22c5a       u\u2081\n",
        " 2\u22c5\u03b5\u22c5u\u2081\u22c5u\u2082\u22c5\u03b1\u239c- \u2500\u2500\u2500\u2500\u2500\u2500 + \u2500\u2500\u2500\u2500\u2500\u2500 + \u2500\u2500\u2500\u2500\u2500\u2500\u239f - 12\u22c5\u03b5\u22c5u\u2081\u22c5u\u2082 - \u03b5\u22c5u\u2082\u22c5\u03b1\u239c- \u2500\u2500\u2500\u2500\u2500\u2500 + \u2500\u2500\u2500\u2500\n",
        "            \u239d  u\u2081 + 1   u\u2081 + 1   u\u2081 + 1\u23a0                      \u239d  u\u2081 + 1   u\u2081 +\n",
        "\u2500\u2500\u2500\u2500\u2500\u2500\u2500\u2500\u2500\u2500\u2500\u2500\u2500\u2500\u2500\u2500\u2500\u2500\u2500\u2500\u2500\u2500\u2500\u2500\u2500\u2500\u2500\u2500\u2500\u2500\u2500\u2500\u2500\u2500\u2500\u2500\u2500\u2500\u2500\u2500\u2500\u2500\u2500\u2500\u2500\u2500\u2500\u2500\u2500\u2500\u2500\u2500\u2500\u2500\u2500\u2500\u2500\u2500\u2500\u2500\u2500\u2500\u2500\u2500\u2500\u2500\u2500\u2500\u2500\u2500\u2500\u2500\u2500\u2500\u2500\u2500\u2500\u2500\n",
        "                                                                              \n",
        "                                                                              \n",
        "\n",
        "       1   \u239e         \u239e      \u239b  3         2               \u239e\n",
        "\u2500\u2500 + \u2500\u2500\u2500\u2500\u2500\u2500\u239f - 6\u22c5\u03b5\u22c5u\u2082\u239f + g\u2082\u22c5\u239du\u2081 \u22c5y + 3\u22c5u\u2081 \u22c5y + 3\u22c5u\u2081\u22c5y + y\u23a0\n",
        " 1   u\u2081 + 1\u23a0         \u23a0                                    \n",
        "\u2500\u2500\u2500\u2500\u2500\u2500\u2500\u2500\u2500\u2500\u2500\u2500\u2500\u2500\u2500\u2500\u2500\u2500\u2500\u2500\u2500\u2500\u2500\u2500\u2500\u2500\u2500\u2500\u2500\u2500\u2500\u2500\u2500\u2500\u2500\u2500\u2500\u2500\u2500\u2500\u2500\u2500\u2500\u2500\u2500\u2500\u2500\u2500\u2500\u2500\u2500\u2500\u2500\u2500\u2500\u2500\u2500\u2500\n",
        "                                                          \n",
        "                                                          "
       ]
      }
     ],
     "prompt_number": 706
    },
    {
     "cell_type": "code",
     "collapsed": false,
     "input": [
      "Z[5]\n",
      "#comp TODO"
     ],
     "language": "python",
     "metadata": {},
     "outputs": [
      {
       "latex": [
        "$$1 + \\frac{1}{16 a \\epsilon y \\left(u_{1} + 1\\right)^{3}} \\left(g_{1} \\left(- 8 a^{2} \\alpha^{2} \\epsilon u_{1} - 8 a^{2} \\alpha^{2} \\epsilon + 4 a^{2} \\alpha \\epsilon + 8 a \\alpha^{2} \\epsilon u_{1} + 8 a \\alpha^{2} \\epsilon - 4 a \\alpha \\epsilon u_{1} u_{2} - 4 a \\alpha \\epsilon u_{2} - 4 a \\alpha \\epsilon + 2 \\alpha^{2} \\epsilon u_{1} + 2 \\alpha^{2} \\epsilon - 2 \\alpha \\epsilon u_{1}^{2} u_{2} + 2 \\alpha \\epsilon u_{2} - 6 \\epsilon u_{1}^{2} u_{2} - 12 \\epsilon u_{1} u_{2} - 6 \\epsilon u_{2}\\right) + g_{2} \\left(4 a u_{1}^{3} y + 12 a u_{1}^{2} y + 12 a u_{1} y + 4 a y - u_{1}^{3} y - 3 u_{1}^{2} y - 3 u_{1} y - y\\right)\\right)$$"
       ],
       "metadata": {},
       "output_type": "pyout",
       "png": "[encoded data removed]",
       "prompt_number": 729,
       "text": [
        "       \u239b     2  2           2  2        2            2             2          \n",
        "    g\u2081\u22c5\u239d- 8\u22c5a \u22c5\u03b1 \u22c5\u03b5\u22c5u\u2081 - 8\u22c5a \u22c5\u03b1 \u22c5\u03b5 + 4\u22c5a \u22c5\u03b1\u22c5\u03b5 + 8\u22c5a\u22c5\u03b1 \u22c5\u03b5\u22c5u\u2081 + 8\u22c5a\u22c5\u03b1 \u22c5\u03b5 - 4\u22c5a\u22c5\u03b1\n",
        "1 + \u2500\u2500\u2500\u2500\u2500\u2500\u2500\u2500\u2500\u2500\u2500\u2500\u2500\u2500\u2500\u2500\u2500\u2500\u2500\u2500\u2500\u2500\u2500\u2500\u2500\u2500\u2500\u2500\u2500\u2500\u2500\u2500\u2500\u2500\u2500\u2500\u2500\u2500\u2500\u2500\u2500\u2500\u2500\u2500\u2500\u2500\u2500\u2500\u2500\u2500\u2500\u2500\u2500\u2500\u2500\u2500\u2500\u2500\u2500\u2500\u2500\u2500\u2500\u2500\u2500\u2500\u2500\u2500\u2500\u2500\u2500\u2500\u2500\u2500\n",
        "                                                                              \n",
        "                                                                              \n",
        "\n",
        "                                     2           2             2              \n",
        "\u22c5\u03b5\u22c5u\u2081\u22c5u\u2082 - 4\u22c5a\u22c5\u03b1\u22c5\u03b5\u22c5u\u2082 - 4\u22c5a\u22c5\u03b1\u22c5\u03b5 + 2\u22c5\u03b1 \u22c5\u03b5\u22c5u\u2081 + 2\u22c5\u03b1 \u22c5\u03b5 - 2\u22c5\u03b1\u22c5\u03b5\u22c5u\u2081 \u22c5u\u2082 + 2\u22c5\u03b1\u22c5\u03b5\u22c5u\u2082\n",
        "\u2500\u2500\u2500\u2500\u2500\u2500\u2500\u2500\u2500\u2500\u2500\u2500\u2500\u2500\u2500\u2500\u2500\u2500\u2500\u2500\u2500\u2500\u2500\u2500\u2500\u2500\u2500\u2500\u2500\u2500\u2500\u2500\u2500\u2500\u2500\u2500\u2500\u2500\u2500\u2500\u2500\u2500\u2500\u2500\u2500\u2500\u2500\u2500\u2500\u2500\u2500\u2500\u2500\u2500\u2500\u2500\u2500\u2500\u2500\u2500\u2500\u2500\u2500\u2500\u2500\u2500\u2500\u2500\u2500\u2500\u2500\u2500\u2500\u2500\u2500\u2500\u2500\u2500\n",
        "                                                                     3        \n",
        "                                                    16\u22c5a\u22c5\u03b5\u22c5y\u22c5(u\u2081 + 1)         \n",
        "\n",
        "         2                         \u239e      \u239b      3            2               \n",
        " - 6\u22c5\u03b5\u22c5u\u2081 \u22c5u\u2082 - 12\u22c5\u03b5\u22c5u\u2081\u22c5u\u2082 - 6\u22c5\u03b5\u22c5u\u2082\u23a0 + g\u2082\u22c5\u239d4\u22c5a\u22c5u\u2081 \u22c5y + 12\u22c5a\u22c5u\u2081 \u22c5y + 12\u22c5a\u22c5u\u2081\u22c5y \n",
        "\u2500\u2500\u2500\u2500\u2500\u2500\u2500\u2500\u2500\u2500\u2500\u2500\u2500\u2500\u2500\u2500\u2500\u2500\u2500\u2500\u2500\u2500\u2500\u2500\u2500\u2500\u2500\u2500\u2500\u2500\u2500\u2500\u2500\u2500\u2500\u2500\u2500\u2500\u2500\u2500\u2500\u2500\u2500\u2500\u2500\u2500\u2500\u2500\u2500\u2500\u2500\u2500\u2500\u2500\u2500\u2500\u2500\u2500\u2500\u2500\u2500\u2500\u2500\u2500\u2500\u2500\u2500\u2500\u2500\u2500\u2500\u2500\u2500\u2500\u2500\u2500\u2500\u2500\n",
        "                                                                              \n",
        "                                                                              \n",
        "\n",
        "            3         2               \u239e\n",
        "+ 4\u22c5a\u22c5y - u\u2081 \u22c5y - 3\u22c5u\u2081 \u22c5y - 3\u22c5u\u2081\u22c5y - y\u23a0\n",
        "\u2500\u2500\u2500\u2500\u2500\u2500\u2500\u2500\u2500\u2500\u2500\u2500\u2500\u2500\u2500\u2500\u2500\u2500\u2500\u2500\u2500\u2500\u2500\u2500\u2500\u2500\u2500\u2500\u2500\u2500\u2500\u2500\u2500\u2500\u2500\u2500\u2500\u2500\u2500\n",
        "                                       \n",
        "                                       "
       ]
      }
     ],
     "prompt_number": 729
    },
    {
     "cell_type": "code",
     "collapsed": false,
     "input": [
      "Z[6]\n",
      "#comp TODO"
     ],
     "language": "python",
     "metadata": {},
     "outputs": [
      {
       "latex": [
        "$$1 + \\frac{1}{2 \\epsilon y \\left(u_{1} + 1\\right)^{2}} \\left(g_{1} \\left(- a^{2} \\alpha \\epsilon u_{1} - 3 a^{2} \\alpha \\epsilon + 2 a \\alpha \\epsilon u_{1} + 4 a \\alpha \\epsilon - \\alpha \\epsilon u_{1} - \\alpha \\epsilon\\right) + g_{2} \\left(u_{1}^{2} y + 2 u_{1} y + y\\right)\\right)$$"
       ],
       "metadata": {},
       "output_type": "pyout",
       "png": "[encoded data removed]",
       "prompt_number": 730,
       "text": [
        "       \u239b   2             2                                          \u239e      \u239b  \n",
        "    g\u2081\u22c5\u239d- a \u22c5\u03b1\u22c5\u03b5\u22c5u\u2081 - 3\u22c5a \u22c5\u03b1\u22c5\u03b5 + 2\u22c5a\u22c5\u03b1\u22c5\u03b5\u22c5u\u2081 + 4\u22c5a\u22c5\u03b1\u22c5\u03b5 - \u03b1\u22c5\u03b5\u22c5u\u2081 - \u03b1\u22c5\u03b5\u23a0 + g\u2082\u22c5\u239du\u2081\n",
        "1 + \u2500\u2500\u2500\u2500\u2500\u2500\u2500\u2500\u2500\u2500\u2500\u2500\u2500\u2500\u2500\u2500\u2500\u2500\u2500\u2500\u2500\u2500\u2500\u2500\u2500\u2500\u2500\u2500\u2500\u2500\u2500\u2500\u2500\u2500\u2500\u2500\u2500\u2500\u2500\u2500\u2500\u2500\u2500\u2500\u2500\u2500\u2500\u2500\u2500\u2500\u2500\u2500\u2500\u2500\u2500\u2500\u2500\u2500\u2500\u2500\u2500\u2500\u2500\u2500\u2500\u2500\u2500\u2500\u2500\u2500\u2500\u2500\u2500\u2500\n",
        "                                                        2                     \n",
        "                                          2\u22c5\u03b5\u22c5y\u22c5(u\u2081 + 1)                      \n",
        "\n",
        "2               \u239e\n",
        " \u22c5y + 2\u22c5u\u2081\u22c5y + y\u23a0\n",
        "\u2500\u2500\u2500\u2500\u2500\u2500\u2500\u2500\u2500\u2500\u2500\u2500\u2500\u2500\u2500\u2500\u2500\n",
        "                 \n",
        "                 "
       ]
      }
     ],
     "prompt_number": 730
    },
    {
     "cell_type": "code",
     "collapsed": false,
     "input": [
      "Z[7]\n",
      "#i have gamma #i have gamma = sgamma/2"
     ],
     "language": "python",
     "metadata": {},
     "outputs": [
      {
       "latex": [
        "$$1 + \\frac{1}{2 \\epsilon y \\left(u_{1} + 1\\right)^{2}} \\left(g_{1} \\left(- a^{2} \\alpha \\epsilon u_{1} - 3 a^{2} \\alpha \\epsilon + 2 a \\alpha \\epsilon\\right) + g_{2} \\left(u_{1}^{2} y + 2 u_{1} y + y\\right)\\right)$$"
       ],
       "metadata": {},
       "output_type": "pyout",
       "png": "[encoded data removed]",
       "prompt_number": 731,
       "text": [
        "       \u239b   2             2              \u239e      \u239b  2               \u239e\n",
        "    g\u2081\u22c5\u239d- a \u22c5\u03b1\u22c5\u03b5\u22c5u\u2081 - 3\u22c5a \u22c5\u03b1\u22c5\u03b5 + 2\u22c5a\u22c5\u03b1\u22c5\u03b5\u23a0 + g\u2082\u22c5\u239du\u2081 \u22c5y + 2\u22c5u\u2081\u22c5y + y\u23a0\n",
        "1 + \u2500\u2500\u2500\u2500\u2500\u2500\u2500\u2500\u2500\u2500\u2500\u2500\u2500\u2500\u2500\u2500\u2500\u2500\u2500\u2500\u2500\u2500\u2500\u2500\u2500\u2500\u2500\u2500\u2500\u2500\u2500\u2500\u2500\u2500\u2500\u2500\u2500\u2500\u2500\u2500\u2500\u2500\u2500\u2500\u2500\u2500\u2500\u2500\u2500\u2500\u2500\u2500\u2500\u2500\u2500\u2500\u2500\u2500\u2500\u2500\u2500\u2500\u2500\n",
        "                                          2                        \n",
        "                            2\u22c5\u03b5\u22c5y\u22c5(u\u2081 + 1)                         "
       ]
      }
     ],
     "prompt_number": 731
    },
    {
     "cell_type": "code",
     "collapsed": false,
     "input": [
      "Z[8]"
     ],
     "language": "python",
     "metadata": {},
     "outputs": [
      {
       "latex": [
        "$$1 + \\frac{1}{4 \\epsilon u_{2} y \\left(u_{1} + 1\\right)^{3}} \\left(g_{1} \\left(- 2 a^{2} \\alpha \\epsilon u_{1} u_{2} - 2 a^{2} \\alpha \\epsilon u_{2} + a^{2} \\alpha \\epsilon + 2 a \\alpha \\epsilon u_{1} u_{2} + 2 a \\alpha \\epsilon u_{2} - a \\alpha \\epsilon - \\alpha \\epsilon u_{1}^{2} u_{2}^{2} - 2 \\alpha \\epsilon u_{1} u_{2}^{2} + \\alpha \\epsilon u_{1} u_{2} - \\alpha \\epsilon u_{2}^{2} + \\alpha \\epsilon u_{2} - 3 \\epsilon u_{1}^{2} u_{2}^{2} - 6 \\epsilon u_{1} u_{2}^{2} - 3 \\epsilon u_{2}^{2}\\right) + g_{2} \\left(u_{1}^{3} u_{2} y + 3 u_{1}^{2} u_{2} y + 3 u_{1} u_{2} y + u_{2} y\\right)\\right)$$"
       ],
       "metadata": {},
       "output_type": "pyout",
       "png": "[encoded data removed]",
       "prompt_number": 710,
       "text": [
        "       \u239b     2                2           2                                   \n",
        "    g\u2081\u22c5\u239d- 2\u22c5a \u22c5\u03b1\u22c5\u03b5\u22c5u\u2081\u22c5u\u2082 - 2\u22c5a \u22c5\u03b1\u22c5\u03b5\u22c5u\u2082 + a \u22c5\u03b1\u22c5\u03b5 + 2\u22c5a\u22c5\u03b1\u22c5\u03b5\u22c5u\u2081\u22c5u\u2082 + 2\u22c5a\u22c5\u03b1\u22c5\u03b5\u22c5u\u2082 -\n",
        "1 + \u2500\u2500\u2500\u2500\u2500\u2500\u2500\u2500\u2500\u2500\u2500\u2500\u2500\u2500\u2500\u2500\u2500\u2500\u2500\u2500\u2500\u2500\u2500\u2500\u2500\u2500\u2500\u2500\u2500\u2500\u2500\u2500\u2500\u2500\u2500\u2500\u2500\u2500\u2500\u2500\u2500\u2500\u2500\u2500\u2500\u2500\u2500\u2500\u2500\u2500\u2500\u2500\u2500\u2500\u2500\u2500\u2500\u2500\u2500\u2500\u2500\u2500\u2500\u2500\u2500\u2500\u2500\u2500\u2500\u2500\u2500\u2500\u2500\u2500\n",
        "                                                                              \n",
        "                                                                              \n",
        "\n",
        "               2   2              2                     2                  2  \n",
        " a\u22c5\u03b1\u22c5\u03b5 - \u03b1\u22c5\u03b5\u22c5u\u2081 \u22c5u\u2082  - 2\u22c5\u03b1\u22c5\u03b5\u22c5u\u2081\u22c5u\u2082  + \u03b1\u22c5\u03b5\u22c5u\u2081\u22c5u\u2082 - \u03b1\u22c5\u03b5\u22c5u\u2082  + \u03b1\u22c5\u03b5\u22c5u\u2082 - 3\u22c5\u03b5\u22c5u\u2081 \u22c5u\n",
        "\u2500\u2500\u2500\u2500\u2500\u2500\u2500\u2500\u2500\u2500\u2500\u2500\u2500\u2500\u2500\u2500\u2500\u2500\u2500\u2500\u2500\u2500\u2500\u2500\u2500\u2500\u2500\u2500\u2500\u2500\u2500\u2500\u2500\u2500\u2500\u2500\u2500\u2500\u2500\u2500\u2500\u2500\u2500\u2500\u2500\u2500\u2500\u2500\u2500\u2500\u2500\u2500\u2500\u2500\u2500\u2500\u2500\u2500\u2500\u2500\u2500\u2500\u2500\u2500\u2500\u2500\u2500\u2500\u2500\u2500\u2500\u2500\u2500\u2500\u2500\u2500\u2500\u2500\n",
        "                                               3                              \n",
        "                              4\u22c5\u03b5\u22c5u\u2082\u22c5y\u22c5(u\u2081 + 1)                               \n",
        "\n",
        " 2            2         2\u239e      \u239b  3            2                        \u239e\n",
        "\u2082  - 6\u22c5\u03b5\u22c5u\u2081\u22c5u\u2082  - 3\u22c5\u03b5\u22c5u\u2082 \u23a0 + g\u2082\u22c5\u239du\u2081 \u22c5u\u2082\u22c5y + 3\u22c5u\u2081 \u22c5u\u2082\u22c5y + 3\u22c5u\u2081\u22c5u\u2082\u22c5y + u\u2082\u22c5y\u23a0\n",
        "\u2500\u2500\u2500\u2500\u2500\u2500\u2500\u2500\u2500\u2500\u2500\u2500\u2500\u2500\u2500\u2500\u2500\u2500\u2500\u2500\u2500\u2500\u2500\u2500\u2500\u2500\u2500\u2500\u2500\u2500\u2500\u2500\u2500\u2500\u2500\u2500\u2500\u2500\u2500\u2500\u2500\u2500\u2500\u2500\u2500\u2500\u2500\u2500\u2500\u2500\u2500\u2500\u2500\u2500\u2500\u2500\u2500\u2500\u2500\u2500\u2500\u2500\u2500\u2500\u2500\u2500\u2500\u2500\u2500\u2500\u2500\u2500\u2500\u2500\n",
        "                                                                          \n",
        "                                                                          "
       ]
      }
     ],
     "prompt_number": 710
    },
    {
     "cell_type": "code",
     "collapsed": false,
     "input": [],
     "language": "python",
     "metadata": {},
     "outputs": [],
     "prompt_number": 710
    },
    {
     "cell_type": "code",
     "collapsed": false,
     "input": [],
     "language": "python",
     "metadata": {},
     "outputs": [],
     "prompt_number": 710
    }
   ],
   "metadata": {}
  }
 ]
}